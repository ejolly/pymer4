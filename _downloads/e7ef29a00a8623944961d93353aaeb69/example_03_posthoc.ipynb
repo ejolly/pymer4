{
  "cells": [
    {
      "cell_type": "code",
      "execution_count": null,
      "metadata": {
        "collapsed": false
      },
      "outputs": [],
      "source": [
        "# Set the environment such that multiple R processes do not crash the kernel\nimport os\nos.environ['KMP_DUPLICATE_LIB_OK']='True'%matplotlib inline"
      ]
    },
    {
      "cell_type": "markdown",
      "metadata": {},
      "source": [
        "\n# 3. ANOVA tables and post-hoc comparisons\n"
      ]
    },
    {
      "cell_type": "markdown",
      "metadata": {},
      "source": [
        "<div class=\"alert alert-info\"><h4>Note</h4><p>ANOVAs and post-hoc tests are only available for :code:`Lmer` models estimated using the :code:`factors` argument of :code:`model.fit()` and rely on implementations in R</p></div>\n\nIn the previous tutorial where we looked at categorical predictors, behind the scenes :code:`pymer4` was using the :code:`factor` functionality in R. This means the output of :code:`model.fit()` looks a lot like :code:`summary()` in R applied to a model with categorical predictors. But what if we want to compute an F-test across *all levels* of our categorical predictor?\n\n:code:`pymer4` makes this easy to do, and makes it easy to ensure Type III sums of squares infereces are valid. It also makes it easy to follow up omnibus tests with post-hoc pairwise comparisons.\n\n"
      ]
    },
    {
      "cell_type": "markdown",
      "metadata": {},
      "source": [
        "## ANOVA tables and orthogonal contrasts\nBecause ANOVA is just regression, :code:`pymer4` can estimate ANOVA tables with F-results using the :code:`.anova()` method on a fitted model. This will compute a Type-III SS table given the coding scheme provided when the model was initially fit. Based on the distribution of data across factor levels and the specific coding-scheme used, this may produce invalid Type-III SS computations. For this reason the :code:`.anova()` method has a :code:`force-orthogonal=True` argument that will reparameterize and refit the model using orthogonal polynomial contrasts prior to computing an ANOVA table.\n\nHere we first estimate a mode with dummy-coded categories and suppress the summary output of :code:`.fit()`. Then we use :code:`.anova()` to examine the F-test results.\n\n"
      ]
    },
    {
      "cell_type": "code",
      "execution_count": null,
      "metadata": {
        "collapsed": false
      },
      "outputs": [],
      "source": [
        "# import basic libraries and sample data\nimport os\nimport pandas as pd\nfrom pymer4.utils import get_resource_path\nfrom pymer4.models import Lmer\n\n# IV3 is a categorical predictors with 3 levels in the sample data\ndf = pd.read_csv(os.path.join(get_resource_path(), \"sample_data.csv\"))\n\n# # We're going to fit a multi-level regression using the\n# categorical predictor (IV3) which has 3 levels\nmodel = Lmer(\"DV ~ IV3 + (1|Group)\", data=df)\n\n# Using dummy-coding; suppress summary output\nmodel.fit(factors={\"IV3\": [\"1.0\", \"0.5\", \"1.5\"]}, summarize=False)\n\n# Get ANOVA table\nprint(model.anova())"
      ]
    },
    {
      "cell_type": "markdown",
      "metadata": {},
      "source": [
        "Type III SS inferences will only be valid if data are fully balanced across levels or if contrasts between levels are orthogonally coded and sum to 0. Below we tell :code:`pymer4` to respecify our contrasts to ensure this before estimating the ANOVA. :code:`pymer4` also saves the last set of contrasts used priory to forcing orthogonality.\n\nBecause the sample data is balanced across factor levels and there are not interaction terms, in this case orthogonal contrast coding doesn't change the results.\n\n"
      ]
    },
    {
      "cell_type": "code",
      "execution_count": null,
      "metadata": {
        "collapsed": false
      },
      "outputs": [],
      "source": [
        "# Get ANOVA table, but this time force orthogonality\n# for valid SS III inferences\n# In this case the data are balanced so nothing changes\nprint(model.anova(force_orthogonal=True))"
      ]
    },
    {
      "cell_type": "code",
      "execution_count": null,
      "metadata": {
        "collapsed": false
      },
      "outputs": [],
      "source": [
        "# Checkout current contrast scheme (for first contrast)\n# Notice how it's simply a linear contrast across levels\nprint(model.factors)"
      ]
    },
    {
      "cell_type": "code",
      "execution_count": null,
      "metadata": {
        "collapsed": false
      },
      "outputs": [],
      "source": [
        "# Checkout previous contrast scheme\n# which was a treatment contrast with 1.0\n# as the reference level\nprint(model.factors_prev_)"
      ]
    },
    {
      "cell_type": "markdown",
      "metadata": {},
      "source": [
        "## Marginal estimates and post-hoc comparisons\n:code:`pymer4` leverages the :code:`emmeans` package in order to compute marginal estimates (\"cell means\" in ANOVA lingo) and pair-wise comparisons of models that contain categorical terms and/or interactions. This can be performed by using the :code:`.post_hoc()` method on fitted models. Let's see an example:\n\nFirst we'll quickly create a second categorical IV to demo with and estimate a 3x3 ANOVA to get main effects and the interaction.\n\n"
      ]
    },
    {
      "cell_type": "code",
      "execution_count": null,
      "metadata": {
        "collapsed": false
      },
      "outputs": [],
      "source": [
        "# Fix the random number generator\n# for reproducibility\nimport numpy as np\n\nnp.random.seed(10)\n\n# Create a new categorical variable with 3 levels\ndf = df.assign(IV4=np.random.choice([\"1\", \"2\", \"3\"], size=df.shape[0]))\n\n# Estimate model with orthogonal polynomial contrasts\nmodel = Lmer(\"DV ~ IV4*IV3 + (1|Group)\", data=df)\nmodel.fit(\n    factors={\"IV4\": [\"1\", \"2\", \"3\"], \"IV3\": [\"1.0\", \"0.5\", \"1.5\"]},\n    ordered=True,\n    summarize=False,\n)\n# Get ANOVA table\n# We can ignore the note in the output because\n# we manually specified polynomial contrasts\nprint(model.anova())"
      ]
    },
    {
      "cell_type": "markdown",
      "metadata": {},
      "source": [
        "### Example 1\nCompare each level of IV3 to each other level of IV3, *within* each level of IV4. Use default Tukey HSD p-values.\n\n"
      ]
    },
    {
      "cell_type": "code",
      "execution_count": null,
      "metadata": {
        "collapsed": false
      },
      "outputs": [],
      "source": [
        "# Compute post-hoc tests\nmarginal_estimates, comparisons = model.post_hoc(\n    marginal_vars=\"IV3\", grouping_vars=\"IV4\"\n)\n\n# \"Cell\" means of the ANOVA\nprint(marginal_estimates)"
      ]
    },
    {
      "cell_type": "code",
      "execution_count": null,
      "metadata": {
        "collapsed": false
      },
      "outputs": [],
      "source": [
        "# Pairwise comparisons\nprint(comparisons)"
      ]
    },
    {
      "cell_type": "markdown",
      "metadata": {},
      "source": [
        "### Example 2\nCompare each unique IV3,IV4 \"cell mean\" to every other IV3,IV4 \"cell mean\" and used FDR correction for multiple comparisons:\n\n"
      ]
    },
    {
      "cell_type": "code",
      "execution_count": null,
      "metadata": {
        "collapsed": false
      },
      "outputs": [],
      "source": [
        "# Compute post-hoc tests\nmarginal_estimates, comparisons = model.post_hoc(\n    marginal_vars=[\"IV3\", \"IV4\"], p_adjust=\"fdr\"\n)\n\n# Pairwise comparisons\nprint(comparisons)"
      ]
    },
    {
      "cell_type": "markdown",
      "metadata": {},
      "source": [
        "### Example 3\nFor this example we'll estimate a more complicated ANOVA with 1 continuous IV and 2 categorical IVs with 3 levels each. This is the same model as before but with IV2 thrown into the mix. Now, pairwise comparisons reflect changes in the *slope* of the continuous IV (IV2) between levels of the categorical IVs (IV3 and IV4).\n\nFirst let's get the ANOVA table\n\n"
      ]
    },
    {
      "cell_type": "code",
      "execution_count": null,
      "metadata": {
        "collapsed": false
      },
      "outputs": [],
      "source": [
        "model = Lmer(\"DV ~ IV2*IV3*IV4 + (1|Group)\", data=df)\n# Only need to polynomial contrasts for IV3 and IV4\n# because IV2 is continuous\nmodel.fit(\n    factors={\"IV4\": [\"1\", \"2\", \"3\"], \"IV3\": [\"1.0\", \"0.5\", \"1.5\"]},\n    ordered=True,\n    summarize=False,\n)\n\n# Get ANOVA table\nprint(model.anova())"
      ]
    },
    {
      "cell_type": "markdown",
      "metadata": {},
      "source": [
        "Now we can compute the pairwise difference in slopes\n\n"
      ]
    },
    {
      "cell_type": "code",
      "execution_count": null,
      "metadata": {
        "collapsed": false
      },
      "outputs": [],
      "source": [
        "# Compute post-hoc tests with bonferroni correction\nmarginal_estimates, comparisons = model.post_hoc(\n    marginal_vars=\"IV2\", grouping_vars=[\"IV3\", \"IV4\"], p_adjust=\"bonf\"\n)\n\n# Pairwise comparisons\nprint(comparisons)"
      ]
    }
  ],
  "metadata": {
    "kernelspec": {
      "display_name": "Python 3",
      "language": "python",
      "name": "python3"
    },
    "language_info": {
      "codemirror_mode": {
        "name": "ipython",
        "version": 3
      },
      "file_extension": ".py",
      "mimetype": "text/x-python",
      "name": "python",
      "nbconvert_exporter": "python",
      "pygments_lexer": "ipython3",
      "version": "3.8.19"
    }
  },
  "nbformat": 4,
  "nbformat_minor": 0
}