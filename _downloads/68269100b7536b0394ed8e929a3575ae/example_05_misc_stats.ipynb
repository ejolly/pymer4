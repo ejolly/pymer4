{
  "cells": [
    {
      "cell_type": "code",
      "execution_count": null,
      "metadata": {
        "collapsed": false
      },
      "outputs": [],
      "source": [
        "# Set the environment such that multiple R processes do not crash the kernel\nimport os\nos.environ['KMP_DUPLICATE_LIB_OK']='True'%matplotlib inline"
      ]
    },
    {
      "cell_type": "markdown",
      "metadata": {},
      "source": [
        "\n# 5. Additional Statistics Functions\n:code:`pymer4` also comes with some flexible routines for various statistical operations such as permutation testing, bootstrapping of arbitrary functions and equivalence testing. Here are a few examples:\n"
      ]
    },
    {
      "cell_type": "markdown",
      "metadata": {},
      "source": [
        "## Permutation Tests\n:code:`pymer4` can compute a wide variety of one and two-sample permutation tests including mean differences, t-statistics, effect size comparisons, and correlations\n\n"
      ]
    },
    {
      "cell_type": "code",
      "execution_count": null,
      "metadata": {
        "collapsed": false
      },
      "outputs": [],
      "source": [
        "# Import numpy and set random number generator\nimport numpy as np\n\nnp.random.seed(10)\n# Import stats functions\nfrom pymer4.stats import perm_test\n\n# Generate two samples of data: X (M~2, SD~10, N=100) and Y (M~2.5, SD~1, N=100)\nx = np.random.normal(loc=2, size=100)\ny = np.random.normal(loc=2.5, size=100)\n\n# Between groups t-test. The first value is the t-stat and the\n# second is the permuted p-value\nresult = perm_test(x, y, stat=\"tstat\", n_perm=500, n_jobs=1)\nprint(result)"
      ]
    },
    {
      "cell_type": "code",
      "execution_count": null,
      "metadata": {
        "collapsed": false
      },
      "outputs": [],
      "source": [
        "# Spearman rank correlation. The first values is spearman's rho\n# and the second is the permuted p-value\nresult = perm_test(x, y, stat=\"spearmanr\", n_perm=500, n_jobs=1)\nprint(result)"
      ]
    },
    {
      "cell_type": "markdown",
      "metadata": {},
      "source": [
        "## Bootstrap Comparisons\n:code:`pymer4` can compute a bootstrap comparison using any arbitrary function that takes as input either one or two 1d numpy arrays, and returns a single value.\n\n"
      ]
    },
    {
      "cell_type": "code",
      "execution_count": null,
      "metadata": {
        "collapsed": false
      },
      "outputs": [],
      "source": [
        "# Import stats function\nfrom pymer4.stats import boot_func\n\n\n# Define a simple function for a median difference test\ndef med_diff(x, y):\n    return np.median(x) - np.median(y)\n\n\n# Between groups median test with resampling\n# The first value is the median difference and the\n# second is the lower and upper 95% confidence interval\nresult = boot_func(x, y, func=med_diff)\nprint(result)"
      ]
    },
    {
      "cell_type": "markdown",
      "metadata": {},
      "source": [
        "## TOST Equivalence Tests\n:code:`pymer4` also has experimental support for [two-one-sided equivalence tests](https://bit.ly/33wsB5i/).\n\n"
      ]
    },
    {
      "cell_type": "code",
      "execution_count": null,
      "metadata": {
        "collapsed": false
      },
      "outputs": [],
      "source": [
        "# Import stats function\nfrom pymer4.stats import tost_equivalence\n\n# Generate some data\nlower, upper = -0.1, 0.1\nx, y = np.random.normal(0.145, 0.025, 35), np.random.normal(0.16, 0.05, 17)\nresult = tost_equivalence(x, y, lower, upper, plot=True)\n# Print the results dictionary nicely\nfor k, v in result.items():\n    print(f\"{k}: {v}\\n\")"
      ]
    }
  ],
  "metadata": {
    "kernelspec": {
      "display_name": "Python 3",
      "language": "python",
      "name": "python3"
    },
    "language_info": {
      "codemirror_mode": {
        "name": "ipython",
        "version": 3
      },
      "file_extension": ".py",
      "mimetype": "text/x-python",
      "name": "python",
      "nbconvert_exporter": "python",
      "pygments_lexer": "ipython3",
      "version": "3.8.19"
    }
  },
  "nbformat": 4,
  "nbformat_minor": 0
}