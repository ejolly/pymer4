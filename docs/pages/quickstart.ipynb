{
 "cells": [
  {
   "cell_type": "markdown",
   "metadata": {},
   "source": [
    "# Quickstart\n",
    "\n",
    "## Installation\n",
    "\n",
    "First follow the [installation guide](installation.md) to setup `pymer4` using `conda` or Google Collab\n",
    "\n",
    "## Picking a model\n",
    "\n",
    "`pymer4` provides 4 types of models that share a consistent API: \n",
    "\n",
    "| Model | Description |\n",
    "|--------|-------------|\n",
    "| [`lm()`](../api/models/lm.md) | linear regression fit via ordinary-least-squares (OLS) |\n",
    "| [`glm()`](../api/models/glm.md) | generalized linear models (e.g logistic regression) fit via maximum-likelihood-estimate (MLE) |\n",
    "| [`lmer()`](../api/models/lmer.md) | linear-mixed / multi-level models |\n",
    "| [`glmer()`](../api/models/glmer.md) | geneneralized linear-mixed / multi-level models |\n",
    "\n",
    "All models work with [`polars` Dataframes](https://docs.pola.rs/user-guide/getting-started/). If you are coming from `pandas` you can easily convert between libraries, but you should also *seriously consider* [switching](https://docs.pola.rs/user-guide/migration/pandas/):\n",
    "- `pandas` -> `polars`: `import polars as pl; pl.DataFrame(pd_frame)`\n",
    "- `polars` -> `pandas`: `pl_frame.to_pandas()`\n"
   ]
  },
  {
   "cell_type": "markdown",
   "metadata": {},
   "source": [
    "## Loading data and fitting a model\n",
    "\n",
    "Included are a number of datasets accessible with the `load_dataset()` function. Let's load the popular `mtcars` dataset:"
   ]
  },
  {
   "cell_type": "code",
   "execution_count": 1,
   "metadata": {},
   "outputs": [
    {
     "data": {
      "text/html": [
       "<div><style>\n",
       ".dataframe > thead > tr,\n",
       ".dataframe > tbody > tr {\n",
       "  text-align: right;\n",
       "  white-space: pre-wrap;\n",
       "}\n",
       "</style>\n",
       "<small>shape: (5, 3)</small><table border=\"1\" class=\"dataframe\"><thead><tr><th>mpg</th><th>cyl</th><th>wt</th></tr><tr><td>f64</td><td>i64</td><td>f64</td></tr></thead><tbody><tr><td>21.0</td><td>6</td><td>2.62</td></tr><tr><td>21.0</td><td>6</td><td>2.875</td></tr><tr><td>22.8</td><td>4</td><td>2.32</td></tr><tr><td>21.4</td><td>6</td><td>3.215</td></tr><tr><td>18.7</td><td>8</td><td>3.44</td></tr></tbody></table></div>"
      ],
      "text/plain": [
       "shape: (5, 3)\n",
       "┌──────┬─────┬───────┐\n",
       "│ mpg  ┆ cyl ┆ wt    │\n",
       "│ ---  ┆ --- ┆ ---   │\n",
       "│ f64  ┆ i64 ┆ f64   │\n",
       "╞══════╪═════╪═══════╡\n",
       "│ 21.0 ┆ 6   ┆ 2.62  │\n",
       "│ 21.0 ┆ 6   ┆ 2.875 │\n",
       "│ 22.8 ┆ 4   ┆ 2.32  │\n",
       "│ 21.4 ┆ 6   ┆ 3.215 │\n",
       "│ 18.7 ┆ 8   ┆ 3.44  │\n",
       "└──────┴─────┴───────┘"
      ]
     },
     "execution_count": 1,
     "metadata": {},
     "output_type": "execute_result"
    }
   ],
   "source": [
    "from pymer4 import load_dataset\n",
    "\n",
    "# Load the dataset\n",
    "cars = load_dataset('mtcars')\n",
    "\n",
    "# Get the columns we want\n",
    "df = cars.select('mpg', 'cyl', 'wt')\n",
    "\n",
    "# Show the first 5 rows\n",
    "df.head()"
   ]
  },
  {
   "cell_type": "markdown",
   "metadata": {},
   "source": [
    "Let's estimate the following univariate regression model:\n",
    "\n",
    "$$\n",
    "mpg \\sim \\beta_0 + \\beta_1 * wt\n",
    "$$\n",
    "\n",
    "We can use `lm` class to create a model by passing in a formula and dataframe:"
   ]
  },
  {
   "cell_type": "code",
   "execution_count": 2,
   "metadata": {},
   "outputs": [
    {
     "data": {
      "text/plain": [
       "pymer4.models.lm(fitted=False, formula=mpg~wt)"
      ]
     },
     "execution_count": 2,
     "metadata": {},
     "output_type": "execute_result"
    }
   ],
   "source": [
    "from pymer4.models  import lm\n",
    "\n",
    "# Initialize model\n",
    "model = lm('mpg ~ wt', data=df)\n",
    "\n",
    "model"
   ]
  },
  {
   "cell_type": "markdown",
   "metadata": {},
   "source": [
    "Models make a copy of the input dataframe and store it in their `.data` attribute. As we'll soon see, this dataframe will be *augmented* with additional columns after fitting a model or applying any variable transforms"
   ]
  },
  {
   "cell_type": "code",
   "execution_count": 3,
   "metadata": {},
   "outputs": [
    {
     "data": {
      "text/html": [
       "<div><style>\n",
       ".dataframe > thead > tr,\n",
       ".dataframe > tbody > tr {\n",
       "  text-align: right;\n",
       "  white-space: pre-wrap;\n",
       "}\n",
       "</style>\n",
       "<small>shape: (5, 3)</small><table border=\"1\" class=\"dataframe\"><thead><tr><th>mpg</th><th>cyl</th><th>wt</th></tr><tr><td>f64</td><td>i64</td><td>f64</td></tr></thead><tbody><tr><td>21.0</td><td>6</td><td>2.62</td></tr><tr><td>21.0</td><td>6</td><td>2.875</td></tr><tr><td>22.8</td><td>4</td><td>2.32</td></tr><tr><td>21.4</td><td>6</td><td>3.215</td></tr><tr><td>18.7</td><td>8</td><td>3.44</td></tr></tbody></table></div>"
      ],
      "text/plain": [
       "shape: (5, 3)\n",
       "┌──────┬─────┬───────┐\n",
       "│ mpg  ┆ cyl ┆ wt    │\n",
       "│ ---  ┆ --- ┆ ---   │\n",
       "│ f64  ┆ i64 ┆ f64   │\n",
       "╞══════╪═════╪═══════╡\n",
       "│ 21.0 ┆ 6   ┆ 2.62  │\n",
       "│ 21.0 ┆ 6   ┆ 2.875 │\n",
       "│ 22.8 ┆ 4   ┆ 2.32  │\n",
       "│ 21.4 ┆ 6   ┆ 3.215 │\n",
       "│ 18.7 ┆ 8   ┆ 3.44  │\n",
       "└──────┴─────┴───────┘"
      ]
     },
     "execution_count": 3,
     "metadata": {},
     "output_type": "execute_result"
    }
   ],
   "source": [
    "model.data.head()"
   ]
  },
  {
   "cell_type": "markdown",
   "metadata": {},
   "source": [
    "## Fitting a model\n",
    "\n",
    "We can use the `.fit()` method to compute parameter estimates including a variety of confidence intervals (e.g. bootstrapping)"
   ]
  },
  {
   "cell_type": "code",
   "execution_count": 4,
   "metadata": {},
   "outputs": [],
   "source": [
    "# Default parametric 95% CI\n",
    "model.fit()"
   ]
  },
  {
   "cell_type": "markdown",
   "metadata": {},
   "source": [
    "All model estimate and results are stored as attributes inside a `model` object and can be accessed with a variety of *methods* (`model.method()`) or *attributes* (`model.attribute`).\n",
    "\n",
    "For example, estimated parameters are stored as a Dataframe in the `.params` *attribute*"
   ]
  },
  {
   "cell_type": "code",
   "execution_count": 5,
   "metadata": {},
   "outputs": [
    {
     "data": {
      "text/html": [
       "<div><style>\n",
       ".dataframe > thead > tr,\n",
       ".dataframe > tbody > tr {\n",
       "  text-align: right;\n",
       "  white-space: pre-wrap;\n",
       "}\n",
       "</style>\n",
       "<small>shape: (2, 2)</small><table border=\"1\" class=\"dataframe\"><thead><tr><th>Parameter</th><th>Estimate</th></tr><tr><td>str</td><td>f64</td></tr></thead><tbody><tr><td>&quot;(Intercept)&quot;</td><td>37.285126</td></tr><tr><td>&quot;wt&quot;</td><td>-5.344472</td></tr></tbody></table></div>"
      ],
      "text/plain": [
       "shape: (2, 2)\n",
       "┌─────────────┬───────────┐\n",
       "│ Parameter   ┆ Estimate  │\n",
       "│ ---         ┆ ---       │\n",
       "│ str         ┆ f64       │\n",
       "╞═════════════╪═══════════╡\n",
       "│ (Intercept) ┆ 37.285126 │\n",
       "│ wt          ┆ -5.344472 │\n",
       "└─────────────┴───────────┘"
      ]
     },
     "execution_count": 5,
     "metadata": {},
     "output_type": "execute_result"
    }
   ],
   "source": [
    "model.params"
   ]
  },
  {
   "cell_type": "markdown",
   "metadata": {},
   "source": [
    "Calling the `.summary()` *method* returns a summary table nicely formatted with [great tables](https://posit-dev.github.io/great-tables/articles/intro.html)"
   ]
  },
  {
   "cell_type": "code",
   "execution_count": 5,
   "metadata": {},
   "outputs": [
    {
     "data": {
      "text/html": [
       "<div id=\"oopkvizrzm\" style=\"padding-left:0px;padding-right:0px;padding-top:10px;padding-bottom:10px;overflow-x:auto;overflow-y:auto;width:auto;height:auto;\">\n",
       "<style>\n",
       "#oopkvizrzm table {\n",
       "          font-family: -apple-system, BlinkMacSystemFont, 'Segoe UI', Roboto, Oxygen, Ubuntu, Cantarell, 'Helvetica Neue', 'Fira Sans', 'Droid Sans', Arial, sans-serif;\n",
       "          -webkit-font-smoothing: antialiased;\n",
       "          -moz-osx-font-smoothing: grayscale;\n",
       "        }\n",
       "\n",
       "#oopkvizrzm thead, tbody, tfoot, tr, td, th { border-style: none !important; }\n",
       " tr { background-color: transparent !important; }\n",
       "#oopkvizrzm p { margin: 0 !important; padding: 0 !important; }\n",
       " #oopkvizrzm .gt_table { display: table !important; border-collapse: collapse !important; line-height: normal !important; margin-left: auto !important; margin-right: auto !important; color: #333333 !important; font-size: 16px !important; font-weight: normal !important; font-style: normal !important; background-color: #FFFFFF !important; width: auto !important; border-top-style: solid !important; border-top-width: 2px !important; border-top-color: #A8A8A8 !important; border-right-style: none !important; border-right-width: 2px !important; border-right-color: #D3D3D3 !important; border-bottom-style: solid !important; border-bottom-width: 2px !important; border-bottom-color: #A8A8A8 !important; border-left-style: none !important; border-left-width: 2px !important; border-left-color: #D3D3D3 !important; }\n",
       " #oopkvizrzm .gt_caption { padding-top: 4px !important; padding-bottom: 4px !important; }\n",
       " #oopkvizrzm .gt_title { color: #333333 !important; font-size: 125% !important; font-weight: initial !important; padding-top: 3px !important; padding-bottom: 3px !important; padding-left: 5px !important; padding-right: 5px !important; border-bottom-color: #FFFFFF !important; border-bottom-width: 0 !important; }\n",
       " #oopkvizrzm .gt_subtitle { color: #333333 !important; font-size: 85% !important; font-weight: initial !important; padding-top: 2px !important; padding-bottom: 4px !important; padding-left: 5px !important; padding-right: 5px !important; border-top-color: #FFFFFF !important; border-top-width: 0 !important; }\n",
       " #oopkvizrzm .gt_heading { background-color: #FFFFFF !important; text-align: left !important; border-bottom-color: #FFFFFF !important; border-left-style: none !important; border-left-width: 1px !important; border-left-color: #D3D3D3 !important; border-right-style: none !important; border-right-width: 1px !important; border-right-color: #D3D3D3 !important; }\n",
       " #oopkvizrzm .gt_bottom_border { border-bottom-style: solid !important; border-bottom-width: 2px !important; border-bottom-color: #D3D3D3 !important; }\n",
       " #oopkvizrzm .gt_col_headings { border-top-style: solid !important; border-top-width: 2px !important; border-top-color: #D3D3D3 !important; border-bottom-style: solid !important; border-bottom-width: 2px !important; border-bottom-color: #D3D3D3 !important; border-left-style: none !important; border-left-width: 1px !important; border-left-color: #D3D3D3 !important; border-right-style: none !important; border-right-width: 1px !important; border-right-color: #D3D3D3 !important; }\n",
       " #oopkvizrzm .gt_col_heading { color: #333333 !important; background-color: #FFFFFF !important; font-size: 100% !important; font-weight: normal !important; text-transform: inherit !important; border-left-style: none !important; border-left-width: 1px !important; border-left-color: #D3D3D3 !important; border-right-style: none !important; border-right-width: 1px !important; border-right-color: #D3D3D3 !important; vertical-align: bottom !important; padding-top: 3px !important; padding-bottom: 4px !important; padding-left: 5px !important; padding-right: 5px !important; overflow-x: hidden !important; }\n",
       " #oopkvizrzm .gt_column_spanner_outer { color: #333333 !important; background-color: #FFFFFF !important; font-size: 100% !important; font-weight: normal !important; text-transform: inherit !important; padding-top: 0 !important; padding-bottom: 0 !important; padding-left: 4px !important; padding-right: 4px !important; }\n",
       " #oopkvizrzm .gt_column_spanner_outer:first-child { padding-left: 0 !important; }\n",
       " #oopkvizrzm .gt_column_spanner_outer:last-child { padding-right: 0 !important; }\n",
       " #oopkvizrzm .gt_column_spanner { border-bottom-style: solid !important; border-bottom-width: 2px !important; border-bottom-color: #D3D3D3 !important; vertical-align: bottom !important; padding-top: 3px !important; padding-bottom: 3px !important; overflow-x: hidden !important; display: inline-block !important; width: 100% !important; }\n",
       " #oopkvizrzm .gt_spanner_row { border-bottom-style: hidden !important; }\n",
       " #oopkvizrzm .gt_group_heading { padding-top: 6px !important; padding-bottom: 6px !important; padding-left: 5px !important; padding-right: 5px !important; color: #333333 !important; background-color: #FFFFFF !important; font-size: 100% !important; font-weight: initial !important; text-transform: inherit !important; border-top-style: solid !important; border-top-width: 2px !important; border-top-color: #D3D3D3 !important; border-bottom-style: solid !important; border-bottom-width: 2px !important; border-bottom-color: #D3D3D3 !important; border-left-style: none !important; border-left-width: 1px !important; border-left-color: #D3D3D3 !important; border-right-style: none !important; border-right-width: 1px !important; border-right-color: #D3D3D3 !important; vertical-align: middle !important; text-align: left !important; }\n",
       " #oopkvizrzm .gt_empty_group_heading { padding: 0.5px !important; color: #333333 !important; background-color: #FFFFFF !important; font-size: 100% !important; font-weight: initial !important; border-top-style: solid !important; border-top-width: 2px !important; border-top-color: #D3D3D3 !important; border-bottom-style: solid !important; border-bottom-width: 2px !important; border-bottom-color: #D3D3D3 !important; vertical-align: middle !important; }\n",
       " #oopkvizrzm .gt_from_md> :first-child { margin-top: 0 !important; }\n",
       " #oopkvizrzm .gt_from_md> :last-child { margin-bottom: 0 !important; }\n",
       " #oopkvizrzm .gt_row { padding-top: 6px !important; padding-bottom: 6px !important; padding-left: 5px !important; padding-right: 5px !important; margin: 10px !important; border-top-style: solid !important; border-top-width: 1px !important; border-top-color: #D3D3D3 !important; border-left-style: none !important; border-left-width: 1px !important; border-left-color: #D3D3D3 !important; border-right-style: none !important; border-right-width: 1px !important; border-right-color: #D3D3D3 !important; vertical-align: middle !important; overflow-x: hidden !important; }\n",
       " #oopkvizrzm .gt_stub { color: #333333 !important; background-color: #FFFFFF !important; font-size: 100% !important; font-weight: initial !important; text-transform: inherit !important; border-right-style: solid !important; border-right-width: 2px !important; border-right-color: #D3D3D3 !important; padding-left: 5px !important; padding-right: 5px !important; }\n",
       " #oopkvizrzm .gt_stub_row_group { color: #333333 !important; background-color: #FFFFFF !important; font-size: 100% !important; font-weight: initial !important; text-transform: inherit !important; border-right-style: solid !important; border-right-width: 2px !important; border-right-color: #D3D3D3 !important; padding-left: 5px !important; padding-right: 5px !important; vertical-align: top !important; }\n",
       " #oopkvizrzm .gt_row_group_first td { border-top-width: 2px !important; }\n",
       " #oopkvizrzm .gt_row_group_first th { border-top-width: 2px !important; }\n",
       " #oopkvizrzm .gt_striped { background-color: rgba(128,128,128,0.05) !important; }\n",
       " #oopkvizrzm .gt_table_body { border-top-style: solid !important; border-top-width: 2px !important; border-top-color: #D3D3D3 !important; border-bottom-style: solid !important; border-bottom-width: 2px !important; border-bottom-color: #D3D3D3 !important; }\n",
       " #oopkvizrzm .gt_sourcenotes { color: #333333 !important; background-color: #FFFFFF !important; border-bottom-style: none !important; border-bottom-width: 2px !important; border-bottom-color: #D3D3D3 !important; border-left-style: none !important; border-left-width: 2px !important; border-left-color: #D3D3D3 !important; border-right-style: none !important; border-right-width: 2px !important; border-right-color: #D3D3D3 !important; }\n",
       " #oopkvizrzm .gt_sourcenote { font-size: small !important; padding-top: 3px !important; padding-bottom: 3px !important; padding-left: 5px !important; padding-right: 5px !important; text-align: left !important; }\n",
       " #oopkvizrzm .gt_left { text-align: left !important; }\n",
       " #oopkvizrzm .gt_center { text-align: center !important; }\n",
       " #oopkvizrzm .gt_right { text-align: right !important; font-variant-numeric: tabular-nums !important; }\n",
       " #oopkvizrzm .gt_font_normal { font-weight: normal !important; }\n",
       " #oopkvizrzm .gt_font_bold { font-weight: bold !important; }\n",
       " #oopkvizrzm .gt_font_italic { font-style: italic !important; }\n",
       " #oopkvizrzm .gt_super { font-size: 65% !important; }\n",
       " #oopkvizrzm .gt_footnote_marks { font-size: 75% !important; vertical-align: 0.4em !important; position: initial !important; }\n",
       " #oopkvizrzm .gt_asterisk { font-size: 100% !important; vertical-align: 0 !important; }\n",
       " \n",
       "</style>\n",
       "<table class=\"gt_table\" data-quarto-disable-processing=\"false\" data-quarto-bootstrap=\"false\">\n",
       "<thead>\n",
       "\n",
       "  <tr class=\"gt_heading\">\n",
       "    <td colspan=\"9\" class=\"gt_heading gt_title gt_font_normal\">Formula: lm(mpg~wt)</td>\n",
       "  </tr>\n",
       "  <tr class=\"gt_heading\">\n",
       "    <td colspan=\"9\" class=\"gt_heading gt_subtitle gt_font_normal gt_bottom_border\">Number of observations: <em>32</em><br />\n",
       "Confidence intervals: <em>parametric</em><br />\n",
       "---------------------<br />\n",
       "R-squared: <em>0.7528</em><br />\n",
       "R-squared-adj: <em>0.7446</em><br />\n",
       "<em>F(1, 30) = 91.375, p = &lt;.001</em><br />\n",
       "Log-likelihood: <em>-80</em><br />\n",
       "AIC: <em>166</em> | BIC: <em>170</em><br />\n",
       "Residual error: <em>3.046</em></td>\n",
       "  </tr>\n",
       "<tr class=\"gt_col_headings\">\n",
       "  <th class=\"gt_col_heading gt_columns_bottom_border gt_left\" rowspan=\"1\" colspan=\"1\" scope=\"col\" id=\"\"></th>\n",
       "  <th class=\"gt_col_heading gt_columns_bottom_border gt_right\" rowspan=\"1\" colspan=\"1\" scope=\"col\" id=\"estimate\">Estimate</th>\n",
       "  <th class=\"gt_col_heading gt_columns_bottom_border gt_right\" rowspan=\"1\" colspan=\"1\" scope=\"col\" id=\"conf_low\">CI-low</th>\n",
       "  <th class=\"gt_col_heading gt_columns_bottom_border gt_right\" rowspan=\"1\" colspan=\"1\" scope=\"col\" id=\"conf_high\">CI-high</th>\n",
       "  <th class=\"gt_col_heading gt_columns_bottom_border gt_right\" rowspan=\"1\" colspan=\"1\" scope=\"col\" id=\"std_error\">SE</th>\n",
       "  <th class=\"gt_col_heading gt_columns_bottom_border gt_right\" rowspan=\"1\" colspan=\"1\" scope=\"col\" id=\"t_stat\">T-stat</th>\n",
       "  <th class=\"gt_col_heading gt_columns_bottom_border gt_right\" rowspan=\"1\" colspan=\"1\" scope=\"col\" id=\"df\">df</th>\n",
       "  <th class=\"gt_col_heading gt_columns_bottom_border gt_left\" rowspan=\"1\" colspan=\"1\" scope=\"col\" id=\"p_value\">p</th>\n",
       "  <th class=\"gt_col_heading gt_columns_bottom_border gt_left\" rowspan=\"1\" colspan=\"1\" scope=\"col\" id=\"stars\"></th>\n",
       "</tr>\n",
       "</thead>\n",
       "<tbody class=\"gt_table_body\">\n",
       "  <tr>\n",
       "    <th style=\"font-style: italic;\" class=\"gt_row gt_left gt_stub\">(Intercept)</th>\n",
       "    <td class=\"gt_row gt_right\">37.285</td>\n",
       "    <td class=\"gt_row gt_right\">33.450</td>\n",
       "    <td class=\"gt_row gt_right\">41.120</td>\n",
       "    <td class=\"gt_row gt_right\">1.878</td>\n",
       "    <td class=\"gt_row gt_right\">19.858</td>\n",
       "    <td class=\"gt_row gt_right\">30</td>\n",
       "    <td class=\"gt_row gt_left\"><.001</td>\n",
       "    <td class=\"gt_row gt_left\">***</td>\n",
       "  </tr>\n",
       "  <tr>\n",
       "    <th style=\"font-style: italic;\" class=\"gt_row gt_left gt_stub\">wt</th>\n",
       "    <td class=\"gt_row gt_right\">−5.344</td>\n",
       "    <td class=\"gt_row gt_right\">−6.486</td>\n",
       "    <td class=\"gt_row gt_right\">−4.203</td>\n",
       "    <td class=\"gt_row gt_right\">0.559</td>\n",
       "    <td class=\"gt_row gt_right\">−9.559</td>\n",
       "    <td class=\"gt_row gt_right\">30</td>\n",
       "    <td class=\"gt_row gt_left\"><.001</td>\n",
       "    <td class=\"gt_row gt_left\">***</td>\n",
       "  </tr>\n",
       "</tbody>\n",
       "  <tfoot class=\"gt_sourcenotes\">\n",
       "  \n",
       "  <tr>\n",
       "    <td class=\"gt_sourcenote\" colspan=\"9\">Signif. codes: <em>0 *** 0.001 ** 0.01 * 0.05 . 0.1</em></td>\n",
       "  </tr>\n",
       "\n",
       "</tfoot>\n",
       "\n",
       "</table>\n",
       "\n",
       "</div>\n",
       "        "
      ],
      "text/plain": [
       "GT(_tbl_data=shape: (2, 9)\n",
       "┌─────────────┬───────────┬───────────┬───────────┬───┬───────────┬─────┬─────────┬───────┐\n",
       "│ term        ┆ estimate  ┆ conf_low  ┆ conf_high ┆ … ┆ t_stat    ┆ df  ┆ p_value ┆ stars │\n",
       "│ ---         ┆ ---       ┆ ---       ┆ ---       ┆   ┆ ---       ┆ --- ┆ ---     ┆ ---   │\n",
       "│ str         ┆ f64       ┆ f64       ┆ f64       ┆   ┆ f64       ┆ i32 ┆ str     ┆ str   │\n",
       "╞═════════════╪═══════════╪═══════════╪═══════════╪═══╪═══════════╪═════╪═════════╪═══════╡\n",
       "│ (Intercept) ┆ 37.285126 ┆ 33.4505   ┆ 41.119753 ┆ … ┆ 19.857575 ┆ 30  ┆ <.001   ┆ ***   │\n",
       "│ wt          ┆ -5.344472 ┆ -6.486308 ┆ -4.202635 ┆ … ┆ -9.559044 ┆ 30  ┆ <.001   ┆ ***   │\n",
       "└─────────────┴───────────┴───────────┴───────────┴───┴───────────┴─────┴─────────┴───────┘, _body=<great_tables._gt_data.Body object at 0x175d8a510>, _boxhead=Boxhead([ColInfo(var='term', type=<ColInfoTypeEnum.stub: 2>, column_label='term', column_align='left', column_width=None), ColInfo(var='estimate', type=<ColInfoTypeEnum.default: 1>, column_label='Estimate', column_align='right', column_width=None), ColInfo(var='conf_low', type=<ColInfoTypeEnum.default: 1>, column_label='CI-low', column_align='right', column_width=None), ColInfo(var='conf_high', type=<ColInfoTypeEnum.default: 1>, column_label='CI-high', column_align='right', column_width=None), ColInfo(var='std_error', type=<ColInfoTypeEnum.default: 1>, column_label='SE', column_align='right', column_width=None), ColInfo(var='t_stat', type=<ColInfoTypeEnum.default: 1>, column_label='T-stat', column_align='right', column_width=None), ColInfo(var='df', type=<ColInfoTypeEnum.default: 1>, column_label='df', column_align='right', column_width=None), ColInfo(var='p_value', type=<ColInfoTypeEnum.default: 1>, column_label='p', column_align='left', column_width=None), ColInfo(var='stars', type=<ColInfoTypeEnum.default: 1>, column_label='', column_align='left', column_width=None)]), _stub=<great_tables._gt_data.Stub object at 0x175fd2990>, _spanners=Spanners([]), _heading=Heading(title='Formula: lm(mpg~wt)', subtitle=Md(text='Number of observations: *32*  \\n            Confidence intervals: *parametric*  \\n            ---------------------  \\n            R-squared: *0.7528*  \\n            R-squared-adj: *0.7446*  \\n            *F(1, 30) = 91.375, p = <.001*  \\n            Log-likelihood: *-80*  \\n            AIC: *166* | BIC: *170*  \\n            Residual error: *3.046*  \\n        '), preheader=None), _stubhead=None, _source_notes=[Md(text='Signif. codes: *0 *** 0.001 ** 0.01 * 0.05 . 0.1*')], _footnotes=[], _styles=[StyleInfo(locname=LocStub(rows=None), grpname=None, colname=None, rownum=0, colnum=None, styles=[CellStyleText(color=None, font=None, size=None, align=None, v_align=None, style='italic', weight=None, stretch=None, decorate=None, transform=None, whitespace=None)]), StyleInfo(locname=LocStub(rows=None), grpname=None, colname=None, rownum=1, colnum=None, styles=[CellStyleText(color=None, font=None, size=None, align=None, v_align=None, style='italic', weight=None, stretch=None, decorate=None, transform=None, whitespace=None)])], _locale=<great_tables._gt_data.Locale object at 0x175fd1d90>, _formats=[<great_tables._gt_data.FormatInfo object at 0x175fd2870>, <great_tables._gt_data.FormatInfo object at 0x175d8bc20>], _substitutions=[], _options=Options(table_id=OptionsInfo(scss=False, category='table', type='value', value=None), table_caption=OptionsInfo(scss=False, category='table', type='value', value=None), table_width=OptionsInfo(scss=True, category='table', type='px', value='auto'), table_layout=OptionsInfo(scss=True, category='table', type='value', value='fixed'), table_margin_left=OptionsInfo(scss=True, category='table', type='px', value='auto'), table_margin_right=OptionsInfo(scss=True, category='table', type='px', value='auto'), table_background_color=OptionsInfo(scss=True, category='table', type='value', value='#FFFFFF'), table_additional_css=OptionsInfo(scss=False, category='table', type='values', value=[]), table_font_names=OptionsInfo(scss=False, category='table', type='values', value=['-apple-system', 'BlinkMacSystemFont', 'Segoe UI', 'Roboto', 'Oxygen', 'Ubuntu', 'Cantarell', 'Helvetica Neue', 'Fira Sans', 'Droid Sans', 'Arial', 'sans-serif']), table_font_size=OptionsInfo(scss=True, category='table', type='px', value='16px'), table_font_weight=OptionsInfo(scss=True, category='table', type='value', value='normal'), table_font_style=OptionsInfo(scss=True, category='table', type='value', value='normal'), table_font_color=OptionsInfo(scss=True, category='table', type='value', value='#333333'), table_font_color_light=OptionsInfo(scss=True, category='table', type='value', value='#FFFFFF'), table_border_top_include=OptionsInfo(scss=False, category='table', type='boolean', value=True), table_border_top_style=OptionsInfo(scss=True, category='table', type='value', value='solid'), table_border_top_width=OptionsInfo(scss=True, category='table', type='px', value='2px'), table_border_top_color=OptionsInfo(scss=True, category='table', type='value', value='#A8A8A8'), table_border_right_style=OptionsInfo(scss=True, category='table', type='value', value='none'), table_border_right_width=OptionsInfo(scss=True, category='table', type='px', value='2px'), table_border_right_color=OptionsInfo(scss=True, category='table', type='value', value='#D3D3D3'), table_border_bottom_include=OptionsInfo(scss=False, category='table', type='boolean', value=True), table_border_bottom_style=OptionsInfo(scss=True, category='table', type='value', value='solid'), table_border_bottom_width=OptionsInfo(scss=True, category='table', type='px', value='2px'), table_border_bottom_color=OptionsInfo(scss=True, category='table', type='value', value='#A8A8A8'), table_border_left_style=OptionsInfo(scss=True, category='table', type='value', value='none'), table_border_left_width=OptionsInfo(scss=True, category='table', type='px', value='2px'), table_border_left_color=OptionsInfo(scss=True, category='table', type='value', value='#D3D3D3'), heading_background_color=OptionsInfo(scss=True, category='heading', type='value', value=None), heading_align=OptionsInfo(scss=True, category='heading', type='value', value='left'), heading_title_font_size=OptionsInfo(scss=True, category='heading', type='px', value='125%'), heading_title_font_weight=OptionsInfo(scss=True, category='heading', type='value', value='initial'), heading_subtitle_font_size=OptionsInfo(scss=True, category='heading', type='px', value='85%'), heading_subtitle_font_weight=OptionsInfo(scss=True, category='heading', type='value', value='initial'), heading_padding=OptionsInfo(scss=True, category='heading', type='px', value='3px'), heading_padding_horizontal=OptionsInfo(scss=True, category='heading', type='px', value='5px'), heading_border_bottom_style=OptionsInfo(scss=True, category='heading', type='value', value='solid'), heading_border_bottom_width=OptionsInfo(scss=True, category='heading', type='px', value='2px'), heading_border_bottom_color=OptionsInfo(scss=True, category='heading', type='value', value='#D3D3D3'), heading_border_lr_style=OptionsInfo(scss=True, category='heading', type='value', value='none'), heading_border_lr_width=OptionsInfo(scss=True, category='heading', type='px', value='1px'), heading_border_lr_color=OptionsInfo(scss=True, category='heading', type='value', value='#D3D3D3'), column_labels_background_color=OptionsInfo(scss=True, category='column_labels', type='value', value=None), column_labels_font_size=OptionsInfo(scss=True, category='column_labels', type='px', value='100%'), column_labels_font_weight=OptionsInfo(scss=True, category='column_labels', type='value', value='normal'), column_labels_text_transform=OptionsInfo(scss=True, category='column_labels', type='value', value='inherit'), column_labels_padding=OptionsInfo(scss=True, category='column_labels', type='px', value='3px'), column_labels_padding_horizontal=OptionsInfo(scss=True, category='column_labels', type='px', value='5px'), column_labels_vlines_style=OptionsInfo(scss=True, category='table_body', type='value', value='none'), column_labels_vlines_width=OptionsInfo(scss=True, category='table_body', type='px', value='1px'), column_labels_vlines_color=OptionsInfo(scss=True, category='table_body', type='value', value='#D3D3D3'), column_labels_border_top_style=OptionsInfo(scss=True, category='column_labels', type='value', value='solid'), column_labels_border_top_width=OptionsInfo(scss=True, category='column_labels', type='px', value='2px'), column_labels_border_top_color=OptionsInfo(scss=True, category='column_labels', type='value', value='#D3D3D3'), column_labels_border_bottom_style=OptionsInfo(scss=True, category='column_labels', type='value', value='solid'), column_labels_border_bottom_width=OptionsInfo(scss=True, category='column_labels', type='px', value='2px'), column_labels_border_bottom_color=OptionsInfo(scss=True, category='column_labels', type='value', value='#D3D3D3'), column_labels_border_lr_style=OptionsInfo(scss=True, category='column_labels', type='value', value='none'), column_labels_border_lr_width=OptionsInfo(scss=True, category='column_labels', type='px', value='1px'), column_labels_border_lr_color=OptionsInfo(scss=True, category='column_labels', type='value', value='#D3D3D3'), column_labels_hidden=OptionsInfo(scss=False, category='column_labels', type='boolean', value=False), row_group_background_color=OptionsInfo(scss=True, category='row_group', type='value', value=None), row_group_font_size=OptionsInfo(scss=True, category='row_group', type='px', value='100%'), row_group_font_weight=OptionsInfo(scss=True, category='row_group', type='value', value='initial'), row_group_text_transform=OptionsInfo(scss=True, category='row_group', type='value', value='inherit'), row_group_padding=OptionsInfo(scss=True, category='row_group', type='px', value='6px'), row_group_padding_horizontal=OptionsInfo(scss=True, category='row_group', type='px', value='5px'), row_group_border_top_style=OptionsInfo(scss=True, category='row_group', type='value', value='solid'), row_group_border_top_width=OptionsInfo(scss=True, category='row_group', type='px', value='2px'), row_group_border_top_color=OptionsInfo(scss=True, category='row_group', type='value', value='#D3D3D3'), row_group_border_right_style=OptionsInfo(scss=True, category='row_group', type='value', value='none'), row_group_border_right_width=OptionsInfo(scss=True, category='row_group', type='px', value='1px'), row_group_border_right_color=OptionsInfo(scss=True, category='row_group', type='value', value='#D3D3D3'), row_group_border_bottom_style=OptionsInfo(scss=True, category='row_group', type='value', value='solid'), row_group_border_bottom_width=OptionsInfo(scss=True, category='row_group', type='px', value='2px'), row_group_border_bottom_color=OptionsInfo(scss=True, category='row_group', type='value', value='#D3D3D3'), row_group_border_left_style=OptionsInfo(scss=True, category='row_group', type='value', value='none'), row_group_border_left_width=OptionsInfo(scss=True, category='row_group', type='px', value='1px'), row_group_border_left_color=OptionsInfo(scss=True, category='row_group', type='value', value='#D3D3D3'), row_group_as_column=OptionsInfo(scss=False, category='row_group', type='boolean', value=False), table_body_hlines_style=OptionsInfo(scss=True, category='table_body', type='value', value='solid'), table_body_hlines_width=OptionsInfo(scss=True, category='table_body', type='px', value='1px'), table_body_hlines_color=OptionsInfo(scss=True, category='table_body', type='value', value='#D3D3D3'), table_body_vlines_style=OptionsInfo(scss=True, category='table_body', type='value', value='none'), table_body_vlines_width=OptionsInfo(scss=True, category='table_body', type='px', value='1px'), table_body_vlines_color=OptionsInfo(scss=True, category='table_body', type='value', value='#D3D3D3'), table_body_border_top_style=OptionsInfo(scss=True, category='table_body', type='value', value='solid'), table_body_border_top_width=OptionsInfo(scss=True, category='table_body', type='px', value='2px'), table_body_border_top_color=OptionsInfo(scss=True, category='table_body', type='value', value='#D3D3D3'), table_body_border_bottom_style=OptionsInfo(scss=True, category='table_body', type='value', value='solid'), table_body_border_bottom_width=OptionsInfo(scss=True, category='table_body', type='px', value='2px'), table_body_border_bottom_color=OptionsInfo(scss=True, category='table_body', type='value', value='#D3D3D3'), data_row_padding=OptionsInfo(scss=True, category='data_row', type='px', value='6px'), data_row_padding_horizontal=OptionsInfo(scss=True, category='data_row', type='px', value='5px'), stub_background_color=OptionsInfo(scss=True, category='stub', type='value', value=None), stub_font_size=OptionsInfo(scss=True, category='stub', type='px', value='100%'), stub_font_weight=OptionsInfo(scss=True, category='stub', type='value', value='initial'), stub_text_transform=OptionsInfo(scss=True, category='stub', type='value', value='inherit'), stub_border_style=OptionsInfo(scss=True, category='stub', type='value', value='solid'), stub_border_width=OptionsInfo(scss=True, category='stub', type='px', value='2px'), stub_border_color=OptionsInfo(scss=True, category='stub', type='value', value='#D3D3D3'), stub_row_group_background_color=OptionsInfo(scss=True, category='stub', type='value', value=None), stub_row_group_font_size=OptionsInfo(scss=True, category='stub', type='px', value='100%'), stub_row_group_font_weight=OptionsInfo(scss=True, category='stub', type='value', value='initial'), stub_row_group_text_transform=OptionsInfo(scss=True, category='stub', type='value', value='inherit'), stub_row_group_border_style=OptionsInfo(scss=True, category='stub', type='value', value='solid'), stub_row_group_border_width=OptionsInfo(scss=True, category='stub', type='px', value='2px'), stub_row_group_border_color=OptionsInfo(scss=True, category='stub', type='value', value='#D3D3D3'), source_notes_padding=OptionsInfo(scss=True, category='source_notes', type='px', value='3px'), source_notes_padding_horizontal=OptionsInfo(scss=True, category='source_notes', type='px', value='5px'), source_notes_background_color=OptionsInfo(scss=True, category='source_notes', type='value', value=None), source_notes_font_size=OptionsInfo(scss=True, category='source_notes', type='px', value='small'), source_notes_border_bottom_style=OptionsInfo(scss=True, category='source_notes', type='value', value='none'), source_notes_border_bottom_width=OptionsInfo(scss=True, category='source_notes', type='px', value='2px'), source_notes_border_bottom_color=OptionsInfo(scss=True, category='source_notes', type='value', value='#D3D3D3'), source_notes_border_lr_style=OptionsInfo(scss=True, category='source_notes', type='value', value='none'), source_notes_border_lr_width=OptionsInfo(scss=True, category='source_notes', type='px', value='2px'), source_notes_border_lr_color=OptionsInfo(scss=True, category='source_notes', type='value', value='#D3D3D3'), source_notes_multiline=OptionsInfo(scss=False, category='source_notes', type='boolean', value=True), source_notes_sep=OptionsInfo(scss=False, category='source_notes', type='value', value=' '), row_striping_background_color=OptionsInfo(scss=True, category='row', type='value', value='rgba(128,128,128,0.05)'), row_striping_include_stub=OptionsInfo(scss=False, category='row', type='boolean', value=False), row_striping_include_table_body=OptionsInfo(scss=False, category='row', type='boolean', value=False), container_width=OptionsInfo(scss=False, category='container', type='px', value='auto'), container_height=OptionsInfo(scss=False, category='container', type='px', value='auto'), container_padding_x=OptionsInfo(scss=False, category='container', type='px', value='0px'), container_padding_y=OptionsInfo(scss=False, category='container', type='px', value='10px'), container_overflow_x=OptionsInfo(scss=False, category='container', type='overflow', value='auto'), container_overflow_y=OptionsInfo(scss=False, category='container', type='overflow', value='auto'), quarto_disable_processing=OptionsInfo(scss=False, category='quarto', type='logical', value=False), quarto_use_bootstrap=OptionsInfo(scss=False, category='quarto', type='logical', value=False)), _has_built=False)"
      ]
     },
     "execution_count": 5,
     "metadata": {},
     "output_type": "execute_result"
    }
   ],
   "source": [
    "model.summary()"
   ]
  },
  {
   "cell_type": "markdown",
   "metadata": {},
   "source": [
    "We can also print a more basic R-style summary table"
   ]
  },
  {
   "cell_type": "code",
   "execution_count": 6,
   "metadata": {},
   "outputs": [
    {
     "name": "stdout",
     "output_type": "stream",
     "text": [
      "Coefficients:\n",
      "            Estimate Std. Error t value Pr(>|t|)    \n",
      "(Intercept)  37.2851     1.8776  19.858  < 2e-16 ***\n",
      "wt           -5.3445     0.5591  -9.559 1.29e-10 ***\n",
      "---\n",
      "Signif. codes:  0 ‘***’ 0.001 ‘**’ 0.01 ‘*’ 0.05 ‘.’ 0.1 ‘ ’ 1\n",
      "\n",
      "Residual standard error: 3.046 on 30 degrees of freedom\n",
      "Multiple R-squared:  0.7528,\tAdjusted R-squared:  0.7446 \n",
      "F-statistic: 91.38 on 1 and 30 DF,  p-value: 1.294e-10\n",
      "\n"
     ]
    }
   ],
   "source": [
    "model.summary(pretty=False)"
   ]
  },
  {
   "cell_type": "markdown",
   "metadata": {},
   "source": [
    "Models have several `.result_*` attributes that contain dataframes of the result of fitting a model, e.g. estimates, summary stats, etc\n",
    "\n",
    "For example you can directly access the dataframe that contains the values printed by `.summary()` using `.result_fit`\n"
   ]
  },
  {
   "cell_type": "code",
   "execution_count": 8,
   "metadata": {},
   "outputs": [
    {
     "data": {
      "text/html": [
       "<div><style>\n",
       ".dataframe > thead > tr,\n",
       ".dataframe > tbody > tr {\n",
       "  text-align: right;\n",
       "  white-space: pre-wrap;\n",
       "}\n",
       "</style>\n",
       "<small>shape: (2, 8)</small><table border=\"1\" class=\"dataframe\"><thead><tr><th>term</th><th>estimate</th><th>conf_low</th><th>conf_high</th><th>std_error</th><th>t_stat</th><th>df</th><th>p_value</th></tr><tr><td>str</td><td>f64</td><td>f64</td><td>f64</td><td>f64</td><td>f64</td><td>i32</td><td>f64</td></tr></thead><tbody><tr><td>&quot;(Intercept)&quot;</td><td>37.285126</td><td>33.4505</td><td>41.119753</td><td>1.877627</td><td>19.857575</td><td>30</td><td>8.2418e-19</td></tr><tr><td>&quot;wt&quot;</td><td>-5.344472</td><td>-6.486308</td><td>-4.202635</td><td>0.559101</td><td>-9.559044</td><td>30</td><td>1.2940e-10</td></tr></tbody></table></div>"
      ],
      "text/plain": [
       "shape: (2, 8)\n",
       "┌─────────────┬───────────┬───────────┬───────────┬───────────┬───────────┬─────┬────────────┐\n",
       "│ term        ┆ estimate  ┆ conf_low  ┆ conf_high ┆ std_error ┆ t_stat    ┆ df  ┆ p_value    │\n",
       "│ ---         ┆ ---       ┆ ---       ┆ ---       ┆ ---       ┆ ---       ┆ --- ┆ ---        │\n",
       "│ str         ┆ f64       ┆ f64       ┆ f64       ┆ f64       ┆ f64       ┆ i32 ┆ f64        │\n",
       "╞═════════════╪═══════════╪═══════════╪═══════════╪═══════════╪═══════════╪═════╪════════════╡\n",
       "│ (Intercept) ┆ 37.285126 ┆ 33.4505   ┆ 41.119753 ┆ 1.877627  ┆ 19.857575 ┆ 30  ┆ 8.2418e-19 │\n",
       "│ wt          ┆ -5.344472 ┆ -6.486308 ┆ -4.202635 ┆ 0.559101  ┆ -9.559044 ┆ 30  ┆ 1.2940e-10 │\n",
       "└─────────────┴───────────┴───────────┴───────────┴───────────┴───────────┴─────┴────────────┘"
      ]
     },
     "execution_count": 8,
     "metadata": {},
     "output_type": "execute_result"
    }
   ],
   "source": [
    "model.result_fit"
   ]
  },
  {
   "cell_type": "markdown",
   "metadata": {},
   "source": [
    "`.result_fit_stats` contains statistics characterizing the overall quality of the model fit, printed above the table by `.summary()`"
   ]
  },
  {
   "cell_type": "code",
   "execution_count": 7,
   "metadata": {},
   "outputs": [
    {
     "data": {
      "text/html": [
       "<div><style>\n",
       ".dataframe > thead > tr,\n",
       ".dataframe > tbody > tr {\n",
       "  text-align: right;\n",
       "  white-space: pre-wrap;\n",
       "}\n",
       "</style>\n",
       "<small>shape: (1, 12)</small><table border=\"1\" class=\"dataframe\"><thead><tr><th>r_squared</th><th>adj_r_squared</th><th>sigma</th><th>statistic</th><th>p_value</th><th>df</th><th>logLik</th><th>AIC</th><th>BIC</th><th>deviance</th><th>df_residual</th><th>nobs</th></tr><tr><td>f64</td><td>f64</td><td>f64</td><td>f64</td><td>f64</td><td>f64</td><td>f64</td><td>f64</td><td>f64</td><td>f64</td><td>i64</td><td>i64</td></tr></thead><tbody><tr><td>0.752833</td><td>0.744594</td><td>3.045882</td><td>91.375325</td><td>1.2940e-10</td><td>1.0</td><td>-80.014714</td><td>166.029429</td><td>170.426637</td><td>278.321938</td><td>30</td><td>32</td></tr></tbody></table></div>"
      ],
      "text/plain": [
       "shape: (1, 12)\n",
       "┌───────────┬─────────────┬──────────┬───────────┬───┬────────────┬────────────┬────────────┬──────┐\n",
       "│ r_squared ┆ adj_r_squar ┆ sigma    ┆ statistic ┆ … ┆ BIC        ┆ deviance   ┆ df_residua ┆ nobs │\n",
       "│ ---       ┆ ed          ┆ ---      ┆ ---       ┆   ┆ ---        ┆ ---        ┆ l          ┆ ---  │\n",
       "│ f64       ┆ ---         ┆ f64      ┆ f64       ┆   ┆ f64        ┆ f64        ┆ ---        ┆ i64  │\n",
       "│           ┆ f64         ┆          ┆           ┆   ┆            ┆            ┆ i64        ┆      │\n",
       "╞═══════════╪═════════════╪══════════╪═══════════╪═══╪════════════╪════════════╪════════════╪══════╡\n",
       "│ 0.752833  ┆ 0.744594    ┆ 3.045882 ┆ 91.375325 ┆ … ┆ 170.426637 ┆ 278.321938 ┆ 30         ┆ 32   │\n",
       "└───────────┴─────────────┴──────────┴───────────┴───┴────────────┴────────────┴────────────┴──────┘"
      ]
     },
     "execution_count": 7,
     "metadata": {},
     "output_type": "execute_result"
    }
   ],
   "source": [
    "model.result_fit_stats"
   ]
  },
  {
   "cell_type": "markdown",
   "metadata": {},
   "source": [
    "If we now inspect the `.data` attribute of the model we'll see several new columns that have been *appended* to the original data. These contain model predictions, residuals, and statistics per observation"
   ]
  },
  {
   "cell_type": "code",
   "execution_count": 35,
   "metadata": {},
   "outputs": [
    {
     "data": {
      "text/html": [
       "<div><style>\n",
       ".dataframe > thead > tr,\n",
       ".dataframe > tbody > tr {\n",
       "  text-align: right;\n",
       "  white-space: pre-wrap;\n",
       "}\n",
       "</style>\n",
       "<small>shape: (5, 9)</small><table border=\"1\" class=\"dataframe\"><thead><tr><th>mpg</th><th>cyl</th><th>wt</th><th>fitted</th><th>resid</th><th>hat</th><th>sigma</th><th>cooksd</th><th>std_resid</th></tr><tr><td>f64</td><td>i64</td><td>f64</td><td>f64</td><td>f64</td><td>f64</td><td>f64</td><td>f64</td><td>f64</td></tr></thead><tbody><tr><td>21.0</td><td>6</td><td>2.62</td><td>23.282611</td><td>-2.282611</td><td>0.043269</td><td>3.067494</td><td>0.013274</td><td>-0.766168</td></tr><tr><td>21.0</td><td>6</td><td>2.875</td><td>21.91977</td><td>-0.91977</td><td>0.035197</td><td>3.093068</td><td>0.001724</td><td>-0.307431</td></tr><tr><td>22.8</td><td>4</td><td>2.32</td><td>24.885952</td><td>-2.085952</td><td>0.058376</td><td>3.072127</td><td>0.015439</td><td>-0.705752</td></tr><tr><td>21.4</td><td>6</td><td>3.215</td><td>20.10265</td><td>1.29735</td><td>0.03125</td><td>3.088268</td><td>0.003021</td><td>0.432751</td></tr><tr><td>18.7</td><td>8</td><td>3.44</td><td>18.900144</td><td>-0.200144</td><td>0.032922</td><td>3.097722</td><td>0.000076</td><td>-0.066819</td></tr></tbody></table></div>"
      ],
      "text/plain": [
       "shape: (5, 9)\n",
       "┌──────┬─────┬───────┬───────────┬───┬──────────┬──────────┬──────────┬───────────┐\n",
       "│ mpg  ┆ cyl ┆ wt    ┆ fitted    ┆ … ┆ hat      ┆ sigma    ┆ cooksd   ┆ std_resid │\n",
       "│ ---  ┆ --- ┆ ---   ┆ ---       ┆   ┆ ---      ┆ ---      ┆ ---      ┆ ---       │\n",
       "│ f64  ┆ i64 ┆ f64   ┆ f64       ┆   ┆ f64      ┆ f64      ┆ f64      ┆ f64       │\n",
       "╞══════╪═════╪═══════╪═══════════╪═══╪══════════╪══════════╪══════════╪═══════════╡\n",
       "│ 21.0 ┆ 6   ┆ 2.62  ┆ 23.282611 ┆ … ┆ 0.043269 ┆ 3.067494 ┆ 0.013274 ┆ -0.766168 │\n",
       "│ 21.0 ┆ 6   ┆ 2.875 ┆ 21.91977  ┆ … ┆ 0.035197 ┆ 3.093068 ┆ 0.001724 ┆ -0.307431 │\n",
       "│ 22.8 ┆ 4   ┆ 2.32  ┆ 24.885952 ┆ … ┆ 0.058376 ┆ 3.072127 ┆ 0.015439 ┆ -0.705752 │\n",
       "│ 21.4 ┆ 6   ┆ 3.215 ┆ 20.10265  ┆ … ┆ 0.03125  ┆ 3.088268 ┆ 0.003021 ┆ 0.432751  │\n",
       "│ 18.7 ┆ 8   ┆ 3.44  ┆ 18.900144 ┆ … ┆ 0.032922 ┆ 3.097722 ┆ 0.000076 ┆ -0.066819 │\n",
       "└──────┴─────┴───────┴───────────┴───┴──────────┴──────────┴──────────┴───────────┘"
      ]
     },
     "execution_count": 35,
     "metadata": {},
     "output_type": "execute_result"
    }
   ],
   "source": [
    "model.data.head()"
   ]
  },
  {
   "cell_type": "markdown",
   "metadata": {},
   "source": [
    "Which makes visual model inspection very easy"
   ]
  },
  {
   "cell_type": "code",
   "execution_count": 131,
   "metadata": {
    "tags": [
     "hide-input"
    ]
   },
   "outputs": [
    {
     "data": {
      "image/png": "[encoded data removed]",
      "text/plain": [
       "<Figure size 1000x200 with 2 Axes>"
      ]
     },
     "metadata": {
      "image/png": {
       "height": 189,
       "width": 990
      }
     },
     "output_type": "display_data"
    }
   ],
   "source": [
    "import matplotlib.pyplot as plt\n",
    "import seaborn as sns\n",
    "\n",
    "# Setup subplots\n",
    "f = plt.figure(figsize=(10, 2))\n",
    "gs = f.add_gridspec(1, 2, width_ratios=[1, 3])\n",
    "left, right = f.add_subplot(gs[0]), f.add_subplot(gs[1])\n",
    "\n",
    "# We can just use the 'resid' column for the first plot\n",
    "left = sns.kdeplot(x='resid', data=model.data, ax=left)\n",
    "left.set(xlabel='Residuals', title=\"Error distribution\")\n",
    "\n",
    "# And the 'cooksd' column to create a plot of observation influence\n",
    "right.stem(model.data['cooksd'], basefmt=' ', label='Cook\\'s Distance')\n",
    "right.set(xlabel='Row Number', ylabel='Cook\\'s Distance', title=\"Influential Observations\", xticks=range(model.data.height))\n",
    "\n",
    "sns.despine()\n",
    "plt.tight_layout();"
   ]
  },
  {
   "cell_type": "markdown",
   "metadata": {},
   "source": [
    "## Categorical predictors and predictor transforms\n",
    "\n",
    "Let's say we wanted to extend our model to estimate a multiple regression including an **interaction** with a **categorical predictor** $cyl$ \n",
    "\n",
    "$$mpg \\sim \\beta_0 + \\beta_1 * wt  + \\beta_2 * cyl + \\beta_3 * wt * cyl$$\n",
    "\n",
    "First we'll want to treat this variable as a *factor* and specify the order of it's levels (alphabetical by default). It's often good practice to *center* numeric variables in models with categorical predictors to aid interpretability, so differences between levels of $cyl$ can be interpreted at the average $wt$  \n",
    "\n",
    "Since these types of operations are so popular, models have 3 utility methods to manipulate categorical and continuous predictors: `.set_*`, `.unset_*`, and `.show_*`\n",
    "\n",
    "First we'll initialize our new model with a formula and data"
   ]
  },
  {
   "cell_type": "code",
   "execution_count": 6,
   "metadata": {},
   "outputs": [],
   "source": [
    "model = lm('mpg ~ wt * cyl', data=df)"
   ]
  },
  {
   "cell_type": "markdown",
   "metadata": {},
   "source": [
    "Then we'll use `.set_factors()` to treat $cyl$ as a factor with levels in the specified order.\n",
    "\n",
    "We can check any currently set factor variables with `.show_factors()`"
   ]
  },
  {
   "cell_type": "code",
   "execution_count": 7,
   "metadata": {},
   "outputs": [
    {
     "name": "stdout",
     "output_type": "stream",
     "text": [
      "{'cyl': ['4', '6', '8']}\n"
     ]
    }
   ],
   "source": [
    "# Set cyl as a factor with levels in this order\n",
    "model.set_factors({'cyl': ['4', '6', '8']})\n",
    "\n",
    "model.show_factors()"
   ]
  },
  {
   "cell_type": "markdown",
   "metadata": {},
   "source": [
    "Similarily we can use `.set_transforms()` to mean-center $wt$ "
   ]
  },
  {
   "cell_type": "code",
   "execution_count": 8,
   "metadata": {},
   "outputs": [
    {
     "name": "stdout",
     "output_type": "stream",
     "text": [
      "{'wt': 'center'}\n"
     ]
    }
   ],
   "source": [
    "# Mean center wt\n",
    "model.set_transforms('wt', transform='center')\n",
    "\n",
    "model.show_transforms()"
   ]
  },
  {
   "cell_type": "markdown",
   "metadata": {},
   "source": [
    "If we now inspect the `.data` attribute of the model, we can see that `cyl` an **enum** type which is how `polars` treats categorical variables. We also have a *new* column `wt_orig` that contains the *original* values of $wt$, while `wt` contains the transformed (mean-centered) values"
   ]
  },
  {
   "cell_type": "code",
   "execution_count": 9,
   "metadata": {},
   "outputs": [
    {
     "data": {
      "text/html": [
       "<div><style>\n",
       ".dataframe > thead > tr,\n",
       ".dataframe > tbody > tr {\n",
       "  text-align: right;\n",
       "  white-space: pre-wrap;\n",
       "}\n",
       "</style>\n",
       "<small>shape: (5, 4)</small><table border=\"1\" class=\"dataframe\"><thead><tr><th>mpg</th><th>cyl</th><th>wt</th><th>wt_orig</th></tr><tr><td>f64</td><td>enum</td><td>f64</td><td>f64</td></tr></thead><tbody><tr><td>21.0</td><td>&quot;6&quot;</td><td>-0.59725</td><td>2.62</td></tr><tr><td>21.0</td><td>&quot;6&quot;</td><td>-0.34225</td><td>2.875</td></tr><tr><td>22.8</td><td>&quot;4&quot;</td><td>-0.89725</td><td>2.32</td></tr><tr><td>21.4</td><td>&quot;6&quot;</td><td>-0.00225</td><td>3.215</td></tr><tr><td>18.7</td><td>&quot;8&quot;</td><td>0.22275</td><td>3.44</td></tr></tbody></table></div>"
      ],
      "text/plain": [
       "shape: (5, 4)\n",
       "┌──────┬──────┬──────────┬─────────┐\n",
       "│ mpg  ┆ cyl  ┆ wt       ┆ wt_orig │\n",
       "│ ---  ┆ ---  ┆ ---      ┆ ---     │\n",
       "│ f64  ┆ enum ┆ f64      ┆ f64     │\n",
       "╞══════╪══════╪══════════╪═════════╡\n",
       "│ 21.0 ┆ 6    ┆ -0.59725 ┆ 2.62    │\n",
       "│ 21.0 ┆ 6    ┆ -0.34225 ┆ 2.875   │\n",
       "│ 22.8 ┆ 4    ┆ -0.89725 ┆ 2.32    │\n",
       "│ 21.4 ┆ 6    ┆ -0.00225 ┆ 3.215   │\n",
       "│ 18.7 ┆ 8    ┆ 0.22275  ┆ 3.44    │\n",
       "└──────┴──────┴──────────┴─────────┘"
      ]
     },
     "execution_count": 9,
     "metadata": {},
     "output_type": "execute_result"
    }
   ],
   "source": [
    "model.data.head()"
   ]
  },
  {
   "cell_type": "markdown",
   "metadata": {},
   "source": [
    "### Factor coding & contrasts"
   ]
  },
  {
   "cell_type": "markdown",
   "metadata": {},
   "source": [
    "Before estimating this model with `.fit()` there's one more consideration when working with categorical variables: how they should be **coded**. Remember our model only needs $k-1$ parameters to estimate a $k$ level categorical predictor. In this case $cyl$ has 3 levels so we can control what those 2 parameter estimates *mean*. \n",
    "\n",
    "By default factors use *treatment contrasts* (dummy-coding, like R), where each parameter represents the difference between the first level and the nth level. For cyl, that would be $6-4$ and $8-4$ as $4$ is the first level of $cyl$ based on how we used `.set_factors()` earlier.  \n",
    "\n",
    "Similar to working with factors and transforms, we can inspect and set contrasts using `.set_contrasts()` and `.show_contrasts()`"
   ]
  },
  {
   "cell_type": "code",
   "execution_count": 10,
   "metadata": {},
   "outputs": [
    {
     "name": "stdout",
     "output_type": "stream",
     "text": [
      "{'cyl': 'contr.treatment'}\n"
     ]
    }
   ],
   "source": [
    "# Treatment/dummy is set for us by default\n",
    "model.show_contrasts()"
   ]
  },
  {
   "cell_type": "code",
   "execution_count": 11,
   "metadata": {},
   "outputs": [
    {
     "data": {
      "text/html": [
       "<div><style>\n",
       ".dataframe > thead > tr,\n",
       ".dataframe > tbody > tr {\n",
       "  text-align: right;\n",
       "  white-space: pre-wrap;\n",
       "}\n",
       "</style>\n",
       "<small>shape: (6, 2)</small><table border=\"1\" class=\"dataframe\"><thead><tr><th>Parameter</th><th>Estimate</th></tr><tr><td>str</td><td>f64</td></tr></thead><tbody><tr><td>&quot;(Intercept)&quot;</td><td>21.403304</td></tr><tr><td>&quot;wt&quot;</td><td>-5.647025</td></tr><tr><td>&quot;cyl6&quot;</td><td>-1.938755</td></tr><tr><td>&quot;cyl8&quot;</td><td>-4.588896</td></tr><tr><td>&quot;wt:cyl6&quot;</td><td>2.866919</td></tr><tr><td>&quot;wt:cyl8&quot;</td><td>3.454587</td></tr></tbody></table></div>"
      ],
      "text/plain": [
       "shape: (6, 2)\n",
       "┌─────────────┬───────────┐\n",
       "│ Parameter   ┆ Estimate  │\n",
       "│ ---         ┆ ---       │\n",
       "│ str         ┆ f64       │\n",
       "╞═════════════╪═══════════╡\n",
       "│ (Intercept) ┆ 21.403304 │\n",
       "│ wt          ┆ -5.647025 │\n",
       "│ cyl6        ┆ -1.938755 │\n",
       "│ cyl8        ┆ -4.588896 │\n",
       "│ wt:cyl6     ┆ 2.866919  │\n",
       "│ wt:cyl8     ┆ 3.454587  │\n",
       "└─────────────┴───────────┘"
      ]
     },
     "execution_count": 11,
     "metadata": {},
     "output_type": "execute_result"
    }
   ],
   "source": [
    "model.fit()\n",
    "model.params"
   ]
  },
  {
   "cell_type": "markdown",
   "metadata": {},
   "source": [
    "We can switch this to another supported contrast like sum-to-zero contrasts using `'contr.sum'` "
   ]
  },
  {
   "cell_type": "code",
   "execution_count": 12,
   "metadata": {},
   "outputs": [
    {
     "data": {
      "text/html": [
       "<div><style>\n",
       ".dataframe > thead > tr,\n",
       ".dataframe > tbody > tr {\n",
       "  text-align: right;\n",
       "  white-space: pre-wrap;\n",
       "}\n",
       "</style>\n",
       "<small>shape: (6, 2)</small><table border=\"1\" class=\"dataframe\"><thead><tr><th>Parameter</th><th>Estimate</th></tr><tr><td>str</td><td>f64</td></tr></thead><tbody><tr><td>&quot;(Intercept)&quot;</td><td>19.22742</td></tr><tr><td>&quot;wt&quot;</td><td>-3.539856</td></tr><tr><td>&quot;cyl1&quot;</td><td>2.175884</td></tr><tr><td>&quot;cyl2&quot;</td><td>0.237128</td></tr><tr><td>&quot;wt:cyl1&quot;</td><td>-2.107169</td></tr><tr><td>&quot;wt:cyl2&quot;</td><td>0.75975</td></tr></tbody></table></div>"
      ],
      "text/plain": [
       "shape: (6, 2)\n",
       "┌─────────────┬───────────┐\n",
       "│ Parameter   ┆ Estimate  │\n",
       "│ ---         ┆ ---       │\n",
       "│ str         ┆ f64       │\n",
       "╞═════════════╪═══════════╡\n",
       "│ (Intercept) ┆ 19.22742  │\n",
       "│ wt          ┆ -3.539856 │\n",
       "│ cyl1        ┆ 2.175884  │\n",
       "│ cyl2        ┆ 0.237128  │\n",
       "│ wt:cyl1     ┆ -2.107169 │\n",
       "│ wt:cyl2     ┆ 0.75975   │\n",
       "└─────────────┴───────────┘"
      ]
     },
     "execution_count": 12,
     "metadata": {},
     "output_type": "execute_result"
    }
   ],
   "source": [
    "model.set_contrasts({'cyl': 'contr.sum'})\n",
    "model.fit()\n",
    "model.params"
   ]
  },
  {
   "cell_type": "markdown",
   "metadata": {},
   "source": [
    "Alternatively we can test a *specific* hypothesis by using a custom contrast across factor levels (numeric values that add up to 0). This is specified based on the order of levels set when using `.set_factors()`, or alphabetically by default.\n",
    "\n",
    "If we inspect the data we can see that there seems to be an approximately linear trend across levels of $cyl$\n"
   ]
  },
  {
   "cell_type": "code",
   "execution_count": 243,
   "metadata": {
    "tags": [
     "hide-input"
    ]
   },
   "outputs": [
    {
     "data": {
      "image/png": "[encoded data removed]",
      "text/plain": [
       "<Figure size 600x300 with 1 Axes>"
      ]
     },
     "metadata": {
      "image/png": {
       "height": 290,
       "width": 590
      }
     },
     "output_type": "display_data"
    }
   ],
   "source": [
    "grid = sns.FacetGrid(data=model.data, palette='Purples', aspect=2)\n",
    "\n",
    "grid.map(sns.pointplot, 'cyl', 'mpg', color='gray', order=['4','6','8'], alpha=.25, errorbar=None, markersize=10)\n",
    "\n",
    "grid.map_dataframe(sns.stripplot, 'cyl', 'mpg', order=['4','6','8'], hue='cyl', palette='Purples', legend=True);"
   ]
  },
  {
   "cell_type": "markdown",
   "metadata": {},
   "source": [
    "We can test this by specifying a linear contrast across levels of `cyl` such that 4 < 6 < 8. \n",
    "\n",
    "The `normalize` argument simply scales our contrasts for us to match the polynomial used in R:"
   ]
  },
  {
   "cell_type": "code",
   "execution_count": 13,
   "metadata": {},
   "outputs": [
    {
     "name": "stdout",
     "output_type": "stream",
     "text": [
      "{'cyl': array([-0.70710678,  0.        ,  0.70710678])}\n"
     ]
    }
   ],
   "source": [
    "model.set_contrasts({'cyl':[-1, 0, 1]}, normalize=True)\n",
    "model.show_contrasts()"
   ]
  },
  {
   "cell_type": "markdown",
   "metadata": {},
   "source": [
    "Now $cyl1$ below reflects *this specific* comparison: a linear trend across levels  \n",
    "$cyl2$ represents an automatically computed orthogonal comparison, in this case a *quadratic* trend across $cyl$ levels. \n"
   ]
  },
  {
   "cell_type": "code",
   "execution_count": 14,
   "metadata": {},
   "outputs": [
    {
     "data": {
      "text/html": [
       "<div id=\"uoutmolxpx\" style=\"padding-left:0px;padding-right:0px;padding-top:10px;padding-bottom:10px;overflow-x:auto;overflow-y:auto;width:auto;height:auto;\">\n",
       "<style>\n",
       "#uoutmolxpx table {\n",
       "          font-family: -apple-system, BlinkMacSystemFont, 'Segoe UI', Roboto, Oxygen, Ubuntu, Cantarell, 'Helvetica Neue', 'Fira Sans', 'Droid Sans', Arial, sans-serif;\n",
       "          -webkit-font-smoothing: antialiased;\n",
       "          -moz-osx-font-smoothing: grayscale;\n",
       "        }\n",
       "\n",
       "#uoutmolxpx thead, tbody, tfoot, tr, td, th { border-style: none !important; }\n",
       " tr { background-color: transparent !important; }\n",
       "#uoutmolxpx p { margin: 0 !important; padding: 0 !important; }\n",
       " #uoutmolxpx .gt_table { display: table !important; border-collapse: collapse !important; line-height: normal !important; margin-left: auto !important; margin-right: auto !important; color: #333333 !important; font-size: 16px !important; font-weight: normal !important; font-style: normal !important; background-color: #FFFFFF !important; width: auto !important; border-top-style: solid !important; border-top-width: 2px !important; border-top-color: #A8A8A8 !important; border-right-style: none !important; border-right-width: 2px !important; border-right-color: #D3D3D3 !important; border-bottom-style: solid !important; border-bottom-width: 2px !important; border-bottom-color: #A8A8A8 !important; border-left-style: none !important; border-left-width: 2px !important; border-left-color: #D3D3D3 !important; }\n",
       " #uoutmolxpx .gt_caption { padding-top: 4px !important; padding-bottom: 4px !important; }\n",
       " #uoutmolxpx .gt_title { color: #333333 !important; font-size: 125% !important; font-weight: initial !important; padding-top: 3px !important; padding-bottom: 3px !important; padding-left: 5px !important; padding-right: 5px !important; border-bottom-color: #FFFFFF !important; border-bottom-width: 0 !important; }\n",
       " #uoutmolxpx .gt_subtitle { color: #333333 !important; font-size: 85% !important; font-weight: initial !important; padding-top: 2px !important; padding-bottom: 4px !important; padding-left: 5px !important; padding-right: 5px !important; border-top-color: #FFFFFF !important; border-top-width: 0 !important; }\n",
       " #uoutmolxpx .gt_heading { background-color: #FFFFFF !important; text-align: left !important; border-bottom-color: #FFFFFF !important; border-left-style: none !important; border-left-width: 1px !important; border-left-color: #D3D3D3 !important; border-right-style: none !important; border-right-width: 1px !important; border-right-color: #D3D3D3 !important; }\n",
       " #uoutmolxpx .gt_bottom_border { border-bottom-style: solid !important; border-bottom-width: 2px !important; border-bottom-color: #D3D3D3 !important; }\n",
       " #uoutmolxpx .gt_col_headings { border-top-style: solid !important; border-top-width: 2px !important; border-top-color: #D3D3D3 !important; border-bottom-style: solid !important; border-bottom-width: 2px !important; border-bottom-color: #D3D3D3 !important; border-left-style: none !important; border-left-width: 1px !important; border-left-color: #D3D3D3 !important; border-right-style: none !important; border-right-width: 1px !important; border-right-color: #D3D3D3 !important; }\n",
       " #uoutmolxpx .gt_col_heading { color: #333333 !important; background-color: #FFFFFF !important; font-size: 100% !important; font-weight: normal !important; text-transform: inherit !important; border-left-style: none !important; border-left-width: 1px !important; border-left-color: #D3D3D3 !important; border-right-style: none !important; border-right-width: 1px !important; border-right-color: #D3D3D3 !important; vertical-align: bottom !important; padding-top: 3px !important; padding-bottom: 4px !important; padding-left: 5px !important; padding-right: 5px !important; overflow-x: hidden !important; }\n",
       " #uoutmolxpx .gt_column_spanner_outer { color: #333333 !important; background-color: #FFFFFF !important; font-size: 100% !important; font-weight: normal !important; text-transform: inherit !important; padding-top: 0 !important; padding-bottom: 0 !important; padding-left: 4px !important; padding-right: 4px !important; }\n",
       " #uoutmolxpx .gt_column_spanner_outer:first-child { padding-left: 0 !important; }\n",
       " #uoutmolxpx .gt_column_spanner_outer:last-child { padding-right: 0 !important; }\n",
       " #uoutmolxpx .gt_column_spanner { border-bottom-style: solid !important; border-bottom-width: 2px !important; border-bottom-color: #D3D3D3 !important; vertical-align: bottom !important; padding-top: 3px !important; padding-bottom: 3px !important; overflow-x: hidden !important; display: inline-block !important; width: 100% !important; }\n",
       " #uoutmolxpx .gt_spanner_row { border-bottom-style: hidden !important; }\n",
       " #uoutmolxpx .gt_group_heading { padding-top: 6px !important; padding-bottom: 6px !important; padding-left: 5px !important; padding-right: 5px !important; color: #333333 !important; background-color: #FFFFFF !important; font-size: 100% !important; font-weight: initial !important; text-transform: inherit !important; border-top-style: solid !important; border-top-width: 2px !important; border-top-color: #D3D3D3 !important; border-bottom-style: solid !important; border-bottom-width: 2px !important; border-bottom-color: #D3D3D3 !important; border-left-style: none !important; border-left-width: 1px !important; border-left-color: #D3D3D3 !important; border-right-style: none !important; border-right-width: 1px !important; border-right-color: #D3D3D3 !important; vertical-align: middle !important; text-align: left !important; }\n",
       " #uoutmolxpx .gt_empty_group_heading { padding: 0.5px !important; color: #333333 !important; background-color: #FFFFFF !important; font-size: 100% !important; font-weight: initial !important; border-top-style: solid !important; border-top-width: 2px !important; border-top-color: #D3D3D3 !important; border-bottom-style: solid !important; border-bottom-width: 2px !important; border-bottom-color: #D3D3D3 !important; vertical-align: middle !important; }\n",
       " #uoutmolxpx .gt_from_md> :first-child { margin-top: 0 !important; }\n",
       " #uoutmolxpx .gt_from_md> :last-child { margin-bottom: 0 !important; }\n",
       " #uoutmolxpx .gt_row { padding-top: 6px !important; padding-bottom: 6px !important; padding-left: 5px !important; padding-right: 5px !important; margin: 10px !important; border-top-style: solid !important; border-top-width: 1px !important; border-top-color: #D3D3D3 !important; border-left-style: none !important; border-left-width: 1px !important; border-left-color: #D3D3D3 !important; border-right-style: none !important; border-right-width: 1px !important; border-right-color: #D3D3D3 !important; vertical-align: middle !important; overflow-x: hidden !important; }\n",
       " #uoutmolxpx .gt_stub { color: #333333 !important; background-color: #FFFFFF !important; font-size: 100% !important; font-weight: initial !important; text-transform: inherit !important; border-right-style: solid !important; border-right-width: 2px !important; border-right-color: #D3D3D3 !important; padding-left: 5px !important; padding-right: 5px !important; }\n",
       " #uoutmolxpx .gt_stub_row_group { color: #333333 !important; background-color: #FFFFFF !important; font-size: 100% !important; font-weight: initial !important; text-transform: inherit !important; border-right-style: solid !important; border-right-width: 2px !important; border-right-color: #D3D3D3 !important; padding-left: 5px !important; padding-right: 5px !important; vertical-align: top !important; }\n",
       " #uoutmolxpx .gt_row_group_first td { border-top-width: 2px !important; }\n",
       " #uoutmolxpx .gt_row_group_first th { border-top-width: 2px !important; }\n",
       " #uoutmolxpx .gt_striped { background-color: rgba(128,128,128,0.05) !important; }\n",
       " #uoutmolxpx .gt_table_body { border-top-style: solid !important; border-top-width: 2px !important; border-top-color: #D3D3D3 !important; border-bottom-style: solid !important; border-bottom-width: 2px !important; border-bottom-color: #D3D3D3 !important; }\n",
       " #uoutmolxpx .gt_sourcenotes { color: #333333 !important; background-color: #FFFFFF !important; border-bottom-style: none !important; border-bottom-width: 2px !important; border-bottom-color: #D3D3D3 !important; border-left-style: none !important; border-left-width: 2px !important; border-left-color: #D3D3D3 !important; border-right-style: none !important; border-right-width: 2px !important; border-right-color: #D3D3D3 !important; }\n",
       " #uoutmolxpx .gt_sourcenote { font-size: small !important; padding-top: 3px !important; padding-bottom: 3px !important; padding-left: 5px !important; padding-right: 5px !important; text-align: left !important; }\n",
       " #uoutmolxpx .gt_left { text-align: left !important; }\n",
       " #uoutmolxpx .gt_center { text-align: center !important; }\n",
       " #uoutmolxpx .gt_right { text-align: right !important; font-variant-numeric: tabular-nums !important; }\n",
       " #uoutmolxpx .gt_font_normal { font-weight: normal !important; }\n",
       " #uoutmolxpx .gt_font_bold { font-weight: bold !important; }\n",
       " #uoutmolxpx .gt_font_italic { font-style: italic !important; }\n",
       " #uoutmolxpx .gt_super { font-size: 65% !important; }\n",
       " #uoutmolxpx .gt_footnote_marks { font-size: 75% !important; vertical-align: 0.4em !important; position: initial !important; }\n",
       " #uoutmolxpx .gt_asterisk { font-size: 100% !important; vertical-align: 0 !important; }\n",
       " \n",
       "</style>\n",
       "<table class=\"gt_table\" data-quarto-disable-processing=\"false\" data-quarto-bootstrap=\"false\">\n",
       "<thead>\n",
       "\n",
       "  <tr class=\"gt_heading\">\n",
       "    <td colspan=\"9\" class=\"gt_heading gt_title gt_font_normal\">Formula: lm(mpg~wt*cyl)</td>\n",
       "  </tr>\n",
       "  <tr class=\"gt_heading\">\n",
       "    <td colspan=\"9\" class=\"gt_heading gt_subtitle gt_font_normal gt_bottom_border\">Number of observations: <em>32</em><br />\n",
       "Confidence intervals: <em>parametric</em><br />\n",
       "---------------------<br />\n",
       "R-squared: <em>0.8616</em><br />\n",
       "R-squared-adj: <em>0.8349</em><br />\n",
       "<em>F(5, 26) = 32.362, p = &lt;.001</em><br />\n",
       "Log-likelihood: <em>-70</em><br />\n",
       "AIC: <em>155</em> | BIC: <em>165</em><br />\n",
       "Residual error: <em>2.449</em></td>\n",
       "  </tr>\n",
       "<tr class=\"gt_col_headings\">\n",
       "  <th class=\"gt_col_heading gt_columns_bottom_border gt_left\" rowspan=\"1\" colspan=\"1\" scope=\"col\" id=\"\"></th>\n",
       "  <th class=\"gt_col_heading gt_columns_bottom_border gt_right\" rowspan=\"1\" colspan=\"1\" scope=\"col\" id=\"estimate\">Estimate</th>\n",
       "  <th class=\"gt_col_heading gt_columns_bottom_border gt_right\" rowspan=\"1\" colspan=\"1\" scope=\"col\" id=\"conf_low\">CI-low</th>\n",
       "  <th class=\"gt_col_heading gt_columns_bottom_border gt_right\" rowspan=\"1\" colspan=\"1\" scope=\"col\" id=\"conf_high\">CI-high</th>\n",
       "  <th class=\"gt_col_heading gt_columns_bottom_border gt_right\" rowspan=\"1\" colspan=\"1\" scope=\"col\" id=\"std_error\">SE</th>\n",
       "  <th class=\"gt_col_heading gt_columns_bottom_border gt_right\" rowspan=\"1\" colspan=\"1\" scope=\"col\" id=\"t_stat\">T-stat</th>\n",
       "  <th class=\"gt_col_heading gt_columns_bottom_border gt_right\" rowspan=\"1\" colspan=\"1\" scope=\"col\" id=\"df\">df</th>\n",
       "  <th class=\"gt_col_heading gt_columns_bottom_border gt_left\" rowspan=\"1\" colspan=\"1\" scope=\"col\" id=\"p_value\">p</th>\n",
       "  <th class=\"gt_col_heading gt_columns_bottom_border gt_left\" rowspan=\"1\" colspan=\"1\" scope=\"col\" id=\"stars\"></th>\n",
       "</tr>\n",
       "</thead>\n",
       "<tbody class=\"gt_table_body\">\n",
       "  <tr>\n",
       "    <th style=\"font-style: italic;\" class=\"gt_row gt_left gt_stub\">(Intercept)</th>\n",
       "    <td class=\"gt_row gt_right\">19.227</td>\n",
       "    <td class=\"gt_row gt_right\">17.857</td>\n",
       "    <td class=\"gt_row gt_right\">20.598</td>\n",
       "    <td class=\"gt_row gt_right\">0.667</td>\n",
       "    <td class=\"gt_row gt_right\">28.836</td>\n",
       "    <td class=\"gt_row gt_right\">26</td>\n",
       "    <td class=\"gt_row gt_left\"><.001</td>\n",
       "    <td class=\"gt_row gt_left\">***</td>\n",
       "  </tr>\n",
       "  <tr>\n",
       "    <th style=\"font-style: italic;\" class=\"gt_row gt_left gt_stub\">wt</th>\n",
       "    <td class=\"gt_row gt_right\">−3.540</td>\n",
       "    <td class=\"gt_row gt_right\">−5.762</td>\n",
       "    <td class=\"gt_row gt_right\">−1.318</td>\n",
       "    <td class=\"gt_row gt_right\">1.081</td>\n",
       "    <td class=\"gt_row gt_right\">−3.275</td>\n",
       "    <td class=\"gt_row gt_right\">26</td>\n",
       "    <td class=\"gt_row gt_left\">0.002993</td>\n",
       "    <td class=\"gt_row gt_left\">**</td>\n",
       "  </tr>\n",
       "  <tr>\n",
       "    <th style=\"font-style: italic;\" class=\"gt_row gt_left gt_stub\">cyl1</th>\n",
       "    <td class=\"gt_row gt_right\">−3.245</td>\n",
       "    <td class=\"gt_row gt_right\">−5.790</td>\n",
       "    <td class=\"gt_row gt_right\">−0.700</td>\n",
       "    <td class=\"gt_row gt_right\">1.238</td>\n",
       "    <td class=\"gt_row gt_right\">−2.621</td>\n",
       "    <td class=\"gt_row gt_right\">26</td>\n",
       "    <td class=\"gt_row gt_left\">0.01446</td>\n",
       "    <td class=\"gt_row gt_left\">*</td>\n",
       "  </tr>\n",
       "  <tr>\n",
       "    <th style=\"font-style: italic;\" class=\"gt_row gt_left gt_stub\">cyl2</th>\n",
       "    <td class=\"gt_row gt_right\">−0.290</td>\n",
       "    <td class=\"gt_row gt_right\">−2.480</td>\n",
       "    <td class=\"gt_row gt_right\">1.899</td>\n",
       "    <td class=\"gt_row gt_right\">1.065</td>\n",
       "    <td class=\"gt_row gt_right\">−0.273</td>\n",
       "    <td class=\"gt_row gt_right\">26</td>\n",
       "    <td class=\"gt_row gt_left\">0.7873</td>\n",
       "    <td class=\"gt_row gt_left\"></td>\n",
       "  </tr>\n",
       "  <tr>\n",
       "    <th style=\"font-style: italic;\" class=\"gt_row gt_left gt_stub\">wt:cyl1</th>\n",
       "    <td class=\"gt_row gt_right\">2.443</td>\n",
       "    <td class=\"gt_row gt_right\">0.078</td>\n",
       "    <td class=\"gt_row gt_right\">4.808</td>\n",
       "    <td class=\"gt_row gt_right\">1.151</td>\n",
       "    <td class=\"gt_row gt_right\">2.123</td>\n",
       "    <td class=\"gt_row gt_right\">26</td>\n",
       "    <td class=\"gt_row gt_left\">0.04344</td>\n",
       "    <td class=\"gt_row gt_left\">*</td>\n",
       "  </tr>\n",
       "  <tr>\n",
       "    <th style=\"font-style: italic;\" class=\"gt_row gt_left gt_stub\">wt:cyl2</th>\n",
       "    <td class=\"gt_row gt_right\">−0.931</td>\n",
       "    <td class=\"gt_row gt_right\">−5.833</td>\n",
       "    <td class=\"gt_row gt_right\">3.972</td>\n",
       "    <td class=\"gt_row gt_right\">2.385</td>\n",
       "    <td class=\"gt_row gt_right\">−0.390</td>\n",
       "    <td class=\"gt_row gt_right\">26</td>\n",
       "    <td class=\"gt_row gt_left\">0.6996</td>\n",
       "    <td class=\"gt_row gt_left\"></td>\n",
       "  </tr>\n",
       "</tbody>\n",
       "  <tfoot class=\"gt_sourcenotes\">\n",
       "  \n",
       "  <tr>\n",
       "    <td class=\"gt_sourcenote\" colspan=\"9\">Signif. codes: <em>0 *** 0.001 ** 0.01 * 0.05 . 0.1</em></td>\n",
       "  </tr>\n",
       "\n",
       "</tfoot>\n",
       "\n",
       "</table>\n",
       "\n",
       "</div>\n",
       "        "
      ],
      "text/plain": [
       "GT(_tbl_data=shape: (6, 9)\n",
       "┌─────────────┬───────────┬───────────┬───────────┬───┬───────────┬─────┬──────────┬───────┐\n",
       "│ term        ┆ estimate  ┆ conf_low  ┆ conf_high ┆ … ┆ t_stat    ┆ df  ┆ p_value  ┆ stars │\n",
       "│ ---         ┆ ---       ┆ ---       ┆ ---       ┆   ┆ ---       ┆ --- ┆ ---      ┆ ---   │\n",
       "│ str         ┆ f64       ┆ f64       ┆ f64       ┆   ┆ f64       ┆ i32 ┆ str      ┆ str   │\n",
       "╞═════════════╪═══════════╪═══════════╪═══════════╪═══╪═══════════╪═════╪══════════╪═══════╡\n",
       "│ (Intercept) ┆ 19.22742  ┆ 17.856807 ┆ 20.598034 ┆ … ┆ 28.835643 ┆ 26  ┆ <.001    ┆ ***   │\n",
       "│ wt          ┆ -3.539856 ┆ -5.76193  ┆ -1.317783 ┆ … ┆ -3.274544 ┆ 26  ┆ 0.002993 ┆ **    │\n",
       "│ cyl1        ┆ -3.244839 ┆ -5.789933 ┆ -0.699746 ┆ … ┆ -2.620675 ┆ 26  ┆ 0.01446  ┆ *     │\n",
       "│ cyl2        ┆ -0.290422 ┆ -2.47994  ┆ 1.899097  ┆ … ┆ -0.272649 ┆ 26  ┆ 0.7873   ┆       │\n",
       "│ wt:cyl1     ┆ 2.442762  ┆ 0.077572  ┆ 4.807952  ┆ … ┆ 2.122946  ┆ 26  ┆ 0.04344  ┆ *     │\n",
       "│ wt:cyl2     ┆ -0.9305   ┆ -5.832699 ┆ 3.971698  ┆ … ┆ -0.390166 ┆ 26  ┆ 0.6996   ┆       │\n",
       "└─────────────┴───────────┴───────────┴───────────┴───┴───────────┴─────┴──────────┴───────┘, _body=<great_tables._gt_data.Body object at 0x137e30f80>, _boxhead=Boxhead([ColInfo(var='term', type=<ColInfoTypeEnum.stub: 2>, column_label='term', column_align='left', column_width=None), ColInfo(var='estimate', type=<ColInfoTypeEnum.default: 1>, column_label='Estimate', column_align='right', column_width=None), ColInfo(var='conf_low', type=<ColInfoTypeEnum.default: 1>, column_label='CI-low', column_align='right', column_width=None), ColInfo(var='conf_high', type=<ColInfoTypeEnum.default: 1>, column_label='CI-high', column_align='right', column_width=None), ColInfo(var='std_error', type=<ColInfoTypeEnum.default: 1>, column_label='SE', column_align='right', column_width=None), ColInfo(var='t_stat', type=<ColInfoTypeEnum.default: 1>, column_label='T-stat', column_align='right', column_width=None), ColInfo(var='df', type=<ColInfoTypeEnum.default: 1>, column_label='df', column_align='right', column_width=None), ColInfo(var='p_value', type=<ColInfoTypeEnum.default: 1>, column_label='p', column_align='left', column_width=None), ColInfo(var='stars', type=<ColInfoTypeEnum.default: 1>, column_label='', column_align='left', column_width=None)]), _stub=<great_tables._gt_data.Stub object at 0x176cd3ce0>, _spanners=Spanners([]), _heading=Heading(title='Formula: lm(mpg~wt*cyl)', subtitle=Md(text='Number of observations: *32*  \\n            Confidence intervals: *parametric*  \\n            ---------------------  \\n            R-squared: *0.8616*  \\n            R-squared-adj: *0.8349*  \\n            *F(5, 26) = 32.362, p = <.001*  \\n            Log-likelihood: *-70*  \\n            AIC: *155* | BIC: *165*  \\n            Residual error: *2.449*  \\n        '), preheader=None), _stubhead=None, _source_notes=[Md(text='Signif. codes: *0 *** 0.001 ** 0.01 * 0.05 . 0.1*')], _footnotes=[], _styles=[StyleInfo(locname=LocStub(rows=None), grpname=None, colname=None, rownum=0, colnum=None, styles=[CellStyleText(color=None, font=None, size=None, align=None, v_align=None, style='italic', weight=None, stretch=None, decorate=None, transform=None, whitespace=None)]), StyleInfo(locname=LocStub(rows=None), grpname=None, colname=None, rownum=1, colnum=None, styles=[CellStyleText(color=None, font=None, size=None, align=None, v_align=None, style='italic', weight=None, stretch=None, decorate=None, transform=None, whitespace=None)]), StyleInfo(locname=LocStub(rows=None), grpname=None, colname=None, rownum=2, colnum=None, styles=[CellStyleText(color=None, font=None, size=None, align=None, v_align=None, style='italic', weight=None, stretch=None, decorate=None, transform=None, whitespace=None)]), StyleInfo(locname=LocStub(rows=None), grpname=None, colname=None, rownum=3, colnum=None, styles=[CellStyleText(color=None, font=None, size=None, align=None, v_align=None, style='italic', weight=None, stretch=None, decorate=None, transform=None, whitespace=None)]), StyleInfo(locname=LocStub(rows=None), grpname=None, colname=None, rownum=4, colnum=None, styles=[CellStyleText(color=None, font=None, size=None, align=None, v_align=None, style='italic', weight=None, stretch=None, decorate=None, transform=None, whitespace=None)]), StyleInfo(locname=LocStub(rows=None), grpname=None, colname=None, rownum=5, colnum=None, styles=[CellStyleText(color=None, font=None, size=None, align=None, v_align=None, style='italic', weight=None, stretch=None, decorate=None, transform=None, whitespace=None)])], _locale=<great_tables._gt_data.Locale object at 0x11f54c410>, _formats=[<great_tables._gt_data.FormatInfo object at 0x125079610>, <great_tables._gt_data.FormatInfo object at 0x137ca6f00>], _substitutions=[], _options=Options(table_id=OptionsInfo(scss=False, category='table', type='value', value=None), table_caption=OptionsInfo(scss=False, category='table', type='value', value=None), table_width=OptionsInfo(scss=True, category='table', type='px', value='auto'), table_layout=OptionsInfo(scss=True, category='table', type='value', value='fixed'), table_margin_left=OptionsInfo(scss=True, category='table', type='px', value='auto'), table_margin_right=OptionsInfo(scss=True, category='table', type='px', value='auto'), table_background_color=OptionsInfo(scss=True, category='table', type='value', value='#FFFFFF'), table_additional_css=OptionsInfo(scss=False, category='table', type='values', value=[]), table_font_names=OptionsInfo(scss=False, category='table', type='values', value=['-apple-system', 'BlinkMacSystemFont', 'Segoe UI', 'Roboto', 'Oxygen', 'Ubuntu', 'Cantarell', 'Helvetica Neue', 'Fira Sans', 'Droid Sans', 'Arial', 'sans-serif']), table_font_size=OptionsInfo(scss=True, category='table', type='px', value='16px'), table_font_weight=OptionsInfo(scss=True, category='table', type='value', value='normal'), table_font_style=OptionsInfo(scss=True, category='table', type='value', value='normal'), table_font_color=OptionsInfo(scss=True, category='table', type='value', value='#333333'), table_font_color_light=OptionsInfo(scss=True, category='table', type='value', value='#FFFFFF'), table_border_top_include=OptionsInfo(scss=False, category='table', type='boolean', value=True), table_border_top_style=OptionsInfo(scss=True, category='table', type='value', value='solid'), table_border_top_width=OptionsInfo(scss=True, category='table', type='px', value='2px'), table_border_top_color=OptionsInfo(scss=True, category='table', type='value', value='#A8A8A8'), table_border_right_style=OptionsInfo(scss=True, category='table', type='value', value='none'), table_border_right_width=OptionsInfo(scss=True, category='table', type='px', value='2px'), table_border_right_color=OptionsInfo(scss=True, category='table', type='value', value='#D3D3D3'), table_border_bottom_include=OptionsInfo(scss=False, category='table', type='boolean', value=True), table_border_bottom_style=OptionsInfo(scss=True, category='table', type='value', value='solid'), table_border_bottom_width=OptionsInfo(scss=True, category='table', type='px', value='2px'), table_border_bottom_color=OptionsInfo(scss=True, category='table', type='value', value='#A8A8A8'), table_border_left_style=OptionsInfo(scss=True, category='table', type='value', value='none'), table_border_left_width=OptionsInfo(scss=True, category='table', type='px', value='2px'), table_border_left_color=OptionsInfo(scss=True, category='table', type='value', value='#D3D3D3'), heading_background_color=OptionsInfo(scss=True, category='heading', type='value', value=None), heading_align=OptionsInfo(scss=True, category='heading', type='value', value='left'), heading_title_font_size=OptionsInfo(scss=True, category='heading', type='px', value='125%'), heading_title_font_weight=OptionsInfo(scss=True, category='heading', type='value', value='initial'), heading_subtitle_font_size=OptionsInfo(scss=True, category='heading', type='px', value='85%'), heading_subtitle_font_weight=OptionsInfo(scss=True, category='heading', type='value', value='initial'), heading_padding=OptionsInfo(scss=True, category='heading', type='px', value='3px'), heading_padding_horizontal=OptionsInfo(scss=True, category='heading', type='px', value='5px'), heading_border_bottom_style=OptionsInfo(scss=True, category='heading', type='value', value='solid'), heading_border_bottom_width=OptionsInfo(scss=True, category='heading', type='px', value='2px'), heading_border_bottom_color=OptionsInfo(scss=True, category='heading', type='value', value='#D3D3D3'), heading_border_lr_style=OptionsInfo(scss=True, category='heading', type='value', value='none'), heading_border_lr_width=OptionsInfo(scss=True, category='heading', type='px', value='1px'), heading_border_lr_color=OptionsInfo(scss=True, category='heading', type='value', value='#D3D3D3'), column_labels_background_color=OptionsInfo(scss=True, category='column_labels', type='value', value=None), column_labels_font_size=OptionsInfo(scss=True, category='column_labels', type='px', value='100%'), column_labels_font_weight=OptionsInfo(scss=True, category='column_labels', type='value', value='normal'), column_labels_text_transform=OptionsInfo(scss=True, category='column_labels', type='value', value='inherit'), column_labels_padding=OptionsInfo(scss=True, category='column_labels', type='px', value='3px'), column_labels_padding_horizontal=OptionsInfo(scss=True, category='column_labels', type='px', value='5px'), column_labels_vlines_style=OptionsInfo(scss=True, category='table_body', type='value', value='none'), column_labels_vlines_width=OptionsInfo(scss=True, category='table_body', type='px', value='1px'), column_labels_vlines_color=OptionsInfo(scss=True, category='table_body', type='value', value='#D3D3D3'), column_labels_border_top_style=OptionsInfo(scss=True, category='column_labels', type='value', value='solid'), column_labels_border_top_width=OptionsInfo(scss=True, category='column_labels', type='px', value='2px'), column_labels_border_top_color=OptionsInfo(scss=True, category='column_labels', type='value', value='#D3D3D3'), column_labels_border_bottom_style=OptionsInfo(scss=True, category='column_labels', type='value', value='solid'), column_labels_border_bottom_width=OptionsInfo(scss=True, category='column_labels', type='px', value='2px'), column_labels_border_bottom_color=OptionsInfo(scss=True, category='column_labels', type='value', value='#D3D3D3'), column_labels_border_lr_style=OptionsInfo(scss=True, category='column_labels', type='value', value='none'), column_labels_border_lr_width=OptionsInfo(scss=True, category='column_labels', type='px', value='1px'), column_labels_border_lr_color=OptionsInfo(scss=True, category='column_labels', type='value', value='#D3D3D3'), column_labels_hidden=OptionsInfo(scss=False, category='column_labels', type='boolean', value=False), row_group_background_color=OptionsInfo(scss=True, category='row_group', type='value', value=None), row_group_font_size=OptionsInfo(scss=True, category='row_group', type='px', value='100%'), row_group_font_weight=OptionsInfo(scss=True, category='row_group', type='value', value='initial'), row_group_text_transform=OptionsInfo(scss=True, category='row_group', type='value', value='inherit'), row_group_padding=OptionsInfo(scss=True, category='row_group', type='px', value='6px'), row_group_padding_horizontal=OptionsInfo(scss=True, category='row_group', type='px', value='5px'), row_group_border_top_style=OptionsInfo(scss=True, category='row_group', type='value', value='solid'), row_group_border_top_width=OptionsInfo(scss=True, category='row_group', type='px', value='2px'), row_group_border_top_color=OptionsInfo(scss=True, category='row_group', type='value', value='#D3D3D3'), row_group_border_right_style=OptionsInfo(scss=True, category='row_group', type='value', value='none'), row_group_border_right_width=OptionsInfo(scss=True, category='row_group', type='px', value='1px'), row_group_border_right_color=OptionsInfo(scss=True, category='row_group', type='value', value='#D3D3D3'), row_group_border_bottom_style=OptionsInfo(scss=True, category='row_group', type='value', value='solid'), row_group_border_bottom_width=OptionsInfo(scss=True, category='row_group', type='px', value='2px'), row_group_border_bottom_color=OptionsInfo(scss=True, category='row_group', type='value', value='#D3D3D3'), row_group_border_left_style=OptionsInfo(scss=True, category='row_group', type='value', value='none'), row_group_border_left_width=OptionsInfo(scss=True, category='row_group', type='px', value='1px'), row_group_border_left_color=OptionsInfo(scss=True, category='row_group', type='value', value='#D3D3D3'), row_group_as_column=OptionsInfo(scss=False, category='row_group', type='boolean', value=False), table_body_hlines_style=OptionsInfo(scss=True, category='table_body', type='value', value='solid'), table_body_hlines_width=OptionsInfo(scss=True, category='table_body', type='px', value='1px'), table_body_hlines_color=OptionsInfo(scss=True, category='table_body', type='value', value='#D3D3D3'), table_body_vlines_style=OptionsInfo(scss=True, category='table_body', type='value', value='none'), table_body_vlines_width=OptionsInfo(scss=True, category='table_body', type='px', value='1px'), table_body_vlines_color=OptionsInfo(scss=True, category='table_body', type='value', value='#D3D3D3'), table_body_border_top_style=OptionsInfo(scss=True, category='table_body', type='value', value='solid'), table_body_border_top_width=OptionsInfo(scss=True, category='table_body', type='px', value='2px'), table_body_border_top_color=OptionsInfo(scss=True, category='table_body', type='value', value='#D3D3D3'), table_body_border_bottom_style=OptionsInfo(scss=True, category='table_body', type='value', value='solid'), table_body_border_bottom_width=OptionsInfo(scss=True, category='table_body', type='px', value='2px'), table_body_border_bottom_color=OptionsInfo(scss=True, category='table_body', type='value', value='#D3D3D3'), data_row_padding=OptionsInfo(scss=True, category='data_row', type='px', value='6px'), data_row_padding_horizontal=OptionsInfo(scss=True, category='data_row', type='px', value='5px'), stub_background_color=OptionsInfo(scss=True, category='stub', type='value', value=None), stub_font_size=OptionsInfo(scss=True, category='stub', type='px', value='100%'), stub_font_weight=OptionsInfo(scss=True, category='stub', type='value', value='initial'), stub_text_transform=OptionsInfo(scss=True, category='stub', type='value', value='inherit'), stub_border_style=OptionsInfo(scss=True, category='stub', type='value', value='solid'), stub_border_width=OptionsInfo(scss=True, category='stub', type='px', value='2px'), stub_border_color=OptionsInfo(scss=True, category='stub', type='value', value='#D3D3D3'), stub_row_group_background_color=OptionsInfo(scss=True, category='stub', type='value', value=None), stub_row_group_font_size=OptionsInfo(scss=True, category='stub', type='px', value='100%'), stub_row_group_font_weight=OptionsInfo(scss=True, category='stub', type='value', value='initial'), stub_row_group_text_transform=OptionsInfo(scss=True, category='stub', type='value', value='inherit'), stub_row_group_border_style=OptionsInfo(scss=True, category='stub', type='value', value='solid'), stub_row_group_border_width=OptionsInfo(scss=True, category='stub', type='px', value='2px'), stub_row_group_border_color=OptionsInfo(scss=True, category='stub', type='value', value='#D3D3D3'), source_notes_padding=OptionsInfo(scss=True, category='source_notes', type='px', value='3px'), source_notes_padding_horizontal=OptionsInfo(scss=True, category='source_notes', type='px', value='5px'), source_notes_background_color=OptionsInfo(scss=True, category='source_notes', type='value', value=None), source_notes_font_size=OptionsInfo(scss=True, category='source_notes', type='px', value='small'), source_notes_border_bottom_style=OptionsInfo(scss=True, category='source_notes', type='value', value='none'), source_notes_border_bottom_width=OptionsInfo(scss=True, category='source_notes', type='px', value='2px'), source_notes_border_bottom_color=OptionsInfo(scss=True, category='source_notes', type='value', value='#D3D3D3'), source_notes_border_lr_style=OptionsInfo(scss=True, category='source_notes', type='value', value='none'), source_notes_border_lr_width=OptionsInfo(scss=True, category='source_notes', type='px', value='2px'), source_notes_border_lr_color=OptionsInfo(scss=True, category='source_notes', type='value', value='#D3D3D3'), source_notes_multiline=OptionsInfo(scss=False, category='source_notes', type='boolean', value=True), source_notes_sep=OptionsInfo(scss=False, category='source_notes', type='value', value=' '), row_striping_background_color=OptionsInfo(scss=True, category='row', type='value', value='rgba(128,128,128,0.05)'), row_striping_include_stub=OptionsInfo(scss=False, category='row', type='boolean', value=False), row_striping_include_table_body=OptionsInfo(scss=False, category='row', type='boolean', value=False), container_width=OptionsInfo(scss=False, category='container', type='px', value='auto'), container_height=OptionsInfo(scss=False, category='container', type='px', value='auto'), container_padding_x=OptionsInfo(scss=False, category='container', type='px', value='0px'), container_padding_y=OptionsInfo(scss=False, category='container', type='px', value='10px'), container_overflow_x=OptionsInfo(scss=False, category='container', type='overflow', value='auto'), container_overflow_y=OptionsInfo(scss=False, category='container', type='overflow', value='auto'), quarto_disable_processing=OptionsInfo(scss=False, category='quarto', type='logical', value=False), quarto_use_bootstrap=OptionsInfo(scss=False, category='quarto', type='logical', value=False)), _has_built=False)"
      ]
     },
     "execution_count": 14,
     "metadata": {},
     "output_type": "execute_result"
    }
   ],
   "source": [
    "model.fit(summary=True)"
   ]
  },
  {
   "cell_type": "markdown",
   "metadata": {},
   "source": [
    "The various `.set_*`, `.show_*`, and `.unset_*` methods make it very easy to *re-parameterize* a model and re-fit it. For example, we can verify that our custom linear hypothesis is equivalent to using the built-in `contr.poly` coding which estimates $k-1$ polynomial trends for any $k$ level predictor.\n",
    "\n",
    "Although named differently, all the parameter estimates are the same:"
   ]
  },
  {
   "cell_type": "code",
   "execution_count": 15,
   "metadata": {},
   "outputs": [
    {
     "data": {
      "text/html": [
       "<div id=\"pggqweatof\" style=\"padding-left:0px;padding-right:0px;padding-top:10px;padding-bottom:10px;overflow-x:auto;overflow-y:auto;width:auto;height:auto;\">\n",
       "<style>\n",
       "#pggqweatof table {\n",
       "          font-family: -apple-system, BlinkMacSystemFont, 'Segoe UI', Roboto, Oxygen, Ubuntu, Cantarell, 'Helvetica Neue', 'Fira Sans', 'Droid Sans', Arial, sans-serif;\n",
       "          -webkit-font-smoothing: antialiased;\n",
       "          -moz-osx-font-smoothing: grayscale;\n",
       "        }\n",
       "\n",
       "#pggqweatof thead, tbody, tfoot, tr, td, th { border-style: none !important; }\n",
       " tr { background-color: transparent !important; }\n",
       "#pggqweatof p { margin: 0 !important; padding: 0 !important; }\n",
       " #pggqweatof .gt_table { display: table !important; border-collapse: collapse !important; line-height: normal !important; margin-left: auto !important; margin-right: auto !important; color: #333333 !important; font-size: 16px !important; font-weight: normal !important; font-style: normal !important; background-color: #FFFFFF !important; width: auto !important; border-top-style: solid !important; border-top-width: 2px !important; border-top-color: #A8A8A8 !important; border-right-style: none !important; border-right-width: 2px !important; border-right-color: #D3D3D3 !important; border-bottom-style: solid !important; border-bottom-width: 2px !important; border-bottom-color: #A8A8A8 !important; border-left-style: none !important; border-left-width: 2px !important; border-left-color: #D3D3D3 !important; }\n",
       " #pggqweatof .gt_caption { padding-top: 4px !important; padding-bottom: 4px !important; }\n",
       " #pggqweatof .gt_title { color: #333333 !important; font-size: 125% !important; font-weight: initial !important; padding-top: 3px !important; padding-bottom: 3px !important; padding-left: 5px !important; padding-right: 5px !important; border-bottom-color: #FFFFFF !important; border-bottom-width: 0 !important; }\n",
       " #pggqweatof .gt_subtitle { color: #333333 !important; font-size: 85% !important; font-weight: initial !important; padding-top: 2px !important; padding-bottom: 4px !important; padding-left: 5px !important; padding-right: 5px !important; border-top-color: #FFFFFF !important; border-top-width: 0 !important; }\n",
       " #pggqweatof .gt_heading { background-color: #FFFFFF !important; text-align: left !important; border-bottom-color: #FFFFFF !important; border-left-style: none !important; border-left-width: 1px !important; border-left-color: #D3D3D3 !important; border-right-style: none !important; border-right-width: 1px !important; border-right-color: #D3D3D3 !important; }\n",
       " #pggqweatof .gt_bottom_border { border-bottom-style: solid !important; border-bottom-width: 2px !important; border-bottom-color: #D3D3D3 !important; }\n",
       " #pggqweatof .gt_col_headings { border-top-style: solid !important; border-top-width: 2px !important; border-top-color: #D3D3D3 !important; border-bottom-style: solid !important; border-bottom-width: 2px !important; border-bottom-color: #D3D3D3 !important; border-left-style: none !important; border-left-width: 1px !important; border-left-color: #D3D3D3 !important; border-right-style: none !important; border-right-width: 1px !important; border-right-color: #D3D3D3 !important; }\n",
       " #pggqweatof .gt_col_heading { color: #333333 !important; background-color: #FFFFFF !important; font-size: 100% !important; font-weight: normal !important; text-transform: inherit !important; border-left-style: none !important; border-left-width: 1px !important; border-left-color: #D3D3D3 !important; border-right-style: none !important; border-right-width: 1px !important; border-right-color: #D3D3D3 !important; vertical-align: bottom !important; padding-top: 3px !important; padding-bottom: 4px !important; padding-left: 5px !important; padding-right: 5px !important; overflow-x: hidden !important; }\n",
       " #pggqweatof .gt_column_spanner_outer { color: #333333 !important; background-color: #FFFFFF !important; font-size: 100% !important; font-weight: normal !important; text-transform: inherit !important; padding-top: 0 !important; padding-bottom: 0 !important; padding-left: 4px !important; padding-right: 4px !important; }\n",
       " #pggqweatof .gt_column_spanner_outer:first-child { padding-left: 0 !important; }\n",
       " #pggqweatof .gt_column_spanner_outer:last-child { padding-right: 0 !important; }\n",
       " #pggqweatof .gt_column_spanner { border-bottom-style: solid !important; border-bottom-width: 2px !important; border-bottom-color: #D3D3D3 !important; vertical-align: bottom !important; padding-top: 3px !important; padding-bottom: 3px !important; overflow-x: hidden !important; display: inline-block !important; width: 100% !important; }\n",
       " #pggqweatof .gt_spanner_row { border-bottom-style: hidden !important; }\n",
       " #pggqweatof .gt_group_heading { padding-top: 6px !important; padding-bottom: 6px !important; padding-left: 5px !important; padding-right: 5px !important; color: #333333 !important; background-color: #FFFFFF !important; font-size: 100% !important; font-weight: initial !important; text-transform: inherit !important; border-top-style: solid !important; border-top-width: 2px !important; border-top-color: #D3D3D3 !important; border-bottom-style: solid !important; border-bottom-width: 2px !important; border-bottom-color: #D3D3D3 !important; border-left-style: none !important; border-left-width: 1px !important; border-left-color: #D3D3D3 !important; border-right-style: none !important; border-right-width: 1px !important; border-right-color: #D3D3D3 !important; vertical-align: middle !important; text-align: left !important; }\n",
       " #pggqweatof .gt_empty_group_heading { padding: 0.5px !important; color: #333333 !important; background-color: #FFFFFF !important; font-size: 100% !important; font-weight: initial !important; border-top-style: solid !important; border-top-width: 2px !important; border-top-color: #D3D3D3 !important; border-bottom-style: solid !important; border-bottom-width: 2px !important; border-bottom-color: #D3D3D3 !important; vertical-align: middle !important; }\n",
       " #pggqweatof .gt_from_md> :first-child { margin-top: 0 !important; }\n",
       " #pggqweatof .gt_from_md> :last-child { margin-bottom: 0 !important; }\n",
       " #pggqweatof .gt_row { padding-top: 6px !important; padding-bottom: 6px !important; padding-left: 5px !important; padding-right: 5px !important; margin: 10px !important; border-top-style: solid !important; border-top-width: 1px !important; border-top-color: #D3D3D3 !important; border-left-style: none !important; border-left-width: 1px !important; border-left-color: #D3D3D3 !important; border-right-style: none !important; border-right-width: 1px !important; border-right-color: #D3D3D3 !important; vertical-align: middle !important; overflow-x: hidden !important; }\n",
       " #pggqweatof .gt_stub { color: #333333 !important; background-color: #FFFFFF !important; font-size: 100% !important; font-weight: initial !important; text-transform: inherit !important; border-right-style: solid !important; border-right-width: 2px !important; border-right-color: #D3D3D3 !important; padding-left: 5px !important; padding-right: 5px !important; }\n",
       " #pggqweatof .gt_stub_row_group { color: #333333 !important; background-color: #FFFFFF !important; font-size: 100% !important; font-weight: initial !important; text-transform: inherit !important; border-right-style: solid !important; border-right-width: 2px !important; border-right-color: #D3D3D3 !important; padding-left: 5px !important; padding-right: 5px !important; vertical-align: top !important; }\n",
       " #pggqweatof .gt_row_group_first td { border-top-width: 2px !important; }\n",
       " #pggqweatof .gt_row_group_first th { border-top-width: 2px !important; }\n",
       " #pggqweatof .gt_striped { background-color: rgba(128,128,128,0.05) !important; }\n",
       " #pggqweatof .gt_table_body { border-top-style: solid !important; border-top-width: 2px !important; border-top-color: #D3D3D3 !important; border-bottom-style: solid !important; border-bottom-width: 2px !important; border-bottom-color: #D3D3D3 !important; }\n",
       " #pggqweatof .gt_sourcenotes { color: #333333 !important; background-color: #FFFFFF !important; border-bottom-style: none !important; border-bottom-width: 2px !important; border-bottom-color: #D3D3D3 !important; border-left-style: none !important; border-left-width: 2px !important; border-left-color: #D3D3D3 !important; border-right-style: none !important; border-right-width: 2px !important; border-right-color: #D3D3D3 !important; }\n",
       " #pggqweatof .gt_sourcenote { font-size: small !important; padding-top: 3px !important; padding-bottom: 3px !important; padding-left: 5px !important; padding-right: 5px !important; text-align: left !important; }\n",
       " #pggqweatof .gt_left { text-align: left !important; }\n",
       " #pggqweatof .gt_center { text-align: center !important; }\n",
       " #pggqweatof .gt_right { text-align: right !important; font-variant-numeric: tabular-nums !important; }\n",
       " #pggqweatof .gt_font_normal { font-weight: normal !important; }\n",
       " #pggqweatof .gt_font_bold { font-weight: bold !important; }\n",
       " #pggqweatof .gt_font_italic { font-style: italic !important; }\n",
       " #pggqweatof .gt_super { font-size: 65% !important; }\n",
       " #pggqweatof .gt_footnote_marks { font-size: 75% !important; vertical-align: 0.4em !important; position: initial !important; }\n",
       " #pggqweatof .gt_asterisk { font-size: 100% !important; vertical-align: 0 !important; }\n",
       " \n",
       "</style>\n",
       "<table class=\"gt_table\" data-quarto-disable-processing=\"false\" data-quarto-bootstrap=\"false\">\n",
       "<thead>\n",
       "\n",
       "  <tr class=\"gt_heading\">\n",
       "    <td colspan=\"9\" class=\"gt_heading gt_title gt_font_normal\">Formula: lm(mpg~wt*cyl)</td>\n",
       "  </tr>\n",
       "  <tr class=\"gt_heading\">\n",
       "    <td colspan=\"9\" class=\"gt_heading gt_subtitle gt_font_normal gt_bottom_border\">Number of observations: <em>32</em><br />\n",
       "Confidence intervals: <em>parametric</em><br />\n",
       "---------------------<br />\n",
       "R-squared: <em>0.8616</em><br />\n",
       "R-squared-adj: <em>0.8349</em><br />\n",
       "<em>F(5, 26) = 32.362, p = &lt;.001</em><br />\n",
       "Log-likelihood: <em>-70</em><br />\n",
       "AIC: <em>155</em> | BIC: <em>165</em><br />\n",
       "Residual error: <em>2.449</em></td>\n",
       "  </tr>\n",
       "<tr class=\"gt_col_headings\">\n",
       "  <th class=\"gt_col_heading gt_columns_bottom_border gt_left\" rowspan=\"1\" colspan=\"1\" scope=\"col\" id=\"\"></th>\n",
       "  <th class=\"gt_col_heading gt_columns_bottom_border gt_right\" rowspan=\"1\" colspan=\"1\" scope=\"col\" id=\"estimate\">Estimate</th>\n",
       "  <th class=\"gt_col_heading gt_columns_bottom_border gt_right\" rowspan=\"1\" colspan=\"1\" scope=\"col\" id=\"conf_low\">CI-low</th>\n",
       "  <th class=\"gt_col_heading gt_columns_bottom_border gt_right\" rowspan=\"1\" colspan=\"1\" scope=\"col\" id=\"conf_high\">CI-high</th>\n",
       "  <th class=\"gt_col_heading gt_columns_bottom_border gt_right\" rowspan=\"1\" colspan=\"1\" scope=\"col\" id=\"std_error\">SE</th>\n",
       "  <th class=\"gt_col_heading gt_columns_bottom_border gt_right\" rowspan=\"1\" colspan=\"1\" scope=\"col\" id=\"t_stat\">T-stat</th>\n",
       "  <th class=\"gt_col_heading gt_columns_bottom_border gt_right\" rowspan=\"1\" colspan=\"1\" scope=\"col\" id=\"df\">df</th>\n",
       "  <th class=\"gt_col_heading gt_columns_bottom_border gt_left\" rowspan=\"1\" colspan=\"1\" scope=\"col\" id=\"p_value\">p</th>\n",
       "  <th class=\"gt_col_heading gt_columns_bottom_border gt_left\" rowspan=\"1\" colspan=\"1\" scope=\"col\" id=\"stars\"></th>\n",
       "</tr>\n",
       "</thead>\n",
       "<tbody class=\"gt_table_body\">\n",
       "  <tr>\n",
       "    <th style=\"font-style: italic;\" class=\"gt_row gt_left gt_stub\">(Intercept)</th>\n",
       "    <td class=\"gt_row gt_right\">19.227</td>\n",
       "    <td class=\"gt_row gt_right\">17.857</td>\n",
       "    <td class=\"gt_row gt_right\">20.598</td>\n",
       "    <td class=\"gt_row gt_right\">0.667</td>\n",
       "    <td class=\"gt_row gt_right\">28.836</td>\n",
       "    <td class=\"gt_row gt_right\">26</td>\n",
       "    <td class=\"gt_row gt_left\"><.001</td>\n",
       "    <td class=\"gt_row gt_left\">***</td>\n",
       "  </tr>\n",
       "  <tr>\n",
       "    <th style=\"font-style: italic;\" class=\"gt_row gt_left gt_stub\">wt</th>\n",
       "    <td class=\"gt_row gt_right\">−3.540</td>\n",
       "    <td class=\"gt_row gt_right\">−5.762</td>\n",
       "    <td class=\"gt_row gt_right\">−1.318</td>\n",
       "    <td class=\"gt_row gt_right\">1.081</td>\n",
       "    <td class=\"gt_row gt_right\">−3.275</td>\n",
       "    <td class=\"gt_row gt_right\">26</td>\n",
       "    <td class=\"gt_row gt_left\">0.002993</td>\n",
       "    <td class=\"gt_row gt_left\">**</td>\n",
       "  </tr>\n",
       "  <tr>\n",
       "    <th style=\"font-style: italic;\" class=\"gt_row gt_left gt_stub\">cyl.L</th>\n",
       "    <td class=\"gt_row gt_right\">−3.245</td>\n",
       "    <td class=\"gt_row gt_right\">−5.790</td>\n",
       "    <td class=\"gt_row gt_right\">−0.700</td>\n",
       "    <td class=\"gt_row gt_right\">1.238</td>\n",
       "    <td class=\"gt_row gt_right\">−2.621</td>\n",
       "    <td class=\"gt_row gt_right\">26</td>\n",
       "    <td class=\"gt_row gt_left\">0.01446</td>\n",
       "    <td class=\"gt_row gt_left\">*</td>\n",
       "  </tr>\n",
       "  <tr>\n",
       "    <th style=\"font-style: italic;\" class=\"gt_row gt_left gt_stub\">cyl.Q</th>\n",
       "    <td class=\"gt_row gt_right\">−0.290</td>\n",
       "    <td class=\"gt_row gt_right\">−2.480</td>\n",
       "    <td class=\"gt_row gt_right\">1.899</td>\n",
       "    <td class=\"gt_row gt_right\">1.065</td>\n",
       "    <td class=\"gt_row gt_right\">−0.273</td>\n",
       "    <td class=\"gt_row gt_right\">26</td>\n",
       "    <td class=\"gt_row gt_left\">0.7873</td>\n",
       "    <td class=\"gt_row gt_left\"></td>\n",
       "  </tr>\n",
       "  <tr>\n",
       "    <th style=\"font-style: italic;\" class=\"gt_row gt_left gt_stub\">wt:cyl.L</th>\n",
       "    <td class=\"gt_row gt_right\">2.443</td>\n",
       "    <td class=\"gt_row gt_right\">0.078</td>\n",
       "    <td class=\"gt_row gt_right\">4.808</td>\n",
       "    <td class=\"gt_row gt_right\">1.151</td>\n",
       "    <td class=\"gt_row gt_right\">2.123</td>\n",
       "    <td class=\"gt_row gt_right\">26</td>\n",
       "    <td class=\"gt_row gt_left\">0.04344</td>\n",
       "    <td class=\"gt_row gt_left\">*</td>\n",
       "  </tr>\n",
       "  <tr>\n",
       "    <th style=\"font-style: italic;\" class=\"gt_row gt_left gt_stub\">wt:cyl.Q</th>\n",
       "    <td class=\"gt_row gt_right\">−0.931</td>\n",
       "    <td class=\"gt_row gt_right\">−5.833</td>\n",
       "    <td class=\"gt_row gt_right\">3.972</td>\n",
       "    <td class=\"gt_row gt_right\">2.385</td>\n",
       "    <td class=\"gt_row gt_right\">−0.390</td>\n",
       "    <td class=\"gt_row gt_right\">26</td>\n",
       "    <td class=\"gt_row gt_left\">0.6996</td>\n",
       "    <td class=\"gt_row gt_left\"></td>\n",
       "  </tr>\n",
       "</tbody>\n",
       "  <tfoot class=\"gt_sourcenotes\">\n",
       "  \n",
       "  <tr>\n",
       "    <td class=\"gt_sourcenote\" colspan=\"9\">Signif. codes: <em>0 *** 0.001 ** 0.01 * 0.05 . 0.1</em></td>\n",
       "  </tr>\n",
       "\n",
       "</tfoot>\n",
       "\n",
       "</table>\n",
       "\n",
       "</div>\n",
       "        "
      ],
      "text/plain": [
       "GT(_tbl_data=shape: (6, 9)\n",
       "┌─────────────┬───────────┬───────────┬───────────┬───┬───────────┬─────┬──────────┬───────┐\n",
       "│ term        ┆ estimate  ┆ conf_low  ┆ conf_high ┆ … ┆ t_stat    ┆ df  ┆ p_value  ┆ stars │\n",
       "│ ---         ┆ ---       ┆ ---       ┆ ---       ┆   ┆ ---       ┆ --- ┆ ---      ┆ ---   │\n",
       "│ str         ┆ f64       ┆ f64       ┆ f64       ┆   ┆ f64       ┆ i32 ┆ str      ┆ str   │\n",
       "╞═════════════╪═══════════╪═══════════╪═══════════╪═══╪═══════════╪═════╪══════════╪═══════╡\n",
       "│ (Intercept) ┆ 19.22742  ┆ 17.856807 ┆ 20.598034 ┆ … ┆ 28.835643 ┆ 26  ┆ <.001    ┆ ***   │\n",
       "│ wt          ┆ -3.539856 ┆ -5.76193  ┆ -1.317783 ┆ … ┆ -3.274544 ┆ 26  ┆ 0.002993 ┆ **    │\n",
       "│ cyl.L       ┆ -3.244839 ┆ -5.789933 ┆ -0.699746 ┆ … ┆ -2.620675 ┆ 26  ┆ 0.01446  ┆ *     │\n",
       "│ cyl.Q       ┆ -0.290422 ┆ -2.47994  ┆ 1.899097  ┆ … ┆ -0.272649 ┆ 26  ┆ 0.7873   ┆       │\n",
       "│ wt:cyl.L    ┆ 2.442762  ┆ 0.077572  ┆ 4.807952  ┆ … ┆ 2.122946  ┆ 26  ┆ 0.04344  ┆ *     │\n",
       "│ wt:cyl.Q    ┆ -0.9305   ┆ -5.832699 ┆ 3.971698  ┆ … ┆ -0.390166 ┆ 26  ┆ 0.6996   ┆       │\n",
       "└─────────────┴───────────┴───────────┴───────────┴───┴───────────┴─────┴──────────┴───────┘, _body=<great_tables._gt_data.Body object at 0x12506ff20>, _boxhead=Boxhead([ColInfo(var='term', type=<ColInfoTypeEnum.stub: 2>, column_label='term', column_align='left', column_width=None), ColInfo(var='estimate', type=<ColInfoTypeEnum.default: 1>, column_label='Estimate', column_align='right', column_width=None), ColInfo(var='conf_low', type=<ColInfoTypeEnum.default: 1>, column_label='CI-low', column_align='right', column_width=None), ColInfo(var='conf_high', type=<ColInfoTypeEnum.default: 1>, column_label='CI-high', column_align='right', column_width=None), ColInfo(var='std_error', type=<ColInfoTypeEnum.default: 1>, column_label='SE', column_align='right', column_width=None), ColInfo(var='t_stat', type=<ColInfoTypeEnum.default: 1>, column_label='T-stat', column_align='right', column_width=None), ColInfo(var='df', type=<ColInfoTypeEnum.default: 1>, column_label='df', column_align='right', column_width=None), ColInfo(var='p_value', type=<ColInfoTypeEnum.default: 1>, column_label='p', column_align='left', column_width=None), ColInfo(var='stars', type=<ColInfoTypeEnum.default: 1>, column_label='', column_align='left', column_width=None)]), _stub=<great_tables._gt_data.Stub object at 0x176d8c4d0>, _spanners=Spanners([]), _heading=Heading(title='Formula: lm(mpg~wt*cyl)', subtitle=Md(text='Number of observations: *32*  \\n            Confidence intervals: *parametric*  \\n            ---------------------  \\n            R-squared: *0.8616*  \\n            R-squared-adj: *0.8349*  \\n            *F(5, 26) = 32.362, p = <.001*  \\n            Log-likelihood: *-70*  \\n            AIC: *155* | BIC: *165*  \\n            Residual error: *2.449*  \\n        '), preheader=None), _stubhead=None, _source_notes=[Md(text='Signif. codes: *0 *** 0.001 ** 0.01 * 0.05 . 0.1*')], _footnotes=[], _styles=[StyleInfo(locname=LocStub(rows=None), grpname=None, colname=None, rownum=0, colnum=None, styles=[CellStyleText(color=None, font=None, size=None, align=None, v_align=None, style='italic', weight=None, stretch=None, decorate=None, transform=None, whitespace=None)]), StyleInfo(locname=LocStub(rows=None), grpname=None, colname=None, rownum=1, colnum=None, styles=[CellStyleText(color=None, font=None, size=None, align=None, v_align=None, style='italic', weight=None, stretch=None, decorate=None, transform=None, whitespace=None)]), StyleInfo(locname=LocStub(rows=None), grpname=None, colname=None, rownum=2, colnum=None, styles=[CellStyleText(color=None, font=None, size=None, align=None, v_align=None, style='italic', weight=None, stretch=None, decorate=None, transform=None, whitespace=None)]), StyleInfo(locname=LocStub(rows=None), grpname=None, colname=None, rownum=3, colnum=None, styles=[CellStyleText(color=None, font=None, size=None, align=None, v_align=None, style='italic', weight=None, stretch=None, decorate=None, transform=None, whitespace=None)]), StyleInfo(locname=LocStub(rows=None), grpname=None, colname=None, rownum=4, colnum=None, styles=[CellStyleText(color=None, font=None, size=None, align=None, v_align=None, style='italic', weight=None, stretch=None, decorate=None, transform=None, whitespace=None)]), StyleInfo(locname=LocStub(rows=None), grpname=None, colname=None, rownum=5, colnum=None, styles=[CellStyleText(color=None, font=None, size=None, align=None, v_align=None, style='italic', weight=None, stretch=None, decorate=None, transform=None, whitespace=None)])], _locale=<great_tables._gt_data.Locale object at 0x176d36c30>, _formats=[<great_tables._gt_data.FormatInfo object at 0x176d37a10>, <great_tables._gt_data.FormatInfo object at 0x176d35e80>], _substitutions=[], _options=Options(table_id=OptionsInfo(scss=False, category='table', type='value', value=None), table_caption=OptionsInfo(scss=False, category='table', type='value', value=None), table_width=OptionsInfo(scss=True, category='table', type='px', value='auto'), table_layout=OptionsInfo(scss=True, category='table', type='value', value='fixed'), table_margin_left=OptionsInfo(scss=True, category='table', type='px', value='auto'), table_margin_right=OptionsInfo(scss=True, category='table', type='px', value='auto'), table_background_color=OptionsInfo(scss=True, category='table', type='value', value='#FFFFFF'), table_additional_css=OptionsInfo(scss=False, category='table', type='values', value=[]), table_font_names=OptionsInfo(scss=False, category='table', type='values', value=['-apple-system', 'BlinkMacSystemFont', 'Segoe UI', 'Roboto', 'Oxygen', 'Ubuntu', 'Cantarell', 'Helvetica Neue', 'Fira Sans', 'Droid Sans', 'Arial', 'sans-serif']), table_font_size=OptionsInfo(scss=True, category='table', type='px', value='16px'), table_font_weight=OptionsInfo(scss=True, category='table', type='value', value='normal'), table_font_style=OptionsInfo(scss=True, category='table', type='value', value='normal'), table_font_color=OptionsInfo(scss=True, category='table', type='value', value='#333333'), table_font_color_light=OptionsInfo(scss=True, category='table', type='value', value='#FFFFFF'), table_border_top_include=OptionsInfo(scss=False, category='table', type='boolean', value=True), table_border_top_style=OptionsInfo(scss=True, category='table', type='value', value='solid'), table_border_top_width=OptionsInfo(scss=True, category='table', type='px', value='2px'), table_border_top_color=OptionsInfo(scss=True, category='table', type='value', value='#A8A8A8'), table_border_right_style=OptionsInfo(scss=True, category='table', type='value', value='none'), table_border_right_width=OptionsInfo(scss=True, category='table', type='px', value='2px'), table_border_right_color=OptionsInfo(scss=True, category='table', type='value', value='#D3D3D3'), table_border_bottom_include=OptionsInfo(scss=False, category='table', type='boolean', value=True), table_border_bottom_style=OptionsInfo(scss=True, category='table', type='value', value='solid'), table_border_bottom_width=OptionsInfo(scss=True, category='table', type='px', value='2px'), table_border_bottom_color=OptionsInfo(scss=True, category='table', type='value', value='#A8A8A8'), table_border_left_style=OptionsInfo(scss=True, category='table', type='value', value='none'), table_border_left_width=OptionsInfo(scss=True, category='table', type='px', value='2px'), table_border_left_color=OptionsInfo(scss=True, category='table', type='value', value='#D3D3D3'), heading_background_color=OptionsInfo(scss=True, category='heading', type='value', value=None), heading_align=OptionsInfo(scss=True, category='heading', type='value', value='left'), heading_title_font_size=OptionsInfo(scss=True, category='heading', type='px', value='125%'), heading_title_font_weight=OptionsInfo(scss=True, category='heading', type='value', value='initial'), heading_subtitle_font_size=OptionsInfo(scss=True, category='heading', type='px', value='85%'), heading_subtitle_font_weight=OptionsInfo(scss=True, category='heading', type='value', value='initial'), heading_padding=OptionsInfo(scss=True, category='heading', type='px', value='3px'), heading_padding_horizontal=OptionsInfo(scss=True, category='heading', type='px', value='5px'), heading_border_bottom_style=OptionsInfo(scss=True, category='heading', type='value', value='solid'), heading_border_bottom_width=OptionsInfo(scss=True, category='heading', type='px', value='2px'), heading_border_bottom_color=OptionsInfo(scss=True, category='heading', type='value', value='#D3D3D3'), heading_border_lr_style=OptionsInfo(scss=True, category='heading', type='value', value='none'), heading_border_lr_width=OptionsInfo(scss=True, category='heading', type='px', value='1px'), heading_border_lr_color=OptionsInfo(scss=True, category='heading', type='value', value='#D3D3D3'), column_labels_background_color=OptionsInfo(scss=True, category='column_labels', type='value', value=None), column_labels_font_size=OptionsInfo(scss=True, category='column_labels', type='px', value='100%'), column_labels_font_weight=OptionsInfo(scss=True, category='column_labels', type='value', value='normal'), column_labels_text_transform=OptionsInfo(scss=True, category='column_labels', type='value', value='inherit'), column_labels_padding=OptionsInfo(scss=True, category='column_labels', type='px', value='3px'), column_labels_padding_horizontal=OptionsInfo(scss=True, category='column_labels', type='px', value='5px'), column_labels_vlines_style=OptionsInfo(scss=True, category='table_body', type='value', value='none'), column_labels_vlines_width=OptionsInfo(scss=True, category='table_body', type='px', value='1px'), column_labels_vlines_color=OptionsInfo(scss=True, category='table_body', type='value', value='#D3D3D3'), column_labels_border_top_style=OptionsInfo(scss=True, category='column_labels', type='value', value='solid'), column_labels_border_top_width=OptionsInfo(scss=True, category='column_labels', type='px', value='2px'), column_labels_border_top_color=OptionsInfo(scss=True, category='column_labels', type='value', value='#D3D3D3'), column_labels_border_bottom_style=OptionsInfo(scss=True, category='column_labels', type='value', value='solid'), column_labels_border_bottom_width=OptionsInfo(scss=True, category='column_labels', type='px', value='2px'), column_labels_border_bottom_color=OptionsInfo(scss=True, category='column_labels', type='value', value='#D3D3D3'), column_labels_border_lr_style=OptionsInfo(scss=True, category='column_labels', type='value', value='none'), column_labels_border_lr_width=OptionsInfo(scss=True, category='column_labels', type='px', value='1px'), column_labels_border_lr_color=OptionsInfo(scss=True, category='column_labels', type='value', value='#D3D3D3'), column_labels_hidden=OptionsInfo(scss=False, category='column_labels', type='boolean', value=False), row_group_background_color=OptionsInfo(scss=True, category='row_group', type='value', value=None), row_group_font_size=OptionsInfo(scss=True, category='row_group', type='px', value='100%'), row_group_font_weight=OptionsInfo(scss=True, category='row_group', type='value', value='initial'), row_group_text_transform=OptionsInfo(scss=True, category='row_group', type='value', value='inherit'), row_group_padding=OptionsInfo(scss=True, category='row_group', type='px', value='6px'), row_group_padding_horizontal=OptionsInfo(scss=True, category='row_group', type='px', value='5px'), row_group_border_top_style=OptionsInfo(scss=True, category='row_group', type='value', value='solid'), row_group_border_top_width=OptionsInfo(scss=True, category='row_group', type='px', value='2px'), row_group_border_top_color=OptionsInfo(scss=True, category='row_group', type='value', value='#D3D3D3'), row_group_border_right_style=OptionsInfo(scss=True, category='row_group', type='value', value='none'), row_group_border_right_width=OptionsInfo(scss=True, category='row_group', type='px', value='1px'), row_group_border_right_color=OptionsInfo(scss=True, category='row_group', type='value', value='#D3D3D3'), row_group_border_bottom_style=OptionsInfo(scss=True, category='row_group', type='value', value='solid'), row_group_border_bottom_width=OptionsInfo(scss=True, category='row_group', type='px', value='2px'), row_group_border_bottom_color=OptionsInfo(scss=True, category='row_group', type='value', value='#D3D3D3'), row_group_border_left_style=OptionsInfo(scss=True, category='row_group', type='value', value='none'), row_group_border_left_width=OptionsInfo(scss=True, category='row_group', type='px', value='1px'), row_group_border_left_color=OptionsInfo(scss=True, category='row_group', type='value', value='#D3D3D3'), row_group_as_column=OptionsInfo(scss=False, category='row_group', type='boolean', value=False), table_body_hlines_style=OptionsInfo(scss=True, category='table_body', type='value', value='solid'), table_body_hlines_width=OptionsInfo(scss=True, category='table_body', type='px', value='1px'), table_body_hlines_color=OptionsInfo(scss=True, category='table_body', type='value', value='#D3D3D3'), table_body_vlines_style=OptionsInfo(scss=True, category='table_body', type='value', value='none'), table_body_vlines_width=OptionsInfo(scss=True, category='table_body', type='px', value='1px'), table_body_vlines_color=OptionsInfo(scss=True, category='table_body', type='value', value='#D3D3D3'), table_body_border_top_style=OptionsInfo(scss=True, category='table_body', type='value', value='solid'), table_body_border_top_width=OptionsInfo(scss=True, category='table_body', type='px', value='2px'), table_body_border_top_color=OptionsInfo(scss=True, category='table_body', type='value', value='#D3D3D3'), table_body_border_bottom_style=OptionsInfo(scss=True, category='table_body', type='value', value='solid'), table_body_border_bottom_width=OptionsInfo(scss=True, category='table_body', type='px', value='2px'), table_body_border_bottom_color=OptionsInfo(scss=True, category='table_body', type='value', value='#D3D3D3'), data_row_padding=OptionsInfo(scss=True, category='data_row', type='px', value='6px'), data_row_padding_horizontal=OptionsInfo(scss=True, category='data_row', type='px', value='5px'), stub_background_color=OptionsInfo(scss=True, category='stub', type='value', value=None), stub_font_size=OptionsInfo(scss=True, category='stub', type='px', value='100%'), stub_font_weight=OptionsInfo(scss=True, category='stub', type='value', value='initial'), stub_text_transform=OptionsInfo(scss=True, category='stub', type='value', value='inherit'), stub_border_style=OptionsInfo(scss=True, category='stub', type='value', value='solid'), stub_border_width=OptionsInfo(scss=True, category='stub', type='px', value='2px'), stub_border_color=OptionsInfo(scss=True, category='stub', type='value', value='#D3D3D3'), stub_row_group_background_color=OptionsInfo(scss=True, category='stub', type='value', value=None), stub_row_group_font_size=OptionsInfo(scss=True, category='stub', type='px', value='100%'), stub_row_group_font_weight=OptionsInfo(scss=True, category='stub', type='value', value='initial'), stub_row_group_text_transform=OptionsInfo(scss=True, category='stub', type='value', value='inherit'), stub_row_group_border_style=OptionsInfo(scss=True, category='stub', type='value', value='solid'), stub_row_group_border_width=OptionsInfo(scss=True, category='stub', type='px', value='2px'), stub_row_group_border_color=OptionsInfo(scss=True, category='stub', type='value', value='#D3D3D3'), source_notes_padding=OptionsInfo(scss=True, category='source_notes', type='px', value='3px'), source_notes_padding_horizontal=OptionsInfo(scss=True, category='source_notes', type='px', value='5px'), source_notes_background_color=OptionsInfo(scss=True, category='source_notes', type='value', value=None), source_notes_font_size=OptionsInfo(scss=True, category='source_notes', type='px', value='small'), source_notes_border_bottom_style=OptionsInfo(scss=True, category='source_notes', type='value', value='none'), source_notes_border_bottom_width=OptionsInfo(scss=True, category='source_notes', type='px', value='2px'), source_notes_border_bottom_color=OptionsInfo(scss=True, category='source_notes', type='value', value='#D3D3D3'), source_notes_border_lr_style=OptionsInfo(scss=True, category='source_notes', type='value', value='none'), source_notes_border_lr_width=OptionsInfo(scss=True, category='source_notes', type='px', value='2px'), source_notes_border_lr_color=OptionsInfo(scss=True, category='source_notes', type='value', value='#D3D3D3'), source_notes_multiline=OptionsInfo(scss=False, category='source_notes', type='boolean', value=True), source_notes_sep=OptionsInfo(scss=False, category='source_notes', type='value', value=' '), row_striping_background_color=OptionsInfo(scss=True, category='row', type='value', value='rgba(128,128,128,0.05)'), row_striping_include_stub=OptionsInfo(scss=False, category='row', type='boolean', value=False), row_striping_include_table_body=OptionsInfo(scss=False, category='row', type='boolean', value=False), container_width=OptionsInfo(scss=False, category='container', type='px', value='auto'), container_height=OptionsInfo(scss=False, category='container', type='px', value='auto'), container_padding_x=OptionsInfo(scss=False, category='container', type='px', value='0px'), container_padding_y=OptionsInfo(scss=False, category='container', type='px', value='10px'), container_overflow_x=OptionsInfo(scss=False, category='container', type='overflow', value='auto'), container_overflow_y=OptionsInfo(scss=False, category='container', type='overflow', value='auto'), quarto_disable_processing=OptionsInfo(scss=False, category='quarto', type='logical', value=False), quarto_use_bootstrap=OptionsInfo(scss=False, category='quarto', type='logical', value=False)), _has_built=False)"
      ]
     },
     "execution_count": 15,
     "metadata": {},
     "output_type": "execute_result"
    }
   ],
   "source": [
    "# Set new contrast \n",
    "model.set_contrasts({'cyl': 'contr.poly'})\n",
    "\n",
    "# Refit\n",
    "model.fit(summary=True)"
   ]
  },
  {
   "cell_type": "markdown",
   "metadata": {},
   "source": [
    "### ANOVA tables"
   ]
  },
  {
   "cell_type": "markdown",
   "metadata": {},
   "source": [
    "With more than 2 levels of a categorical predictor, you may be interested in an omnibus F-test across all factor levels, i.e. an ANOVA style table. To make this as easy and valid as possible (e.g. handling unbalanced designs) just create your factors with `.set_factors()` and use `.anova()` instead of `.fit()`\n",
    "\n",
    "By default, `.anova()` will ignore any contrasts you may have set with `.set_contrasts()` and automatically use an appropriate orthogonal coding scheme to compute valid type-3 SS tests. This the default to make ANOVA-style analyses less error prone, and facilitate custom regression parameterizations without affecting ANOVA tests. \n",
    "\n",
    ":::{note}\n",
    "*You can change this and use your particular contrasts for an ANOVA test with type-1 SS by setting changing the default setting to `auto_ss_3=False`*\n",
    ":::"
   ]
  },
  {
   "cell_type": "code",
   "execution_count": null,
   "metadata": {},
   "outputs": [
    {
     "data": {
      "text/html": [
       "<div id=\"syusmpuyez\" style=\"padding-left:0px;padding-right:0px;padding-top:10px;padding-bottom:10px;overflow-x:auto;overflow-y:auto;width:auto;height:auto;\">\n",
       "<style>\n",
       "#syusmpuyez table {\n",
       "          font-family: -apple-system, BlinkMacSystemFont, 'Segoe UI', Roboto, Oxygen, Ubuntu, Cantarell, 'Helvetica Neue', 'Fira Sans', 'Droid Sans', Arial, sans-serif;\n",
       "          -webkit-font-smoothing: antialiased;\n",
       "          -moz-osx-font-smoothing: grayscale;\n",
       "        }\n",
       "\n",
       "#syusmpuyez thead, tbody, tfoot, tr, td, th { border-style: none !important; }\n",
       " tr { background-color: transparent !important; }\n",
       "#syusmpuyez p { margin: 0 !important; padding: 0 !important; }\n",
       " #syusmpuyez .gt_table { display: table !important; border-collapse: collapse !important; line-height: normal !important; margin-left: auto !important; margin-right: auto !important; color: #333333 !important; font-size: 16px !important; font-weight: normal !important; font-style: normal !important; background-color: #FFFFFF !important; width: auto !important; border-top-style: solid !important; border-top-width: 2px !important; border-top-color: #A8A8A8 !important; border-right-style: none !important; border-right-width: 2px !important; border-right-color: #D3D3D3 !important; border-bottom-style: solid !important; border-bottom-width: 2px !important; border-bottom-color: #A8A8A8 !important; border-left-style: none !important; border-left-width: 2px !important; border-left-color: #D3D3D3 !important; }\n",
       " #syusmpuyez .gt_caption { padding-top: 4px !important; padding-bottom: 4px !important; }\n",
       " #syusmpuyez .gt_title { color: #333333 !important; font-size: 125% !important; font-weight: initial !important; padding-top: 4px !important; padding-bottom: 4px !important; padding-left: 5px !important; padding-right: 5px !important; border-bottom-color: #FFFFFF !important; border-bottom-width: 0 !important; }\n",
       " #syusmpuyez .gt_subtitle { color: #333333 !important; font-size: 85% !important; font-weight: initial !important; padding-top: 3px !important; padding-bottom: 5px !important; padding-left: 5px !important; padding-right: 5px !important; border-top-color: #FFFFFF !important; border-top-width: 0 !important; }\n",
       " #syusmpuyez .gt_heading { background-color: #FFFFFF !important; text-align: left !important; border-bottom-color: #FFFFFF !important; border-left-style: none !important; border-left-width: 1px !important; border-left-color: #D3D3D3 !important; border-right-style: none !important; border-right-width: 1px !important; border-right-color: #D3D3D3 !important; }\n",
       " #syusmpuyez .gt_bottom_border { border-bottom-style: solid !important; border-bottom-width: 2px !important; border-bottom-color: #D3D3D3 !important; }\n",
       " #syusmpuyez .gt_col_headings { border-top-style: solid !important; border-top-width: 2px !important; border-top-color: #D3D3D3 !important; border-bottom-style: solid !important; border-bottom-width: 2px !important; border-bottom-color: #D3D3D3 !important; border-left-style: none !important; border-left-width: 1px !important; border-left-color: #D3D3D3 !important; border-right-style: none !important; border-right-width: 1px !important; border-right-color: #D3D3D3 !important; }\n",
       " #syusmpuyez .gt_col_heading { color: #333333 !important; background-color: #FFFFFF !important; font-size: 100% !important; font-weight: normal !important; text-transform: inherit !important; border-left-style: none !important; border-left-width: 1px !important; border-left-color: #D3D3D3 !important; border-right-style: none !important; border-right-width: 1px !important; border-right-color: #D3D3D3 !important; vertical-align: bottom !important; padding-top: 5px !important; padding-bottom: 5px !important; padding-left: 5px !important; padding-right: 5px !important; overflow-x: hidden !important; }\n",
       " #syusmpuyez .gt_column_spanner_outer { color: #333333 !important; background-color: #FFFFFF !important; font-size: 100% !important; font-weight: normal !important; text-transform: inherit !important; padding-top: 0 !important; padding-bottom: 0 !important; padding-left: 4px !important; padding-right: 4px !important; }\n",
       " #syusmpuyez .gt_column_spanner_outer:first-child { padding-left: 0 !important; }\n",
       " #syusmpuyez .gt_column_spanner_outer:last-child { padding-right: 0 !important; }\n",
       " #syusmpuyez .gt_column_spanner { border-bottom-style: solid !important; border-bottom-width: 2px !important; border-bottom-color: #D3D3D3 !important; vertical-align: bottom !important; padding-top: 5px !important; padding-bottom: 5px !important; overflow-x: hidden !important; display: inline-block !important; width: 100% !important; }\n",
       " #syusmpuyez .gt_spanner_row { border-bottom-style: hidden !important; }\n",
       " #syusmpuyez .gt_group_heading { padding-top: 8px !important; padding-bottom: 8px !important; padding-left: 5px !important; padding-right: 5px !important; color: #333333 !important; background-color: #FFFFFF !important; font-size: 100% !important; font-weight: initial !important; text-transform: inherit !important; border-top-style: solid !important; border-top-width: 2px !important; border-top-color: #D3D3D3 !important; border-bottom-style: solid !important; border-bottom-width: 2px !important; border-bottom-color: #D3D3D3 !important; border-left-style: none !important; border-left-width: 1px !important; border-left-color: #D3D3D3 !important; border-right-style: none !important; border-right-width: 1px !important; border-right-color: #D3D3D3 !important; vertical-align: middle !important; text-align: left !important; }\n",
       " #syusmpuyez .gt_empty_group_heading { padding: 0.5px !important; color: #333333 !important; background-color: #FFFFFF !important; font-size: 100% !important; font-weight: initial !important; border-top-style: solid !important; border-top-width: 2px !important; border-top-color: #D3D3D3 !important; border-bottom-style: solid !important; border-bottom-width: 2px !important; border-bottom-color: #D3D3D3 !important; vertical-align: middle !important; }\n",
       " #syusmpuyez .gt_from_md> :first-child { margin-top: 0 !important; }\n",
       " #syusmpuyez .gt_from_md> :last-child { margin-bottom: 0 !important; }\n",
       " #syusmpuyez .gt_row { padding-top: 8px !important; padding-bottom: 8px !important; padding-left: 5px !important; padding-right: 5px !important; margin: 10px !important; border-top-style: solid !important; border-top-width: 1px !important; border-top-color: #D3D3D3 !important; border-left-style: none !important; border-left-width: 1px !important; border-left-color: #D3D3D3 !important; border-right-style: none !important; border-right-width: 1px !important; border-right-color: #D3D3D3 !important; vertical-align: middle !important; overflow-x: hidden !important; }\n",
       " #syusmpuyez .gt_stub { color: #333333 !important; background-color: #FFFFFF !important; font-size: 100% !important; font-weight: initial !important; text-transform: inherit !important; border-right-style: solid !important; border-right-width: 2px !important; border-right-color: #D3D3D3 !important; padding-left: 5px !important; padding-right: 5px !important; }\n",
       " #syusmpuyez .gt_stub_row_group { color: #333333 !important; background-color: #FFFFFF !important; font-size: 100% !important; font-weight: initial !important; text-transform: inherit !important; border-right-style: solid !important; border-right-width: 2px !important; border-right-color: #D3D3D3 !important; padding-left: 5px !important; padding-right: 5px !important; vertical-align: top !important; }\n",
       " #syusmpuyez .gt_row_group_first td { border-top-width: 2px !important; }\n",
       " #syusmpuyez .gt_row_group_first th { border-top-width: 2px !important; }\n",
       " #syusmpuyez .gt_striped { background-color: rgba(128,128,128,0.05) !important; }\n",
       " #syusmpuyez .gt_table_body { border-top-style: solid !important; border-top-width: 2px !important; border-top-color: #D3D3D3 !important; border-bottom-style: solid !important; border-bottom-width: 2px !important; border-bottom-color: #D3D3D3 !important; }\n",
       " #syusmpuyez .gt_sourcenotes { color: #333333 !important; background-color: #FFFFFF !important; border-bottom-style: none !important; border-bottom-width: 2px !important; border-bottom-color: #D3D3D3 !important; border-left-style: none !important; border-left-width: 2px !important; border-left-color: #D3D3D3 !important; border-right-style: none !important; border-right-width: 2px !important; border-right-color: #D3D3D3 !important; }\n",
       " #syusmpuyez .gt_sourcenote { font-size: small !important; padding-top: 4px !important; padding-bottom: 4px !important; padding-left: 5px !important; padding-right: 5px !important; text-align: left !important; }\n",
       " #syusmpuyez .gt_left { text-align: left !important; }\n",
       " #syusmpuyez .gt_center { text-align: center !important; }\n",
       " #syusmpuyez .gt_right { text-align: right !important; font-variant-numeric: tabular-nums !important; }\n",
       " #syusmpuyez .gt_font_normal { font-weight: normal !important; }\n",
       " #syusmpuyez .gt_font_bold { font-weight: bold !important; }\n",
       " #syusmpuyez .gt_font_italic { font-style: italic !important; }\n",
       " #syusmpuyez .gt_super { font-size: 65% !important; }\n",
       " #syusmpuyez .gt_footnote_marks { font-size: 75% !important; vertical-align: 0.4em !important; position: initial !important; }\n",
       " #syusmpuyez .gt_asterisk { font-size: 100% !important; vertical-align: 0 !important; }\n",
       " \n",
       "</style>\n",
       "<table class=\"gt_table\" data-quarto-disable-processing=\"false\" data-quarto-bootstrap=\"false\">\n",
       "<thead>\n",
       "\n",
       "  <tr class=\"gt_heading\">\n",
       "    <td colspan=\"6\" class=\"gt_heading gt_title gt_font_normal\">ANOVA (Type III tests)</td>\n",
       "  </tr>\n",
       "<tr class=\"gt_col_headings\">\n",
       "  <th class=\"gt_col_heading gt_columns_bottom_border gt_left\" rowspan=\"1\" colspan=\"1\" scope=\"col\" id=\"model-term\">model term</th>\n",
       "  <th class=\"gt_col_heading gt_columns_bottom_border gt_right\" rowspan=\"1\" colspan=\"1\" scope=\"col\" id=\"df1\">df1</th>\n",
       "  <th class=\"gt_col_heading gt_columns_bottom_border gt_right\" rowspan=\"1\" colspan=\"1\" scope=\"col\" id=\"df2\">df2</th>\n",
       "  <th class=\"gt_col_heading gt_columns_bottom_border gt_right\" rowspan=\"1\" colspan=\"1\" scope=\"col\" id=\"F_ratio\">F_ratio</th>\n",
       "  <th class=\"gt_col_heading gt_columns_bottom_border gt_left\" rowspan=\"1\" colspan=\"1\" scope=\"col\" id=\"p_value\">p_value</th>\n",
       "  <th class=\"gt_col_heading gt_columns_bottom_border gt_left\" rowspan=\"1\" colspan=\"1\" scope=\"col\" id=\"stars\"></th>\n",
       "</tr>\n",
       "</thead>\n",
       "<tbody class=\"gt_table_body\">\n",
       "  <tr>\n",
       "    <td class=\"gt_row gt_left\">wt</td>\n",
       "    <td class=\"gt_row gt_right\">1</td>\n",
       "    <td class=\"gt_row gt_right\">26</td>\n",
       "    <td class=\"gt_row gt_right\">10.723</td>\n",
       "    <td class=\"gt_row gt_left\">0.002993</td>\n",
       "    <td class=\"gt_row gt_left\">**</td>\n",
       "  </tr>\n",
       "  <tr>\n",
       "    <td class=\"gt_row gt_left\">cyl</td>\n",
       "    <td class=\"gt_row gt_right\">2</td>\n",
       "    <td class=\"gt_row gt_right\">26</td>\n",
       "    <td class=\"gt_row gt_right\">3.951</td>\n",
       "    <td class=\"gt_row gt_left\">0.03175</td>\n",
       "    <td class=\"gt_row gt_left\">*</td>\n",
       "  </tr>\n",
       "  <tr>\n",
       "    <td class=\"gt_row gt_left\">wt:cyl</td>\n",
       "    <td class=\"gt_row gt_right\">2</td>\n",
       "    <td class=\"gt_row gt_right\">26</td>\n",
       "    <td class=\"gt_row gt_right\">2.266</td>\n",
       "    <td class=\"gt_row gt_left\">0.1239</td>\n",
       "    <td class=\"gt_row gt_left\"></td>\n",
       "  </tr>\n",
       "</tbody>\n",
       "  <tfoot class=\"gt_sourcenotes\">\n",
       "  \n",
       "  <tr>\n",
       "    <td class=\"gt_sourcenote\" colspan=\"6\">Signif. codes: <em>0 *** 0.001 ** 0.01 * 0.05 . 0.1</em></td>\n",
       "  </tr>\n",
       "\n",
       "</tfoot>\n",
       "\n",
       "</table>\n",
       "\n",
       "</div>\n",
       "        "
      ],
      "text/plain": [
       "GT(_tbl_data=shape: (3, 6)\n",
       "┌────────────┬─────┬──────┬─────────┬──────────┬───────┐\n",
       "│ model term ┆ df1 ┆ df2  ┆ F_ratio ┆ p_value  ┆ stars │\n",
       "│ ---        ┆ --- ┆ ---  ┆ ---     ┆ ---      ┆ ---   │\n",
       "│ str        ┆ f64 ┆ f64  ┆ f64     ┆ str      ┆ str   │\n",
       "╞════════════╪═════╪══════╪═════════╪══════════╪═══════╡\n",
       "│ wt         ┆ 1.0 ┆ 26.0 ┆ 10.723  ┆ 0.002993 ┆ **    │\n",
       "│ cyl        ┆ 2.0 ┆ 26.0 ┆ 3.951   ┆ 0.03175  ┆ *     │\n",
       "│ wt:cyl     ┆ 2.0 ┆ 26.0 ┆ 2.266   ┆ 0.1239   ┆       │\n",
       "└────────────┴─────┴──────┴─────────┴──────────┴───────┘, _body=<great_tables._gt_data.Body object at 0x175d8bc80>, _boxhead=Boxhead([ColInfo(var='model term', type=<ColInfoTypeEnum.default: 1>, column_label='model term', column_align='left', column_width=None), ColInfo(var='df1', type=<ColInfoTypeEnum.default: 1>, column_label='df1', column_align='right', column_width=None), ColInfo(var='df2', type=<ColInfoTypeEnum.default: 1>, column_label='df2', column_align='right', column_width=None), ColInfo(var='F_ratio', type=<ColInfoTypeEnum.default: 1>, column_label='F_ratio', column_align='right', column_width=None), ColInfo(var='p_value', type=<ColInfoTypeEnum.default: 1>, column_label='p_value', column_align='left', column_width=None), ColInfo(var='stars', type=<ColInfoTypeEnum.default: 1>, column_label='', column_align='left', column_width=None)]), _stub=<great_tables._gt_data.Stub object at 0x175ff88f0>, _spanners=Spanners([]), _heading=Heading(title='ANOVA (Type III tests)', subtitle=None, preheader=None), _stubhead=None, _source_notes=[Md(text='Signif. codes: *0 *** 0.001 ** 0.01 * 0.05 . 0.1*')], _footnotes=[], _styles=[], _locale=<great_tables._gt_data.Locale object at 0x175ff4b00>, _formats=[<great_tables._gt_data.FormatInfo object at 0x175ff44d0>, <great_tables._gt_data.FormatInfo object at 0x175daef30>], _substitutions=[], _options=Options(table_id=OptionsInfo(scss=False, category='table', type='value', value=None), table_caption=OptionsInfo(scss=False, category='table', type='value', value=None), table_width=OptionsInfo(scss=True, category='table', type='px', value='auto'), table_layout=OptionsInfo(scss=True, category='table', type='value', value='fixed'), table_margin_left=OptionsInfo(scss=True, category='table', type='px', value='auto'), table_margin_right=OptionsInfo(scss=True, category='table', type='px', value='auto'), table_background_color=OptionsInfo(scss=True, category='table', type='value', value='#FFFFFF'), table_additional_css=OptionsInfo(scss=False, category='table', type='values', value=[]), table_font_names=OptionsInfo(scss=False, category='table', type='values', value=['-apple-system', 'BlinkMacSystemFont', 'Segoe UI', 'Roboto', 'Oxygen', 'Ubuntu', 'Cantarell', 'Helvetica Neue', 'Fira Sans', 'Droid Sans', 'Arial', 'sans-serif']), table_font_size=OptionsInfo(scss=True, category='table', type='px', value='16px'), table_font_weight=OptionsInfo(scss=True, category='table', type='value', value='normal'), table_font_style=OptionsInfo(scss=True, category='table', type='value', value='normal'), table_font_color=OptionsInfo(scss=True, category='table', type='value', value='#333333'), table_font_color_light=OptionsInfo(scss=True, category='table', type='value', value='#FFFFFF'), table_border_top_include=OptionsInfo(scss=False, category='table', type='boolean', value=True), table_border_top_style=OptionsInfo(scss=True, category='table', type='value', value='solid'), table_border_top_width=OptionsInfo(scss=True, category='table', type='px', value='2px'), table_border_top_color=OptionsInfo(scss=True, category='table', type='value', value='#A8A8A8'), table_border_right_style=OptionsInfo(scss=True, category='table', type='value', value='none'), table_border_right_width=OptionsInfo(scss=True, category='table', type='px', value='2px'), table_border_right_color=OptionsInfo(scss=True, category='table', type='value', value='#D3D3D3'), table_border_bottom_include=OptionsInfo(scss=False, category='table', type='boolean', value=True), table_border_bottom_style=OptionsInfo(scss=True, category='table', type='value', value='solid'), table_border_bottom_width=OptionsInfo(scss=True, category='table', type='px', value='2px'), table_border_bottom_color=OptionsInfo(scss=True, category='table', type='value', value='#A8A8A8'), table_border_left_style=OptionsInfo(scss=True, category='table', type='value', value='none'), table_border_left_width=OptionsInfo(scss=True, category='table', type='px', value='2px'), table_border_left_color=OptionsInfo(scss=True, category='table', type='value', value='#D3D3D3'), heading_background_color=OptionsInfo(scss=True, category='heading', type='value', value=None), heading_align=OptionsInfo(scss=True, category='heading', type='value', value='left'), heading_title_font_size=OptionsInfo(scss=True, category='heading', type='px', value='125%'), heading_title_font_weight=OptionsInfo(scss=True, category='heading', type='value', value='initial'), heading_subtitle_font_size=OptionsInfo(scss=True, category='heading', type='px', value='85%'), heading_subtitle_font_weight=OptionsInfo(scss=True, category='heading', type='value', value='initial'), heading_padding=OptionsInfo(scss=True, category='heading', type='px', value='4px'), heading_padding_horizontal=OptionsInfo(scss=True, category='heading', type='px', value='5px'), heading_border_bottom_style=OptionsInfo(scss=True, category='heading', type='value', value='solid'), heading_border_bottom_width=OptionsInfo(scss=True, category='heading', type='px', value='2px'), heading_border_bottom_color=OptionsInfo(scss=True, category='heading', type='value', value='#D3D3D3'), heading_border_lr_style=OptionsInfo(scss=True, category='heading', type='value', value='none'), heading_border_lr_width=OptionsInfo(scss=True, category='heading', type='px', value='1px'), heading_border_lr_color=OptionsInfo(scss=True, category='heading', type='value', value='#D3D3D3'), column_labels_background_color=OptionsInfo(scss=True, category='column_labels', type='value', value=None), column_labels_font_size=OptionsInfo(scss=True, category='column_labels', type='px', value='100%'), column_labels_font_weight=OptionsInfo(scss=True, category='column_labels', type='value', value='normal'), column_labels_text_transform=OptionsInfo(scss=True, category='column_labels', type='value', value='inherit'), column_labels_padding=OptionsInfo(scss=True, category='column_labels', type='px', value='5px'), column_labels_padding_horizontal=OptionsInfo(scss=True, category='column_labels', type='px', value='5px'), column_labels_vlines_style=OptionsInfo(scss=True, category='table_body', type='value', value='none'), column_labels_vlines_width=OptionsInfo(scss=True, category='table_body', type='px', value='1px'), column_labels_vlines_color=OptionsInfo(scss=True, category='table_body', type='value', value='#D3D3D3'), column_labels_border_top_style=OptionsInfo(scss=True, category='column_labels', type='value', value='solid'), column_labels_border_top_width=OptionsInfo(scss=True, category='column_labels', type='px', value='2px'), column_labels_border_top_color=OptionsInfo(scss=True, category='column_labels', type='value', value='#D3D3D3'), column_labels_border_bottom_style=OptionsInfo(scss=True, category='column_labels', type='value', value='solid'), column_labels_border_bottom_width=OptionsInfo(scss=True, category='column_labels', type='px', value='2px'), column_labels_border_bottom_color=OptionsInfo(scss=True, category='column_labels', type='value', value='#D3D3D3'), column_labels_border_lr_style=OptionsInfo(scss=True, category='column_labels', type='value', value='none'), column_labels_border_lr_width=OptionsInfo(scss=True, category='column_labels', type='px', value='1px'), column_labels_border_lr_color=OptionsInfo(scss=True, category='column_labels', type='value', value='#D3D3D3'), column_labels_hidden=OptionsInfo(scss=False, category='column_labels', type='boolean', value=False), row_group_background_color=OptionsInfo(scss=True, category='row_group', type='value', value=None), row_group_font_size=OptionsInfo(scss=True, category='row_group', type='px', value='100%'), row_group_font_weight=OptionsInfo(scss=True, category='row_group', type='value', value='initial'), row_group_text_transform=OptionsInfo(scss=True, category='row_group', type='value', value='inherit'), row_group_padding=OptionsInfo(scss=True, category='row_group', type='px', value='8px'), row_group_padding_horizontal=OptionsInfo(scss=True, category='row_group', type='px', value='5px'), row_group_border_top_style=OptionsInfo(scss=True, category='row_group', type='value', value='solid'), row_group_border_top_width=OptionsInfo(scss=True, category='row_group', type='px', value='2px'), row_group_border_top_color=OptionsInfo(scss=True, category='row_group', type='value', value='#D3D3D3'), row_group_border_right_style=OptionsInfo(scss=True, category='row_group', type='value', value='none'), row_group_border_right_width=OptionsInfo(scss=True, category='row_group', type='px', value='1px'), row_group_border_right_color=OptionsInfo(scss=True, category='row_group', type='value', value='#D3D3D3'), row_group_border_bottom_style=OptionsInfo(scss=True, category='row_group', type='value', value='solid'), row_group_border_bottom_width=OptionsInfo(scss=True, category='row_group', type='px', value='2px'), row_group_border_bottom_color=OptionsInfo(scss=True, category='row_group', type='value', value='#D3D3D3'), row_group_border_left_style=OptionsInfo(scss=True, category='row_group', type='value', value='none'), row_group_border_left_width=OptionsInfo(scss=True, category='row_group', type='px', value='1px'), row_group_border_left_color=OptionsInfo(scss=True, category='row_group', type='value', value='#D3D3D3'), row_group_as_column=OptionsInfo(scss=False, category='row_group', type='boolean', value=False), table_body_hlines_style=OptionsInfo(scss=True, category='table_body', type='value', value='solid'), table_body_hlines_width=OptionsInfo(scss=True, category='table_body', type='px', value='1px'), table_body_hlines_color=OptionsInfo(scss=True, category='table_body', type='value', value='#D3D3D3'), table_body_vlines_style=OptionsInfo(scss=True, category='table_body', type='value', value='none'), table_body_vlines_width=OptionsInfo(scss=True, category='table_body', type='px', value='1px'), table_body_vlines_color=OptionsInfo(scss=True, category='table_body', type='value', value='#D3D3D3'), table_body_border_top_style=OptionsInfo(scss=True, category='table_body', type='value', value='solid'), table_body_border_top_width=OptionsInfo(scss=True, category='table_body', type='px', value='2px'), table_body_border_top_color=OptionsInfo(scss=True, category='table_body', type='value', value='#D3D3D3'), table_body_border_bottom_style=OptionsInfo(scss=True, category='table_body', type='value', value='solid'), table_body_border_bottom_width=OptionsInfo(scss=True, category='table_body', type='px', value='2px'), table_body_border_bottom_color=OptionsInfo(scss=True, category='table_body', type='value', value='#D3D3D3'), data_row_padding=OptionsInfo(scss=True, category='data_row', type='px', value='8px'), data_row_padding_horizontal=OptionsInfo(scss=True, category='data_row', type='px', value='5px'), stub_background_color=OptionsInfo(scss=True, category='stub', type='value', value=None), stub_font_size=OptionsInfo(scss=True, category='stub', type='px', value='100%'), stub_font_weight=OptionsInfo(scss=True, category='stub', type='value', value='initial'), stub_text_transform=OptionsInfo(scss=True, category='stub', type='value', value='inherit'), stub_border_style=OptionsInfo(scss=True, category='stub', type='value', value='solid'), stub_border_width=OptionsInfo(scss=True, category='stub', type='px', value='2px'), stub_border_color=OptionsInfo(scss=True, category='stub', type='value', value='#D3D3D3'), stub_row_group_background_color=OptionsInfo(scss=True, category='stub', type='value', value=None), stub_row_group_font_size=OptionsInfo(scss=True, category='stub', type='px', value='100%'), stub_row_group_font_weight=OptionsInfo(scss=True, category='stub', type='value', value='initial'), stub_row_group_text_transform=OptionsInfo(scss=True, category='stub', type='value', value='inherit'), stub_row_group_border_style=OptionsInfo(scss=True, category='stub', type='value', value='solid'), stub_row_group_border_width=OptionsInfo(scss=True, category='stub', type='px', value='2px'), stub_row_group_border_color=OptionsInfo(scss=True, category='stub', type='value', value='#D3D3D3'), source_notes_padding=OptionsInfo(scss=True, category='source_notes', type='px', value='4px'), source_notes_padding_horizontal=OptionsInfo(scss=True, category='source_notes', type='px', value='5px'), source_notes_background_color=OptionsInfo(scss=True, category='source_notes', type='value', value=None), source_notes_font_size=OptionsInfo(scss=True, category='source_notes', type='px', value='small'), source_notes_border_bottom_style=OptionsInfo(scss=True, category='source_notes', type='value', value='none'), source_notes_border_bottom_width=OptionsInfo(scss=True, category='source_notes', type='px', value='2px'), source_notes_border_bottom_color=OptionsInfo(scss=True, category='source_notes', type='value', value='#D3D3D3'), source_notes_border_lr_style=OptionsInfo(scss=True, category='source_notes', type='value', value='none'), source_notes_border_lr_width=OptionsInfo(scss=True, category='source_notes', type='px', value='2px'), source_notes_border_lr_color=OptionsInfo(scss=True, category='source_notes', type='value', value='#D3D3D3'), source_notes_multiline=OptionsInfo(scss=False, category='source_notes', type='boolean', value=True), source_notes_sep=OptionsInfo(scss=False, category='source_notes', type='value', value=' '), row_striping_background_color=OptionsInfo(scss=True, category='row', type='value', value='rgba(128,128,128,0.05)'), row_striping_include_stub=OptionsInfo(scss=False, category='row', type='boolean', value=False), row_striping_include_table_body=OptionsInfo(scss=False, category='row', type='boolean', value=False), container_width=OptionsInfo(scss=False, category='container', type='px', value='auto'), container_height=OptionsInfo(scss=False, category='container', type='px', value='auto'), container_padding_x=OptionsInfo(scss=False, category='container', type='px', value='0px'), container_padding_y=OptionsInfo(scss=False, category='container', type='px', value='10px'), container_overflow_x=OptionsInfo(scss=False, category='container', type='overflow', value='auto'), container_overflow_y=OptionsInfo(scss=False, category='container', type='overflow', value='auto'), quarto_disable_processing=OptionsInfo(scss=False, category='quarto', type='logical', value=False), quarto_use_bootstrap=OptionsInfo(scss=False, category='quarto', type='logical', value=False)), _has_built=False)"
      ]
     },
     "execution_count": 29,
     "metadata": {},
     "output_type": "execute_result"
    }
   ],
   "source": [
    "model.anova(summary=True)"
   ]
  },
  {
   "cell_type": "markdown",
   "metadata": {},
   "source": [
    "Just like `.fit()` the dataframe results of `.anova()` are accessible via `.result_anova`"
   ]
  },
  {
   "cell_type": "code",
   "execution_count": 30,
   "metadata": {},
   "outputs": [
    {
     "data": {
      "text/html": [
       "<div><style>\n",
       ".dataframe > thead > tr,\n",
       ".dataframe > tbody > tr {\n",
       "  text-align: right;\n",
       "  white-space: pre-wrap;\n",
       "}\n",
       "</style>\n",
       "<small>shape: (3, 5)</small><table border=\"1\" class=\"dataframe\"><thead><tr><th>model term</th><th>df1</th><th>df2</th><th>F_ratio</th><th>p_value</th></tr><tr><td>str</td><td>f64</td><td>f64</td><td>f64</td><td>f64</td></tr></thead><tbody><tr><td>&quot;wt&quot;</td><td>1.0</td><td>26.0</td><td>10.723</td><td>0.002993</td></tr><tr><td>&quot;cyl&quot;</td><td>2.0</td><td>26.0</td><td>3.951</td><td>0.031753</td></tr><tr><td>&quot;wt:cyl&quot;</td><td>2.0</td><td>26.0</td><td>2.266</td><td>0.123857</td></tr></tbody></table></div>"
      ],
      "text/plain": [
       "shape: (3, 5)\n",
       "┌────────────┬─────┬──────┬─────────┬──────────┐\n",
       "│ model term ┆ df1 ┆ df2  ┆ F_ratio ┆ p_value  │\n",
       "│ ---        ┆ --- ┆ ---  ┆ ---     ┆ ---      │\n",
       "│ str        ┆ f64 ┆ f64  ┆ f64     ┆ f64      │\n",
       "╞════════════╪═════╪══════╪═════════╪══════════╡\n",
       "│ wt         ┆ 1.0 ┆ 26.0 ┆ 10.723  ┆ 0.002993 │\n",
       "│ cyl        ┆ 2.0 ┆ 26.0 ┆ 3.951   ┆ 0.031753 │\n",
       "│ wt:cyl     ┆ 2.0 ┆ 26.0 ┆ 2.266   ┆ 0.123857 │\n",
       "└────────────┴─────┴──────┴─────────┴──────────┘"
      ]
     },
     "execution_count": 30,
     "metadata": {},
     "output_type": "execute_result"
    }
   ],
   "source": [
    "model.result_anova"
   ]
  },
  {
   "cell_type": "markdown",
   "metadata": {},
   "source": [
    "## Comparing models"
   ]
  },
  {
   "cell_type": "markdown",
   "metadata": {},
   "source": [
    "For linear models, an F-test for a factor variable is equivalent to a *nested model comparison*.  \n",
    "We can use the `compare()` function to compare 2 or more model using an F-test or Likelihood-Ratio-Test (e.g. multi-level models).  \n",
    "\n",
    "If we can create a new model without the interaction and compare it to the full model, we can reproduce the same result as the F-test in the ANOVA table above. Both approaches suggest the interaction between terms doesn't add much beyond the additive model."
   ]
  },
  {
   "cell_type": "code",
   "execution_count": 16,
   "metadata": {},
   "outputs": [
    {
     "data": {
      "text/html": [
       "<div id=\"oinyfajicu\" style=\"padding-left:0px;padding-right:0px;padding-top:10px;padding-bottom:10px;overflow-x:auto;overflow-y:auto;width:auto;height:auto;\">\n",
       "<style>\n",
       "#oinyfajicu table {\n",
       "          font-family: -apple-system, BlinkMacSystemFont, 'Segoe UI', Roboto, Oxygen, Ubuntu, Cantarell, 'Helvetica Neue', 'Fira Sans', 'Droid Sans', Arial, sans-serif;\n",
       "          -webkit-font-smoothing: antialiased;\n",
       "          -moz-osx-font-smoothing: grayscale;\n",
       "        }\n",
       "\n",
       "#oinyfajicu thead, tbody, tfoot, tr, td, th { border-style: none !important; }\n",
       " tr { background-color: transparent !important; }\n",
       "#oinyfajicu p { margin: 0 !important; padding: 0 !important; }\n",
       " #oinyfajicu .gt_table { display: table !important; border-collapse: collapse !important; line-height: normal !important; margin-left: auto !important; margin-right: auto !important; color: #333333 !important; font-size: 16px !important; font-weight: normal !important; font-style: normal !important; background-color: #FFFFFF !important; width: auto !important; border-top-style: solid !important; border-top-width: 2px !important; border-top-color: #A8A8A8 !important; border-right-style: none !important; border-right-width: 2px !important; border-right-color: #D3D3D3 !important; border-bottom-style: solid !important; border-bottom-width: 2px !important; border-bottom-color: #A8A8A8 !important; border-left-style: none !important; border-left-width: 2px !important; border-left-color: #D3D3D3 !important; }\n",
       " #oinyfajicu .gt_caption { padding-top: 4px !important; padding-bottom: 4px !important; }\n",
       " #oinyfajicu .gt_title { color: #333333 !important; font-size: 125% !important; font-weight: initial !important; padding-top: 4px !important; padding-bottom: 4px !important; padding-left: 5px !important; padding-right: 5px !important; border-bottom-color: #FFFFFF !important; border-bottom-width: 0 !important; }\n",
       " #oinyfajicu .gt_subtitle { color: #333333 !important; font-size: 85% !important; font-weight: initial !important; padding-top: 3px !important; padding-bottom: 5px !important; padding-left: 5px !important; padding-right: 5px !important; border-top-color: #FFFFFF !important; border-top-width: 0 !important; }\n",
       " #oinyfajicu .gt_heading { background-color: #FFFFFF !important; text-align: left !important; border-bottom-color: #FFFFFF !important; border-left-style: none !important; border-left-width: 1px !important; border-left-color: #D3D3D3 !important; border-right-style: none !important; border-right-width: 1px !important; border-right-color: #D3D3D3 !important; }\n",
       " #oinyfajicu .gt_bottom_border { border-bottom-style: solid !important; border-bottom-width: 2px !important; border-bottom-color: #D3D3D3 !important; }\n",
       " #oinyfajicu .gt_col_headings { border-top-style: solid !important; border-top-width: 2px !important; border-top-color: #D3D3D3 !important; border-bottom-style: solid !important; border-bottom-width: 2px !important; border-bottom-color: #D3D3D3 !important; border-left-style: none !important; border-left-width: 1px !important; border-left-color: #D3D3D3 !important; border-right-style: none !important; border-right-width: 1px !important; border-right-color: #D3D3D3 !important; }\n",
       " #oinyfajicu .gt_col_heading { color: #333333 !important; background-color: #FFFFFF !important; font-size: 100% !important; font-weight: normal !important; text-transform: inherit !important; border-left-style: none !important; border-left-width: 1px !important; border-left-color: #D3D3D3 !important; border-right-style: none !important; border-right-width: 1px !important; border-right-color: #D3D3D3 !important; vertical-align: bottom !important; padding-top: 5px !important; padding-bottom: 5px !important; padding-left: 5px !important; padding-right: 5px !important; overflow-x: hidden !important; }\n",
       " #oinyfajicu .gt_column_spanner_outer { color: #333333 !important; background-color: #FFFFFF !important; font-size: 100% !important; font-weight: normal !important; text-transform: inherit !important; padding-top: 0 !important; padding-bottom: 0 !important; padding-left: 4px !important; padding-right: 4px !important; }\n",
       " #oinyfajicu .gt_column_spanner_outer:first-child { padding-left: 0 !important; }\n",
       " #oinyfajicu .gt_column_spanner_outer:last-child { padding-right: 0 !important; }\n",
       " #oinyfajicu .gt_column_spanner { border-bottom-style: solid !important; border-bottom-width: 2px !important; border-bottom-color: #D3D3D3 !important; vertical-align: bottom !important; padding-top: 5px !important; padding-bottom: 5px !important; overflow-x: hidden !important; display: inline-block !important; width: 100% !important; }\n",
       " #oinyfajicu .gt_spanner_row { border-bottom-style: hidden !important; }\n",
       " #oinyfajicu .gt_group_heading { padding-top: 8px !important; padding-bottom: 8px !important; padding-left: 5px !important; padding-right: 5px !important; color: #333333 !important; background-color: #FFFFFF !important; font-size: 100% !important; font-weight: initial !important; text-transform: inherit !important; border-top-style: solid !important; border-top-width: 2px !important; border-top-color: #D3D3D3 !important; border-bottom-style: solid !important; border-bottom-width: 2px !important; border-bottom-color: #D3D3D3 !important; border-left-style: none !important; border-left-width: 1px !important; border-left-color: #D3D3D3 !important; border-right-style: none !important; border-right-width: 1px !important; border-right-color: #D3D3D3 !important; vertical-align: middle !important; text-align: left !important; }\n",
       " #oinyfajicu .gt_empty_group_heading { padding: 0.5px !important; color: #333333 !important; background-color: #FFFFFF !important; font-size: 100% !important; font-weight: initial !important; border-top-style: solid !important; border-top-width: 2px !important; border-top-color: #D3D3D3 !important; border-bottom-style: solid !important; border-bottom-width: 2px !important; border-bottom-color: #D3D3D3 !important; vertical-align: middle !important; }\n",
       " #oinyfajicu .gt_from_md> :first-child { margin-top: 0 !important; }\n",
       " #oinyfajicu .gt_from_md> :last-child { margin-bottom: 0 !important; }\n",
       " #oinyfajicu .gt_row { padding-top: 8px !important; padding-bottom: 8px !important; padding-left: 5px !important; padding-right: 5px !important; margin: 10px !important; border-top-style: solid !important; border-top-width: 1px !important; border-top-color: #D3D3D3 !important; border-left-style: none !important; border-left-width: 1px !important; border-left-color: #D3D3D3 !important; border-right-style: none !important; border-right-width: 1px !important; border-right-color: #D3D3D3 !important; vertical-align: middle !important; overflow-x: hidden !important; }\n",
       " #oinyfajicu .gt_stub { color: #333333 !important; background-color: #FFFFFF !important; font-size: 100% !important; font-weight: initial !important; text-transform: inherit !important; border-right-style: solid !important; border-right-width: 2px !important; border-right-color: #D3D3D3 !important; padding-left: 5px !important; padding-right: 5px !important; }\n",
       " #oinyfajicu .gt_stub_row_group { color: #333333 !important; background-color: #FFFFFF !important; font-size: 100% !important; font-weight: initial !important; text-transform: inherit !important; border-right-style: solid !important; border-right-width: 2px !important; border-right-color: #D3D3D3 !important; padding-left: 5px !important; padding-right: 5px !important; vertical-align: top !important; }\n",
       " #oinyfajicu .gt_row_group_first td { border-top-width: 2px !important; }\n",
       " #oinyfajicu .gt_row_group_first th { border-top-width: 2px !important; }\n",
       " #oinyfajicu .gt_striped { background-color: rgba(128,128,128,0.05) !important; }\n",
       " #oinyfajicu .gt_table_body { border-top-style: solid !important; border-top-width: 2px !important; border-top-color: #D3D3D3 !important; border-bottom-style: solid !important; border-bottom-width: 2px !important; border-bottom-color: #D3D3D3 !important; }\n",
       " #oinyfajicu .gt_sourcenotes { color: #333333 !important; background-color: #FFFFFF !important; border-bottom-style: none !important; border-bottom-width: 2px !important; border-bottom-color: #D3D3D3 !important; border-left-style: none !important; border-left-width: 2px !important; border-left-color: #D3D3D3 !important; border-right-style: none !important; border-right-width: 2px !important; border-right-color: #D3D3D3 !important; }\n",
       " #oinyfajicu .gt_sourcenote { font-size: small !important; padding-top: 4px !important; padding-bottom: 4px !important; padding-left: 5px !important; padding-right: 5px !important; text-align: left !important; }\n",
       " #oinyfajicu .gt_left { text-align: left !important; }\n",
       " #oinyfajicu .gt_center { text-align: center !important; }\n",
       " #oinyfajicu .gt_right { text-align: right !important; font-variant-numeric: tabular-nums !important; }\n",
       " #oinyfajicu .gt_font_normal { font-weight: normal !important; }\n",
       " #oinyfajicu .gt_font_bold { font-weight: bold !important; }\n",
       " #oinyfajicu .gt_font_italic { font-style: italic !important; }\n",
       " #oinyfajicu .gt_super { font-size: 65% !important; }\n",
       " #oinyfajicu .gt_footnote_marks { font-size: 75% !important; vertical-align: 0.4em !important; position: initial !important; }\n",
       " #oinyfajicu .gt_asterisk { font-size: 100% !important; vertical-align: 0 !important; }\n",
       " \n",
       "</style>\n",
       "<table class=\"gt_table\" data-quarto-disable-processing=\"false\" data-quarto-bootstrap=\"false\">\n",
       "<thead>\n",
       "\n",
       "  <tr class=\"gt_heading\">\n",
       "    <td colspan=\"11\" class=\"gt_heading gt_title gt_font_normal\">Analysis of Deviance Table</td>\n",
       "  </tr>\n",
       "  <tr class=\"gt_heading\">\n",
       "    <td colspan=\"11\" class=\"gt_heading gt_subtitle gt_font_normal gt_bottom_border\">Model 1: lm(mpg~wt+cyl)<br />\n",
       "Model 2: lm(mpg~wt*cyl)</td>\n",
       "  </tr>\n",
       "<tr class=\"gt_col_headings\">\n",
       "  <th class=\"gt_col_heading gt_columns_bottom_border gt_left\" rowspan=\"1\" colspan=\"1\" scope=\"col\" id=\"\"></th>\n",
       "  <th class=\"gt_col_heading gt_columns_bottom_border gt_right\" rowspan=\"1\" colspan=\"1\" scope=\"col\" id=\"AIC\">AIC</th>\n",
       "  <th class=\"gt_col_heading gt_columns_bottom_border gt_right\" rowspan=\"1\" colspan=\"1\" scope=\"col\" id=\"BIC\">BIC</th>\n",
       "  <th class=\"gt_col_heading gt_columns_bottom_border gt_right\" rowspan=\"1\" colspan=\"1\" scope=\"col\" id=\"logLik\">logLik</th>\n",
       "  <th class=\"gt_col_heading gt_columns_bottom_border gt_right\" rowspan=\"1\" colspan=\"1\" scope=\"col\" id=\"Res_Df\">Res_Df</th>\n",
       "  <th class=\"gt_col_heading gt_columns_bottom_border gt_right\" rowspan=\"1\" colspan=\"1\" scope=\"col\" id=\"RSS\">RSS</th>\n",
       "  <th class=\"gt_col_heading gt_columns_bottom_border gt_right\" rowspan=\"1\" colspan=\"1\" scope=\"col\" id=\"Df\">Df</th>\n",
       "  <th class=\"gt_col_heading gt_columns_bottom_border gt_right\" rowspan=\"1\" colspan=\"1\" scope=\"col\" id=\"Sum-of-Sq\">Sum of Sq</th>\n",
       "  <th class=\"gt_col_heading gt_columns_bottom_border gt_right\" rowspan=\"1\" colspan=\"1\" scope=\"col\" id=\"F\">F</th>\n",
       "  <th class=\"gt_col_heading gt_columns_bottom_border gt_left\" rowspan=\"1\" colspan=\"1\" scope=\"col\" id=\"Pr(&amp;gt;F)\">Pr(&gt;F)</th>\n",
       "  <th class=\"gt_col_heading gt_columns_bottom_border gt_left\" rowspan=\"1\" colspan=\"1\" scope=\"col\" id=\"stars\"></th>\n",
       "</tr>\n",
       "</thead>\n",
       "<tbody class=\"gt_table_body\">\n",
       "  <tr>\n",
       "    <th class=\"gt_row gt_left gt_stub\">1.00</th>\n",
       "    <td class=\"gt_row gt_right\">156.6</td>\n",
       "    <td class=\"gt_row gt_right\">164</td>\n",
       "    <td class=\"gt_row gt_right\">−73.3</td>\n",
       "    <td class=\"gt_row gt_right\">28.00</td>\n",
       "    <td class=\"gt_row gt_right\">183.06</td>\n",
       "    <td class=\"gt_row gt_right\"></td>\n",
       "    <td class=\"gt_row gt_right\"></td>\n",
       "    <td class=\"gt_row gt_right\"></td>\n",
       "    <td class=\"gt_row gt_left\"></td>\n",
       "    <td class=\"gt_row gt_left\"></td>\n",
       "  </tr>\n",
       "  <tr>\n",
       "    <th class=\"gt_row gt_left gt_stub\">2.00</th>\n",
       "    <td class=\"gt_row gt_right\">155.5</td>\n",
       "    <td class=\"gt_row gt_right\">165.7</td>\n",
       "    <td class=\"gt_row gt_right\">−70.7</td>\n",
       "    <td class=\"gt_row gt_right\">26.00</td>\n",
       "    <td class=\"gt_row gt_right\">155.89</td>\n",
       "    <td class=\"gt_row gt_right\">2.00</td>\n",
       "    <td class=\"gt_row gt_right\">27.17</td>\n",
       "    <td class=\"gt_row gt_right\">2.27</td>\n",
       "    <td class=\"gt_row gt_left\">0.124</td>\n",
       "    <td class=\"gt_row gt_left\"></td>\n",
       "  </tr>\n",
       "</tbody>\n",
       "  <tfoot class=\"gt_sourcenotes\">\n",
       "  \n",
       "  <tr>\n",
       "    <td class=\"gt_sourcenote\" colspan=\"11\">Signif. codes: <em>0 *** 0.001 ** 0.01 * 0.05 . 0.1</em></td>\n",
       "  </tr>\n",
       "\n",
       "</tfoot>\n",
       "\n",
       "</table>\n",
       "\n",
       "</div>\n",
       "        "
      ],
      "text/plain": [
       "GT(_tbl_data=shape: (2, 11)\n",
       "┌────────────┬────────────┬────────────┬────────┬───┬──────────┬────────┬───────┬─────┐\n",
       "│ AIC        ┆ BIC        ┆ logLik     ┆ Res_Df ┆ … ┆ F        ┆ Pr(>F) ┆ stars ┆ ids │\n",
       "│ ---        ┆ ---        ┆ ---        ┆ ---    ┆   ┆ ---      ┆ ---    ┆ ---   ┆ --- │\n",
       "│ f64        ┆ f64        ┆ f64        ┆ f64    ┆   ┆ f64      ┆ str    ┆ str   ┆ i64 │\n",
       "╞════════════╪════════════╪════════════╪════════╪═══╪══════════╪════════╪═══════╪═════╡\n",
       "│ 156.622328 ┆ 163.951007 ┆ -73.311164 ┆ 28.0   ┆ … ┆ 0.0      ┆        ┆       ┆ 1   │\n",
       "│ 155.481091 ┆ 165.741242 ┆ -70.740546 ┆ 26.0   ┆ … ┆ 2.265769 ┆ 0.124  ┆       ┆ 2   │\n",
       "└────────────┴────────────┴────────────┴────────┴───┴──────────┴────────┴───────┴─────┘, _body=<great_tables._gt_data.Body object at 0x16a1aaf90>, _boxhead=Boxhead([ColInfo(var='ids', type=<ColInfoTypeEnum.stub: 2>, column_label='', column_align='right', column_width=None), ColInfo(var='AIC', type=<ColInfoTypeEnum.default: 1>, column_label='AIC', column_align='right', column_width=None), ColInfo(var='BIC', type=<ColInfoTypeEnum.default: 1>, column_label='BIC', column_align='right', column_width=None), ColInfo(var='logLik', type=<ColInfoTypeEnum.default: 1>, column_label='logLik', column_align='right', column_width=None), ColInfo(var='Res_Df', type=<ColInfoTypeEnum.default: 1>, column_label='Res_Df', column_align='right', column_width=None), ColInfo(var='RSS', type=<ColInfoTypeEnum.default: 1>, column_label='RSS', column_align='right', column_width=None), ColInfo(var='Df', type=<ColInfoTypeEnum.default: 1>, column_label='Df', column_align='right', column_width=None), ColInfo(var='Sum of Sq', type=<ColInfoTypeEnum.default: 1>, column_label='Sum of Sq', column_align='right', column_width=None), ColInfo(var='F', type=<ColInfoTypeEnum.default: 1>, column_label='F', column_align='right', column_width=None), ColInfo(var='Pr(>F)', type=<ColInfoTypeEnum.default: 1>, column_label='Pr(>F)', column_align='left', column_width=None), ColInfo(var='stars', type=<ColInfoTypeEnum.default: 1>, column_label='', column_align='left', column_width=None)]), _stub=<great_tables._gt_data.Stub object at 0x16a1c4980>, _spanners=Spanners([]), _heading=Heading(title='Analysis of Deviance Table', subtitle=Md(text='Model 1: lm(mpg~wt+cyl)   \\nModel 2: lm(mpg~wt*cyl)   \\n'), preheader=None), _stubhead=None, _source_notes=[Md(text='Signif. codes: *0 *** 0.001 ** 0.01 * 0.05 . 0.1*')], _footnotes=[], _styles=[], _locale=<great_tables._gt_data.Locale object at 0x16a122360>, _formats=[<great_tables._gt_data.FormatInfo object at 0x16a1c4b30>, <great_tables._gt_data.FormatInfo object at 0x16a1c40b0>], _substitutions=[<great_tables._gt_data.FormatInfo object at 0x16a1c47a0>], _options=Options(table_id=OptionsInfo(scss=False, category='table', type='value', value=None), table_caption=OptionsInfo(scss=False, category='table', type='value', value=None), table_width=OptionsInfo(scss=True, category='table', type='px', value='auto'), table_layout=OptionsInfo(scss=True, category='table', type='value', value='fixed'), table_margin_left=OptionsInfo(scss=True, category='table', type='px', value='auto'), table_margin_right=OptionsInfo(scss=True, category='table', type='px', value='auto'), table_background_color=OptionsInfo(scss=True, category='table', type='value', value='#FFFFFF'), table_additional_css=OptionsInfo(scss=False, category='table', type='values', value=[]), table_font_names=OptionsInfo(scss=False, category='table', type='values', value=['-apple-system', 'BlinkMacSystemFont', 'Segoe UI', 'Roboto', 'Oxygen', 'Ubuntu', 'Cantarell', 'Helvetica Neue', 'Fira Sans', 'Droid Sans', 'Arial', 'sans-serif']), table_font_size=OptionsInfo(scss=True, category='table', type='px', value='16px'), table_font_weight=OptionsInfo(scss=True, category='table', type='value', value='normal'), table_font_style=OptionsInfo(scss=True, category='table', type='value', value='normal'), table_font_color=OptionsInfo(scss=True, category='table', type='value', value='#333333'), table_font_color_light=OptionsInfo(scss=True, category='table', type='value', value='#FFFFFF'), table_border_top_include=OptionsInfo(scss=False, category='table', type='boolean', value=True), table_border_top_style=OptionsInfo(scss=True, category='table', type='value', value='solid'), table_border_top_width=OptionsInfo(scss=True, category='table', type='px', value='2px'), table_border_top_color=OptionsInfo(scss=True, category='table', type='value', value='#A8A8A8'), table_border_right_style=OptionsInfo(scss=True, category='table', type='value', value='none'), table_border_right_width=OptionsInfo(scss=True, category='table', type='px', value='2px'), table_border_right_color=OptionsInfo(scss=True, category='table', type='value', value='#D3D3D3'), table_border_bottom_include=OptionsInfo(scss=False, category='table', type='boolean', value=True), table_border_bottom_style=OptionsInfo(scss=True, category='table', type='value', value='solid'), table_border_bottom_width=OptionsInfo(scss=True, category='table', type='px', value='2px'), table_border_bottom_color=OptionsInfo(scss=True, category='table', type='value', value='#A8A8A8'), table_border_left_style=OptionsInfo(scss=True, category='table', type='value', value='none'), table_border_left_width=OptionsInfo(scss=True, category='table', type='px', value='2px'), table_border_left_color=OptionsInfo(scss=True, category='table', type='value', value='#D3D3D3'), heading_background_color=OptionsInfo(scss=True, category='heading', type='value', value=None), heading_align=OptionsInfo(scss=True, category='heading', type='value', value='left'), heading_title_font_size=OptionsInfo(scss=True, category='heading', type='px', value='125%'), heading_title_font_weight=OptionsInfo(scss=True, category='heading', type='value', value='initial'), heading_subtitle_font_size=OptionsInfo(scss=True, category='heading', type='px', value='85%'), heading_subtitle_font_weight=OptionsInfo(scss=True, category='heading', type='value', value='initial'), heading_padding=OptionsInfo(scss=True, category='heading', type='px', value='4px'), heading_padding_horizontal=OptionsInfo(scss=True, category='heading', type='px', value='5px'), heading_border_bottom_style=OptionsInfo(scss=True, category='heading', type='value', value='solid'), heading_border_bottom_width=OptionsInfo(scss=True, category='heading', type='px', value='2px'), heading_border_bottom_color=OptionsInfo(scss=True, category='heading', type='value', value='#D3D3D3'), heading_border_lr_style=OptionsInfo(scss=True, category='heading', type='value', value='none'), heading_border_lr_width=OptionsInfo(scss=True, category='heading', type='px', value='1px'), heading_border_lr_color=OptionsInfo(scss=True, category='heading', type='value', value='#D3D3D3'), column_labels_background_color=OptionsInfo(scss=True, category='column_labels', type='value', value=None), column_labels_font_size=OptionsInfo(scss=True, category='column_labels', type='px', value='100%'), column_labels_font_weight=OptionsInfo(scss=True, category='column_labels', type='value', value='normal'), column_labels_text_transform=OptionsInfo(scss=True, category='column_labels', type='value', value='inherit'), column_labels_padding=OptionsInfo(scss=True, category='column_labels', type='px', value='5px'), column_labels_padding_horizontal=OptionsInfo(scss=True, category='column_labels', type='px', value='5px'), column_labels_vlines_style=OptionsInfo(scss=True, category='table_body', type='value', value='none'), column_labels_vlines_width=OptionsInfo(scss=True, category='table_body', type='px', value='1px'), column_labels_vlines_color=OptionsInfo(scss=True, category='table_body', type='value', value='#D3D3D3'), column_labels_border_top_style=OptionsInfo(scss=True, category='column_labels', type='value', value='solid'), column_labels_border_top_width=OptionsInfo(scss=True, category='column_labels', type='px', value='2px'), column_labels_border_top_color=OptionsInfo(scss=True, category='column_labels', type='value', value='#D3D3D3'), column_labels_border_bottom_style=OptionsInfo(scss=True, category='column_labels', type='value', value='solid'), column_labels_border_bottom_width=OptionsInfo(scss=True, category='column_labels', type='px', value='2px'), column_labels_border_bottom_color=OptionsInfo(scss=True, category='column_labels', type='value', value='#D3D3D3'), column_labels_border_lr_style=OptionsInfo(scss=True, category='column_labels', type='value', value='none'), column_labels_border_lr_width=OptionsInfo(scss=True, category='column_labels', type='px', value='1px'), column_labels_border_lr_color=OptionsInfo(scss=True, category='column_labels', type='value', value='#D3D3D3'), column_labels_hidden=OptionsInfo(scss=False, category='column_labels', type='boolean', value=False), row_group_background_color=OptionsInfo(scss=True, category='row_group', type='value', value=None), row_group_font_size=OptionsInfo(scss=True, category='row_group', type='px', value='100%'), row_group_font_weight=OptionsInfo(scss=True, category='row_group', type='value', value='initial'), row_group_text_transform=OptionsInfo(scss=True, category='row_group', type='value', value='inherit'), row_group_padding=OptionsInfo(scss=True, category='row_group', type='px', value='8px'), row_group_padding_horizontal=OptionsInfo(scss=True, category='row_group', type='px', value='5px'), row_group_border_top_style=OptionsInfo(scss=True, category='row_group', type='value', value='solid'), row_group_border_top_width=OptionsInfo(scss=True, category='row_group', type='px', value='2px'), row_group_border_top_color=OptionsInfo(scss=True, category='row_group', type='value', value='#D3D3D3'), row_group_border_right_style=OptionsInfo(scss=True, category='row_group', type='value', value='none'), row_group_border_right_width=OptionsInfo(scss=True, category='row_group', type='px', value='1px'), row_group_border_right_color=OptionsInfo(scss=True, category='row_group', type='value', value='#D3D3D3'), row_group_border_bottom_style=OptionsInfo(scss=True, category='row_group', type='value', value='solid'), row_group_border_bottom_width=OptionsInfo(scss=True, category='row_group', type='px', value='2px'), row_group_border_bottom_color=OptionsInfo(scss=True, category='row_group', type='value', value='#D3D3D3'), row_group_border_left_style=OptionsInfo(scss=True, category='row_group', type='value', value='none'), row_group_border_left_width=OptionsInfo(scss=True, category='row_group', type='px', value='1px'), row_group_border_left_color=OptionsInfo(scss=True, category='row_group', type='value', value='#D3D3D3'), row_group_as_column=OptionsInfo(scss=False, category='row_group', type='boolean', value=False), table_body_hlines_style=OptionsInfo(scss=True, category='table_body', type='value', value='solid'), table_body_hlines_width=OptionsInfo(scss=True, category='table_body', type='px', value='1px'), table_body_hlines_color=OptionsInfo(scss=True, category='table_body', type='value', value='#D3D3D3'), table_body_vlines_style=OptionsInfo(scss=True, category='table_body', type='value', value='none'), table_body_vlines_width=OptionsInfo(scss=True, category='table_body', type='px', value='1px'), table_body_vlines_color=OptionsInfo(scss=True, category='table_body', type='value', value='#D3D3D3'), table_body_border_top_style=OptionsInfo(scss=True, category='table_body', type='value', value='solid'), table_body_border_top_width=OptionsInfo(scss=True, category='table_body', type='px', value='2px'), table_body_border_top_color=OptionsInfo(scss=True, category='table_body', type='value', value='#D3D3D3'), table_body_border_bottom_style=OptionsInfo(scss=True, category='table_body', type='value', value='solid'), table_body_border_bottom_width=OptionsInfo(scss=True, category='table_body', type='px', value='2px'), table_body_border_bottom_color=OptionsInfo(scss=True, category='table_body', type='value', value='#D3D3D3'), data_row_padding=OptionsInfo(scss=True, category='data_row', type='px', value='8px'), data_row_padding_horizontal=OptionsInfo(scss=True, category='data_row', type='px', value='5px'), stub_background_color=OptionsInfo(scss=True, category='stub', type='value', value=None), stub_font_size=OptionsInfo(scss=True, category='stub', type='px', value='100%'), stub_font_weight=OptionsInfo(scss=True, category='stub', type='value', value='initial'), stub_text_transform=OptionsInfo(scss=True, category='stub', type='value', value='inherit'), stub_border_style=OptionsInfo(scss=True, category='stub', type='value', value='solid'), stub_border_width=OptionsInfo(scss=True, category='stub', type='px', value='2px'), stub_border_color=OptionsInfo(scss=True, category='stub', type='value', value='#D3D3D3'), stub_row_group_background_color=OptionsInfo(scss=True, category='stub', type='value', value=None), stub_row_group_font_size=OptionsInfo(scss=True, category='stub', type='px', value='100%'), stub_row_group_font_weight=OptionsInfo(scss=True, category='stub', type='value', value='initial'), stub_row_group_text_transform=OptionsInfo(scss=True, category='stub', type='value', value='inherit'), stub_row_group_border_style=OptionsInfo(scss=True, category='stub', type='value', value='solid'), stub_row_group_border_width=OptionsInfo(scss=True, category='stub', type='px', value='2px'), stub_row_group_border_color=OptionsInfo(scss=True, category='stub', type='value', value='#D3D3D3'), source_notes_padding=OptionsInfo(scss=True, category='source_notes', type='px', value='4px'), source_notes_padding_horizontal=OptionsInfo(scss=True, category='source_notes', type='px', value='5px'), source_notes_background_color=OptionsInfo(scss=True, category='source_notes', type='value', value=None), source_notes_font_size=OptionsInfo(scss=True, category='source_notes', type='px', value='small'), source_notes_border_bottom_style=OptionsInfo(scss=True, category='source_notes', type='value', value='none'), source_notes_border_bottom_width=OptionsInfo(scss=True, category='source_notes', type='px', value='2px'), source_notes_border_bottom_color=OptionsInfo(scss=True, category='source_notes', type='value', value='#D3D3D3'), source_notes_border_lr_style=OptionsInfo(scss=True, category='source_notes', type='value', value='none'), source_notes_border_lr_width=OptionsInfo(scss=True, category='source_notes', type='px', value='2px'), source_notes_border_lr_color=OptionsInfo(scss=True, category='source_notes', type='value', value='#D3D3D3'), source_notes_multiline=OptionsInfo(scss=False, category='source_notes', type='boolean', value=True), source_notes_sep=OptionsInfo(scss=False, category='source_notes', type='value', value=' '), row_striping_background_color=OptionsInfo(scss=True, category='row', type='value', value='rgba(128,128,128,0.05)'), row_striping_include_stub=OptionsInfo(scss=False, category='row', type='boolean', value=False), row_striping_include_table_body=OptionsInfo(scss=False, category='row', type='boolean', value=False), container_width=OptionsInfo(scss=False, category='container', type='px', value='auto'), container_height=OptionsInfo(scss=False, category='container', type='px', value='auto'), container_padding_x=OptionsInfo(scss=False, category='container', type='px', value='0px'), container_padding_y=OptionsInfo(scss=False, category='container', type='px', value='10px'), container_overflow_x=OptionsInfo(scss=False, category='container', type='overflow', value='auto'), container_overflow_y=OptionsInfo(scss=False, category='container', type='overflow', value='auto'), quarto_disable_processing=OptionsInfo(scss=False, category='quarto', type='logical', value=False), quarto_use_bootstrap=OptionsInfo(scss=False, category='quarto', type='logical', value=False)), _has_built=False)"
      ]
     },
     "execution_count": 16,
     "metadata": {},
     "output_type": "execute_result"
    }
   ],
   "source": [
    "from pymer4.models import compare\n",
    "\n",
    "# Model without interaction\n",
    "add_only = lm('mpg ~ wt + cyl', data=df)\n",
    "add_only.set_factors({'cyl': ['4', '6', '8']})\n",
    "\n",
    "# Compare the models\n",
    "compare(add_only, model)"
   ]
  },
  {
   "cell_type": "markdown",
   "metadata": {},
   "source": [
    "## Marginal estimates & contrasts (\"post-hoc\" tests)\n",
    "\n",
    "In models with multiple terms and factor levels, you're often interested in specific *marginal* estimates and comparisons, e.g. \"cell mean comparisons\" in ANOVA-speak. \n",
    "\n",
    "You can use the `.emmeans()` method to generate these marginal estimates at various combinations of predictor levels"
   ]
  },
  {
   "cell_type": "markdown",
   "metadata": {},
   "source": [
    "For example, using $cyl$ will return the mean for factor level while $wt$ is held at its mean (0 in this case due to centering)"
   ]
  },
  {
   "cell_type": "code",
   "execution_count": 24,
   "metadata": {},
   "outputs": [
    {
     "data": {
      "text/html": [
       "<div><style>\n",
       ".dataframe > thead > tr,\n",
       ".dataframe > tbody > tr {\n",
       "  text-align: right;\n",
       "  white-space: pre-wrap;\n",
       "}\n",
       "</style>\n",
       "<small>shape: (3, 6)</small><table border=\"1\" class=\"dataframe\"><thead><tr><th>cyl</th><th>emmean</th><th>SE</th><th>df</th><th>lower_CL</th><th>upper_CL</th></tr><tr><td>cat</td><td>f64</td><td>f64</td><td>f64</td><td>f64</td><td>f64</td></tr></thead><tbody><tr><td>&quot;4&quot;</td><td>21.403304</td><td>1.465893</td><td>26.0</td><td>17.66308</td><td>25.143528</td></tr><tr><td>&quot;6&quot;</td><td>19.464549</td><td>0.967159</td><td>26.0</td><td>16.996845</td><td>21.932253</td></tr><tr><td>&quot;8&quot;</td><td>16.814408</td><td>0.95775</td><td>26.0</td><td>14.370711</td><td>19.258106</td></tr></tbody></table></div>"
      ],
      "text/plain": [
       "shape: (3, 6)\n",
       "┌─────┬───────────┬──────────┬──────┬───────────┬───────────┐\n",
       "│ cyl ┆ emmean    ┆ SE       ┆ df   ┆ lower_CL  ┆ upper_CL  │\n",
       "│ --- ┆ ---       ┆ ---      ┆ ---  ┆ ---       ┆ ---       │\n",
       "│ cat ┆ f64       ┆ f64      ┆ f64  ┆ f64       ┆ f64       │\n",
       "╞═════╪═══════════╪══════════╪══════╪═══════════╪═══════════╡\n",
       "│ 4   ┆ 21.403304 ┆ 1.465893 ┆ 26.0 ┆ 17.66308  ┆ 25.143528 │\n",
       "│ 6   ┆ 19.464549 ┆ 0.967159 ┆ 26.0 ┆ 16.996845 ┆ 21.932253 │\n",
       "│ 8   ┆ 16.814408 ┆ 0.95775  ┆ 26.0 ┆ 14.370711 ┆ 19.258106 │\n",
       "└─────┴───────────┴──────────┴──────┴───────────┴───────────┘"
      ]
     },
     "execution_count": 24,
     "metadata": {},
     "output_type": "execute_result"
    }
   ],
   "source": [
    "model.emmeans('cyl')"
   ]
  },
  {
   "cell_type": "markdown",
   "metadata": {},
   "source": [
    "Passing a continuous predictor $wt$ to `.emmeans()` will calculate the average slope while `cyl` is held at the grand-mean across factor levels. This matches the regression parameter estimate $wt$ above:"
   ]
  },
  {
   "cell_type": "code",
   "execution_count": 17,
   "metadata": {},
   "outputs": [
    {
     "data": {
      "text/html": [
       "<div><style>\n",
       ".dataframe > thead > tr,\n",
       ".dataframe > tbody > tr {\n",
       "  text-align: right;\n",
       "  white-space: pre-wrap;\n",
       "}\n",
       "</style>\n",
       "<small>shape: (1, 5)</small><table border=\"1\" class=\"dataframe\"><thead><tr><th>wt_trend</th><th>SE</th><th>df</th><th>lower_CL</th><th>upper_CL</th></tr><tr><td>f64</td><td>f64</td><td>f64</td><td>f64</td><td>f64</td></tr></thead><tbody><tr><td>-3.539856</td><td>1.081023</td><td>26.0</td><td>-5.76193</td><td>-1.317783</td></tr></tbody></table></div>"
      ],
      "text/plain": [
       "shape: (1, 5)\n",
       "┌───────────┬──────────┬──────┬──────────┬───────────┐\n",
       "│ wt_trend  ┆ SE       ┆ df   ┆ lower_CL ┆ upper_CL  │\n",
       "│ ---       ┆ ---      ┆ ---  ┆ ---      ┆ ---       │\n",
       "│ f64       ┆ f64      ┆ f64  ┆ f64      ┆ f64       │\n",
       "╞═══════════╪══════════╪══════╪══════════╪═══════════╡\n",
       "│ -3.539856 ┆ 1.081023 ┆ 26.0 ┆ -5.76193 ┆ -1.317783 │\n",
       "└───────────┴──────────┴──────┴──────────┴───────────┘"
      ]
     },
     "execution_count": 17,
     "metadata": {},
     "output_type": "execute_result"
    }
   ],
   "source": [
    "model.emmeans('wt')"
   ]
  },
  {
   "cell_type": "markdown",
   "metadata": {},
   "source": [
    "Or we can unpack the interaction by calculating separate slopes of $wt$ for each level of $cyl$"
   ]
  },
  {
   "cell_type": "code",
   "execution_count": 19,
   "metadata": {},
   "outputs": [
    {
     "data": {
      "text/html": [
       "<div><style>\n",
       ".dataframe > thead > tr,\n",
       ".dataframe > tbody > tr {\n",
       "  text-align: right;\n",
       "  white-space: pre-wrap;\n",
       "}\n",
       "</style>\n",
       "<small>shape: (3, 6)</small><table border=\"1\" class=\"dataframe\"><thead><tr><th>cyl</th><th>wt_trend</th><th>SE</th><th>df</th><th>lower_CL</th><th>upper_CL</th></tr><tr><td>cat</td><td>f64</td><td>f64</td><td>f64</td><td>f64</td><td>f64</td></tr></thead><tbody><tr><td>&quot;4&quot;</td><td>-5.647025</td><td>1.359498</td><td>26.0</td><td>-9.115782</td><td>-2.178268</td></tr><tr><td>&quot;6&quot;</td><td>-2.780106</td><td>2.805265</td><td>26.0</td><td>-9.937736</td><td>4.377524</td></tr><tr><td>&quot;8&quot;</td><td>-2.192438</td><td>0.894285</td><td>26.0</td><td>-4.474204</td><td>0.089329</td></tr></tbody></table></div>"
      ],
      "text/plain": [
       "shape: (3, 6)\n",
       "┌─────┬───────────┬──────────┬──────┬───────────┬───────────┐\n",
       "│ cyl ┆ wt_trend  ┆ SE       ┆ df   ┆ lower_CL  ┆ upper_CL  │\n",
       "│ --- ┆ ---       ┆ ---      ┆ ---  ┆ ---       ┆ ---       │\n",
       "│ cat ┆ f64       ┆ f64      ┆ f64  ┆ f64       ┆ f64       │\n",
       "╞═════╪═══════════╪══════════╪══════╪═══════════╪═══════════╡\n",
       "│ 4   ┆ -5.647025 ┆ 1.359498 ┆ 26.0 ┆ -9.115782 ┆ -2.178268 │\n",
       "│ 6   ┆ -2.780106 ┆ 2.805265 ┆ 26.0 ┆ -9.937736 ┆ 4.377524  │\n",
       "│ 8   ┆ -2.192438 ┆ 0.894285 ┆ 26.0 ┆ -4.474204 ┆ 0.089329  │\n",
       "└─────┴───────────┴──────────┴──────┴───────────┴───────────┘"
      ]
     },
     "execution_count": 19,
     "metadata": {},
     "output_type": "execute_result"
    }
   ],
   "source": [
    "model.emmeans('wt', by='cyl')"
   ]
  },
  {
   "cell_type": "markdown",
   "metadata": {},
   "source": [
    "We can test the same hypothesis represented by $cyl.L$ above, the *linear* trend from our `contr.poly` contrast, by running a contrast across the marginal means of $cyl$ while $wt$ is held constant"
   ]
  },
  {
   "cell_type": "code",
   "execution_count": 11,
   "metadata": {},
   "outputs": [
    {
     "name": "stdout",
     "output_type": "stream",
     "text": [
      "R messages: \n",
      "NOTE: Results may be misleading due to involvement in interactions\n",
      "\n"
     ]
    },
    {
     "data": {
      "text/html": [
       "<div><style>\n",
       ".dataframe > thead > tr,\n",
       ".dataframe > tbody > tr {\n",
       "  text-align: right;\n",
       "  white-space: pre-wrap;\n",
       "}\n",
       "</style>\n",
       "<small>shape: (1, 8)</small><table border=\"1\" class=\"dataframe\"><thead><tr><th>contrast</th><th>estimate</th><th>SE</th><th>df</th><th>lower_CL</th><th>upper_CL</th><th>t_ratio</th><th>p_value</th></tr><tr><td>str</td><td>f64</td><td>f64</td><td>f64</td><td>f64</td><td>f64</td><td>f64</td><td>f64</td></tr></thead><tbody><tr><td>&quot;linear&quot;</td><td>-4.588896</td><td>1.751036</td><td>26.0</td><td>-8.188202</td><td>-0.98959</td><td>-2.620675</td><td>0.014464</td></tr></tbody></table></div>"
      ],
      "text/plain": [
       "shape: (1, 8)\n",
       "┌──────────┬───────────┬──────────┬──────┬───────────┬──────────┬───────────┬──────────┐\n",
       "│ contrast ┆ estimate  ┆ SE       ┆ df   ┆ lower_CL  ┆ upper_CL ┆ t_ratio   ┆ p_value  │\n",
       "│ ---      ┆ ---       ┆ ---      ┆ ---  ┆ ---       ┆ ---      ┆ ---       ┆ ---      │\n",
       "│ str      ┆ f64       ┆ f64      ┆ f64  ┆ f64       ┆ f64      ┆ f64       ┆ f64      │\n",
       "╞══════════╪═══════════╪══════════╪══════╪═══════════╪══════════╪═══════════╪══════════╡\n",
       "│ linear   ┆ -4.588896 ┆ 1.751036 ┆ 26.0 ┆ -8.188202 ┆ -0.98959 ┆ -2.620675 ┆ 0.014464 │\n",
       "└──────────┴───────────┴──────────┴──────┴───────────┴──────────┴───────────┴──────────┘"
      ]
     },
     "execution_count": 11,
     "metadata": {},
     "output_type": "execute_result"
    }
   ],
   "source": [
    "# linear contrast across factor levels\n",
    "# (-1 * 4) + (0 * 6) + (1 * 8)\n",
    "model.emmeans('cyl', contrasts={'linear':[-1, 0, 1]})"
   ]
  },
  {
   "cell_type": "markdown",
   "metadata": {},
   "source": [
    "Similar to `.set_contrasts()` we can `normalize` this contrast so it lines up more closesly with $cyl.L$. This is often recommended when you're primarily interested in polynomial slopes across factor levels.\n",
    "\n",
    "*Note: this doesn't change our inference test just how we weight the contrast!*"
   ]
  },
  {
   "cell_type": "code",
   "execution_count": 17,
   "metadata": {},
   "outputs": [
    {
     "name": "stdout",
     "output_type": "stream",
     "text": [
      "R messages: \n",
      "NOTE: Results may be misleading due to involvement in interactions\n",
      "\n"
     ]
    },
    {
     "data": {
      "text/html": [
       "<div><style>\n",
       ".dataframe > thead > tr,\n",
       ".dataframe > tbody > tr {\n",
       "  text-align: right;\n",
       "  white-space: pre-wrap;\n",
       "}\n",
       "</style>\n",
       "<small>shape: (1, 8)</small><table border=\"1\" class=\"dataframe\"><thead><tr><th>contrast</th><th>estimate</th><th>SE</th><th>df</th><th>lower_CL</th><th>upper_CL</th><th>t_ratio</th><th>p_value</th></tr><tr><td>str</td><td>f64</td><td>f64</td><td>f64</td><td>f64</td><td>f64</td><td>f64</td><td>f64</td></tr></thead><tbody><tr><td>&quot;linear&quot;</td><td>-3.244839</td><td>1.238169</td><td>26.0</td><td>-5.789933</td><td>-0.699746</td><td>-2.620675</td><td>0.014464</td></tr></tbody></table></div>"
      ],
      "text/plain": [
       "shape: (1, 8)\n",
       "┌──────────┬───────────┬──────────┬──────┬───────────┬───────────┬───────────┬──────────┐\n",
       "│ contrast ┆ estimate  ┆ SE       ┆ df   ┆ lower_CL  ┆ upper_CL  ┆ t_ratio   ┆ p_value  │\n",
       "│ ---      ┆ ---       ┆ ---      ┆ ---  ┆ ---       ┆ ---       ┆ ---       ┆ ---      │\n",
       "│ str      ┆ f64       ┆ f64      ┆ f64  ┆ f64       ┆ f64       ┆ f64       ┆ f64      │\n",
       "╞══════════╪═══════════╪══════════╪══════╪═══════════╪═══════════╪═══════════╪══════════╡\n",
       "│ linear   ┆ -3.244839 ┆ 1.238169 ┆ 26.0 ┆ -5.789933 ┆ -0.699746 ┆ -2.620675 ┆ 0.014464 │\n",
       "└──────────┴───────────┴──────────┴──────┴───────────┴───────────┴───────────┴──────────┘"
      ]
     },
     "execution_count": 17,
     "metadata": {},
     "output_type": "execute_result"
    }
   ],
   "source": [
    "model.emmeans('cyl', contrasts={'linear':[-1, 0, 1]}, normalize=True)"
   ]
  },
  {
   "cell_type": "markdown",
   "metadata": {},
   "source": [
    "While you should primarily perform *hypothesis-driven* analyses, you can also you can also perform exhaustive pairwise comparisons between factor levels with multiple-comparisons correction.\n",
    "\n",
    "This allows us to unpack the interaction term by looking at slope differences for $wt$ between each pair of levels of $cyl$"
   ]
  },
  {
   "cell_type": "code",
   "execution_count": 18,
   "metadata": {},
   "outputs": [
    {
     "data": {
      "text/html": [
       "<div><style>\n",
       ".dataframe > thead > tr,\n",
       ".dataframe > tbody > tr {\n",
       "  text-align: right;\n",
       "  white-space: pre-wrap;\n",
       "}\n",
       "</style>\n",
       "<small>shape: (3, 8)</small><table border=\"1\" class=\"dataframe\"><thead><tr><th>contrast</th><th>estimate</th><th>SE</th><th>df</th><th>lower_CL</th><th>upper_CL</th><th>t_ratio</th><th>p_value</th></tr><tr><td>str</td><td>f64</td><td>f64</td><td>f64</td><td>f64</td><td>f64</td><td>f64</td><td>f64</td></tr></thead><tbody><tr><td>&quot;cyl4 - cyl6&quot;</td><td>-2.866919</td><td>3.11733</td><td>26.0</td><td>-10.820782</td><td>5.086944</td><td>-0.919672</td><td>0.745399</td></tr><tr><td>&quot;cyl4 - cyl8&quot;</td><td>-3.454587</td><td>1.627261</td><td>26.0</td><td>-7.606543</td><td>0.697368</td><td>-2.122946</td><td>0.124742</td></tr><tr><td>&quot;cyl6 - cyl8&quot;</td><td>-0.587668</td><td>2.94436</td><td>26.0</td><td>-8.100199</td><td>6.924863</td><td>-0.199591</td><td>0.996156</td></tr></tbody></table></div>"
      ],
      "text/plain": [
       "shape: (3, 8)\n",
       "┌─────────────┬───────────┬──────────┬──────┬────────────┬──────────┬───────────┬──────────┐\n",
       "│ contrast    ┆ estimate  ┆ SE       ┆ df   ┆ lower_CL   ┆ upper_CL ┆ t_ratio   ┆ p_value  │\n",
       "│ ---         ┆ ---       ┆ ---      ┆ ---  ┆ ---        ┆ ---      ┆ ---       ┆ ---      │\n",
       "│ str         ┆ f64       ┆ f64      ┆ f64  ┆ f64        ┆ f64      ┆ f64       ┆ f64      │\n",
       "╞═════════════╪═══════════╪══════════╪══════╪════════════╪══════════╪═══════════╪══════════╡\n",
       "│ cyl4 - cyl6 ┆ -2.866919 ┆ 3.11733  ┆ 26.0 ┆ -10.820782 ┆ 5.086944 ┆ -0.919672 ┆ 0.745399 │\n",
       "│ cyl4 - cyl8 ┆ -3.454587 ┆ 1.627261 ┆ 26.0 ┆ -7.606543  ┆ 0.697368 ┆ -2.122946 ┆ 0.124742 │\n",
       "│ cyl6 - cyl8 ┆ -0.587668 ┆ 2.94436  ┆ 26.0 ┆ -8.100199  ┆ 6.924863 ┆ -0.199591 ┆ 0.996156 │\n",
       "└─────────────┴───────────┴──────────┴──────┴────────────┴──────────┴───────────┴──────────┘"
      ]
     },
     "execution_count": 18,
     "metadata": {},
     "output_type": "execute_result"
    }
   ],
   "source": [
    "model.emmeans('wt', by='cyl', contrasts='pairwise', p_adjust='sidak')"
   ]
  },
  {
   "cell_type": "markdown",
   "metadata": {},
   "source": [
    "## Summary and next steps\n",
    "\n",
    "This quickstart provided an overview of the core functionality when working with models in `pymer4`. For more in-depth tutorials check out:\n",
    "\n",
    "- [linear regression tutorial](../tutorials/01_lm) which also demonstrates features common to *all* `pymer4` models  \n",
    "- [categorical variables tutorial](../tutorials/02_categorical) if you're working with factorial designs or non-numeric predictors   \n",
    "- [generalize linear models tutorial](../tutorials/03_glm.ipynb) for non-gaussian outcome variables (e.g. logistic regression)  \n",
    "- [linear mixed models](../tutorials/04_lmer.ipynb) and [generalized linear mixed models](../tutorials/05_glmer.ipynb) for repeated-measures or multi-level data\n",
    "\n",
    "You can read about the specific arguments and outputs of different model methods on their respective API pages, e.g. [`lm.fit()`](../api/models/lm.md#pymer4.models.lm.lm.fit) \n",
    "\n",
    "If you're interested in more advanced functionality, you explore the [`tidystats` module](../api/functions.md) that export many popular R functions from a variety of libraries (and powers `pymer4.models` !)"
   ]
  }
 ],
 "metadata": {
  "kernelspec": {
   "display_name": "default",
   "language": "python",
   "name": "python3"
  },
  "language_info": {
   "codemirror_mode": {
    "name": "ipython",
    "version": 3
   },
   "file_extension": ".py",
   "mimetype": "text/x-python",
   "name": "python",
   "nbconvert_exporter": "python",
   "pygments_lexer": "ipython3",
   "version": "3.12.9"
  }
 },
 "nbformat": 4,
 "nbformat_minor": 2
}
