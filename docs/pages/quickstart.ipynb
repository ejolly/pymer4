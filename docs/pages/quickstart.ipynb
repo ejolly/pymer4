{
 "cells": [
  {
   "cell_type": "markdown",
   "metadata": {},
   "source": [
    "# Quickstart\n",
    "\n",
    "## Installation\n",
    "\n",
    "First follow the [installation guide](./installation.md) to setup `pymer4` using `conda` or Google Collab\n",
    "\n",
    "## Picking a model\n",
    "\n",
    "`pymer4` provides 4 types of models that share a consistent API: \n",
    "\n",
    "| Model | Description |\n",
    "|--------|-------------|\n",
    "| [`lm()`](../api/models/lm.md) | linear regression fit via ordinary-least-squares (OLS) |\n",
    "| [`glm()`](../api/models/glm.md) | generalized linear models (e.g logistic regression) fit via maximum-likelihood-estimate (MLE) |\n",
    "| [`lmer()`](../api/models/lmer.md) | linear-mixed / multi-level models |\n",
    "| [`glmer()`](../api/models/glmer.md) | geneneralized linear-mixed / multi-level models |"
   ]
  },
  {
   "cell_type": "markdown",
   "metadata": {},
   "source": [
    "## Loading data\n",
    "\n",
    "All models work with [`polars` Dataframes](https://docs.pola.rs/user-guide/getting-started/). If you are coming from `pandas` you can easily convert between libraries, but you should also *seriously consider* [switching](https://docs.pola.rs/user-guide/migration/pandas/):\n",
    "\n",
    "- `pandas` -> `polars`: `import polars as pl; pl.DataFrame(pd_frame)`\n",
    "- `polars` -> `pandas`: `pl_frame.to_pandas()`\n",
    "\n",
    "Included are a number of datasets accessible with the `load_dataset()` function. Let's load the popular `mtcars` dataset:"
   ]
  },
  {
   "cell_type": "code",
   "execution_count": 1,
   "metadata": {},
   "outputs": [
    {
     "data": {
      "text/html": [
       "<div><style>\n",
       ".dataframe > thead > tr,\n",
       ".dataframe > tbody > tr {\n",
       "  text-align: right;\n",
       "  white-space: pre-wrap;\n",
       "}\n",
       "</style>\n",
       "<small>shape: (5, 3)</small><table border=\"1\" class=\"dataframe\"><thead><tr><th>mpg</th><th>cyl</th><th>wt</th></tr><tr><td>f64</td><td>i64</td><td>f64</td></tr></thead><tbody><tr><td>21.0</td><td>6</td><td>2.62</td></tr><tr><td>21.0</td><td>6</td><td>2.875</td></tr><tr><td>22.8</td><td>4</td><td>2.32</td></tr><tr><td>21.4</td><td>6</td><td>3.215</td></tr><tr><td>18.7</td><td>8</td><td>3.44</td></tr></tbody></table></div>"
      ],
      "text/plain": [
       "shape: (5, 3)\n",
       "┌──────┬─────┬───────┐\n",
       "│ mpg  ┆ cyl ┆ wt    │\n",
       "│ ---  ┆ --- ┆ ---   │\n",
       "│ f64  ┆ i64 ┆ f64   │\n",
       "╞══════╪═════╪═══════╡\n",
       "│ 21.0 ┆ 6   ┆ 2.62  │\n",
       "│ 21.0 ┆ 6   ┆ 2.875 │\n",
       "│ 22.8 ┆ 4   ┆ 2.32  │\n",
       "│ 21.4 ┆ 6   ┆ 3.215 │\n",
       "│ 18.7 ┆ 8   ┆ 3.44  │\n",
       "└──────┴─────┴───────┘"
      ]
     },
     "execution_count": 1,
     "metadata": {},
     "output_type": "execute_result"
    }
   ],
   "source": [
    "from pymer4 import load_dataset\n",
    "\n",
    "# Load the dataset\n",
    "cars = load_dataset('mtcars')\n",
    "\n",
    "# Get the columns we want\n",
    "df = cars.select('mpg', 'cyl', 'wt')\n",
    "\n",
    "# Show the first 5 rows\n",
    "df.head()"
   ]
  },
  {
   "cell_type": "markdown",
   "metadata": {},
   "source": [
    "## Fitting a model"
   ]
  },
  {
   "cell_type": "markdown",
   "metadata": {},
   "source": [
    "Let's estimate the following univariate regression model:\n",
    "\n",
    "$$\n",
    "mpg \\sim \\beta_0 + \\beta_1 * wt\n",
    "$$\n",
    "\n",
    "We can use `lm` class to create a model which simply requires a *formula* and some *data*"
   ]
  },
  {
   "cell_type": "code",
   "execution_count": 2,
   "metadata": {},
   "outputs": [
    {
     "data": {
      "text/plain": [
       "pymer4.models.lm(fitted=False, formula=mpg~wt)"
      ]
     },
     "execution_count": 2,
     "metadata": {},
     "output_type": "execute_result"
    }
   ],
   "source": [
    "from pymer4.models  import lm\n",
    "\n",
    "# Initialize model\n",
    "model = lm('mpg ~ wt', data=df)\n",
    "\n",
    "model"
   ]
  },
  {
   "cell_type": "markdown",
   "metadata": {},
   "source": [
    "Models make a copy of the input dataframe and store it in their `.data` attribute. As we'll soon see, this dataframe will be *augmented* with additional columns after fitting a model or applying any variable transforms"
   ]
  },
  {
   "cell_type": "code",
   "execution_count": 3,
   "metadata": {},
   "outputs": [
    {
     "data": {
      "text/html": [
       "<div><style>\n",
       ".dataframe > thead > tr,\n",
       ".dataframe > tbody > tr {\n",
       "  text-align: right;\n",
       "  white-space: pre-wrap;\n",
       "}\n",
       "</style>\n",
       "<small>shape: (5, 3)</small><table border=\"1\" class=\"dataframe\"><thead><tr><th>mpg</th><th>cyl</th><th>wt</th></tr><tr><td>f64</td><td>i64</td><td>f64</td></tr></thead><tbody><tr><td>21.0</td><td>6</td><td>2.62</td></tr><tr><td>21.0</td><td>6</td><td>2.875</td></tr><tr><td>22.8</td><td>4</td><td>2.32</td></tr><tr><td>21.4</td><td>6</td><td>3.215</td></tr><tr><td>18.7</td><td>8</td><td>3.44</td></tr></tbody></table></div>"
      ],
      "text/plain": [
       "shape: (5, 3)\n",
       "┌──────┬─────┬───────┐\n",
       "│ mpg  ┆ cyl ┆ wt    │\n",
       "│ ---  ┆ --- ┆ ---   │\n",
       "│ f64  ┆ i64 ┆ f64   │\n",
       "╞══════╪═════╪═══════╡\n",
       "│ 21.0 ┆ 6   ┆ 2.62  │\n",
       "│ 21.0 ┆ 6   ┆ 2.875 │\n",
       "│ 22.8 ┆ 4   ┆ 2.32  │\n",
       "│ 21.4 ┆ 6   ┆ 3.215 │\n",
       "│ 18.7 ┆ 8   ┆ 3.44  │\n",
       "└──────┴─────┴───────┘"
      ]
     },
     "execution_count": 3,
     "metadata": {},
     "output_type": "execute_result"
    }
   ],
   "source": [
    "model.data.head()"
   ]
  },
  {
   "cell_type": "markdown",
   "metadata": {},
   "source": [
    "We can use the `.fit()` method to estimate parameters and inferential statistics which are stored as inside a `model` object and can be accessed with a variety of *methods* (`model.method()`) or *attributes* (`model.attribute`)."
   ]
  },
  {
   "cell_type": "code",
   "execution_count": 4,
   "metadata": {},
   "outputs": [],
   "source": [
    "model.fit()"
   ]
  },
  {
   "cell_type": "markdown",
   "metadata": {},
   "source": [
    "Calling `.fit()` will create the following attributes for all models:\n",
    "- `.params`: parameter estimates (coefficients) for model terms\n",
    "- `.result_fit`: summary style table of parameter estimates and inferential stats\n",
    "- `.result_fit_stat`: model quality-of-fit statistics\n",
    "- augment `.data`: add fit and residual columns to the dataframe"
   ]
  },
  {
   "cell_type": "code",
   "execution_count": 5,
   "metadata": {},
   "outputs": [
    {
     "data": {
      "text/html": [
       "<div><style>\n",
       ".dataframe > thead > tr,\n",
       ".dataframe > tbody > tr {\n",
       "  text-align: right;\n",
       "  white-space: pre-wrap;\n",
       "}\n",
       "</style>\n",
       "<small>shape: (2, 2)</small><table border=\"1\" class=\"dataframe\"><thead><tr><th>term</th><th>estimate</th></tr><tr><td>str</td><td>f64</td></tr></thead><tbody><tr><td>&quot;(Intercept)&quot;</td><td>37.285126</td></tr><tr><td>&quot;wt&quot;</td><td>-5.344472</td></tr></tbody></table></div>"
      ],
      "text/plain": [
       "shape: (2, 2)\n",
       "┌─────────────┬───────────┐\n",
       "│ term        ┆ estimate  │\n",
       "│ ---         ┆ ---       │\n",
       "│ str         ┆ f64       │\n",
       "╞═════════════╪═══════════╡\n",
       "│ (Intercept) ┆ 37.285126 │\n",
       "│ wt          ┆ -5.344472 │\n",
       "└─────────────┴───────────┘"
      ]
     },
     "execution_count": 5,
     "metadata": {},
     "output_type": "execute_result"
    }
   ],
   "source": [
    "# Inspect parameter estimates\n",
    "model.params"
   ]
  },
  {
   "cell_type": "markdown",
   "metadata": {},
   "source": [
    "We can see all this information quickly using the `.summary()` *method* (or by using `.fit(summary=True)`) which returns a nicely formatted [great table](https://posit-dev.github.io/great-tables/articles/intro.html)"
   ]
  },
  {
   "cell_type": "code",
   "execution_count": 6,
   "metadata": {},
   "outputs": [
    {
     "data": {
      "text/html": [
       "<div id=\"iawmwqtryv\" style=\"padding-left:0px;padding-right:0px;padding-top:10px;padding-bottom:10px;overflow-x:auto;overflow-y:auto;width:auto;height:auto;\">\n",
       "<style>\n",
       "#iawmwqtryv table {\n",
       "          font-family: -apple-system, BlinkMacSystemFont, 'Segoe UI', Roboto, Oxygen, Ubuntu, Cantarell, 'Helvetica Neue', 'Fira Sans', 'Droid Sans', Arial, sans-serif;\n",
       "          -webkit-font-smoothing: antialiased;\n",
       "          -moz-osx-font-smoothing: grayscale;\n",
       "        }\n",
       "\n",
       "#iawmwqtryv thead, tbody, tfoot, tr, td, th { border-style: none !important; }\n",
       " tr { background-color: transparent !important; }\n",
       "#iawmwqtryv p { margin: 0 !important; padding: 0 !important; }\n",
       " #iawmwqtryv .gt_table { display: table !important; border-collapse: collapse !important; line-height: normal !important; margin-left: auto !important; margin-right: auto !important; color: #333333 !important; font-size: 16px !important; font-weight: normal !important; font-style: normal !important; background-color: #FFFFFF !important; width: auto !important; border-top-style: solid !important; border-top-width: 2px !important; border-top-color: #A8A8A8 !important; border-right-style: none !important; border-right-width: 2px !important; border-right-color: #D3D3D3 !important; border-bottom-style: solid !important; border-bottom-width: 2px !important; border-bottom-color: #A8A8A8 !important; border-left-style: none !important; border-left-width: 2px !important; border-left-color: #D3D3D3 !important; }\n",
       " #iawmwqtryv .gt_caption { padding-top: 4px !important; padding-bottom: 4px !important; }\n",
       " #iawmwqtryv .gt_title { color: #333333 !important; font-size: 125% !important; font-weight: initial !important; padding-top: 3px !important; padding-bottom: 3px !important; padding-left: 5px !important; padding-right: 5px !important; border-bottom-color: #FFFFFF !important; border-bottom-width: 0 !important; }\n",
       " #iawmwqtryv .gt_subtitle { color: #333333 !important; font-size: 85% !important; font-weight: initial !important; padding-top: 2px !important; padding-bottom: 4px !important; padding-left: 5px !important; padding-right: 5px !important; border-top-color: #FFFFFF !important; border-top-width: 0 !important; }\n",
       " #iawmwqtryv .gt_heading { background-color: #FFFFFF !important; text-align: left !important; border-bottom-color: #FFFFFF !important; border-left-style: none !important; border-left-width: 1px !important; border-left-color: #D3D3D3 !important; border-right-style: none !important; border-right-width: 1px !important; border-right-color: #D3D3D3 !important; }\n",
       " #iawmwqtryv .gt_bottom_border { border-bottom-style: solid !important; border-bottom-width: 2px !important; border-bottom-color: #D3D3D3 !important; }\n",
       " #iawmwqtryv .gt_col_headings { border-top-style: solid !important; border-top-width: 2px !important; border-top-color: #D3D3D3 !important; border-bottom-style: solid !important; border-bottom-width: 2px !important; border-bottom-color: #D3D3D3 !important; border-left-style: none !important; border-left-width: 1px !important; border-left-color: #D3D3D3 !important; border-right-style: none !important; border-right-width: 1px !important; border-right-color: #D3D3D3 !important; }\n",
       " #iawmwqtryv .gt_col_heading { color: #333333 !important; background-color: #FFFFFF !important; font-size: 100% !important; font-weight: normal !important; text-transform: inherit !important; border-left-style: none !important; border-left-width: 1px !important; border-left-color: #D3D3D3 !important; border-right-style: none !important; border-right-width: 1px !important; border-right-color: #D3D3D3 !important; vertical-align: bottom !important; padding-top: 3px !important; padding-bottom: 4px !important; padding-left: 5px !important; padding-right: 5px !important; overflow-x: hidden !important; }\n",
       " #iawmwqtryv .gt_column_spanner_outer { color: #333333 !important; background-color: #FFFFFF !important; font-size: 100% !important; font-weight: normal !important; text-transform: inherit !important; padding-top: 0 !important; padding-bottom: 0 !important; padding-left: 4px !important; padding-right: 4px !important; }\n",
       " #iawmwqtryv .gt_column_spanner_outer:first-child { padding-left: 0 !important; }\n",
       " #iawmwqtryv .gt_column_spanner_outer:last-child { padding-right: 0 !important; }\n",
       " #iawmwqtryv .gt_column_spanner { border-bottom-style: solid !important; border-bottom-width: 2px !important; border-bottom-color: #D3D3D3 !important; vertical-align: bottom !important; padding-top: 3px !important; padding-bottom: 3px !important; overflow-x: hidden !important; display: inline-block !important; width: 100% !important; }\n",
       " #iawmwqtryv .gt_spanner_row { border-bottom-style: hidden !important; }\n",
       " #iawmwqtryv .gt_group_heading { padding-top: 6px !important; padding-bottom: 6px !important; padding-left: 5px !important; padding-right: 5px !important; color: #333333 !important; background-color: #FFFFFF !important; font-size: 100% !important; font-weight: initial !important; text-transform: inherit !important; border-top-style: solid !important; border-top-width: 2px !important; border-top-color: #D3D3D3 !important; border-bottom-style: solid !important; border-bottom-width: 2px !important; border-bottom-color: #D3D3D3 !important; border-left-style: none !important; border-left-width: 1px !important; border-left-color: #D3D3D3 !important; border-right-style: none !important; border-right-width: 1px !important; border-right-color: #D3D3D3 !important; vertical-align: middle !important; text-align: left !important; }\n",
       " #iawmwqtryv .gt_empty_group_heading { padding: 0.5px !important; color: #333333 !important; background-color: #FFFFFF !important; font-size: 100% !important; font-weight: initial !important; border-top-style: solid !important; border-top-width: 2px !important; border-top-color: #D3D3D3 !important; border-bottom-style: solid !important; border-bottom-width: 2px !important; border-bottom-color: #D3D3D3 !important; vertical-align: middle !important; }\n",
       " #iawmwqtryv .gt_from_md> :first-child { margin-top: 0 !important; }\n",
       " #iawmwqtryv .gt_from_md> :last-child { margin-bottom: 0 !important; }\n",
       " #iawmwqtryv .gt_row { padding-top: 6px !important; padding-bottom: 6px !important; padding-left: 5px !important; padding-right: 5px !important; margin: 10px !important; border-top-style: solid !important; border-top-width: 1px !important; border-top-color: #D3D3D3 !important; border-left-style: none !important; border-left-width: 1px !important; border-left-color: #D3D3D3 !important; border-right-style: none !important; border-right-width: 1px !important; border-right-color: #D3D3D3 !important; vertical-align: middle !important; overflow-x: hidden !important; }\n",
       " #iawmwqtryv .gt_stub { color: #333333 !important; background-color: #FFFFFF !important; font-size: 100% !important; font-weight: initial !important; text-transform: inherit !important; border-right-style: solid !important; border-right-width: 2px !important; border-right-color: #D3D3D3 !important; padding-left: 5px !important; padding-right: 5px !important; }\n",
       " #iawmwqtryv .gt_stub_row_group { color: #333333 !important; background-color: #FFFFFF !important; font-size: 100% !important; font-weight: initial !important; text-transform: inherit !important; border-right-style: solid !important; border-right-width: 2px !important; border-right-color: #D3D3D3 !important; padding-left: 5px !important; padding-right: 5px !important; vertical-align: top !important; }\n",
       " #iawmwqtryv .gt_row_group_first td { border-top-width: 2px !important; }\n",
       " #iawmwqtryv .gt_row_group_first th { border-top-width: 2px !important; }\n",
       " #iawmwqtryv .gt_striped { background-color: rgba(128,128,128,0.05) !important; }\n",
       " #iawmwqtryv .gt_table_body { border-top-style: solid !important; border-top-width: 2px !important; border-top-color: #D3D3D3 !important; border-bottom-style: solid !important; border-bottom-width: 2px !important; border-bottom-color: #D3D3D3 !important; }\n",
       " #iawmwqtryv .gt_sourcenotes { color: #333333 !important; background-color: #FFFFFF !important; border-bottom-style: none !important; border-bottom-width: 2px !important; border-bottom-color: #D3D3D3 !important; border-left-style: none !important; border-left-width: 2px !important; border-left-color: #D3D3D3 !important; border-right-style: none !important; border-right-width: 2px !important; border-right-color: #D3D3D3 !important; }\n",
       " #iawmwqtryv .gt_sourcenote { font-size: small !important; padding-top: 3px !important; padding-bottom: 3px !important; padding-left: 5px !important; padding-right: 5px !important; text-align: left !important; }\n",
       " #iawmwqtryv .gt_left { text-align: left !important; }\n",
       " #iawmwqtryv .gt_center { text-align: center !important; }\n",
       " #iawmwqtryv .gt_right { text-align: right !important; font-variant-numeric: tabular-nums !important; }\n",
       " #iawmwqtryv .gt_font_normal { font-weight: normal !important; }\n",
       " #iawmwqtryv .gt_font_bold { font-weight: bold !important; }\n",
       " #iawmwqtryv .gt_font_italic { font-style: italic !important; }\n",
       " #iawmwqtryv .gt_super { font-size: 65% !important; }\n",
       " #iawmwqtryv .gt_footnote_marks { font-size: 75% !important; vertical-align: 0.4em !important; position: initial !important; }\n",
       " #iawmwqtryv .gt_asterisk { font-size: 100% !important; vertical-align: 0 !important; }\n",
       " \n",
       "</style>\n",
       "<table class=\"gt_table\" data-quarto-disable-processing=\"false\" data-quarto-bootstrap=\"false\">\n",
       "<thead>\n",
       "\n",
       "  <tr class=\"gt_heading\">\n",
       "    <td colspan=\"9\" class=\"gt_heading gt_title gt_font_normal\">Formula: lm(mpg~wt)</td>\n",
       "  </tr>\n",
       "  <tr class=\"gt_heading\">\n",
       "    <td colspan=\"9\" class=\"gt_heading gt_subtitle gt_font_normal gt_bottom_border\">Number of observations: <em>32</em><br />\n",
       "Confidence intervals: <em>parametric</em><br />\n",
       "---------------------<br />\n",
       "R-squared: <em>0.7528</em><br />\n",
       "R-squared-adj: <em>0.7446</em><br />\n",
       "<em>F(1, 30) = 91.375, p = &lt;.001</em><br />\n",
       "Log-likelihood: <em>-80</em><br />\n",
       "AIC: <em>166</em> | BIC: <em>170</em><br />\n",
       "Residual error: <em>3.046</em></td>\n",
       "  </tr>\n",
       "<tr class=\"gt_col_headings\">\n",
       "  <th class=\"gt_col_heading gt_columns_bottom_border gt_left\" rowspan=\"1\" colspan=\"1\" scope=\"col\" id=\"\"></th>\n",
       "  <th class=\"gt_col_heading gt_columns_bottom_border gt_right\" rowspan=\"1\" colspan=\"1\" scope=\"col\" id=\"Estimate\">Estimate</th>\n",
       "  <th class=\"gt_col_heading gt_columns_bottom_border gt_right\" rowspan=\"1\" colspan=\"1\" scope=\"col\" id=\"SE\">SE</th>\n",
       "  <th class=\"gt_col_heading gt_columns_bottom_border gt_right\" rowspan=\"1\" colspan=\"1\" scope=\"col\" id=\"CI-low\">CI-low</th>\n",
       "  <th class=\"gt_col_heading gt_columns_bottom_border gt_right\" rowspan=\"1\" colspan=\"1\" scope=\"col\" id=\"CI-high\">CI-high</th>\n",
       "  <th class=\"gt_col_heading gt_columns_bottom_border gt_right\" rowspan=\"1\" colspan=\"1\" scope=\"col\" id=\"T-stat\">T-stat</th>\n",
       "  <th class=\"gt_col_heading gt_columns_bottom_border gt_right\" rowspan=\"1\" colspan=\"1\" scope=\"col\" id=\"df\">df</th>\n",
       "  <th class=\"gt_col_heading gt_columns_bottom_border gt_left\" rowspan=\"1\" colspan=\"1\" scope=\"col\" id=\"p\">p</th>\n",
       "  <th class=\"gt_col_heading gt_columns_bottom_border gt_left\" rowspan=\"1\" colspan=\"1\" scope=\"col\" id=\"\"></th>\n",
       "</tr>\n",
       "</thead>\n",
       "<tbody class=\"gt_table_body\">\n",
       "  <tr>\n",
       "    <th style=\"font-style: italic;\" class=\"gt_row gt_left gt_stub\">(Intercept)</th>\n",
       "    <td class=\"gt_row gt_right\">37.285</td>\n",
       "    <td class=\"gt_row gt_right\">1.878</td>\n",
       "    <td class=\"gt_row gt_right\">33.450</td>\n",
       "    <td class=\"gt_row gt_right\">41.120</td>\n",
       "    <td class=\"gt_row gt_right\">19.858</td>\n",
       "    <td class=\"gt_row gt_right\">30</td>\n",
       "    <td class=\"gt_row gt_left\"><.001</td>\n",
       "    <td class=\"gt_row gt_left\">***</td>\n",
       "  </tr>\n",
       "  <tr>\n",
       "    <th style=\"font-style: italic;\" class=\"gt_row gt_left gt_stub\">wt</th>\n",
       "    <td class=\"gt_row gt_right\">−5.344</td>\n",
       "    <td class=\"gt_row gt_right\">0.559</td>\n",
       "    <td class=\"gt_row gt_right\">−6.486</td>\n",
       "    <td class=\"gt_row gt_right\">−4.203</td>\n",
       "    <td class=\"gt_row gt_right\">−9.559</td>\n",
       "    <td class=\"gt_row gt_right\">30</td>\n",
       "    <td class=\"gt_row gt_left\"><.001</td>\n",
       "    <td class=\"gt_row gt_left\">***</td>\n",
       "  </tr>\n",
       "</tbody>\n",
       "  <tfoot class=\"gt_sourcenotes\">\n",
       "  \n",
       "  <tr>\n",
       "    <td class=\"gt_sourcenote\" colspan=\"9\">Signif. codes: <em>0 *** 0.001 ** 0.01 * 0.05 . 0.1</em></td>\n",
       "  </tr>\n",
       "\n",
       "</tfoot>\n",
       "\n",
       "</table>\n",
       "\n",
       "</div>\n",
       "        "
      ],
      "text/plain": [
       "GT(_tbl_data=shape: (2, 9)\n",
       "┌─────────────┬───────────┬───────────┬───────────┬───┬───────────┬─────┬─────────┬───────┐\n",
       "│ term        ┆ estimate  ┆ std_error ┆ conf_low  ┆ … ┆ t_stat    ┆ df  ┆ p_value ┆ stars │\n",
       "│ ---         ┆ ---       ┆ ---       ┆ ---       ┆   ┆ ---       ┆ --- ┆ ---     ┆ ---   │\n",
       "│ str         ┆ f64       ┆ f64       ┆ f64       ┆   ┆ f64       ┆ i64 ┆ str     ┆ str   │\n",
       "╞═════════════╪═══════════╪═══════════╪═══════════╪═══╪═══════════╪═════╪═════════╪═══════╡\n",
       "│ (Intercept) ┆ 37.285126 ┆ 1.877627  ┆ 33.4505   ┆ … ┆ 19.857575 ┆ 30  ┆ <.001   ┆ ***   │\n",
       "│ wt          ┆ -5.344472 ┆ 0.559101  ┆ -6.486308 ┆ … ┆ -9.559044 ┆ 30  ┆ <.001   ┆ ***   │\n",
       "└─────────────┴───────────┴───────────┴───────────┴───┴───────────┴─────┴─────────┴───────┘, _body=<great_tables._gt_data.Body object at 0x15a23c5c0>, _boxhead=Boxhead([ColInfo(var='term', type=<ColInfoTypeEnum.stub: 2>, column_label='term', column_align='left', column_width=None), ColInfo(var='estimate', type=<ColInfoTypeEnum.default: 1>, column_label='Estimate', column_align='right', column_width=None), ColInfo(var='std_error', type=<ColInfoTypeEnum.default: 1>, column_label='SE', column_align='right', column_width=None), ColInfo(var='conf_low', type=<ColInfoTypeEnum.default: 1>, column_label='CI-low', column_align='right', column_width=None), ColInfo(var='conf_high', type=<ColInfoTypeEnum.default: 1>, column_label='CI-high', column_align='right', column_width=None), ColInfo(var='t_stat', type=<ColInfoTypeEnum.default: 1>, column_label='T-stat', column_align='right', column_width=None), ColInfo(var='df', type=<ColInfoTypeEnum.default: 1>, column_label='df', column_align='right', column_width=None), ColInfo(var='p_value', type=<ColInfoTypeEnum.default: 1>, column_label='p', column_align='left', column_width=None), ColInfo(var='stars', type=<ColInfoTypeEnum.default: 1>, column_label='', column_align='left', column_width=None)]), _stub=<great_tables._gt_data.Stub object at 0x116f05dc0>, _spanners=Spanners([]), _heading=Heading(title='Formula: lm(mpg~wt)', subtitle=Md(text='Number of observations: *32*  \\n            Confidence intervals: *parametric*  \\n            ---------------------  \\n            R-squared: *0.7528*  \\n            R-squared-adj: *0.7446*  \\n            *F(1, 30) = 91.375, p = <.001*  \\n            Log-likelihood: *-80*  \\n            AIC: *166* | BIC: *170*  \\n            Residual error: *3.046*  \\n        '), preheader=None), _stubhead=None, _source_notes=[Md(text='Signif. codes: *0 *** 0.001 ** 0.01 * 0.05 . 0.1*')], _footnotes=[], _styles=[StyleInfo(locname=LocStub(rows=None), grpname=None, colname=None, rownum=0, colnum=None, styles=[CellStyleText(color=None, font=None, size=None, align=None, v_align=None, style='italic', weight=None, stretch=None, decorate=None, transform=None, whitespace=None)]), StyleInfo(locname=LocStub(rows=None), grpname=None, colname=None, rownum=1, colnum=None, styles=[CellStyleText(color=None, font=None, size=None, align=None, v_align=None, style='italic', weight=None, stretch=None, decorate=None, transform=None, whitespace=None)])], _locale=<great_tables._gt_data.Locale object at 0x15a51f6e0>, _formats=[<great_tables._gt_data.FormatInfo object at 0x155917c80>, <great_tables._gt_data.FormatInfo object at 0x1594bc3b0>], _substitutions=[], _options=Options(table_id=OptionsInfo(scss=False, category='table', type='value', value=None), table_caption=OptionsInfo(scss=False, category='table', type='value', value=None), table_width=OptionsInfo(scss=True, category='table', type='px', value='auto'), table_layout=OptionsInfo(scss=True, category='table', type='value', value='fixed'), table_margin_left=OptionsInfo(scss=True, category='table', type='px', value='auto'), table_margin_right=OptionsInfo(scss=True, category='table', type='px', value='auto'), table_background_color=OptionsInfo(scss=True, category='table', type='value', value='#FFFFFF'), table_additional_css=OptionsInfo(scss=False, category='table', type='values', value=[]), table_font_names=OptionsInfo(scss=False, category='table', type='values', value=['-apple-system', 'BlinkMacSystemFont', 'Segoe UI', 'Roboto', 'Oxygen', 'Ubuntu', 'Cantarell', 'Helvetica Neue', 'Fira Sans', 'Droid Sans', 'Arial', 'sans-serif']), table_font_size=OptionsInfo(scss=True, category='table', type='px', value='16px'), table_font_weight=OptionsInfo(scss=True, category='table', type='value', value='normal'), table_font_style=OptionsInfo(scss=True, category='table', type='value', value='normal'), table_font_color=OptionsInfo(scss=True, category='table', type='value', value='#333333'), table_font_color_light=OptionsInfo(scss=True, category='table', type='value', value='#FFFFFF'), table_border_top_include=OptionsInfo(scss=False, category='table', type='boolean', value=True), table_border_top_style=OptionsInfo(scss=True, category='table', type='value', value='solid'), table_border_top_width=OptionsInfo(scss=True, category='table', type='px', value='2px'), table_border_top_color=OptionsInfo(scss=True, category='table', type='value', value='#A8A8A8'), table_border_right_style=OptionsInfo(scss=True, category='table', type='value', value='none'), table_border_right_width=OptionsInfo(scss=True, category='table', type='px', value='2px'), table_border_right_color=OptionsInfo(scss=True, category='table', type='value', value='#D3D3D3'), table_border_bottom_include=OptionsInfo(scss=False, category='table', type='boolean', value=True), table_border_bottom_style=OptionsInfo(scss=True, category='table', type='value', value='solid'), table_border_bottom_width=OptionsInfo(scss=True, category='table', type='px', value='2px'), table_border_bottom_color=OptionsInfo(scss=True, category='table', type='value', value='#A8A8A8'), table_border_left_style=OptionsInfo(scss=True, category='table', type='value', value='none'), table_border_left_width=OptionsInfo(scss=True, category='table', type='px', value='2px'), table_border_left_color=OptionsInfo(scss=True, category='table', type='value', value='#D3D3D3'), heading_background_color=OptionsInfo(scss=True, category='heading', type='value', value=None), heading_align=OptionsInfo(scss=True, category='heading', type='value', value='left'), heading_title_font_size=OptionsInfo(scss=True, category='heading', type='px', value='125%'), heading_title_font_weight=OptionsInfo(scss=True, category='heading', type='value', value='initial'), heading_subtitle_font_size=OptionsInfo(scss=True, category='heading', type='px', value='85%'), heading_subtitle_font_weight=OptionsInfo(scss=True, category='heading', type='value', value='initial'), heading_padding=OptionsInfo(scss=True, category='heading', type='px', value='3px'), heading_padding_horizontal=OptionsInfo(scss=True, category='heading', type='px', value='5px'), heading_border_bottom_style=OptionsInfo(scss=True, category='heading', type='value', value='solid'), heading_border_bottom_width=OptionsInfo(scss=True, category='heading', type='px', value='2px'), heading_border_bottom_color=OptionsInfo(scss=True, category='heading', type='value', value='#D3D3D3'), heading_border_lr_style=OptionsInfo(scss=True, category='heading', type='value', value='none'), heading_border_lr_width=OptionsInfo(scss=True, category='heading', type='px', value='1px'), heading_border_lr_color=OptionsInfo(scss=True, category='heading', type='value', value='#D3D3D3'), column_labels_background_color=OptionsInfo(scss=True, category='column_labels', type='value', value=None), column_labels_font_size=OptionsInfo(scss=True, category='column_labels', type='px', value='100%'), column_labels_font_weight=OptionsInfo(scss=True, category='column_labels', type='value', value='normal'), column_labels_text_transform=OptionsInfo(scss=True, category='column_labels', type='value', value='inherit'), column_labels_padding=OptionsInfo(scss=True, category='column_labels', type='px', value='3px'), column_labels_padding_horizontal=OptionsInfo(scss=True, category='column_labels', type='px', value='5px'), column_labels_vlines_style=OptionsInfo(scss=True, category='table_body', type='value', value='none'), column_labels_vlines_width=OptionsInfo(scss=True, category='table_body', type='px', value='1px'), column_labels_vlines_color=OptionsInfo(scss=True, category='table_body', type='value', value='#D3D3D3'), column_labels_border_top_style=OptionsInfo(scss=True, category='column_labels', type='value', value='solid'), column_labels_border_top_width=OptionsInfo(scss=True, category='column_labels', type='px', value='2px'), column_labels_border_top_color=OptionsInfo(scss=True, category='column_labels', type='value', value='#D3D3D3'), column_labels_border_bottom_style=OptionsInfo(scss=True, category='column_labels', type='value', value='solid'), column_labels_border_bottom_width=OptionsInfo(scss=True, category='column_labels', type='px', value='2px'), column_labels_border_bottom_color=OptionsInfo(scss=True, category='column_labels', type='value', value='#D3D3D3'), column_labels_border_lr_style=OptionsInfo(scss=True, category='column_labels', type='value', value='none'), column_labels_border_lr_width=OptionsInfo(scss=True, category='column_labels', type='px', value='1px'), column_labels_border_lr_color=OptionsInfo(scss=True, category='column_labels', type='value', value='#D3D3D3'), column_labels_hidden=OptionsInfo(scss=False, category='column_labels', type='boolean', value=False), row_group_background_color=OptionsInfo(scss=True, category='row_group', type='value', value=None), row_group_font_size=OptionsInfo(scss=True, category='row_group', type='px', value='100%'), row_group_font_weight=OptionsInfo(scss=True, category='row_group', type='value', value='initial'), row_group_text_transform=OptionsInfo(scss=True, category='row_group', type='value', value='inherit'), row_group_padding=OptionsInfo(scss=True, category='row_group', type='px', value='6px'), row_group_padding_horizontal=OptionsInfo(scss=True, category='row_group', type='px', value='5px'), row_group_border_top_style=OptionsInfo(scss=True, category='row_group', type='value', value='solid'), row_group_border_top_width=OptionsInfo(scss=True, category='row_group', type='px', value='2px'), row_group_border_top_color=OptionsInfo(scss=True, category='row_group', type='value', value='#D3D3D3'), row_group_border_right_style=OptionsInfo(scss=True, category='row_group', type='value', value='none'), row_group_border_right_width=OptionsInfo(scss=True, category='row_group', type='px', value='1px'), row_group_border_right_color=OptionsInfo(scss=True, category='row_group', type='value', value='#D3D3D3'), row_group_border_bottom_style=OptionsInfo(scss=True, category='row_group', type='value', value='solid'), row_group_border_bottom_width=OptionsInfo(scss=True, category='row_group', type='px', value='2px'), row_group_border_bottom_color=OptionsInfo(scss=True, category='row_group', type='value', value='#D3D3D3'), row_group_border_left_style=OptionsInfo(scss=True, category='row_group', type='value', value='none'), row_group_border_left_width=OptionsInfo(scss=True, category='row_group', type='px', value='1px'), row_group_border_left_color=OptionsInfo(scss=True, category='row_group', type='value', value='#D3D3D3'), row_group_as_column=OptionsInfo(scss=False, category='row_group', type='boolean', value=False), table_body_hlines_style=OptionsInfo(scss=True, category='table_body', type='value', value='solid'), table_body_hlines_width=OptionsInfo(scss=True, category='table_body', type='px', value='1px'), table_body_hlines_color=OptionsInfo(scss=True, category='table_body', type='value', value='#D3D3D3'), table_body_vlines_style=OptionsInfo(scss=True, category='table_body', type='value', value='none'), table_body_vlines_width=OptionsInfo(scss=True, category='table_body', type='px', value='1px'), table_body_vlines_color=OptionsInfo(scss=True, category='table_body', type='value', value='#D3D3D3'), table_body_border_top_style=OptionsInfo(scss=True, category='table_body', type='value', value='solid'), table_body_border_top_width=OptionsInfo(scss=True, category='table_body', type='px', value='2px'), table_body_border_top_color=OptionsInfo(scss=True, category='table_body', type='value', value='#D3D3D3'), table_body_border_bottom_style=OptionsInfo(scss=True, category='table_body', type='value', value='solid'), table_body_border_bottom_width=OptionsInfo(scss=True, category='table_body', type='px', value='2px'), table_body_border_bottom_color=OptionsInfo(scss=True, category='table_body', type='value', value='#D3D3D3'), data_row_padding=OptionsInfo(scss=True, category='data_row', type='px', value='6px'), data_row_padding_horizontal=OptionsInfo(scss=True, category='data_row', type='px', value='5px'), stub_background_color=OptionsInfo(scss=True, category='stub', type='value', value=None), stub_font_size=OptionsInfo(scss=True, category='stub', type='px', value='100%'), stub_font_weight=OptionsInfo(scss=True, category='stub', type='value', value='initial'), stub_text_transform=OptionsInfo(scss=True, category='stub', type='value', value='inherit'), stub_border_style=OptionsInfo(scss=True, category='stub', type='value', value='solid'), stub_border_width=OptionsInfo(scss=True, category='stub', type='px', value='2px'), stub_border_color=OptionsInfo(scss=True, category='stub', type='value', value='#D3D3D3'), stub_row_group_background_color=OptionsInfo(scss=True, category='stub', type='value', value=None), stub_row_group_font_size=OptionsInfo(scss=True, category='stub', type='px', value='100%'), stub_row_group_font_weight=OptionsInfo(scss=True, category='stub', type='value', value='initial'), stub_row_group_text_transform=OptionsInfo(scss=True, category='stub', type='value', value='inherit'), stub_row_group_border_style=OptionsInfo(scss=True, category='stub', type='value', value='solid'), stub_row_group_border_width=OptionsInfo(scss=True, category='stub', type='px', value='2px'), stub_row_group_border_color=OptionsInfo(scss=True, category='stub', type='value', value='#D3D3D3'), source_notes_padding=OptionsInfo(scss=True, category='source_notes', type='px', value='3px'), source_notes_padding_horizontal=OptionsInfo(scss=True, category='source_notes', type='px', value='5px'), source_notes_background_color=OptionsInfo(scss=True, category='source_notes', type='value', value=None), source_notes_font_size=OptionsInfo(scss=True, category='source_notes', type='px', value='small'), source_notes_border_bottom_style=OptionsInfo(scss=True, category='source_notes', type='value', value='none'), source_notes_border_bottom_width=OptionsInfo(scss=True, category='source_notes', type='px', value='2px'), source_notes_border_bottom_color=OptionsInfo(scss=True, category='source_notes', type='value', value='#D3D3D3'), source_notes_border_lr_style=OptionsInfo(scss=True, category='source_notes', type='value', value='none'), source_notes_border_lr_width=OptionsInfo(scss=True, category='source_notes', type='px', value='2px'), source_notes_border_lr_color=OptionsInfo(scss=True, category='source_notes', type='value', value='#D3D3D3'), source_notes_multiline=OptionsInfo(scss=False, category='source_notes', type='boolean', value=True), source_notes_sep=OptionsInfo(scss=False, category='source_notes', type='value', value=' '), row_striping_background_color=OptionsInfo(scss=True, category='row', type='value', value='rgba(128,128,128,0.05)'), row_striping_include_stub=OptionsInfo(scss=False, category='row', type='boolean', value=False), row_striping_include_table_body=OptionsInfo(scss=False, category='row', type='boolean', value=False), container_width=OptionsInfo(scss=False, category='container', type='px', value='auto'), container_height=OptionsInfo(scss=False, category='container', type='px', value='auto'), container_padding_x=OptionsInfo(scss=False, category='container', type='px', value='0px'), container_padding_y=OptionsInfo(scss=False, category='container', type='px', value='10px'), container_overflow_x=OptionsInfo(scss=False, category='container', type='overflow', value='auto'), container_overflow_y=OptionsInfo(scss=False, category='container', type='overflow', value='auto'), quarto_disable_processing=OptionsInfo(scss=False, category='quarto', type='logical', value=False), quarto_use_bootstrap=OptionsInfo(scss=False, category='quarto', type='logical', value=False)), _has_built=False)"
      ]
     },
     "execution_count": 6,
     "metadata": {},
     "output_type": "execute_result"
    }
   ],
   "source": [
    "model.summary()"
   ]
  },
  {
   "cell_type": "markdown",
   "metadata": {},
   "source": [
    "We can also print a more basic R-style `summary()`"
   ]
  },
  {
   "cell_type": "code",
   "execution_count": 7,
   "metadata": {},
   "outputs": [
    {
     "name": "stdout",
     "output_type": "stream",
     "text": [
      "Coefficients:\n",
      "            Estimate Std. Error t value Pr(>|t|)    \n",
      "(Intercept)  37.2851     1.8776  19.858  < 2e-16 ***\n",
      "wt           -5.3445     0.5591  -9.559 1.29e-10 ***\n",
      "---\n",
      "Signif. codes:  0 ‘***’ 0.001 ‘**’ 0.01 ‘*’ 0.05 ‘.’ 0.1 ‘ ’ 1\n",
      "\n",
      "Residual standard error: 3.046 on 30 degrees of freedom\n",
      "Multiple R-squared:  0.7528,\tAdjusted R-squared:  0.7446 \n",
      "F-statistic: 91.38 on 1 and 30 DF,  p-value: 1.294e-10\n",
      "\n"
     ]
    }
   ],
   "source": [
    "model.summary(pretty=False)"
   ]
  },
  {
   "cell_type": "markdown",
   "metadata": {},
   "source": [
    "You can always directly access this information from the model attributes:"
   ]
  },
  {
   "cell_type": "code",
   "execution_count": 8,
   "metadata": {},
   "outputs": [
    {
     "data": {
      "text/html": [
       "<div><style>\n",
       ".dataframe > thead > tr,\n",
       ".dataframe > tbody > tr {\n",
       "  text-align: right;\n",
       "  white-space: pre-wrap;\n",
       "}\n",
       "</style>\n",
       "<small>shape: (2, 8)</small><table border=\"1\" class=\"dataframe\"><thead><tr><th>term</th><th>estimate</th><th>std_error</th><th>conf_low</th><th>conf_high</th><th>t_stat</th><th>df</th><th>p_value</th></tr><tr><td>str</td><td>f64</td><td>f64</td><td>f64</td><td>f64</td><td>f64</td><td>i64</td><td>f64</td></tr></thead><tbody><tr><td>&quot;(Intercept)&quot;</td><td>37.285126</td><td>1.877627</td><td>33.4505</td><td>41.119753</td><td>19.857575</td><td>30</td><td>8.2418e-19</td></tr><tr><td>&quot;wt&quot;</td><td>-5.344472</td><td>0.559101</td><td>-6.486308</td><td>-4.202635</td><td>-9.559044</td><td>30</td><td>1.2940e-10</td></tr></tbody></table></div>"
      ],
      "text/plain": [
       "shape: (2, 8)\n",
       "┌─────────────┬───────────┬───────────┬───────────┬───────────┬───────────┬─────┬────────────┐\n",
       "│ term        ┆ estimate  ┆ std_error ┆ conf_low  ┆ conf_high ┆ t_stat    ┆ df  ┆ p_value    │\n",
       "│ ---         ┆ ---       ┆ ---       ┆ ---       ┆ ---       ┆ ---       ┆ --- ┆ ---        │\n",
       "│ str         ┆ f64       ┆ f64       ┆ f64       ┆ f64       ┆ f64       ┆ i64 ┆ f64        │\n",
       "╞═════════════╪═══════════╪═══════════╪═══════════╪═══════════╪═══════════╪═════╪════════════╡\n",
       "│ (Intercept) ┆ 37.285126 ┆ 1.877627  ┆ 33.4505   ┆ 41.119753 ┆ 19.857575 ┆ 30  ┆ 8.2418e-19 │\n",
       "│ wt          ┆ -5.344472 ┆ 0.559101  ┆ -6.486308 ┆ -4.202635 ┆ -9.559044 ┆ 30  ┆ 1.2940e-10 │\n",
       "└─────────────┴───────────┴───────────┴───────────┴───────────┴───────────┴─────┴────────────┘"
      ]
     },
     "execution_count": 8,
     "metadata": {},
     "output_type": "execute_result"
    }
   ],
   "source": [
    "# summary table\n",
    "model.result_fit"
   ]
  },
  {
   "cell_type": "code",
   "execution_count": 9,
   "metadata": {},
   "outputs": [
    {
     "data": {
      "text/html": [
       "<div><style>\n",
       ".dataframe > thead > tr,\n",
       ".dataframe > tbody > tr {\n",
       "  text-align: right;\n",
       "  white-space: pre-wrap;\n",
       "}\n",
       "</style>\n",
       "<small>shape: (1, 12)</small><table border=\"1\" class=\"dataframe\"><thead><tr><th>r_squared</th><th>adj_r_squared</th><th>sigma</th><th>statistic</th><th>p_value</th><th>df</th><th>logLik</th><th>AIC</th><th>BIC</th><th>deviance</th><th>df_residual</th><th>nobs</th></tr><tr><td>f64</td><td>f64</td><td>f64</td><td>f64</td><td>f64</td><td>f64</td><td>f64</td><td>f64</td><td>f64</td><td>f64</td><td>i64</td><td>i64</td></tr></thead><tbody><tr><td>0.752833</td><td>0.744594</td><td>3.045882</td><td>91.375325</td><td>1.2940e-10</td><td>1.0</td><td>-80.014714</td><td>166.029429</td><td>170.426637</td><td>278.321938</td><td>30</td><td>32</td></tr></tbody></table></div>"
      ],
      "text/plain": [
       "shape: (1, 12)\n",
       "┌───────────┬─────────────┬──────────┬───────────┬───┬────────────┬────────────┬────────────┬──────┐\n",
       "│ r_squared ┆ adj_r_squar ┆ sigma    ┆ statistic ┆ … ┆ BIC        ┆ deviance   ┆ df_residua ┆ nobs │\n",
       "│ ---       ┆ ed          ┆ ---      ┆ ---       ┆   ┆ ---        ┆ ---        ┆ l          ┆ ---  │\n",
       "│ f64       ┆ ---         ┆ f64      ┆ f64       ┆   ┆ f64        ┆ f64        ┆ ---        ┆ i64  │\n",
       "│           ┆ f64         ┆          ┆           ┆   ┆            ┆            ┆ i64        ┆      │\n",
       "╞═══════════╪═════════════╪══════════╪═══════════╪═══╪════════════╪════════════╪════════════╪══════╡\n",
       "│ 0.752833  ┆ 0.744594    ┆ 3.045882 ┆ 91.375325 ┆ … ┆ 170.426637 ┆ 278.321938 ┆ 30         ┆ 32   │\n",
       "└───────────┴─────────────┴──────────┴───────────┴───┴────────────┴────────────┴────────────┴──────┘"
      ]
     },
     "execution_count": 9,
     "metadata": {},
     "output_type": "execute_result"
    }
   ],
   "source": [
    "# Quality-of-fit statistics\n",
    "model.result_fit_stats"
   ]
  },
  {
   "cell_type": "markdown",
   "metadata": {},
   "source": [
    "If we now inspect the `.data` attribute of the model we'll see several new columns that have been *appended* to the original data. These contain model predictions, residuals, and statistics per observation"
   ]
  },
  {
   "cell_type": "code",
   "execution_count": 10,
   "metadata": {},
   "outputs": [
    {
     "data": {
      "text/html": [
       "<div><style>\n",
       ".dataframe > thead > tr,\n",
       ".dataframe > tbody > tr {\n",
       "  text-align: right;\n",
       "  white-space: pre-wrap;\n",
       "}\n",
       "</style>\n",
       "<small>shape: (5, 9)</small><table border=\"1\" class=\"dataframe\"><thead><tr><th>mpg</th><th>cyl</th><th>wt</th><th>fitted</th><th>resid</th><th>hat</th><th>sigma</th><th>cooksd</th><th>std_resid</th></tr><tr><td>f64</td><td>i64</td><td>f64</td><td>f64</td><td>f64</td><td>f64</td><td>f64</td><td>f64</td><td>f64</td></tr></thead><tbody><tr><td>21.0</td><td>6</td><td>2.62</td><td>23.282611</td><td>-2.282611</td><td>0.043269</td><td>3.067494</td><td>0.013274</td><td>-0.766168</td></tr><tr><td>21.0</td><td>6</td><td>2.875</td><td>21.91977</td><td>-0.91977</td><td>0.035197</td><td>3.093068</td><td>0.001724</td><td>-0.307431</td></tr><tr><td>22.8</td><td>4</td><td>2.32</td><td>24.885952</td><td>-2.085952</td><td>0.058376</td><td>3.072127</td><td>0.015439</td><td>-0.705752</td></tr><tr><td>21.4</td><td>6</td><td>3.215</td><td>20.10265</td><td>1.29735</td><td>0.03125</td><td>3.088268</td><td>0.003021</td><td>0.432751</td></tr><tr><td>18.7</td><td>8</td><td>3.44</td><td>18.900144</td><td>-0.200144</td><td>0.032922</td><td>3.097722</td><td>0.000076</td><td>-0.066819</td></tr></tbody></table></div>"
      ],
      "text/plain": [
       "shape: (5, 9)\n",
       "┌──────┬─────┬───────┬───────────┬───┬──────────┬──────────┬──────────┬───────────┐\n",
       "│ mpg  ┆ cyl ┆ wt    ┆ fitted    ┆ … ┆ hat      ┆ sigma    ┆ cooksd   ┆ std_resid │\n",
       "│ ---  ┆ --- ┆ ---   ┆ ---       ┆   ┆ ---      ┆ ---      ┆ ---      ┆ ---       │\n",
       "│ f64  ┆ i64 ┆ f64   ┆ f64       ┆   ┆ f64      ┆ f64      ┆ f64      ┆ f64       │\n",
       "╞══════╪═════╪═══════╪═══════════╪═══╪══════════╪══════════╪══════════╪═══════════╡\n",
       "│ 21.0 ┆ 6   ┆ 2.62  ┆ 23.282611 ┆ … ┆ 0.043269 ┆ 3.067494 ┆ 0.013274 ┆ -0.766168 │\n",
       "│ 21.0 ┆ 6   ┆ 2.875 ┆ 21.91977  ┆ … ┆ 0.035197 ┆ 3.093068 ┆ 0.001724 ┆ -0.307431 │\n",
       "│ 22.8 ┆ 4   ┆ 2.32  ┆ 24.885952 ┆ … ┆ 0.058376 ┆ 3.072127 ┆ 0.015439 ┆ -0.705752 │\n",
       "│ 21.4 ┆ 6   ┆ 3.215 ┆ 20.10265  ┆ … ┆ 0.03125  ┆ 3.088268 ┆ 0.003021 ┆ 0.432751  │\n",
       "│ 18.7 ┆ 8   ┆ 3.44  ┆ 18.900144 ┆ … ┆ 0.032922 ┆ 3.097722 ┆ 0.000076 ┆ -0.066819 │\n",
       "└──────┴─────┴───────┴───────────┴───┴──────────┴──────────┴──────────┴───────────┘"
      ]
     },
     "execution_count": 10,
     "metadata": {},
     "output_type": "execute_result"
    }
   ],
   "source": [
    "model.data.head()"
   ]
  },
  {
   "cell_type": "markdown",
   "metadata": {},
   "source": [
    "Which makes visual model inspection very easy"
   ]
  },
  {
   "cell_type": "code",
   "execution_count": 11,
   "metadata": {
    "tags": [
     "hide-input"
    ]
   },
   "outputs": [
    {
     "data": {
      "image/png": "[encoded data removed]",
      "text/plain": [
       "<Figure size 1000x200 with 2 Axes>"
      ]
     },
     "metadata": {
      "image/png": {
       "height": 189,
       "width": 990
      }
     },
     "output_type": "display_data"
    }
   ],
   "source": [
    "import matplotlib.pyplot as plt\n",
    "import seaborn as sns\n",
    "\n",
    "# Setup subplots\n",
    "f = plt.figure(figsize=(10, 2))\n",
    "gs = f.add_gridspec(1, 2, width_ratios=[1, 3])\n",
    "left, right = f.add_subplot(gs[0]), f.add_subplot(gs[1])\n",
    "\n",
    "# We can just use the 'resid' column for the first plot\n",
    "left = sns.kdeplot(x='resid', data=model.data, ax=left)\n",
    "left.set(xlabel='Residuals', title=\"Error distribution\")\n",
    "\n",
    "# And the 'cooksd' column to create a plot of observation influence\n",
    "right.stem(model.data['cooksd'], basefmt=' ', label='Cook\\'s Distance')\n",
    "right.set(xlabel='Row Number', ylabel='Cook\\'s Distance', title=\"Influential Observations\", xticks=range(model.data.height))\n",
    "\n",
    "sns.despine()\n",
    "plt.tight_layout();"
   ]
  },
  {
   "cell_type": "markdown",
   "metadata": {},
   "source": [
    "## Categorical predictors and predictor transforms\n",
    "\n",
    "Let's say we wanted to extend our model to estimate a multiple regression including an interaction with a categorical-predictor $cyl$ \n",
    "\n",
    "$$mpg \\sim \\beta_0 + \\beta_1 * wt  + \\beta_2 * cyl + \\beta_3 * wt * cyl$$\n",
    "\n",
    "First we need some way to treat this variable as a *factor* and specify the order of it's levels. We may also want to use a particular *contrast* coding scheme and *center* our numeric predictors to aid interpretability and reduce multi-collinearity.\n",
    "\n",
    "Since these types of operations are so popular, models have 3 utility methods to manipulate categorical and continuous predictors: `.set_*`, `.unset_*`, and `.show_*` that work with `.*_factors()`, `.*_contrasts()`, and `.*_transforms()` \n",
    "\n",
    "First we'll initialize our new model with a formula and data"
   ]
  },
  {
   "cell_type": "code",
   "execution_count": 46,
   "metadata": {},
   "outputs": [],
   "source": [
    "model = lm('mpg ~ wt * cyl', data=df)"
   ]
  },
  {
   "cell_type": "markdown",
   "metadata": {},
   "source": [
    "Then we'll use `.set_factors()` to treat $cyl$ as a factor with levels in the specified order. Omitting a specific order will use alphabetical order by default.\n",
    "\n",
    "We can check any currently set factor variables with `.show_factors()`"
   ]
  },
  {
   "cell_type": "code",
   "execution_count": 47,
   "metadata": {},
   "outputs": [
    {
     "name": "stdout",
     "output_type": "stream",
     "text": [
      "{'cyl': ['4', '6', '8']}\n"
     ]
    }
   ],
   "source": [
    "# Set cyl as a factor with levels in this order\n",
    "model.set_factors({'cyl': ['4', '6', '8']})\n",
    "\n",
    "model.show_factors()"
   ]
  },
  {
   "cell_type": "markdown",
   "metadata": {},
   "source": [
    "Factor variables adhere to a *contrast* coding scheme and using *treatment contrasts* (dummy-coding) by default just like R. This means each parameter represents the difference between the first level and the nth level. For $cyl$, that would be $6-4$ and $8-4$ as $4$ is the first level of $cyl$ based on the order we provided to `.set_factors()`\n",
    "\n",
    "We can use `.show_contrasts()` to view the currently set coding scheme:\n"
   ]
  },
  {
   "cell_type": "code",
   "execution_count": 48,
   "metadata": {},
   "outputs": [
    {
     "name": "stdout",
     "output_type": "stream",
     "text": [
      "{'cyl': 'contr.treatment'}\n"
     ]
    }
   ],
   "source": [
    "model.show_contrasts()"
   ]
  },
  {
   "cell_type": "markdown",
   "metadata": {},
   "source": [
    "For continuous variabiles, we can use `.set_transforms()` to apply a variety of transformations (e.g. `'center'`, `'scale'`, `'rank'`, `'zscore'`).\n",
    "\n",
    "Let's mean center $wt$ so difference between levels of $cyl$ are interpretable when $wt$ is equal to its mean."
   ]
  },
  {
   "cell_type": "code",
   "execution_count": 49,
   "metadata": {},
   "outputs": [
    {
     "name": "stdout",
     "output_type": "stream",
     "text": [
      "{'wt': 'center'}\n"
     ]
    }
   ],
   "source": [
    "# Mean center wt\n",
    "model.set_transforms({'wt': 'center'})\n",
    "\n",
    "model.show_transforms()"
   ]
  },
  {
   "cell_type": "markdown",
   "metadata": {},
   "source": [
    "If we now inspect the `.data` attribute of the model, we can see that `cyl` an **enum** type which is how `polars` treats categorical variables. We also have a *new* column `wt_orig` that contains the *original* values of $wt$, while `wt` contains the transformed (mean-centered) values"
   ]
  },
  {
   "cell_type": "code",
   "execution_count": 50,
   "metadata": {},
   "outputs": [
    {
     "data": {
      "text/html": [
       "<div><style>\n",
       ".dataframe > thead > tr,\n",
       ".dataframe > tbody > tr {\n",
       "  text-align: right;\n",
       "  white-space: pre-wrap;\n",
       "}\n",
       "</style>\n",
       "<small>shape: (5, 4)</small><table border=\"1\" class=\"dataframe\"><thead><tr><th>mpg</th><th>cyl</th><th>wt</th><th>wt_orig</th></tr><tr><td>f64</td><td>enum</td><td>f64</td><td>f64</td></tr></thead><tbody><tr><td>21.0</td><td>&quot;6&quot;</td><td>-0.59725</td><td>2.62</td></tr><tr><td>21.0</td><td>&quot;6&quot;</td><td>-0.34225</td><td>2.875</td></tr><tr><td>22.8</td><td>&quot;4&quot;</td><td>-0.89725</td><td>2.32</td></tr><tr><td>21.4</td><td>&quot;6&quot;</td><td>-0.00225</td><td>3.215</td></tr><tr><td>18.7</td><td>&quot;8&quot;</td><td>0.22275</td><td>3.44</td></tr></tbody></table></div>"
      ],
      "text/plain": [
       "shape: (5, 4)\n",
       "┌──────┬──────┬──────────┬─────────┐\n",
       "│ mpg  ┆ cyl  ┆ wt       ┆ wt_orig │\n",
       "│ ---  ┆ ---  ┆ ---      ┆ ---     │\n",
       "│ f64  ┆ enum ┆ f64      ┆ f64     │\n",
       "╞══════╪══════╪══════════╪═════════╡\n",
       "│ 21.0 ┆ 6    ┆ -0.59725 ┆ 2.62    │\n",
       "│ 21.0 ┆ 6    ┆ -0.34225 ┆ 2.875   │\n",
       "│ 22.8 ┆ 4    ┆ -0.89725 ┆ 2.32    │\n",
       "│ 21.4 ┆ 6    ┆ -0.00225 ┆ 3.215   │\n",
       "│ 18.7 ┆ 8    ┆ 0.22275  ┆ 3.44    │\n",
       "└──────┴──────┴──────────┴─────────┘"
      ]
     },
     "execution_count": 50,
     "metadata": {},
     "output_type": "execute_result"
    }
   ],
   "source": [
    "model.data.head()"
   ]
  },
  {
   "cell_type": "markdown",
   "metadata": {},
   "source": [
    "Now our parameter estimates represented comparisons specified by our contrasts and transformations:"
   ]
  },
  {
   "cell_type": "code",
   "execution_count": 51,
   "metadata": {},
   "outputs": [
    {
     "data": {
      "text/html": [
       "<div><style>\n",
       ".dataframe > thead > tr,\n",
       ".dataframe > tbody > tr {\n",
       "  text-align: right;\n",
       "  white-space: pre-wrap;\n",
       "}\n",
       "</style>\n",
       "<small>shape: (6, 2)</small><table border=\"1\" class=\"dataframe\"><thead><tr><th>term</th><th>estimate</th></tr><tr><td>str</td><td>f64</td></tr></thead><tbody><tr><td>&quot;(Intercept)&quot;</td><td>21.403304</td></tr><tr><td>&quot;wt&quot;</td><td>-5.647025</td></tr><tr><td>&quot;cyl6&quot;</td><td>-1.938755</td></tr><tr><td>&quot;cyl8&quot;</td><td>-4.588896</td></tr><tr><td>&quot;wt:cyl6&quot;</td><td>2.866919</td></tr><tr><td>&quot;wt:cyl8&quot;</td><td>3.454587</td></tr></tbody></table></div>"
      ],
      "text/plain": [
       "shape: (6, 2)\n",
       "┌─────────────┬───────────┐\n",
       "│ term        ┆ estimate  │\n",
       "│ ---         ┆ ---       │\n",
       "│ str         ┆ f64       │\n",
       "╞═════════════╪═══════════╡\n",
       "│ (Intercept) ┆ 21.403304 │\n",
       "│ wt          ┆ -5.647025 │\n",
       "│ cyl6        ┆ -1.938755 │\n",
       "│ cyl8        ┆ -4.588896 │\n",
       "│ wt:cyl6     ┆ 2.866919  │\n",
       "│ wt:cyl8     ┆ 3.454587  │\n",
       "└─────────────┴───────────┘"
      ]
     },
     "execution_count": 51,
     "metadata": {},
     "output_type": "execute_result"
    }
   ],
   "source": [
    "model.fit()\n",
    "model.params"
   ]
  },
  {
   "cell_type": "markdown",
   "metadata": {},
   "source": [
    "And we inspect our model's design-matrix using the `.design_matrix` attribute to see how our predictors are represented. Notice how level $4$ for the $cyl$ factor is not represented in design matrix because it's the reference level in the treatment coding scheme"
   ]
  },
  {
   "cell_type": "code",
   "execution_count": 36,
   "metadata": {},
   "outputs": [
    {
     "data": {
      "image/png": "[encoded data removed]",
      "text/plain": [
       "<Figure size 640x480 with 2 Axes>"
      ]
     },
     "metadata": {
      "image/png": {
       "height": 413,
       "width": 507
      }
     },
     "output_type": "display_data"
    }
   ],
   "source": [
    "import seaborn as sns\n",
    "\n",
    "sns.heatmap(model.design_matrix, xticklabels=model.design_matrix.columns, yticklabels=[], cmap='vlag', center=0);"
   ]
  },
  {
   "cell_type": "markdown",
   "metadata": {},
   "source": [
    "We can switch this to another supported contrast like sum-to-zero contrasts using `'contr.sum'` "
   ]
  },
  {
   "cell_type": "code",
   "execution_count": 52,
   "metadata": {},
   "outputs": [
    {
     "data": {
      "text/html": [
       "<div><style>\n",
       ".dataframe > thead > tr,\n",
       ".dataframe > tbody > tr {\n",
       "  text-align: right;\n",
       "  white-space: pre-wrap;\n",
       "}\n",
       "</style>\n",
       "<small>shape: (6, 2)</small><table border=\"1\" class=\"dataframe\"><thead><tr><th>term</th><th>estimate</th></tr><tr><td>str</td><td>f64</td></tr></thead><tbody><tr><td>&quot;(Intercept)&quot;</td><td>19.22742</td></tr><tr><td>&quot;wt&quot;</td><td>-3.539856</td></tr><tr><td>&quot;cyl1&quot;</td><td>2.175884</td></tr><tr><td>&quot;cyl2&quot;</td><td>0.237128</td></tr><tr><td>&quot;wt:cyl1&quot;</td><td>-2.107169</td></tr><tr><td>&quot;wt:cyl2&quot;</td><td>0.75975</td></tr></tbody></table></div>"
      ],
      "text/plain": [
       "shape: (6, 2)\n",
       "┌─────────────┬───────────┐\n",
       "│ term        ┆ estimate  │\n",
       "│ ---         ┆ ---       │\n",
       "│ str         ┆ f64       │\n",
       "╞═════════════╪═══════════╡\n",
       "│ (Intercept) ┆ 19.22742  │\n",
       "│ wt          ┆ -3.539856 │\n",
       "│ cyl1        ┆ 2.175884  │\n",
       "│ cyl2        ┆ 0.237128  │\n",
       "│ wt:cyl1     ┆ -2.107169 │\n",
       "│ wt:cyl2     ┆ 0.75975   │\n",
       "└─────────────┴───────────┘"
      ]
     },
     "execution_count": 52,
     "metadata": {},
     "output_type": "execute_result"
    }
   ],
   "source": [
    "model.set_contrasts({'cyl': 'contr.sum'})\n",
    "model.fit()\n",
    "model.params"
   ]
  },
  {
   "cell_type": "markdown",
   "metadata": {},
   "source": [
    "And inspect how our design matrix has changed. Notice that the columns for $cyl$ now contain negative values to ensure the contrasts sum-to-zero"
   ]
  },
  {
   "cell_type": "code",
   "execution_count": 38,
   "metadata": {},
   "outputs": [
    {
     "data": {
      "image/png": "[encoded data removed]",
      "text/plain": [
       "<Figure size 640x480 with 2 Axes>"
      ]
     },
     "metadata": {
      "image/png": {
       "height": 413,
       "width": 507
      }
     },
     "output_type": "display_data"
    }
   ],
   "source": [
    "sns.heatmap(model.design_matrix, xticklabels=model.design_matrix.columns, yticklabels=[], cmap='vlag', center=0);"
   ]
  },
  {
   "cell_type": "markdown",
   "metadata": {},
   "source": [
    "Alternatively we can test a *specific* hypothesis by using a custom contrast across factor levels (numeric values that add up to 0). This is specified based on the order of levels set when using `.set_factors()`, or alphabetically by default.\n",
    "\n",
    "If we inspect the data we can see that there seems to be an approximately linear trend across levels of $cyl$\n"
   ]
  },
  {
   "cell_type": "code",
   "execution_count": 53,
   "metadata": {
    "tags": [
     "hide-input"
    ]
   },
   "outputs": [
    {
     "data": {
      "image/png": "[encoded data removed]",
      "text/plain": [
       "<Figure size 600x300 with 1 Axes>"
      ]
     },
     "metadata": {
      "image/png": {
       "height": 290,
       "width": 590
      }
     },
     "output_type": "display_data"
    }
   ],
   "source": [
    "import seaborn as sns\n",
    "\n",
    "grid = sns.FacetGrid(data=model.data, palette='Purples', aspect=2)\n",
    "\n",
    "grid.map(sns.pointplot, 'cyl', 'mpg', color='gray', order=['4','6','8'], alpha=.25, errorbar=None, markersize=10)\n",
    "\n",
    "grid.map_dataframe(sns.stripplot, 'cyl', 'mpg', order=['4','6','8'], hue='cyl', palette='Purples', legend=True);"
   ]
  },
  {
   "cell_type": "markdown",
   "metadata": {},
   "source": [
    "We can test this by specifying a linear contrast across levels of `cyl` such that 4 < 6 < 8. \n",
    "\n",
    "The `normalize` argument simply scales our contrasts for us to match the polynomial used in R:"
   ]
  },
  {
   "cell_type": "code",
   "execution_count": 54,
   "metadata": {},
   "outputs": [
    {
     "name": "stdout",
     "output_type": "stream",
     "text": [
      "{'cyl': array([-0.70710678,  0.        ,  0.70710678])}\n"
     ]
    }
   ],
   "source": [
    "model.set_contrasts({'cyl':[-1, 0, 1]}, normalize=True)\n",
    "model.show_contrasts()"
   ]
  },
  {
   "cell_type": "markdown",
   "metadata": {},
   "source": [
    "Now $cyl1$ below reflects *this specific* comparison: a linear trend across levels  \n",
    "$cyl2$ represents an automatically computed orthogonal comparison, in this case a *quadratic* trend across $cyl$ levels. \n"
   ]
  },
  {
   "cell_type": "code",
   "execution_count": 55,
   "metadata": {},
   "outputs": [
    {
     "data": {
      "text/html": [
       "<div id=\"pxngkbhnmr\" style=\"padding-left:0px;padding-right:0px;padding-top:10px;padding-bottom:10px;overflow-x:auto;overflow-y:auto;width:auto;height:auto;\">\n",
       "<style>\n",
       "#pxngkbhnmr table {\n",
       "          font-family: -apple-system, BlinkMacSystemFont, 'Segoe UI', Roboto, Oxygen, Ubuntu, Cantarell, 'Helvetica Neue', 'Fira Sans', 'Droid Sans', Arial, sans-serif;\n",
       "          -webkit-font-smoothing: antialiased;\n",
       "          -moz-osx-font-smoothing: grayscale;\n",
       "        }\n",
       "\n",
       "#pxngkbhnmr thead, tbody, tfoot, tr, td, th { border-style: none !important; }\n",
       " tr { background-color: transparent !important; }\n",
       "#pxngkbhnmr p { margin: 0 !important; padding: 0 !important; }\n",
       " #pxngkbhnmr .gt_table { display: table !important; border-collapse: collapse !important; line-height: normal !important; margin-left: auto !important; margin-right: auto !important; color: #333333 !important; font-size: 16px !important; font-weight: normal !important; font-style: normal !important; background-color: #FFFFFF !important; width: auto !important; border-top-style: solid !important; border-top-width: 2px !important; border-top-color: #A8A8A8 !important; border-right-style: none !important; border-right-width: 2px !important; border-right-color: #D3D3D3 !important; border-bottom-style: solid !important; border-bottom-width: 2px !important; border-bottom-color: #A8A8A8 !important; border-left-style: none !important; border-left-width: 2px !important; border-left-color: #D3D3D3 !important; }\n",
       " #pxngkbhnmr .gt_caption { padding-top: 4px !important; padding-bottom: 4px !important; }\n",
       " #pxngkbhnmr .gt_title { color: #333333 !important; font-size: 125% !important; font-weight: initial !important; padding-top: 3px !important; padding-bottom: 3px !important; padding-left: 5px !important; padding-right: 5px !important; border-bottom-color: #FFFFFF !important; border-bottom-width: 0 !important; }\n",
       " #pxngkbhnmr .gt_subtitle { color: #333333 !important; font-size: 85% !important; font-weight: initial !important; padding-top: 2px !important; padding-bottom: 4px !important; padding-left: 5px !important; padding-right: 5px !important; border-top-color: #FFFFFF !important; border-top-width: 0 !important; }\n",
       " #pxngkbhnmr .gt_heading { background-color: #FFFFFF !important; text-align: left !important; border-bottom-color: #FFFFFF !important; border-left-style: none !important; border-left-width: 1px !important; border-left-color: #D3D3D3 !important; border-right-style: none !important; border-right-width: 1px !important; border-right-color: #D3D3D3 !important; }\n",
       " #pxngkbhnmr .gt_bottom_border { border-bottom-style: solid !important; border-bottom-width: 2px !important; border-bottom-color: #D3D3D3 !important; }\n",
       " #pxngkbhnmr .gt_col_headings { border-top-style: solid !important; border-top-width: 2px !important; border-top-color: #D3D3D3 !important; border-bottom-style: solid !important; border-bottom-width: 2px !important; border-bottom-color: #D3D3D3 !important; border-left-style: none !important; border-left-width: 1px !important; border-left-color: #D3D3D3 !important; border-right-style: none !important; border-right-width: 1px !important; border-right-color: #D3D3D3 !important; }\n",
       " #pxngkbhnmr .gt_col_heading { color: #333333 !important; background-color: #FFFFFF !important; font-size: 100% !important; font-weight: normal !important; text-transform: inherit !important; border-left-style: none !important; border-left-width: 1px !important; border-left-color: #D3D3D3 !important; border-right-style: none !important; border-right-width: 1px !important; border-right-color: #D3D3D3 !important; vertical-align: bottom !important; padding-top: 3px !important; padding-bottom: 4px !important; padding-left: 5px !important; padding-right: 5px !important; overflow-x: hidden !important; }\n",
       " #pxngkbhnmr .gt_column_spanner_outer { color: #333333 !important; background-color: #FFFFFF !important; font-size: 100% !important; font-weight: normal !important; text-transform: inherit !important; padding-top: 0 !important; padding-bottom: 0 !important; padding-left: 4px !important; padding-right: 4px !important; }\n",
       " #pxngkbhnmr .gt_column_spanner_outer:first-child { padding-left: 0 !important; }\n",
       " #pxngkbhnmr .gt_column_spanner_outer:last-child { padding-right: 0 !important; }\n",
       " #pxngkbhnmr .gt_column_spanner { border-bottom-style: solid !important; border-bottom-width: 2px !important; border-bottom-color: #D3D3D3 !important; vertical-align: bottom !important; padding-top: 3px !important; padding-bottom: 3px !important; overflow-x: hidden !important; display: inline-block !important; width: 100% !important; }\n",
       " #pxngkbhnmr .gt_spanner_row { border-bottom-style: hidden !important; }\n",
       " #pxngkbhnmr .gt_group_heading { padding-top: 6px !important; padding-bottom: 6px !important; padding-left: 5px !important; padding-right: 5px !important; color: #333333 !important; background-color: #FFFFFF !important; font-size: 100% !important; font-weight: initial !important; text-transform: inherit !important; border-top-style: solid !important; border-top-width: 2px !important; border-top-color: #D3D3D3 !important; border-bottom-style: solid !important; border-bottom-width: 2px !important; border-bottom-color: #D3D3D3 !important; border-left-style: none !important; border-left-width: 1px !important; border-left-color: #D3D3D3 !important; border-right-style: none !important; border-right-width: 1px !important; border-right-color: #D3D3D3 !important; vertical-align: middle !important; text-align: left !important; }\n",
       " #pxngkbhnmr .gt_empty_group_heading { padding: 0.5px !important; color: #333333 !important; background-color: #FFFFFF !important; font-size: 100% !important; font-weight: initial !important; border-top-style: solid !important; border-top-width: 2px !important; border-top-color: #D3D3D3 !important; border-bottom-style: solid !important; border-bottom-width: 2px !important; border-bottom-color: #D3D3D3 !important; vertical-align: middle !important; }\n",
       " #pxngkbhnmr .gt_from_md> :first-child { margin-top: 0 !important; }\n",
       " #pxngkbhnmr .gt_from_md> :last-child { margin-bottom: 0 !important; }\n",
       " #pxngkbhnmr .gt_row { padding-top: 6px !important; padding-bottom: 6px !important; padding-left: 5px !important; padding-right: 5px !important; margin: 10px !important; border-top-style: solid !important; border-top-width: 1px !important; border-top-color: #D3D3D3 !important; border-left-style: none !important; border-left-width: 1px !important; border-left-color: #D3D3D3 !important; border-right-style: none !important; border-right-width: 1px !important; border-right-color: #D3D3D3 !important; vertical-align: middle !important; overflow-x: hidden !important; }\n",
       " #pxngkbhnmr .gt_stub { color: #333333 !important; background-color: #FFFFFF !important; font-size: 100% !important; font-weight: initial !important; text-transform: inherit !important; border-right-style: solid !important; border-right-width: 2px !important; border-right-color: #D3D3D3 !important; padding-left: 5px !important; padding-right: 5px !important; }\n",
       " #pxngkbhnmr .gt_stub_row_group { color: #333333 !important; background-color: #FFFFFF !important; font-size: 100% !important; font-weight: initial !important; text-transform: inherit !important; border-right-style: solid !important; border-right-width: 2px !important; border-right-color: #D3D3D3 !important; padding-left: 5px !important; padding-right: 5px !important; vertical-align: top !important; }\n",
       " #pxngkbhnmr .gt_row_group_first td { border-top-width: 2px !important; }\n",
       " #pxngkbhnmr .gt_row_group_first th { border-top-width: 2px !important; }\n",
       " #pxngkbhnmr .gt_striped { background-color: rgba(128,128,128,0.05) !important; }\n",
       " #pxngkbhnmr .gt_table_body { border-top-style: solid !important; border-top-width: 2px !important; border-top-color: #D3D3D3 !important; border-bottom-style: solid !important; border-bottom-width: 2px !important; border-bottom-color: #D3D3D3 !important; }\n",
       " #pxngkbhnmr .gt_sourcenotes { color: #333333 !important; background-color: #FFFFFF !important; border-bottom-style: none !important; border-bottom-width: 2px !important; border-bottom-color: #D3D3D3 !important; border-left-style: none !important; border-left-width: 2px !important; border-left-color: #D3D3D3 !important; border-right-style: none !important; border-right-width: 2px !important; border-right-color: #D3D3D3 !important; }\n",
       " #pxngkbhnmr .gt_sourcenote { font-size: small !important; padding-top: 3px !important; padding-bottom: 3px !important; padding-left: 5px !important; padding-right: 5px !important; text-align: left !important; }\n",
       " #pxngkbhnmr .gt_left { text-align: left !important; }\n",
       " #pxngkbhnmr .gt_center { text-align: center !important; }\n",
       " #pxngkbhnmr .gt_right { text-align: right !important; font-variant-numeric: tabular-nums !important; }\n",
       " #pxngkbhnmr .gt_font_normal { font-weight: normal !important; }\n",
       " #pxngkbhnmr .gt_font_bold { font-weight: bold !important; }\n",
       " #pxngkbhnmr .gt_font_italic { font-style: italic !important; }\n",
       " #pxngkbhnmr .gt_super { font-size: 65% !important; }\n",
       " #pxngkbhnmr .gt_footnote_marks { font-size: 75% !important; vertical-align: 0.4em !important; position: initial !important; }\n",
       " #pxngkbhnmr .gt_asterisk { font-size: 100% !important; vertical-align: 0 !important; }\n",
       " \n",
       "</style>\n",
       "<table class=\"gt_table\" data-quarto-disable-processing=\"false\" data-quarto-bootstrap=\"false\">\n",
       "<thead>\n",
       "\n",
       "  <tr class=\"gt_heading\">\n",
       "    <td colspan=\"9\" class=\"gt_heading gt_title gt_font_normal\">Formula: lm(mpg~wt*cyl)</td>\n",
       "  </tr>\n",
       "  <tr class=\"gt_heading\">\n",
       "    <td colspan=\"9\" class=\"gt_heading gt_subtitle gt_font_normal gt_bottom_border\">Number of observations: <em>32</em><br />\n",
       "Confidence intervals: <em>parametric</em><br />\n",
       "---------------------<br />\n",
       "R-squared: <em>0.8616</em><br />\n",
       "R-squared-adj: <em>0.8349</em><br />\n",
       "<em>F(5, 26) = 32.362, p = &lt;.001</em><br />\n",
       "Log-likelihood: <em>-70</em><br />\n",
       "AIC: <em>155</em> | BIC: <em>165</em><br />\n",
       "Residual error: <em>2.449</em></td>\n",
       "  </tr>\n",
       "<tr class=\"gt_col_headings\">\n",
       "  <th class=\"gt_col_heading gt_columns_bottom_border gt_left\" rowspan=\"1\" colspan=\"1\" scope=\"col\" id=\"\"></th>\n",
       "  <th class=\"gt_col_heading gt_columns_bottom_border gt_right\" rowspan=\"1\" colspan=\"1\" scope=\"col\" id=\"Estimate\">Estimate</th>\n",
       "  <th class=\"gt_col_heading gt_columns_bottom_border gt_right\" rowspan=\"1\" colspan=\"1\" scope=\"col\" id=\"SE\">SE</th>\n",
       "  <th class=\"gt_col_heading gt_columns_bottom_border gt_right\" rowspan=\"1\" colspan=\"1\" scope=\"col\" id=\"CI-low\">CI-low</th>\n",
       "  <th class=\"gt_col_heading gt_columns_bottom_border gt_right\" rowspan=\"1\" colspan=\"1\" scope=\"col\" id=\"CI-high\">CI-high</th>\n",
       "  <th class=\"gt_col_heading gt_columns_bottom_border gt_right\" rowspan=\"1\" colspan=\"1\" scope=\"col\" id=\"T-stat\">T-stat</th>\n",
       "  <th class=\"gt_col_heading gt_columns_bottom_border gt_right\" rowspan=\"1\" colspan=\"1\" scope=\"col\" id=\"df\">df</th>\n",
       "  <th class=\"gt_col_heading gt_columns_bottom_border gt_left\" rowspan=\"1\" colspan=\"1\" scope=\"col\" id=\"p\">p</th>\n",
       "  <th class=\"gt_col_heading gt_columns_bottom_border gt_left\" rowspan=\"1\" colspan=\"1\" scope=\"col\" id=\"\"></th>\n",
       "</tr>\n",
       "</thead>\n",
       "<tbody class=\"gt_table_body\">\n",
       "  <tr>\n",
       "    <th style=\"font-style: italic;\" class=\"gt_row gt_left gt_stub\">(Intercept)</th>\n",
       "    <td class=\"gt_row gt_right\">19.227</td>\n",
       "    <td class=\"gt_row gt_right\">0.667</td>\n",
       "    <td class=\"gt_row gt_right\">17.857</td>\n",
       "    <td class=\"gt_row gt_right\">20.598</td>\n",
       "    <td class=\"gt_row gt_right\">28.836</td>\n",
       "    <td class=\"gt_row gt_right\">26</td>\n",
       "    <td class=\"gt_row gt_left\"><.001</td>\n",
       "    <td class=\"gt_row gt_left\">***</td>\n",
       "  </tr>\n",
       "  <tr>\n",
       "    <th style=\"font-style: italic;\" class=\"gt_row gt_left gt_stub\">wt</th>\n",
       "    <td class=\"gt_row gt_right\">−3.540</td>\n",
       "    <td class=\"gt_row gt_right\">1.081</td>\n",
       "    <td class=\"gt_row gt_right\">−5.762</td>\n",
       "    <td class=\"gt_row gt_right\">−1.318</td>\n",
       "    <td class=\"gt_row gt_right\">−3.275</td>\n",
       "    <td class=\"gt_row gt_right\">26</td>\n",
       "    <td class=\"gt_row gt_left\">0.002993</td>\n",
       "    <td class=\"gt_row gt_left\">**</td>\n",
       "  </tr>\n",
       "  <tr>\n",
       "    <th style=\"font-style: italic;\" class=\"gt_row gt_left gt_stub\">cyl1</th>\n",
       "    <td class=\"gt_row gt_right\">−3.245</td>\n",
       "    <td class=\"gt_row gt_right\">1.238</td>\n",
       "    <td class=\"gt_row gt_right\">−5.790</td>\n",
       "    <td class=\"gt_row gt_right\">−0.700</td>\n",
       "    <td class=\"gt_row gt_right\">−2.621</td>\n",
       "    <td class=\"gt_row gt_right\">26</td>\n",
       "    <td class=\"gt_row gt_left\">0.01446</td>\n",
       "    <td class=\"gt_row gt_left\">*</td>\n",
       "  </tr>\n",
       "  <tr>\n",
       "    <th style=\"font-style: italic;\" class=\"gt_row gt_left gt_stub\">cyl2</th>\n",
       "    <td class=\"gt_row gt_right\">−0.290</td>\n",
       "    <td class=\"gt_row gt_right\">1.065</td>\n",
       "    <td class=\"gt_row gt_right\">−2.480</td>\n",
       "    <td class=\"gt_row gt_right\">1.899</td>\n",
       "    <td class=\"gt_row gt_right\">−0.273</td>\n",
       "    <td class=\"gt_row gt_right\">26</td>\n",
       "    <td class=\"gt_row gt_left\">0.7873</td>\n",
       "    <td class=\"gt_row gt_left\"></td>\n",
       "  </tr>\n",
       "  <tr>\n",
       "    <th style=\"font-style: italic;\" class=\"gt_row gt_left gt_stub\">wt:cyl1</th>\n",
       "    <td class=\"gt_row gt_right\">2.443</td>\n",
       "    <td class=\"gt_row gt_right\">1.151</td>\n",
       "    <td class=\"gt_row gt_right\">0.078</td>\n",
       "    <td class=\"gt_row gt_right\">4.808</td>\n",
       "    <td class=\"gt_row gt_right\">2.123</td>\n",
       "    <td class=\"gt_row gt_right\">26</td>\n",
       "    <td class=\"gt_row gt_left\">0.04344</td>\n",
       "    <td class=\"gt_row gt_left\">*</td>\n",
       "  </tr>\n",
       "  <tr>\n",
       "    <th style=\"font-style: italic;\" class=\"gt_row gt_left gt_stub\">wt:cyl2</th>\n",
       "    <td class=\"gt_row gt_right\">−0.931</td>\n",
       "    <td class=\"gt_row gt_right\">2.385</td>\n",
       "    <td class=\"gt_row gt_right\">−5.833</td>\n",
       "    <td class=\"gt_row gt_right\">3.972</td>\n",
       "    <td class=\"gt_row gt_right\">−0.390</td>\n",
       "    <td class=\"gt_row gt_right\">26</td>\n",
       "    <td class=\"gt_row gt_left\">0.6996</td>\n",
       "    <td class=\"gt_row gt_left\"></td>\n",
       "  </tr>\n",
       "</tbody>\n",
       "  <tfoot class=\"gt_sourcenotes\">\n",
       "  \n",
       "  <tr>\n",
       "    <td class=\"gt_sourcenote\" colspan=\"9\">Signif. codes: <em>0 *** 0.001 ** 0.01 * 0.05 . 0.1</em></td>\n",
       "  </tr>\n",
       "\n",
       "</tfoot>\n",
       "\n",
       "</table>\n",
       "\n",
       "</div>\n",
       "        "
      ],
      "text/plain": [
       "GT(_tbl_data=shape: (6, 9)\n",
       "┌─────────────┬───────────┬───────────┬───────────┬───┬───────────┬─────┬──────────┬───────┐\n",
       "│ term        ┆ estimate  ┆ std_error ┆ conf_low  ┆ … ┆ t_stat    ┆ df  ┆ p_value  ┆ stars │\n",
       "│ ---         ┆ ---       ┆ ---       ┆ ---       ┆   ┆ ---       ┆ --- ┆ ---      ┆ ---   │\n",
       "│ str         ┆ f64       ┆ f64       ┆ f64       ┆   ┆ f64       ┆ i64 ┆ str      ┆ str   │\n",
       "╞═════════════╪═══════════╪═══════════╪═══════════╪═══╪═══════════╪═════╪══════════╪═══════╡\n",
       "│ (Intercept) ┆ 19.22742  ┆ 0.666794  ┆ 17.856807 ┆ … ┆ 28.835643 ┆ 26  ┆ <.001    ┆ ***   │\n",
       "│ wt          ┆ -3.539856 ┆ 1.081023  ┆ -5.76193  ┆ … ┆ -3.274544 ┆ 26  ┆ 0.002993 ┆ **    │\n",
       "│ cyl1        ┆ -3.244839 ┆ 1.238169  ┆ -5.789933 ┆ … ┆ -2.620675 ┆ 26  ┆ 0.01446  ┆ *     │\n",
       "│ cyl2        ┆ -0.290422 ┆ 1.065185  ┆ -2.47994  ┆ … ┆ -0.272649 ┆ 26  ┆ 0.7873   ┆       │\n",
       "│ wt:cyl1     ┆ 2.442762  ┆ 1.150647  ┆ 0.077572  ┆ … ┆ 2.122946  ┆ 26  ┆ 0.04344  ┆ *     │\n",
       "│ wt:cyl2     ┆ -0.9305   ┆ 2.384884  ┆ -5.832699 ┆ … ┆ -0.390166 ┆ 26  ┆ 0.6996   ┆       │\n",
       "└─────────────┴───────────┴───────────┴───────────┴───┴───────────┴─────┴──────────┴───────┘, _body=<great_tables._gt_data.Body object at 0x334b50d70>, _boxhead=Boxhead([ColInfo(var='term', type=<ColInfoTypeEnum.stub: 2>, column_label='term', column_align='left', column_width=None), ColInfo(var='estimate', type=<ColInfoTypeEnum.default: 1>, column_label='Estimate', column_align='right', column_width=None), ColInfo(var='std_error', type=<ColInfoTypeEnum.default: 1>, column_label='SE', column_align='right', column_width=None), ColInfo(var='conf_low', type=<ColInfoTypeEnum.default: 1>, column_label='CI-low', column_align='right', column_width=None), ColInfo(var='conf_high', type=<ColInfoTypeEnum.default: 1>, column_label='CI-high', column_align='right', column_width=None), ColInfo(var='t_stat', type=<ColInfoTypeEnum.default: 1>, column_label='T-stat', column_align='right', column_width=None), ColInfo(var='df', type=<ColInfoTypeEnum.default: 1>, column_label='df', column_align='right', column_width=None), ColInfo(var='p_value', type=<ColInfoTypeEnum.default: 1>, column_label='p', column_align='left', column_width=None), ColInfo(var='stars', type=<ColInfoTypeEnum.default: 1>, column_label='', column_align='left', column_width=None)]), _stub=<great_tables._gt_data.Stub object at 0x33511ff20>, _spanners=Spanners([]), _heading=Heading(title='Formula: lm(mpg~wt*cyl)', subtitle=Md(text='Number of observations: *32*  \\n            Confidence intervals: *parametric*  \\n            ---------------------  \\n            R-squared: *0.8616*  \\n            R-squared-adj: *0.8349*  \\n            *F(5, 26) = 32.362, p = <.001*  \\n            Log-likelihood: *-70*  \\n            AIC: *155* | BIC: *165*  \\n            Residual error: *2.449*  \\n        '), preheader=None), _stubhead=None, _source_notes=[Md(text='Signif. codes: *0 *** 0.001 ** 0.01 * 0.05 . 0.1*')], _footnotes=[], _styles=[StyleInfo(locname=LocStub(rows=None), grpname=None, colname=None, rownum=0, colnum=None, styles=[CellStyleText(color=None, font=None, size=None, align=None, v_align=None, style='italic', weight=None, stretch=None, decorate=None, transform=None, whitespace=None)]), StyleInfo(locname=LocStub(rows=None), grpname=None, colname=None, rownum=1, colnum=None, styles=[CellStyleText(color=None, font=None, size=None, align=None, v_align=None, style='italic', weight=None, stretch=None, decorate=None, transform=None, whitespace=None)]), StyleInfo(locname=LocStub(rows=None), grpname=None, colname=None, rownum=2, colnum=None, styles=[CellStyleText(color=None, font=None, size=None, align=None, v_align=None, style='italic', weight=None, stretch=None, decorate=None, transform=None, whitespace=None)]), StyleInfo(locname=LocStub(rows=None), grpname=None, colname=None, rownum=3, colnum=None, styles=[CellStyleText(color=None, font=None, size=None, align=None, v_align=None, style='italic', weight=None, stretch=None, decorate=None, transform=None, whitespace=None)]), StyleInfo(locname=LocStub(rows=None), grpname=None, colname=None, rownum=4, colnum=None, styles=[CellStyleText(color=None, font=None, size=None, align=None, v_align=None, style='italic', weight=None, stretch=None, decorate=None, transform=None, whitespace=None)]), StyleInfo(locname=LocStub(rows=None), grpname=None, colname=None, rownum=5, colnum=None, styles=[CellStyleText(color=None, font=None, size=None, align=None, v_align=None, style='italic', weight=None, stretch=None, decorate=None, transform=None, whitespace=None)])], _locale=<great_tables._gt_data.Locale object at 0x335238530>, _formats=[<great_tables._gt_data.FormatInfo object at 0x3352eea20>, <great_tables._gt_data.FormatInfo object at 0x335096f60>], _substitutions=[], _options=Options(table_id=OptionsInfo(scss=False, category='table', type='value', value=None), table_caption=OptionsInfo(scss=False, category='table', type='value', value=None), table_width=OptionsInfo(scss=True, category='table', type='px', value='auto'), table_layout=OptionsInfo(scss=True, category='table', type='value', value='fixed'), table_margin_left=OptionsInfo(scss=True, category='table', type='px', value='auto'), table_margin_right=OptionsInfo(scss=True, category='table', type='px', value='auto'), table_background_color=OptionsInfo(scss=True, category='table', type='value', value='#FFFFFF'), table_additional_css=OptionsInfo(scss=False, category='table', type='values', value=[]), table_font_names=OptionsInfo(scss=False, category='table', type='values', value=['-apple-system', 'BlinkMacSystemFont', 'Segoe UI', 'Roboto', 'Oxygen', 'Ubuntu', 'Cantarell', 'Helvetica Neue', 'Fira Sans', 'Droid Sans', 'Arial', 'sans-serif']), table_font_size=OptionsInfo(scss=True, category='table', type='px', value='16px'), table_font_weight=OptionsInfo(scss=True, category='table', type='value', value='normal'), table_font_style=OptionsInfo(scss=True, category='table', type='value', value='normal'), table_font_color=OptionsInfo(scss=True, category='table', type='value', value='#333333'), table_font_color_light=OptionsInfo(scss=True, category='table', type='value', value='#FFFFFF'), table_border_top_include=OptionsInfo(scss=False, category='table', type='boolean', value=True), table_border_top_style=OptionsInfo(scss=True, category='table', type='value', value='solid'), table_border_top_width=OptionsInfo(scss=True, category='table', type='px', value='2px'), table_border_top_color=OptionsInfo(scss=True, category='table', type='value', value='#A8A8A8'), table_border_right_style=OptionsInfo(scss=True, category='table', type='value', value='none'), table_border_right_width=OptionsInfo(scss=True, category='table', type='px', value='2px'), table_border_right_color=OptionsInfo(scss=True, category='table', type='value', value='#D3D3D3'), table_border_bottom_include=OptionsInfo(scss=False, category='table', type='boolean', value=True), table_border_bottom_style=OptionsInfo(scss=True, category='table', type='value', value='solid'), table_border_bottom_width=OptionsInfo(scss=True, category='table', type='px', value='2px'), table_border_bottom_color=OptionsInfo(scss=True, category='table', type='value', value='#A8A8A8'), table_border_left_style=OptionsInfo(scss=True, category='table', type='value', value='none'), table_border_left_width=OptionsInfo(scss=True, category='table', type='px', value='2px'), table_border_left_color=OptionsInfo(scss=True, category='table', type='value', value='#D3D3D3'), heading_background_color=OptionsInfo(scss=True, category='heading', type='value', value=None), heading_align=OptionsInfo(scss=True, category='heading', type='value', value='left'), heading_title_font_size=OptionsInfo(scss=True, category='heading', type='px', value='125%'), heading_title_font_weight=OptionsInfo(scss=True, category='heading', type='value', value='initial'), heading_subtitle_font_size=OptionsInfo(scss=True, category='heading', type='px', value='85%'), heading_subtitle_font_weight=OptionsInfo(scss=True, category='heading', type='value', value='initial'), heading_padding=OptionsInfo(scss=True, category='heading', type='px', value='3px'), heading_padding_horizontal=OptionsInfo(scss=True, category='heading', type='px', value='5px'), heading_border_bottom_style=OptionsInfo(scss=True, category='heading', type='value', value='solid'), heading_border_bottom_width=OptionsInfo(scss=True, category='heading', type='px', value='2px'), heading_border_bottom_color=OptionsInfo(scss=True, category='heading', type='value', value='#D3D3D3'), heading_border_lr_style=OptionsInfo(scss=True, category='heading', type='value', value='none'), heading_border_lr_width=OptionsInfo(scss=True, category='heading', type='px', value='1px'), heading_border_lr_color=OptionsInfo(scss=True, category='heading', type='value', value='#D3D3D3'), column_labels_background_color=OptionsInfo(scss=True, category='column_labels', type='value', value=None), column_labels_font_size=OptionsInfo(scss=True, category='column_labels', type='px', value='100%'), column_labels_font_weight=OptionsInfo(scss=True, category='column_labels', type='value', value='normal'), column_labels_text_transform=OptionsInfo(scss=True, category='column_labels', type='value', value='inherit'), column_labels_padding=OptionsInfo(scss=True, category='column_labels', type='px', value='3px'), column_labels_padding_horizontal=OptionsInfo(scss=True, category='column_labels', type='px', value='5px'), column_labels_vlines_style=OptionsInfo(scss=True, category='table_body', type='value', value='none'), column_labels_vlines_width=OptionsInfo(scss=True, category='table_body', type='px', value='1px'), column_labels_vlines_color=OptionsInfo(scss=True, category='table_body', type='value', value='#D3D3D3'), column_labels_border_top_style=OptionsInfo(scss=True, category='column_labels', type='value', value='solid'), column_labels_border_top_width=OptionsInfo(scss=True, category='column_labels', type='px', value='2px'), column_labels_border_top_color=OptionsInfo(scss=True, category='column_labels', type='value', value='#D3D3D3'), column_labels_border_bottom_style=OptionsInfo(scss=True, category='column_labels', type='value', value='solid'), column_labels_border_bottom_width=OptionsInfo(scss=True, category='column_labels', type='px', value='2px'), column_labels_border_bottom_color=OptionsInfo(scss=True, category='column_labels', type='value', value='#D3D3D3'), column_labels_border_lr_style=OptionsInfo(scss=True, category='column_labels', type='value', value='none'), column_labels_border_lr_width=OptionsInfo(scss=True, category='column_labels', type='px', value='1px'), column_labels_border_lr_color=OptionsInfo(scss=True, category='column_labels', type='value', value='#D3D3D3'), column_labels_hidden=OptionsInfo(scss=False, category='column_labels', type='boolean', value=False), row_group_background_color=OptionsInfo(scss=True, category='row_group', type='value', value=None), row_group_font_size=OptionsInfo(scss=True, category='row_group', type='px', value='100%'), row_group_font_weight=OptionsInfo(scss=True, category='row_group', type='value', value='initial'), row_group_text_transform=OptionsInfo(scss=True, category='row_group', type='value', value='inherit'), row_group_padding=OptionsInfo(scss=True, category='row_group', type='px', value='6px'), row_group_padding_horizontal=OptionsInfo(scss=True, category='row_group', type='px', value='5px'), row_group_border_top_style=OptionsInfo(scss=True, category='row_group', type='value', value='solid'), row_group_border_top_width=OptionsInfo(scss=True, category='row_group', type='px', value='2px'), row_group_border_top_color=OptionsInfo(scss=True, category='row_group', type='value', value='#D3D3D3'), row_group_border_right_style=OptionsInfo(scss=True, category='row_group', type='value', value='none'), row_group_border_right_width=OptionsInfo(scss=True, category='row_group', type='px', value='1px'), row_group_border_right_color=OptionsInfo(scss=True, category='row_group', type='value', value='#D3D3D3'), row_group_border_bottom_style=OptionsInfo(scss=True, category='row_group', type='value', value='solid'), row_group_border_bottom_width=OptionsInfo(scss=True, category='row_group', type='px', value='2px'), row_group_border_bottom_color=OptionsInfo(scss=True, category='row_group', type='value', value='#D3D3D3'), row_group_border_left_style=OptionsInfo(scss=True, category='row_group', type='value', value='none'), row_group_border_left_width=OptionsInfo(scss=True, category='row_group', type='px', value='1px'), row_group_border_left_color=OptionsInfo(scss=True, category='row_group', type='value', value='#D3D3D3'), row_group_as_column=OptionsInfo(scss=False, category='row_group', type='boolean', value=False), table_body_hlines_style=OptionsInfo(scss=True, category='table_body', type='value', value='solid'), table_body_hlines_width=OptionsInfo(scss=True, category='table_body', type='px', value='1px'), table_body_hlines_color=OptionsInfo(scss=True, category='table_body', type='value', value='#D3D3D3'), table_body_vlines_style=OptionsInfo(scss=True, category='table_body', type='value', value='none'), table_body_vlines_width=OptionsInfo(scss=True, category='table_body', type='px', value='1px'), table_body_vlines_color=OptionsInfo(scss=True, category='table_body', type='value', value='#D3D3D3'), table_body_border_top_style=OptionsInfo(scss=True, category='table_body', type='value', value='solid'), table_body_border_top_width=OptionsInfo(scss=True, category='table_body', type='px', value='2px'), table_body_border_top_color=OptionsInfo(scss=True, category='table_body', type='value', value='#D3D3D3'), table_body_border_bottom_style=OptionsInfo(scss=True, category='table_body', type='value', value='solid'), table_body_border_bottom_width=OptionsInfo(scss=True, category='table_body', type='px', value='2px'), table_body_border_bottom_color=OptionsInfo(scss=True, category='table_body', type='value', value='#D3D3D3'), data_row_padding=OptionsInfo(scss=True, category='data_row', type='px', value='6px'), data_row_padding_horizontal=OptionsInfo(scss=True, category='data_row', type='px', value='5px'), stub_background_color=OptionsInfo(scss=True, category='stub', type='value', value=None), stub_font_size=OptionsInfo(scss=True, category='stub', type='px', value='100%'), stub_font_weight=OptionsInfo(scss=True, category='stub', type='value', value='initial'), stub_text_transform=OptionsInfo(scss=True, category='stub', type='value', value='inherit'), stub_border_style=OptionsInfo(scss=True, category='stub', type='value', value='solid'), stub_border_width=OptionsInfo(scss=True, category='stub', type='px', value='2px'), stub_border_color=OptionsInfo(scss=True, category='stub', type='value', value='#D3D3D3'), stub_row_group_background_color=OptionsInfo(scss=True, category='stub', type='value', value=None), stub_row_group_font_size=OptionsInfo(scss=True, category='stub', type='px', value='100%'), stub_row_group_font_weight=OptionsInfo(scss=True, category='stub', type='value', value='initial'), stub_row_group_text_transform=OptionsInfo(scss=True, category='stub', type='value', value='inherit'), stub_row_group_border_style=OptionsInfo(scss=True, category='stub', type='value', value='solid'), stub_row_group_border_width=OptionsInfo(scss=True, category='stub', type='px', value='2px'), stub_row_group_border_color=OptionsInfo(scss=True, category='stub', type='value', value='#D3D3D3'), source_notes_padding=OptionsInfo(scss=True, category='source_notes', type='px', value='3px'), source_notes_padding_horizontal=OptionsInfo(scss=True, category='source_notes', type='px', value='5px'), source_notes_background_color=OptionsInfo(scss=True, category='source_notes', type='value', value=None), source_notes_font_size=OptionsInfo(scss=True, category='source_notes', type='px', value='small'), source_notes_border_bottom_style=OptionsInfo(scss=True, category='source_notes', type='value', value='none'), source_notes_border_bottom_width=OptionsInfo(scss=True, category='source_notes', type='px', value='2px'), source_notes_border_bottom_color=OptionsInfo(scss=True, category='source_notes', type='value', value='#D3D3D3'), source_notes_border_lr_style=OptionsInfo(scss=True, category='source_notes', type='value', value='none'), source_notes_border_lr_width=OptionsInfo(scss=True, category='source_notes', type='px', value='2px'), source_notes_border_lr_color=OptionsInfo(scss=True, category='source_notes', type='value', value='#D3D3D3'), source_notes_multiline=OptionsInfo(scss=False, category='source_notes', type='boolean', value=True), source_notes_sep=OptionsInfo(scss=False, category='source_notes', type='value', value=' '), row_striping_background_color=OptionsInfo(scss=True, category='row', type='value', value='rgba(128,128,128,0.05)'), row_striping_include_stub=OptionsInfo(scss=False, category='row', type='boolean', value=False), row_striping_include_table_body=OptionsInfo(scss=False, category='row', type='boolean', value=False), container_width=OptionsInfo(scss=False, category='container', type='px', value='auto'), container_height=OptionsInfo(scss=False, category='container', type='px', value='auto'), container_padding_x=OptionsInfo(scss=False, category='container', type='px', value='0px'), container_padding_y=OptionsInfo(scss=False, category='container', type='px', value='10px'), container_overflow_x=OptionsInfo(scss=False, category='container', type='overflow', value='auto'), container_overflow_y=OptionsInfo(scss=False, category='container', type='overflow', value='auto'), quarto_disable_processing=OptionsInfo(scss=False, category='quarto', type='logical', value=False), quarto_use_bootstrap=OptionsInfo(scss=False, category='quarto', type='logical', value=False)), _has_built=False)"
      ]
     },
     "execution_count": 55,
     "metadata": {},
     "output_type": "execute_result"
    }
   ],
   "source": [
    "model.fit(summary=True)"
   ]
  },
  {
   "cell_type": "markdown",
   "metadata": {},
   "source": [
    "The various `.set_*`, `.show_*`, and `.unset_*` methods make it very easy to *re-parameterize* a model and re-fit it. For example, we can verify that our custom linear hypothesis is equivalent to using the built-in `contr.poly` coding which estimates $k-1$ polynomial trends for any $k$ level predictor.\n",
    "\n",
    "Although named differently, all the parameter estimates are the same:"
   ]
  },
  {
   "cell_type": "code",
   "execution_count": 56,
   "metadata": {},
   "outputs": [
    {
     "data": {
      "text/html": [
       "<div id=\"kmqvfbdfne\" style=\"padding-left:0px;padding-right:0px;padding-top:10px;padding-bottom:10px;overflow-x:auto;overflow-y:auto;width:auto;height:auto;\">\n",
       "<style>\n",
       "#kmqvfbdfne table {\n",
       "          font-family: -apple-system, BlinkMacSystemFont, 'Segoe UI', Roboto, Oxygen, Ubuntu, Cantarell, 'Helvetica Neue', 'Fira Sans', 'Droid Sans', Arial, sans-serif;\n",
       "          -webkit-font-smoothing: antialiased;\n",
       "          -moz-osx-font-smoothing: grayscale;\n",
       "        }\n",
       "\n",
       "#kmqvfbdfne thead, tbody, tfoot, tr, td, th { border-style: none !important; }\n",
       " tr { background-color: transparent !important; }\n",
       "#kmqvfbdfne p { margin: 0 !important; padding: 0 !important; }\n",
       " #kmqvfbdfne .gt_table { display: table !important; border-collapse: collapse !important; line-height: normal !important; margin-left: auto !important; margin-right: auto !important; color: #333333 !important; font-size: 16px !important; font-weight: normal !important; font-style: normal !important; background-color: #FFFFFF !important; width: auto !important; border-top-style: solid !important; border-top-width: 2px !important; border-top-color: #A8A8A8 !important; border-right-style: none !important; border-right-width: 2px !important; border-right-color: #D3D3D3 !important; border-bottom-style: solid !important; border-bottom-width: 2px !important; border-bottom-color: #A8A8A8 !important; border-left-style: none !important; border-left-width: 2px !important; border-left-color: #D3D3D3 !important; }\n",
       " #kmqvfbdfne .gt_caption { padding-top: 4px !important; padding-bottom: 4px !important; }\n",
       " #kmqvfbdfne .gt_title { color: #333333 !important; font-size: 125% !important; font-weight: initial !important; padding-top: 3px !important; padding-bottom: 3px !important; padding-left: 5px !important; padding-right: 5px !important; border-bottom-color: #FFFFFF !important; border-bottom-width: 0 !important; }\n",
       " #kmqvfbdfne .gt_subtitle { color: #333333 !important; font-size: 85% !important; font-weight: initial !important; padding-top: 2px !important; padding-bottom: 4px !important; padding-left: 5px !important; padding-right: 5px !important; border-top-color: #FFFFFF !important; border-top-width: 0 !important; }\n",
       " #kmqvfbdfne .gt_heading { background-color: #FFFFFF !important; text-align: left !important; border-bottom-color: #FFFFFF !important; border-left-style: none !important; border-left-width: 1px !important; border-left-color: #D3D3D3 !important; border-right-style: none !important; border-right-width: 1px !important; border-right-color: #D3D3D3 !important; }\n",
       " #kmqvfbdfne .gt_bottom_border { border-bottom-style: solid !important; border-bottom-width: 2px !important; border-bottom-color: #D3D3D3 !important; }\n",
       " #kmqvfbdfne .gt_col_headings { border-top-style: solid !important; border-top-width: 2px !important; border-top-color: #D3D3D3 !important; border-bottom-style: solid !important; border-bottom-width: 2px !important; border-bottom-color: #D3D3D3 !important; border-left-style: none !important; border-left-width: 1px !important; border-left-color: #D3D3D3 !important; border-right-style: none !important; border-right-width: 1px !important; border-right-color: #D3D3D3 !important; }\n",
       " #kmqvfbdfne .gt_col_heading { color: #333333 !important; background-color: #FFFFFF !important; font-size: 100% !important; font-weight: normal !important; text-transform: inherit !important; border-left-style: none !important; border-left-width: 1px !important; border-left-color: #D3D3D3 !important; border-right-style: none !important; border-right-width: 1px !important; border-right-color: #D3D3D3 !important; vertical-align: bottom !important; padding-top: 3px !important; padding-bottom: 4px !important; padding-left: 5px !important; padding-right: 5px !important; overflow-x: hidden !important; }\n",
       " #kmqvfbdfne .gt_column_spanner_outer { color: #333333 !important; background-color: #FFFFFF !important; font-size: 100% !important; font-weight: normal !important; text-transform: inherit !important; padding-top: 0 !important; padding-bottom: 0 !important; padding-left: 4px !important; padding-right: 4px !important; }\n",
       " #kmqvfbdfne .gt_column_spanner_outer:first-child { padding-left: 0 !important; }\n",
       " #kmqvfbdfne .gt_column_spanner_outer:last-child { padding-right: 0 !important; }\n",
       " #kmqvfbdfne .gt_column_spanner { border-bottom-style: solid !important; border-bottom-width: 2px !important; border-bottom-color: #D3D3D3 !important; vertical-align: bottom !important; padding-top: 3px !important; padding-bottom: 3px !important; overflow-x: hidden !important; display: inline-block !important; width: 100% !important; }\n",
       " #kmqvfbdfne .gt_spanner_row { border-bottom-style: hidden !important; }\n",
       " #kmqvfbdfne .gt_group_heading { padding-top: 6px !important; padding-bottom: 6px !important; padding-left: 5px !important; padding-right: 5px !important; color: #333333 !important; background-color: #FFFFFF !important; font-size: 100% !important; font-weight: initial !important; text-transform: inherit !important; border-top-style: solid !important; border-top-width: 2px !important; border-top-color: #D3D3D3 !important; border-bottom-style: solid !important; border-bottom-width: 2px !important; border-bottom-color: #D3D3D3 !important; border-left-style: none !important; border-left-width: 1px !important; border-left-color: #D3D3D3 !important; border-right-style: none !important; border-right-width: 1px !important; border-right-color: #D3D3D3 !important; vertical-align: middle !important; text-align: left !important; }\n",
       " #kmqvfbdfne .gt_empty_group_heading { padding: 0.5px !important; color: #333333 !important; background-color: #FFFFFF !important; font-size: 100% !important; font-weight: initial !important; border-top-style: solid !important; border-top-width: 2px !important; border-top-color: #D3D3D3 !important; border-bottom-style: solid !important; border-bottom-width: 2px !important; border-bottom-color: #D3D3D3 !important; vertical-align: middle !important; }\n",
       " #kmqvfbdfne .gt_from_md> :first-child { margin-top: 0 !important; }\n",
       " #kmqvfbdfne .gt_from_md> :last-child { margin-bottom: 0 !important; }\n",
       " #kmqvfbdfne .gt_row { padding-top: 6px !important; padding-bottom: 6px !important; padding-left: 5px !important; padding-right: 5px !important; margin: 10px !important; border-top-style: solid !important; border-top-width: 1px !important; border-top-color: #D3D3D3 !important; border-left-style: none !important; border-left-width: 1px !important; border-left-color: #D3D3D3 !important; border-right-style: none !important; border-right-width: 1px !important; border-right-color: #D3D3D3 !important; vertical-align: middle !important; overflow-x: hidden !important; }\n",
       " #kmqvfbdfne .gt_stub { color: #333333 !important; background-color: #FFFFFF !important; font-size: 100% !important; font-weight: initial !important; text-transform: inherit !important; border-right-style: solid !important; border-right-width: 2px !important; border-right-color: #D3D3D3 !important; padding-left: 5px !important; padding-right: 5px !important; }\n",
       " #kmqvfbdfne .gt_stub_row_group { color: #333333 !important; background-color: #FFFFFF !important; font-size: 100% !important; font-weight: initial !important; text-transform: inherit !important; border-right-style: solid !important; border-right-width: 2px !important; border-right-color: #D3D3D3 !important; padding-left: 5px !important; padding-right: 5px !important; vertical-align: top !important; }\n",
       " #kmqvfbdfne .gt_row_group_first td { border-top-width: 2px !important; }\n",
       " #kmqvfbdfne .gt_row_group_first th { border-top-width: 2px !important; }\n",
       " #kmqvfbdfne .gt_striped { background-color: rgba(128,128,128,0.05) !important; }\n",
       " #kmqvfbdfne .gt_table_body { border-top-style: solid !important; border-top-width: 2px !important; border-top-color: #D3D3D3 !important; border-bottom-style: solid !important; border-bottom-width: 2px !important; border-bottom-color: #D3D3D3 !important; }\n",
       " #kmqvfbdfne .gt_sourcenotes { color: #333333 !important; background-color: #FFFFFF !important; border-bottom-style: none !important; border-bottom-width: 2px !important; border-bottom-color: #D3D3D3 !important; border-left-style: none !important; border-left-width: 2px !important; border-left-color: #D3D3D3 !important; border-right-style: none !important; border-right-width: 2px !important; border-right-color: #D3D3D3 !important; }\n",
       " #kmqvfbdfne .gt_sourcenote { font-size: small !important; padding-top: 3px !important; padding-bottom: 3px !important; padding-left: 5px !important; padding-right: 5px !important; text-align: left !important; }\n",
       " #kmqvfbdfne .gt_left { text-align: left !important; }\n",
       " #kmqvfbdfne .gt_center { text-align: center !important; }\n",
       " #kmqvfbdfne .gt_right { text-align: right !important; font-variant-numeric: tabular-nums !important; }\n",
       " #kmqvfbdfne .gt_font_normal { font-weight: normal !important; }\n",
       " #kmqvfbdfne .gt_font_bold { font-weight: bold !important; }\n",
       " #kmqvfbdfne .gt_font_italic { font-style: italic !important; }\n",
       " #kmqvfbdfne .gt_super { font-size: 65% !important; }\n",
       " #kmqvfbdfne .gt_footnote_marks { font-size: 75% !important; vertical-align: 0.4em !important; position: initial !important; }\n",
       " #kmqvfbdfne .gt_asterisk { font-size: 100% !important; vertical-align: 0 !important; }\n",
       " \n",
       "</style>\n",
       "<table class=\"gt_table\" data-quarto-disable-processing=\"false\" data-quarto-bootstrap=\"false\">\n",
       "<thead>\n",
       "\n",
       "  <tr class=\"gt_heading\">\n",
       "    <td colspan=\"9\" class=\"gt_heading gt_title gt_font_normal\">Formula: lm(mpg~wt*cyl)</td>\n",
       "  </tr>\n",
       "  <tr class=\"gt_heading\">\n",
       "    <td colspan=\"9\" class=\"gt_heading gt_subtitle gt_font_normal gt_bottom_border\">Number of observations: <em>32</em><br />\n",
       "Confidence intervals: <em>parametric</em><br />\n",
       "---------------------<br />\n",
       "R-squared: <em>0.8616</em><br />\n",
       "R-squared-adj: <em>0.8349</em><br />\n",
       "<em>F(5, 26) = 32.362, p = &lt;.001</em><br />\n",
       "Log-likelihood: <em>-70</em><br />\n",
       "AIC: <em>155</em> | BIC: <em>165</em><br />\n",
       "Residual error: <em>2.449</em></td>\n",
       "  </tr>\n",
       "<tr class=\"gt_col_headings\">\n",
       "  <th class=\"gt_col_heading gt_columns_bottom_border gt_left\" rowspan=\"1\" colspan=\"1\" scope=\"col\" id=\"\"></th>\n",
       "  <th class=\"gt_col_heading gt_columns_bottom_border gt_right\" rowspan=\"1\" colspan=\"1\" scope=\"col\" id=\"Estimate\">Estimate</th>\n",
       "  <th class=\"gt_col_heading gt_columns_bottom_border gt_right\" rowspan=\"1\" colspan=\"1\" scope=\"col\" id=\"SE\">SE</th>\n",
       "  <th class=\"gt_col_heading gt_columns_bottom_border gt_right\" rowspan=\"1\" colspan=\"1\" scope=\"col\" id=\"CI-low\">CI-low</th>\n",
       "  <th class=\"gt_col_heading gt_columns_bottom_border gt_right\" rowspan=\"1\" colspan=\"1\" scope=\"col\" id=\"CI-high\">CI-high</th>\n",
       "  <th class=\"gt_col_heading gt_columns_bottom_border gt_right\" rowspan=\"1\" colspan=\"1\" scope=\"col\" id=\"T-stat\">T-stat</th>\n",
       "  <th class=\"gt_col_heading gt_columns_bottom_border gt_right\" rowspan=\"1\" colspan=\"1\" scope=\"col\" id=\"df\">df</th>\n",
       "  <th class=\"gt_col_heading gt_columns_bottom_border gt_left\" rowspan=\"1\" colspan=\"1\" scope=\"col\" id=\"p\">p</th>\n",
       "  <th class=\"gt_col_heading gt_columns_bottom_border gt_left\" rowspan=\"1\" colspan=\"1\" scope=\"col\" id=\"\"></th>\n",
       "</tr>\n",
       "</thead>\n",
       "<tbody class=\"gt_table_body\">\n",
       "  <tr>\n",
       "    <th style=\"font-style: italic;\" class=\"gt_row gt_left gt_stub\">(Intercept)</th>\n",
       "    <td class=\"gt_row gt_right\">19.227</td>\n",
       "    <td class=\"gt_row gt_right\">0.667</td>\n",
       "    <td class=\"gt_row gt_right\">17.857</td>\n",
       "    <td class=\"gt_row gt_right\">20.598</td>\n",
       "    <td class=\"gt_row gt_right\">28.836</td>\n",
       "    <td class=\"gt_row gt_right\">26</td>\n",
       "    <td class=\"gt_row gt_left\"><.001</td>\n",
       "    <td class=\"gt_row gt_left\">***</td>\n",
       "  </tr>\n",
       "  <tr>\n",
       "    <th style=\"font-style: italic;\" class=\"gt_row gt_left gt_stub\">wt</th>\n",
       "    <td class=\"gt_row gt_right\">−3.540</td>\n",
       "    <td class=\"gt_row gt_right\">1.081</td>\n",
       "    <td class=\"gt_row gt_right\">−5.762</td>\n",
       "    <td class=\"gt_row gt_right\">−1.318</td>\n",
       "    <td class=\"gt_row gt_right\">−3.275</td>\n",
       "    <td class=\"gt_row gt_right\">26</td>\n",
       "    <td class=\"gt_row gt_left\">0.002993</td>\n",
       "    <td class=\"gt_row gt_left\">**</td>\n",
       "  </tr>\n",
       "  <tr>\n",
       "    <th style=\"font-style: italic;\" class=\"gt_row gt_left gt_stub\">cyl.L</th>\n",
       "    <td class=\"gt_row gt_right\">−3.245</td>\n",
       "    <td class=\"gt_row gt_right\">1.238</td>\n",
       "    <td class=\"gt_row gt_right\">−5.790</td>\n",
       "    <td class=\"gt_row gt_right\">−0.700</td>\n",
       "    <td class=\"gt_row gt_right\">−2.621</td>\n",
       "    <td class=\"gt_row gt_right\">26</td>\n",
       "    <td class=\"gt_row gt_left\">0.01446</td>\n",
       "    <td class=\"gt_row gt_left\">*</td>\n",
       "  </tr>\n",
       "  <tr>\n",
       "    <th style=\"font-style: italic;\" class=\"gt_row gt_left gt_stub\">cyl.Q</th>\n",
       "    <td class=\"gt_row gt_right\">−0.290</td>\n",
       "    <td class=\"gt_row gt_right\">1.065</td>\n",
       "    <td class=\"gt_row gt_right\">−2.480</td>\n",
       "    <td class=\"gt_row gt_right\">1.899</td>\n",
       "    <td class=\"gt_row gt_right\">−0.273</td>\n",
       "    <td class=\"gt_row gt_right\">26</td>\n",
       "    <td class=\"gt_row gt_left\">0.7873</td>\n",
       "    <td class=\"gt_row gt_left\"></td>\n",
       "  </tr>\n",
       "  <tr>\n",
       "    <th style=\"font-style: italic;\" class=\"gt_row gt_left gt_stub\">wt:cyl.L</th>\n",
       "    <td class=\"gt_row gt_right\">2.443</td>\n",
       "    <td class=\"gt_row gt_right\">1.151</td>\n",
       "    <td class=\"gt_row gt_right\">0.078</td>\n",
       "    <td class=\"gt_row gt_right\">4.808</td>\n",
       "    <td class=\"gt_row gt_right\">2.123</td>\n",
       "    <td class=\"gt_row gt_right\">26</td>\n",
       "    <td class=\"gt_row gt_left\">0.04344</td>\n",
       "    <td class=\"gt_row gt_left\">*</td>\n",
       "  </tr>\n",
       "  <tr>\n",
       "    <th style=\"font-style: italic;\" class=\"gt_row gt_left gt_stub\">wt:cyl.Q</th>\n",
       "    <td class=\"gt_row gt_right\">−0.931</td>\n",
       "    <td class=\"gt_row gt_right\">2.385</td>\n",
       "    <td class=\"gt_row gt_right\">−5.833</td>\n",
       "    <td class=\"gt_row gt_right\">3.972</td>\n",
       "    <td class=\"gt_row gt_right\">−0.390</td>\n",
       "    <td class=\"gt_row gt_right\">26</td>\n",
       "    <td class=\"gt_row gt_left\">0.6996</td>\n",
       "    <td class=\"gt_row gt_left\"></td>\n",
       "  </tr>\n",
       "</tbody>\n",
       "  <tfoot class=\"gt_sourcenotes\">\n",
       "  \n",
       "  <tr>\n",
       "    <td class=\"gt_sourcenote\" colspan=\"9\">Signif. codes: <em>0 *** 0.001 ** 0.01 * 0.05 . 0.1</em></td>\n",
       "  </tr>\n",
       "\n",
       "</tfoot>\n",
       "\n",
       "</table>\n",
       "\n",
       "</div>\n",
       "        "
      ],
      "text/plain": [
       "GT(_tbl_data=shape: (6, 9)\n",
       "┌─────────────┬───────────┬───────────┬───────────┬───┬───────────┬─────┬──────────┬───────┐\n",
       "│ term        ┆ estimate  ┆ std_error ┆ conf_low  ┆ … ┆ t_stat    ┆ df  ┆ p_value  ┆ stars │\n",
       "│ ---         ┆ ---       ┆ ---       ┆ ---       ┆   ┆ ---       ┆ --- ┆ ---      ┆ ---   │\n",
       "│ str         ┆ f64       ┆ f64       ┆ f64       ┆   ┆ f64       ┆ i64 ┆ str      ┆ str   │\n",
       "╞═════════════╪═══════════╪═══════════╪═══════════╪═══╪═══════════╪═════╪══════════╪═══════╡\n",
       "│ (Intercept) ┆ 19.22742  ┆ 0.666794  ┆ 17.856807 ┆ … ┆ 28.835643 ┆ 26  ┆ <.001    ┆ ***   │\n",
       "│ wt          ┆ -3.539856 ┆ 1.081023  ┆ -5.76193  ┆ … ┆ -3.274544 ┆ 26  ┆ 0.002993 ┆ **    │\n",
       "│ cyl.L       ┆ -3.244839 ┆ 1.238169  ┆ -5.789933 ┆ … ┆ -2.620675 ┆ 26  ┆ 0.01446  ┆ *     │\n",
       "│ cyl.Q       ┆ -0.290422 ┆ 1.065185  ┆ -2.47994  ┆ … ┆ -0.272649 ┆ 26  ┆ 0.7873   ┆       │\n",
       "│ wt:cyl.L    ┆ 2.442762  ┆ 1.150647  ┆ 0.077572  ┆ … ┆ 2.122946  ┆ 26  ┆ 0.04344  ┆ *     │\n",
       "│ wt:cyl.Q    ┆ -0.9305   ┆ 2.384884  ┆ -5.832699 ┆ … ┆ -0.390166 ┆ 26  ┆ 0.6996   ┆       │\n",
       "└─────────────┴───────────┴───────────┴───────────┴───┴───────────┴─────┴──────────┴───────┘, _body=<great_tables._gt_data.Body object at 0x334f9afc0>, _boxhead=Boxhead([ColInfo(var='term', type=<ColInfoTypeEnum.stub: 2>, column_label='term', column_align='left', column_width=None), ColInfo(var='estimate', type=<ColInfoTypeEnum.default: 1>, column_label='Estimate', column_align='right', column_width=None), ColInfo(var='std_error', type=<ColInfoTypeEnum.default: 1>, column_label='SE', column_align='right', column_width=None), ColInfo(var='conf_low', type=<ColInfoTypeEnum.default: 1>, column_label='CI-low', column_align='right', column_width=None), ColInfo(var='conf_high', type=<ColInfoTypeEnum.default: 1>, column_label='CI-high', column_align='right', column_width=None), ColInfo(var='t_stat', type=<ColInfoTypeEnum.default: 1>, column_label='T-stat', column_align='right', column_width=None), ColInfo(var='df', type=<ColInfoTypeEnum.default: 1>, column_label='df', column_align='right', column_width=None), ColInfo(var='p_value', type=<ColInfoTypeEnum.default: 1>, column_label='p', column_align='left', column_width=None), ColInfo(var='stars', type=<ColInfoTypeEnum.default: 1>, column_label='', column_align='left', column_width=None)]), _stub=<great_tables._gt_data.Stub object at 0x335681790>, _spanners=Spanners([]), _heading=Heading(title='Formula: lm(mpg~wt*cyl)', subtitle=Md(text='Number of observations: *32*  \\n            Confidence intervals: *parametric*  \\n            ---------------------  \\n            R-squared: *0.8616*  \\n            R-squared-adj: *0.8349*  \\n            *F(5, 26) = 32.362, p = <.001*  \\n            Log-likelihood: *-70*  \\n            AIC: *155* | BIC: *165*  \\n            Residual error: *2.449*  \\n        '), preheader=None), _stubhead=None, _source_notes=[Md(text='Signif. codes: *0 *** 0.001 ** 0.01 * 0.05 . 0.1*')], _footnotes=[], _styles=[StyleInfo(locname=LocStub(rows=None), grpname=None, colname=None, rownum=0, colnum=None, styles=[CellStyleText(color=None, font=None, size=None, align=None, v_align=None, style='italic', weight=None, stretch=None, decorate=None, transform=None, whitespace=None)]), StyleInfo(locname=LocStub(rows=None), grpname=None, colname=None, rownum=1, colnum=None, styles=[CellStyleText(color=None, font=None, size=None, align=None, v_align=None, style='italic', weight=None, stretch=None, decorate=None, transform=None, whitespace=None)]), StyleInfo(locname=LocStub(rows=None), grpname=None, colname=None, rownum=2, colnum=None, styles=[CellStyleText(color=None, font=None, size=None, align=None, v_align=None, style='italic', weight=None, stretch=None, decorate=None, transform=None, whitespace=None)]), StyleInfo(locname=LocStub(rows=None), grpname=None, colname=None, rownum=3, colnum=None, styles=[CellStyleText(color=None, font=None, size=None, align=None, v_align=None, style='italic', weight=None, stretch=None, decorate=None, transform=None, whitespace=None)]), StyleInfo(locname=LocStub(rows=None), grpname=None, colname=None, rownum=4, colnum=None, styles=[CellStyleText(color=None, font=None, size=None, align=None, v_align=None, style='italic', weight=None, stretch=None, decorate=None, transform=None, whitespace=None)]), StyleInfo(locname=LocStub(rows=None), grpname=None, colname=None, rownum=5, colnum=None, styles=[CellStyleText(color=None, font=None, size=None, align=None, v_align=None, style='italic', weight=None, stretch=None, decorate=None, transform=None, whitespace=None)])], _locale=<great_tables._gt_data.Locale object at 0x3351c82f0>, _formats=[<great_tables._gt_data.FormatInfo object at 0x335683950>, <great_tables._gt_data.FormatInfo object at 0x335680770>], _substitutions=[], _options=Options(table_id=OptionsInfo(scss=False, category='table', type='value', value=None), table_caption=OptionsInfo(scss=False, category='table', type='value', value=None), table_width=OptionsInfo(scss=True, category='table', type='px', value='auto'), table_layout=OptionsInfo(scss=True, category='table', type='value', value='fixed'), table_margin_left=OptionsInfo(scss=True, category='table', type='px', value='auto'), table_margin_right=OptionsInfo(scss=True, category='table', type='px', value='auto'), table_background_color=OptionsInfo(scss=True, category='table', type='value', value='#FFFFFF'), table_additional_css=OptionsInfo(scss=False, category='table', type='values', value=[]), table_font_names=OptionsInfo(scss=False, category='table', type='values', value=['-apple-system', 'BlinkMacSystemFont', 'Segoe UI', 'Roboto', 'Oxygen', 'Ubuntu', 'Cantarell', 'Helvetica Neue', 'Fira Sans', 'Droid Sans', 'Arial', 'sans-serif']), table_font_size=OptionsInfo(scss=True, category='table', type='px', value='16px'), table_font_weight=OptionsInfo(scss=True, category='table', type='value', value='normal'), table_font_style=OptionsInfo(scss=True, category='table', type='value', value='normal'), table_font_color=OptionsInfo(scss=True, category='table', type='value', value='#333333'), table_font_color_light=OptionsInfo(scss=True, category='table', type='value', value='#FFFFFF'), table_border_top_include=OptionsInfo(scss=False, category='table', type='boolean', value=True), table_border_top_style=OptionsInfo(scss=True, category='table', type='value', value='solid'), table_border_top_width=OptionsInfo(scss=True, category='table', type='px', value='2px'), table_border_top_color=OptionsInfo(scss=True, category='table', type='value', value='#A8A8A8'), table_border_right_style=OptionsInfo(scss=True, category='table', type='value', value='none'), table_border_right_width=OptionsInfo(scss=True, category='table', type='px', value='2px'), table_border_right_color=OptionsInfo(scss=True, category='table', type='value', value='#D3D3D3'), table_border_bottom_include=OptionsInfo(scss=False, category='table', type='boolean', value=True), table_border_bottom_style=OptionsInfo(scss=True, category='table', type='value', value='solid'), table_border_bottom_width=OptionsInfo(scss=True, category='table', type='px', value='2px'), table_border_bottom_color=OptionsInfo(scss=True, category='table', type='value', value='#A8A8A8'), table_border_left_style=OptionsInfo(scss=True, category='table', type='value', value='none'), table_border_left_width=OptionsInfo(scss=True, category='table', type='px', value='2px'), table_border_left_color=OptionsInfo(scss=True, category='table', type='value', value='#D3D3D3'), heading_background_color=OptionsInfo(scss=True, category='heading', type='value', value=None), heading_align=OptionsInfo(scss=True, category='heading', type='value', value='left'), heading_title_font_size=OptionsInfo(scss=True, category='heading', type='px', value='125%'), heading_title_font_weight=OptionsInfo(scss=True, category='heading', type='value', value='initial'), heading_subtitle_font_size=OptionsInfo(scss=True, category='heading', type='px', value='85%'), heading_subtitle_font_weight=OptionsInfo(scss=True, category='heading', type='value', value='initial'), heading_padding=OptionsInfo(scss=True, category='heading', type='px', value='3px'), heading_padding_horizontal=OptionsInfo(scss=True, category='heading', type='px', value='5px'), heading_border_bottom_style=OptionsInfo(scss=True, category='heading', type='value', value='solid'), heading_border_bottom_width=OptionsInfo(scss=True, category='heading', type='px', value='2px'), heading_border_bottom_color=OptionsInfo(scss=True, category='heading', type='value', value='#D3D3D3'), heading_border_lr_style=OptionsInfo(scss=True, category='heading', type='value', value='none'), heading_border_lr_width=OptionsInfo(scss=True, category='heading', type='px', value='1px'), heading_border_lr_color=OptionsInfo(scss=True, category='heading', type='value', value='#D3D3D3'), column_labels_background_color=OptionsInfo(scss=True, category='column_labels', type='value', value=None), column_labels_font_size=OptionsInfo(scss=True, category='column_labels', type='px', value='100%'), column_labels_font_weight=OptionsInfo(scss=True, category='column_labels', type='value', value='normal'), column_labels_text_transform=OptionsInfo(scss=True, category='column_labels', type='value', value='inherit'), column_labels_padding=OptionsInfo(scss=True, category='column_labels', type='px', value='3px'), column_labels_padding_horizontal=OptionsInfo(scss=True, category='column_labels', type='px', value='5px'), column_labels_vlines_style=OptionsInfo(scss=True, category='table_body', type='value', value='none'), column_labels_vlines_width=OptionsInfo(scss=True, category='table_body', type='px', value='1px'), column_labels_vlines_color=OptionsInfo(scss=True, category='table_body', type='value', value='#D3D3D3'), column_labels_border_top_style=OptionsInfo(scss=True, category='column_labels', type='value', value='solid'), column_labels_border_top_width=OptionsInfo(scss=True, category='column_labels', type='px', value='2px'), column_labels_border_top_color=OptionsInfo(scss=True, category='column_labels', type='value', value='#D3D3D3'), column_labels_border_bottom_style=OptionsInfo(scss=True, category='column_labels', type='value', value='solid'), column_labels_border_bottom_width=OptionsInfo(scss=True, category='column_labels', type='px', value='2px'), column_labels_border_bottom_color=OptionsInfo(scss=True, category='column_labels', type='value', value='#D3D3D3'), column_labels_border_lr_style=OptionsInfo(scss=True, category='column_labels', type='value', value='none'), column_labels_border_lr_width=OptionsInfo(scss=True, category='column_labels', type='px', value='1px'), column_labels_border_lr_color=OptionsInfo(scss=True, category='column_labels', type='value', value='#D3D3D3'), column_labels_hidden=OptionsInfo(scss=False, category='column_labels', type='boolean', value=False), row_group_background_color=OptionsInfo(scss=True, category='row_group', type='value', value=None), row_group_font_size=OptionsInfo(scss=True, category='row_group', type='px', value='100%'), row_group_font_weight=OptionsInfo(scss=True, category='row_group', type='value', value='initial'), row_group_text_transform=OptionsInfo(scss=True, category='row_group', type='value', value='inherit'), row_group_padding=OptionsInfo(scss=True, category='row_group', type='px', value='6px'), row_group_padding_horizontal=OptionsInfo(scss=True, category='row_group', type='px', value='5px'), row_group_border_top_style=OptionsInfo(scss=True, category='row_group', type='value', value='solid'), row_group_border_top_width=OptionsInfo(scss=True, category='row_group', type='px', value='2px'), row_group_border_top_color=OptionsInfo(scss=True, category='row_group', type='value', value='#D3D3D3'), row_group_border_right_style=OptionsInfo(scss=True, category='row_group', type='value', value='none'), row_group_border_right_width=OptionsInfo(scss=True, category='row_group', type='px', value='1px'), row_group_border_right_color=OptionsInfo(scss=True, category='row_group', type='value', value='#D3D3D3'), row_group_border_bottom_style=OptionsInfo(scss=True, category='row_group', type='value', value='solid'), row_group_border_bottom_width=OptionsInfo(scss=True, category='row_group', type='px', value='2px'), row_group_border_bottom_color=OptionsInfo(scss=True, category='row_group', type='value', value='#D3D3D3'), row_group_border_left_style=OptionsInfo(scss=True, category='row_group', type='value', value='none'), row_group_border_left_width=OptionsInfo(scss=True, category='row_group', type='px', value='1px'), row_group_border_left_color=OptionsInfo(scss=True, category='row_group', type='value', value='#D3D3D3'), row_group_as_column=OptionsInfo(scss=False, category='row_group', type='boolean', value=False), table_body_hlines_style=OptionsInfo(scss=True, category='table_body', type='value', value='solid'), table_body_hlines_width=OptionsInfo(scss=True, category='table_body', type='px', value='1px'), table_body_hlines_color=OptionsInfo(scss=True, category='table_body', type='value', value='#D3D3D3'), table_body_vlines_style=OptionsInfo(scss=True, category='table_body', type='value', value='none'), table_body_vlines_width=OptionsInfo(scss=True, category='table_body', type='px', value='1px'), table_body_vlines_color=OptionsInfo(scss=True, category='table_body', type='value', value='#D3D3D3'), table_body_border_top_style=OptionsInfo(scss=True, category='table_body', type='value', value='solid'), table_body_border_top_width=OptionsInfo(scss=True, category='table_body', type='px', value='2px'), table_body_border_top_color=OptionsInfo(scss=True, category='table_body', type='value', value='#D3D3D3'), table_body_border_bottom_style=OptionsInfo(scss=True, category='table_body', type='value', value='solid'), table_body_border_bottom_width=OptionsInfo(scss=True, category='table_body', type='px', value='2px'), table_body_border_bottom_color=OptionsInfo(scss=True, category='table_body', type='value', value='#D3D3D3'), data_row_padding=OptionsInfo(scss=True, category='data_row', type='px', value='6px'), data_row_padding_horizontal=OptionsInfo(scss=True, category='data_row', type='px', value='5px'), stub_background_color=OptionsInfo(scss=True, category='stub', type='value', value=None), stub_font_size=OptionsInfo(scss=True, category='stub', type='px', value='100%'), stub_font_weight=OptionsInfo(scss=True, category='stub', type='value', value='initial'), stub_text_transform=OptionsInfo(scss=True, category='stub', type='value', value='inherit'), stub_border_style=OptionsInfo(scss=True, category='stub', type='value', value='solid'), stub_border_width=OptionsInfo(scss=True, category='stub', type='px', value='2px'), stub_border_color=OptionsInfo(scss=True, category='stub', type='value', value='#D3D3D3'), stub_row_group_background_color=OptionsInfo(scss=True, category='stub', type='value', value=None), stub_row_group_font_size=OptionsInfo(scss=True, category='stub', type='px', value='100%'), stub_row_group_font_weight=OptionsInfo(scss=True, category='stub', type='value', value='initial'), stub_row_group_text_transform=OptionsInfo(scss=True, category='stub', type='value', value='inherit'), stub_row_group_border_style=OptionsInfo(scss=True, category='stub', type='value', value='solid'), stub_row_group_border_width=OptionsInfo(scss=True, category='stub', type='px', value='2px'), stub_row_group_border_color=OptionsInfo(scss=True, category='stub', type='value', value='#D3D3D3'), source_notes_padding=OptionsInfo(scss=True, category='source_notes', type='px', value='3px'), source_notes_padding_horizontal=OptionsInfo(scss=True, category='source_notes', type='px', value='5px'), source_notes_background_color=OptionsInfo(scss=True, category='source_notes', type='value', value=None), source_notes_font_size=OptionsInfo(scss=True, category='source_notes', type='px', value='small'), source_notes_border_bottom_style=OptionsInfo(scss=True, category='source_notes', type='value', value='none'), source_notes_border_bottom_width=OptionsInfo(scss=True, category='source_notes', type='px', value='2px'), source_notes_border_bottom_color=OptionsInfo(scss=True, category='source_notes', type='value', value='#D3D3D3'), source_notes_border_lr_style=OptionsInfo(scss=True, category='source_notes', type='value', value='none'), source_notes_border_lr_width=OptionsInfo(scss=True, category='source_notes', type='px', value='2px'), source_notes_border_lr_color=OptionsInfo(scss=True, category='source_notes', type='value', value='#D3D3D3'), source_notes_multiline=OptionsInfo(scss=False, category='source_notes', type='boolean', value=True), source_notes_sep=OptionsInfo(scss=False, category='source_notes', type='value', value=' '), row_striping_background_color=OptionsInfo(scss=True, category='row', type='value', value='rgba(128,128,128,0.05)'), row_striping_include_stub=OptionsInfo(scss=False, category='row', type='boolean', value=False), row_striping_include_table_body=OptionsInfo(scss=False, category='row', type='boolean', value=False), container_width=OptionsInfo(scss=False, category='container', type='px', value='auto'), container_height=OptionsInfo(scss=False, category='container', type='px', value='auto'), container_padding_x=OptionsInfo(scss=False, category='container', type='px', value='0px'), container_padding_y=OptionsInfo(scss=False, category='container', type='px', value='10px'), container_overflow_x=OptionsInfo(scss=False, category='container', type='overflow', value='auto'), container_overflow_y=OptionsInfo(scss=False, category='container', type='overflow', value='auto'), quarto_disable_processing=OptionsInfo(scss=False, category='quarto', type='logical', value=False), quarto_use_bootstrap=OptionsInfo(scss=False, category='quarto', type='logical', value=False)), _has_built=False)"
      ]
     },
     "execution_count": 56,
     "metadata": {},
     "output_type": "execute_result"
    }
   ],
   "source": [
    "# Set new contrast \n",
    "model.set_contrasts({'cyl': 'contr.poly'})\n",
    "\n",
    "# Refit\n",
    "model.fit(summary=True)"
   ]
  },
  {
   "cell_type": "markdown",
   "metadata": {},
   "source": [
    "## ANOVA tables"
   ]
  },
  {
   "cell_type": "markdown",
   "metadata": {},
   "source": [
    "With more than 2 levels of a categorical predictor, you may be interested in an omnibus F-test across all factor levels, i.e. an ANOVA style table. To make this as easy and valid as possible (e.g. handling unbalanced designs) just create your factors with `.set_factors()` and use `.anova()` instead of `.fit()`\n",
    "\n",
    "By default, `.anova()` will ignore any contrasts you may have set with `.set_contrasts()` and automatically use an appropriate orthogonal coding scheme to compute valid type-3 SS tests. This the default to make ANOVA-style analyses less error prone, and facilitate custom regression parameterizations without affecting ANOVA tests. \n",
    "\n",
    ":::{note}\n",
    "*You can change this and use your particular contrasts for an ANOVA test with type-1 SS by setting changing the default setting to `auto_ss_3=False`*\n",
    ":::"
   ]
  },
  {
   "cell_type": "code",
   "execution_count": 57,
   "metadata": {},
   "outputs": [
    {
     "data": {
      "text/html": [
       "<div id=\"xiipjtbvur\" style=\"padding-left:0px;padding-right:0px;padding-top:10px;padding-bottom:10px;overflow-x:auto;overflow-y:auto;width:auto;height:auto;\">\n",
       "<style>\n",
       "#xiipjtbvur table {\n",
       "          font-family: -apple-system, BlinkMacSystemFont, 'Segoe UI', Roboto, Oxygen, Ubuntu, Cantarell, 'Helvetica Neue', 'Fira Sans', 'Droid Sans', Arial, sans-serif;\n",
       "          -webkit-font-smoothing: antialiased;\n",
       "          -moz-osx-font-smoothing: grayscale;\n",
       "        }\n",
       "\n",
       "#xiipjtbvur thead, tbody, tfoot, tr, td, th { border-style: none !important; }\n",
       " tr { background-color: transparent !important; }\n",
       "#xiipjtbvur p { margin: 0 !important; padding: 0 !important; }\n",
       " #xiipjtbvur .gt_table { display: table !important; border-collapse: collapse !important; line-height: normal !important; margin-left: auto !important; margin-right: auto !important; color: #333333 !important; font-size: 16px !important; font-weight: normal !important; font-style: normal !important; background-color: #FFFFFF !important; width: auto !important; border-top-style: solid !important; border-top-width: 2px !important; border-top-color: #A8A8A8 !important; border-right-style: none !important; border-right-width: 2px !important; border-right-color: #D3D3D3 !important; border-bottom-style: solid !important; border-bottom-width: 2px !important; border-bottom-color: #A8A8A8 !important; border-left-style: none !important; border-left-width: 2px !important; border-left-color: #D3D3D3 !important; }\n",
       " #xiipjtbvur .gt_caption { padding-top: 4px !important; padding-bottom: 4px !important; }\n",
       " #xiipjtbvur .gt_title { color: #333333 !important; font-size: 125% !important; font-weight: initial !important; padding-top: 4px !important; padding-bottom: 4px !important; padding-left: 5px !important; padding-right: 5px !important; border-bottom-color: #FFFFFF !important; border-bottom-width: 0 !important; }\n",
       " #xiipjtbvur .gt_subtitle { color: #333333 !important; font-size: 85% !important; font-weight: initial !important; padding-top: 3px !important; padding-bottom: 5px !important; padding-left: 5px !important; padding-right: 5px !important; border-top-color: #FFFFFF !important; border-top-width: 0 !important; }\n",
       " #xiipjtbvur .gt_heading { background-color: #FFFFFF !important; text-align: left !important; border-bottom-color: #FFFFFF !important; border-left-style: none !important; border-left-width: 1px !important; border-left-color: #D3D3D3 !important; border-right-style: none !important; border-right-width: 1px !important; border-right-color: #D3D3D3 !important; }\n",
       " #xiipjtbvur .gt_bottom_border { border-bottom-style: solid !important; border-bottom-width: 2px !important; border-bottom-color: #D3D3D3 !important; }\n",
       " #xiipjtbvur .gt_col_headings { border-top-style: solid !important; border-top-width: 2px !important; border-top-color: #D3D3D3 !important; border-bottom-style: solid !important; border-bottom-width: 2px !important; border-bottom-color: #D3D3D3 !important; border-left-style: none !important; border-left-width: 1px !important; border-left-color: #D3D3D3 !important; border-right-style: none !important; border-right-width: 1px !important; border-right-color: #D3D3D3 !important; }\n",
       " #xiipjtbvur .gt_col_heading { color: #333333 !important; background-color: #FFFFFF !important; font-size: 100% !important; font-weight: normal !important; text-transform: inherit !important; border-left-style: none !important; border-left-width: 1px !important; border-left-color: #D3D3D3 !important; border-right-style: none !important; border-right-width: 1px !important; border-right-color: #D3D3D3 !important; vertical-align: bottom !important; padding-top: 5px !important; padding-bottom: 5px !important; padding-left: 5px !important; padding-right: 5px !important; overflow-x: hidden !important; }\n",
       " #xiipjtbvur .gt_column_spanner_outer { color: #333333 !important; background-color: #FFFFFF !important; font-size: 100% !important; font-weight: normal !important; text-transform: inherit !important; padding-top: 0 !important; padding-bottom: 0 !important; padding-left: 4px !important; padding-right: 4px !important; }\n",
       " #xiipjtbvur .gt_column_spanner_outer:first-child { padding-left: 0 !important; }\n",
       " #xiipjtbvur .gt_column_spanner_outer:last-child { padding-right: 0 !important; }\n",
       " #xiipjtbvur .gt_column_spanner { border-bottom-style: solid !important; border-bottom-width: 2px !important; border-bottom-color: #D3D3D3 !important; vertical-align: bottom !important; padding-top: 5px !important; padding-bottom: 5px !important; overflow-x: hidden !important; display: inline-block !important; width: 100% !important; }\n",
       " #xiipjtbvur .gt_spanner_row { border-bottom-style: hidden !important; }\n",
       " #xiipjtbvur .gt_group_heading { padding-top: 8px !important; padding-bottom: 8px !important; padding-left: 5px !important; padding-right: 5px !important; color: #333333 !important; background-color: #FFFFFF !important; font-size: 100% !important; font-weight: initial !important; text-transform: inherit !important; border-top-style: solid !important; border-top-width: 2px !important; border-top-color: #D3D3D3 !important; border-bottom-style: solid !important; border-bottom-width: 2px !important; border-bottom-color: #D3D3D3 !important; border-left-style: none !important; border-left-width: 1px !important; border-left-color: #D3D3D3 !important; border-right-style: none !important; border-right-width: 1px !important; border-right-color: #D3D3D3 !important; vertical-align: middle !important; text-align: left !important; }\n",
       " #xiipjtbvur .gt_empty_group_heading { padding: 0.5px !important; color: #333333 !important; background-color: #FFFFFF !important; font-size: 100% !important; font-weight: initial !important; border-top-style: solid !important; border-top-width: 2px !important; border-top-color: #D3D3D3 !important; border-bottom-style: solid !important; border-bottom-width: 2px !important; border-bottom-color: #D3D3D3 !important; vertical-align: middle !important; }\n",
       " #xiipjtbvur .gt_from_md> :first-child { margin-top: 0 !important; }\n",
       " #xiipjtbvur .gt_from_md> :last-child { margin-bottom: 0 !important; }\n",
       " #xiipjtbvur .gt_row { padding-top: 8px !important; padding-bottom: 8px !important; padding-left: 5px !important; padding-right: 5px !important; margin: 10px !important; border-top-style: solid !important; border-top-width: 1px !important; border-top-color: #D3D3D3 !important; border-left-style: none !important; border-left-width: 1px !important; border-left-color: #D3D3D3 !important; border-right-style: none !important; border-right-width: 1px !important; border-right-color: #D3D3D3 !important; vertical-align: middle !important; overflow-x: hidden !important; }\n",
       " #xiipjtbvur .gt_stub { color: #333333 !important; background-color: #FFFFFF !important; font-size: 100% !important; font-weight: initial !important; text-transform: inherit !important; border-right-style: solid !important; border-right-width: 2px !important; border-right-color: #D3D3D3 !important; padding-left: 5px !important; padding-right: 5px !important; }\n",
       " #xiipjtbvur .gt_stub_row_group { color: #333333 !important; background-color: #FFFFFF !important; font-size: 100% !important; font-weight: initial !important; text-transform: inherit !important; border-right-style: solid !important; border-right-width: 2px !important; border-right-color: #D3D3D3 !important; padding-left: 5px !important; padding-right: 5px !important; vertical-align: top !important; }\n",
       " #xiipjtbvur .gt_row_group_first td { border-top-width: 2px !important; }\n",
       " #xiipjtbvur .gt_row_group_first th { border-top-width: 2px !important; }\n",
       " #xiipjtbvur .gt_striped { background-color: rgba(128,128,128,0.05) !important; }\n",
       " #xiipjtbvur .gt_table_body { border-top-style: solid !important; border-top-width: 2px !important; border-top-color: #D3D3D3 !important; border-bottom-style: solid !important; border-bottom-width: 2px !important; border-bottom-color: #D3D3D3 !important; }\n",
       " #xiipjtbvur .gt_sourcenotes { color: #333333 !important; background-color: #FFFFFF !important; border-bottom-style: none !important; border-bottom-width: 2px !important; border-bottom-color: #D3D3D3 !important; border-left-style: none !important; border-left-width: 2px !important; border-left-color: #D3D3D3 !important; border-right-style: none !important; border-right-width: 2px !important; border-right-color: #D3D3D3 !important; }\n",
       " #xiipjtbvur .gt_sourcenote { font-size: small !important; padding-top: 4px !important; padding-bottom: 4px !important; padding-left: 5px !important; padding-right: 5px !important; text-align: left !important; }\n",
       " #xiipjtbvur .gt_left { text-align: left !important; }\n",
       " #xiipjtbvur .gt_center { text-align: center !important; }\n",
       " #xiipjtbvur .gt_right { text-align: right !important; font-variant-numeric: tabular-nums !important; }\n",
       " #xiipjtbvur .gt_font_normal { font-weight: normal !important; }\n",
       " #xiipjtbvur .gt_font_bold { font-weight: bold !important; }\n",
       " #xiipjtbvur .gt_font_italic { font-style: italic !important; }\n",
       " #xiipjtbvur .gt_super { font-size: 65% !important; }\n",
       " #xiipjtbvur .gt_footnote_marks { font-size: 75% !important; vertical-align: 0.4em !important; position: initial !important; }\n",
       " #xiipjtbvur .gt_asterisk { font-size: 100% !important; vertical-align: 0 !important; }\n",
       " \n",
       "</style>\n",
       "<table class=\"gt_table\" data-quarto-disable-processing=\"false\" data-quarto-bootstrap=\"false\">\n",
       "<thead>\n",
       "\n",
       "  <tr class=\"gt_heading\">\n",
       "    <td colspan=\"6\" class=\"gt_heading gt_title gt_font_normal\">ANOVA (Type III tests)</td>\n",
       "  </tr>\n",
       "<tr class=\"gt_col_headings\">\n",
       "  <th class=\"gt_col_heading gt_columns_bottom_border gt_left\" rowspan=\"1\" colspan=\"1\" scope=\"col\" id=\"model term\">model term</th>\n",
       "  <th class=\"gt_col_heading gt_columns_bottom_border gt_right\" rowspan=\"1\" colspan=\"1\" scope=\"col\" id=\"df1\">df1</th>\n",
       "  <th class=\"gt_col_heading gt_columns_bottom_border gt_right\" rowspan=\"1\" colspan=\"1\" scope=\"col\" id=\"df2\">df2</th>\n",
       "  <th class=\"gt_col_heading gt_columns_bottom_border gt_right\" rowspan=\"1\" colspan=\"1\" scope=\"col\" id=\"F_ratio\">F_ratio</th>\n",
       "  <th class=\"gt_col_heading gt_columns_bottom_border gt_left\" rowspan=\"1\" colspan=\"1\" scope=\"col\" id=\"p_value\">p_value</th>\n",
       "  <th class=\"gt_col_heading gt_columns_bottom_border gt_left\" rowspan=\"1\" colspan=\"1\" scope=\"col\" id=\"\"></th>\n",
       "</tr>\n",
       "</thead>\n",
       "<tbody class=\"gt_table_body\">\n",
       "  <tr>\n",
       "    <td class=\"gt_row gt_left\">wt</td>\n",
       "    <td class=\"gt_row gt_right\">1</td>\n",
       "    <td class=\"gt_row gt_right\">26</td>\n",
       "    <td class=\"gt_row gt_right\">10.723</td>\n",
       "    <td class=\"gt_row gt_left\">0.002993</td>\n",
       "    <td class=\"gt_row gt_left\">**</td>\n",
       "  </tr>\n",
       "  <tr>\n",
       "    <td class=\"gt_row gt_left\">cyl</td>\n",
       "    <td class=\"gt_row gt_right\">2</td>\n",
       "    <td class=\"gt_row gt_right\">26</td>\n",
       "    <td class=\"gt_row gt_right\">3.951</td>\n",
       "    <td class=\"gt_row gt_left\">0.03175</td>\n",
       "    <td class=\"gt_row gt_left\">*</td>\n",
       "  </tr>\n",
       "  <tr>\n",
       "    <td class=\"gt_row gt_left\">wt:cyl</td>\n",
       "    <td class=\"gt_row gt_right\">2</td>\n",
       "    <td class=\"gt_row gt_right\">26</td>\n",
       "    <td class=\"gt_row gt_right\">2.266</td>\n",
       "    <td class=\"gt_row gt_left\">0.1239</td>\n",
       "    <td class=\"gt_row gt_left\"></td>\n",
       "  </tr>\n",
       "</tbody>\n",
       "  <tfoot class=\"gt_sourcenotes\">\n",
       "  \n",
       "  <tr>\n",
       "    <td class=\"gt_sourcenote\" colspan=\"6\">Signif. codes: <em>0 *** 0.001 ** 0.01 * 0.05 . 0.1</em></td>\n",
       "  </tr>\n",
       "\n",
       "</tfoot>\n",
       "\n",
       "</table>\n",
       "\n",
       "</div>\n",
       "        "
      ],
      "text/plain": [
       "GT(_tbl_data=shape: (3, 6)\n",
       "┌────────────┬─────┬──────┬─────────┬──────────┬───────┐\n",
       "│ model term ┆ df1 ┆ df2  ┆ F_ratio ┆ p_value  ┆ stars │\n",
       "│ ---        ┆ --- ┆ ---  ┆ ---     ┆ ---      ┆ ---   │\n",
       "│ str        ┆ f64 ┆ f64  ┆ f64     ┆ str      ┆ str   │\n",
       "╞════════════╪═════╪══════╪═════════╪══════════╪═══════╡\n",
       "│ wt         ┆ 1.0 ┆ 26.0 ┆ 10.723  ┆ 0.002993 ┆ **    │\n",
       "│ cyl        ┆ 2.0 ┆ 26.0 ┆ 3.951   ┆ 0.03175  ┆ *     │\n",
       "│ wt:cyl     ┆ 2.0 ┆ 26.0 ┆ 2.266   ┆ 0.1239   ┆       │\n",
       "└────────────┴─────┴──────┴─────────┴──────────┴───────┘, _body=<great_tables._gt_data.Body object at 0x335758800>, _boxhead=Boxhead([ColInfo(var='model term', type=<ColInfoTypeEnum.default: 1>, column_label='model term', column_align='left', column_width=None), ColInfo(var='df1', type=<ColInfoTypeEnum.default: 1>, column_label='df1', column_align='right', column_width=None), ColInfo(var='df2', type=<ColInfoTypeEnum.default: 1>, column_label='df2', column_align='right', column_width=None), ColInfo(var='F_ratio', type=<ColInfoTypeEnum.default: 1>, column_label='F_ratio', column_align='right', column_width=None), ColInfo(var='p_value', type=<ColInfoTypeEnum.default: 1>, column_label='p_value', column_align='left', column_width=None), ColInfo(var='stars', type=<ColInfoTypeEnum.default: 1>, column_label='', column_align='left', column_width=None)]), _stub=<great_tables._gt_data.Stub object at 0x3356b6930>, _spanners=Spanners([]), _heading=Heading(title='ANOVA (Type III tests)', subtitle=None, preheader=None), _stubhead=None, _source_notes=[Md(text='Signif. codes: *0 *** 0.001 ** 0.01 * 0.05 . 0.1*')], _footnotes=[], _styles=[], _locale=<great_tables._gt_data.Locale object at 0x3357592e0>, _formats=[<great_tables._gt_data.FormatInfo object at 0x335758e90>, <great_tables._gt_data.FormatInfo object at 0x335759e20>], _substitutions=[], _options=Options(table_id=OptionsInfo(scss=False, category='table', type='value', value=None), table_caption=OptionsInfo(scss=False, category='table', type='value', value=None), table_width=OptionsInfo(scss=True, category='table', type='px', value='auto'), table_layout=OptionsInfo(scss=True, category='table', type='value', value='fixed'), table_margin_left=OptionsInfo(scss=True, category='table', type='px', value='auto'), table_margin_right=OptionsInfo(scss=True, category='table', type='px', value='auto'), table_background_color=OptionsInfo(scss=True, category='table', type='value', value='#FFFFFF'), table_additional_css=OptionsInfo(scss=False, category='table', type='values', value=[]), table_font_names=OptionsInfo(scss=False, category='table', type='values', value=['-apple-system', 'BlinkMacSystemFont', 'Segoe UI', 'Roboto', 'Oxygen', 'Ubuntu', 'Cantarell', 'Helvetica Neue', 'Fira Sans', 'Droid Sans', 'Arial', 'sans-serif']), table_font_size=OptionsInfo(scss=True, category='table', type='px', value='16px'), table_font_weight=OptionsInfo(scss=True, category='table', type='value', value='normal'), table_font_style=OptionsInfo(scss=True, category='table', type='value', value='normal'), table_font_color=OptionsInfo(scss=True, category='table', type='value', value='#333333'), table_font_color_light=OptionsInfo(scss=True, category='table', type='value', value='#FFFFFF'), table_border_top_include=OptionsInfo(scss=False, category='table', type='boolean', value=True), table_border_top_style=OptionsInfo(scss=True, category='table', type='value', value='solid'), table_border_top_width=OptionsInfo(scss=True, category='table', type='px', value='2px'), table_border_top_color=OptionsInfo(scss=True, category='table', type='value', value='#A8A8A8'), table_border_right_style=OptionsInfo(scss=True, category='table', type='value', value='none'), table_border_right_width=OptionsInfo(scss=True, category='table', type='px', value='2px'), table_border_right_color=OptionsInfo(scss=True, category='table', type='value', value='#D3D3D3'), table_border_bottom_include=OptionsInfo(scss=False, category='table', type='boolean', value=True), table_border_bottom_style=OptionsInfo(scss=True, category='table', type='value', value='solid'), table_border_bottom_width=OptionsInfo(scss=True, category='table', type='px', value='2px'), table_border_bottom_color=OptionsInfo(scss=True, category='table', type='value', value='#A8A8A8'), table_border_left_style=OptionsInfo(scss=True, category='table', type='value', value='none'), table_border_left_width=OptionsInfo(scss=True, category='table', type='px', value='2px'), table_border_left_color=OptionsInfo(scss=True, category='table', type='value', value='#D3D3D3'), heading_background_color=OptionsInfo(scss=True, category='heading', type='value', value=None), heading_align=OptionsInfo(scss=True, category='heading', type='value', value='left'), heading_title_font_size=OptionsInfo(scss=True, category='heading', type='px', value='125%'), heading_title_font_weight=OptionsInfo(scss=True, category='heading', type='value', value='initial'), heading_subtitle_font_size=OptionsInfo(scss=True, category='heading', type='px', value='85%'), heading_subtitle_font_weight=OptionsInfo(scss=True, category='heading', type='value', value='initial'), heading_padding=OptionsInfo(scss=True, category='heading', type='px', value='4px'), heading_padding_horizontal=OptionsInfo(scss=True, category='heading', type='px', value='5px'), heading_border_bottom_style=OptionsInfo(scss=True, category='heading', type='value', value='solid'), heading_border_bottom_width=OptionsInfo(scss=True, category='heading', type='px', value='2px'), heading_border_bottom_color=OptionsInfo(scss=True, category='heading', type='value', value='#D3D3D3'), heading_border_lr_style=OptionsInfo(scss=True, category='heading', type='value', value='none'), heading_border_lr_width=OptionsInfo(scss=True, category='heading', type='px', value='1px'), heading_border_lr_color=OptionsInfo(scss=True, category='heading', type='value', value='#D3D3D3'), column_labels_background_color=OptionsInfo(scss=True, category='column_labels', type='value', value=None), column_labels_font_size=OptionsInfo(scss=True, category='column_labels', type='px', value='100%'), column_labels_font_weight=OptionsInfo(scss=True, category='column_labels', type='value', value='normal'), column_labels_text_transform=OptionsInfo(scss=True, category='column_labels', type='value', value='inherit'), column_labels_padding=OptionsInfo(scss=True, category='column_labels', type='px', value='5px'), column_labels_padding_horizontal=OptionsInfo(scss=True, category='column_labels', type='px', value='5px'), column_labels_vlines_style=OptionsInfo(scss=True, category='table_body', type='value', value='none'), column_labels_vlines_width=OptionsInfo(scss=True, category='table_body', type='px', value='1px'), column_labels_vlines_color=OptionsInfo(scss=True, category='table_body', type='value', value='#D3D3D3'), column_labels_border_top_style=OptionsInfo(scss=True, category='column_labels', type='value', value='solid'), column_labels_border_top_width=OptionsInfo(scss=True, category='column_labels', type='px', value='2px'), column_labels_border_top_color=OptionsInfo(scss=True, category='column_labels', type='value', value='#D3D3D3'), column_labels_border_bottom_style=OptionsInfo(scss=True, category='column_labels', type='value', value='solid'), column_labels_border_bottom_width=OptionsInfo(scss=True, category='column_labels', type='px', value='2px'), column_labels_border_bottom_color=OptionsInfo(scss=True, category='column_labels', type='value', value='#D3D3D3'), column_labels_border_lr_style=OptionsInfo(scss=True, category='column_labels', type='value', value='none'), column_labels_border_lr_width=OptionsInfo(scss=True, category='column_labels', type='px', value='1px'), column_labels_border_lr_color=OptionsInfo(scss=True, category='column_labels', type='value', value='#D3D3D3'), column_labels_hidden=OptionsInfo(scss=False, category='column_labels', type='boolean', value=False), row_group_background_color=OptionsInfo(scss=True, category='row_group', type='value', value=None), row_group_font_size=OptionsInfo(scss=True, category='row_group', type='px', value='100%'), row_group_font_weight=OptionsInfo(scss=True, category='row_group', type='value', value='initial'), row_group_text_transform=OptionsInfo(scss=True, category='row_group', type='value', value='inherit'), row_group_padding=OptionsInfo(scss=True, category='row_group', type='px', value='8px'), row_group_padding_horizontal=OptionsInfo(scss=True, category='row_group', type='px', value='5px'), row_group_border_top_style=OptionsInfo(scss=True, category='row_group', type='value', value='solid'), row_group_border_top_width=OptionsInfo(scss=True, category='row_group', type='px', value='2px'), row_group_border_top_color=OptionsInfo(scss=True, category='row_group', type='value', value='#D3D3D3'), row_group_border_right_style=OptionsInfo(scss=True, category='row_group', type='value', value='none'), row_group_border_right_width=OptionsInfo(scss=True, category='row_group', type='px', value='1px'), row_group_border_right_color=OptionsInfo(scss=True, category='row_group', type='value', value='#D3D3D3'), row_group_border_bottom_style=OptionsInfo(scss=True, category='row_group', type='value', value='solid'), row_group_border_bottom_width=OptionsInfo(scss=True, category='row_group', type='px', value='2px'), row_group_border_bottom_color=OptionsInfo(scss=True, category='row_group', type='value', value='#D3D3D3'), row_group_border_left_style=OptionsInfo(scss=True, category='row_group', type='value', value='none'), row_group_border_left_width=OptionsInfo(scss=True, category='row_group', type='px', value='1px'), row_group_border_left_color=OptionsInfo(scss=True, category='row_group', type='value', value='#D3D3D3'), row_group_as_column=OptionsInfo(scss=False, category='row_group', type='boolean', value=False), table_body_hlines_style=OptionsInfo(scss=True, category='table_body', type='value', value='solid'), table_body_hlines_width=OptionsInfo(scss=True, category='table_body', type='px', value='1px'), table_body_hlines_color=OptionsInfo(scss=True, category='table_body', type='value', value='#D3D3D3'), table_body_vlines_style=OptionsInfo(scss=True, category='table_body', type='value', value='none'), table_body_vlines_width=OptionsInfo(scss=True, category='table_body', type='px', value='1px'), table_body_vlines_color=OptionsInfo(scss=True, category='table_body', type='value', value='#D3D3D3'), table_body_border_top_style=OptionsInfo(scss=True, category='table_body', type='value', value='solid'), table_body_border_top_width=OptionsInfo(scss=True, category='table_body', type='px', value='2px'), table_body_border_top_color=OptionsInfo(scss=True, category='table_body', type='value', value='#D3D3D3'), table_body_border_bottom_style=OptionsInfo(scss=True, category='table_body', type='value', value='solid'), table_body_border_bottom_width=OptionsInfo(scss=True, category='table_body', type='px', value='2px'), table_body_border_bottom_color=OptionsInfo(scss=True, category='table_body', type='value', value='#D3D3D3'), data_row_padding=OptionsInfo(scss=True, category='data_row', type='px', value='8px'), data_row_padding_horizontal=OptionsInfo(scss=True, category='data_row', type='px', value='5px'), stub_background_color=OptionsInfo(scss=True, category='stub', type='value', value=None), stub_font_size=OptionsInfo(scss=True, category='stub', type='px', value='100%'), stub_font_weight=OptionsInfo(scss=True, category='stub', type='value', value='initial'), stub_text_transform=OptionsInfo(scss=True, category='stub', type='value', value='inherit'), stub_border_style=OptionsInfo(scss=True, category='stub', type='value', value='solid'), stub_border_width=OptionsInfo(scss=True, category='stub', type='px', value='2px'), stub_border_color=OptionsInfo(scss=True, category='stub', type='value', value='#D3D3D3'), stub_row_group_background_color=OptionsInfo(scss=True, category='stub', type='value', value=None), stub_row_group_font_size=OptionsInfo(scss=True, category='stub', type='px', value='100%'), stub_row_group_font_weight=OptionsInfo(scss=True, category='stub', type='value', value='initial'), stub_row_group_text_transform=OptionsInfo(scss=True, category='stub', type='value', value='inherit'), stub_row_group_border_style=OptionsInfo(scss=True, category='stub', type='value', value='solid'), stub_row_group_border_width=OptionsInfo(scss=True, category='stub', type='px', value='2px'), stub_row_group_border_color=OptionsInfo(scss=True, category='stub', type='value', value='#D3D3D3'), source_notes_padding=OptionsInfo(scss=True, category='source_notes', type='px', value='4px'), source_notes_padding_horizontal=OptionsInfo(scss=True, category='source_notes', type='px', value='5px'), source_notes_background_color=OptionsInfo(scss=True, category='source_notes', type='value', value=None), source_notes_font_size=OptionsInfo(scss=True, category='source_notes', type='px', value='small'), source_notes_border_bottom_style=OptionsInfo(scss=True, category='source_notes', type='value', value='none'), source_notes_border_bottom_width=OptionsInfo(scss=True, category='source_notes', type='px', value='2px'), source_notes_border_bottom_color=OptionsInfo(scss=True, category='source_notes', type='value', value='#D3D3D3'), source_notes_border_lr_style=OptionsInfo(scss=True, category='source_notes', type='value', value='none'), source_notes_border_lr_width=OptionsInfo(scss=True, category='source_notes', type='px', value='2px'), source_notes_border_lr_color=OptionsInfo(scss=True, category='source_notes', type='value', value='#D3D3D3'), source_notes_multiline=OptionsInfo(scss=False, category='source_notes', type='boolean', value=True), source_notes_sep=OptionsInfo(scss=False, category='source_notes', type='value', value=' '), row_striping_background_color=OptionsInfo(scss=True, category='row', type='value', value='rgba(128,128,128,0.05)'), row_striping_include_stub=OptionsInfo(scss=False, category='row', type='boolean', value=False), row_striping_include_table_body=OptionsInfo(scss=False, category='row', type='boolean', value=False), container_width=OptionsInfo(scss=False, category='container', type='px', value='auto'), container_height=OptionsInfo(scss=False, category='container', type='px', value='auto'), container_padding_x=OptionsInfo(scss=False, category='container', type='px', value='0px'), container_padding_y=OptionsInfo(scss=False, category='container', type='px', value='10px'), container_overflow_x=OptionsInfo(scss=False, category='container', type='overflow', value='auto'), container_overflow_y=OptionsInfo(scss=False, category='container', type='overflow', value='auto'), quarto_disable_processing=OptionsInfo(scss=False, category='quarto', type='logical', value=False), quarto_use_bootstrap=OptionsInfo(scss=False, category='quarto', type='logical', value=False)), _has_built=False)"
      ]
     },
     "execution_count": 57,
     "metadata": {},
     "output_type": "execute_result"
    }
   ],
   "source": [
    "model.anova(summary=True)"
   ]
  },
  {
   "cell_type": "markdown",
   "metadata": {},
   "source": [
    "Just like `.fit()` the dataframe results of `.anova()` are accessible via `.result_anova`"
   ]
  },
  {
   "cell_type": "code",
   "execution_count": 58,
   "metadata": {},
   "outputs": [
    {
     "data": {
      "text/html": [
       "<div><style>\n",
       ".dataframe > thead > tr,\n",
       ".dataframe > tbody > tr {\n",
       "  text-align: right;\n",
       "  white-space: pre-wrap;\n",
       "}\n",
       "</style>\n",
       "<small>shape: (3, 5)</small><table border=\"1\" class=\"dataframe\"><thead><tr><th>model term</th><th>df1</th><th>df2</th><th>F_ratio</th><th>p_value</th></tr><tr><td>str</td><td>f64</td><td>f64</td><td>f64</td><td>f64</td></tr></thead><tbody><tr><td>&quot;wt&quot;</td><td>1.0</td><td>26.0</td><td>10.723</td><td>0.002993</td></tr><tr><td>&quot;cyl&quot;</td><td>2.0</td><td>26.0</td><td>3.951</td><td>0.031753</td></tr><tr><td>&quot;wt:cyl&quot;</td><td>2.0</td><td>26.0</td><td>2.266</td><td>0.123857</td></tr></tbody></table></div>"
      ],
      "text/plain": [
       "shape: (3, 5)\n",
       "┌────────────┬─────┬──────┬─────────┬──────────┐\n",
       "│ model term ┆ df1 ┆ df2  ┆ F_ratio ┆ p_value  │\n",
       "│ ---        ┆ --- ┆ ---  ┆ ---     ┆ ---      │\n",
       "│ str        ┆ f64 ┆ f64  ┆ f64     ┆ f64      │\n",
       "╞════════════╪═════╪══════╪═════════╪══════════╡\n",
       "│ wt         ┆ 1.0 ┆ 26.0 ┆ 10.723  ┆ 0.002993 │\n",
       "│ cyl        ┆ 2.0 ┆ 26.0 ┆ 3.951   ┆ 0.031753 │\n",
       "│ wt:cyl     ┆ 2.0 ┆ 26.0 ┆ 2.266   ┆ 0.123857 │\n",
       "└────────────┴─────┴──────┴─────────┴──────────┘"
      ]
     },
     "execution_count": 58,
     "metadata": {},
     "output_type": "execute_result"
    }
   ],
   "source": [
    "model.result_anova"
   ]
  },
  {
   "cell_type": "markdown",
   "metadata": {},
   "source": [
    "## Comparing models"
   ]
  },
  {
   "cell_type": "markdown",
   "metadata": {},
   "source": [
    "`pymer4` offers a general-purpose `compare()` function to compare 2 or more models using an F-test or Likelihood-Ratio-Test. \n",
    "\n",
    "For linear models, an ANOVA F-test for a factor variable is equivalent to a *nested model comparison*. If we create a new model without the interaction term and compare it to the full model, we can reproduce the same result as the F-test in the ANOVA table above. Both approaches suggest the interaction doesn't add much beyond the additive model."
   ]
  },
  {
   "cell_type": "code",
   "execution_count": 59,
   "metadata": {},
   "outputs": [
    {
     "data": {
      "text/html": [
       "<div id=\"mdueoglpqx\" style=\"padding-left:0px;padding-right:0px;padding-top:10px;padding-bottom:10px;overflow-x:auto;overflow-y:auto;width:auto;height:auto;\">\n",
       "<style>\n",
       "#mdueoglpqx table {\n",
       "          font-family: -apple-system, BlinkMacSystemFont, 'Segoe UI', Roboto, Oxygen, Ubuntu, Cantarell, 'Helvetica Neue', 'Fira Sans', 'Droid Sans', Arial, sans-serif;\n",
       "          -webkit-font-smoothing: antialiased;\n",
       "          -moz-osx-font-smoothing: grayscale;\n",
       "        }\n",
       "\n",
       "#mdueoglpqx thead, tbody, tfoot, tr, td, th { border-style: none !important; }\n",
       " tr { background-color: transparent !important; }\n",
       "#mdueoglpqx p { margin: 0 !important; padding: 0 !important; }\n",
       " #mdueoglpqx .gt_table { display: table !important; border-collapse: collapse !important; line-height: normal !important; margin-left: auto !important; margin-right: auto !important; color: #333333 !important; font-size: 16px !important; font-weight: normal !important; font-style: normal !important; background-color: #FFFFFF !important; width: auto !important; border-top-style: solid !important; border-top-width: 2px !important; border-top-color: #A8A8A8 !important; border-right-style: none !important; border-right-width: 2px !important; border-right-color: #D3D3D3 !important; border-bottom-style: solid !important; border-bottom-width: 2px !important; border-bottom-color: #A8A8A8 !important; border-left-style: none !important; border-left-width: 2px !important; border-left-color: #D3D3D3 !important; }\n",
       " #mdueoglpqx .gt_caption { padding-top: 4px !important; padding-bottom: 4px !important; }\n",
       " #mdueoglpqx .gt_title { color: #333333 !important; font-size: 125% !important; font-weight: initial !important; padding-top: 4px !important; padding-bottom: 4px !important; padding-left: 5px !important; padding-right: 5px !important; border-bottom-color: #FFFFFF !important; border-bottom-width: 0 !important; }\n",
       " #mdueoglpqx .gt_subtitle { color: #333333 !important; font-size: 85% !important; font-weight: initial !important; padding-top: 3px !important; padding-bottom: 5px !important; padding-left: 5px !important; padding-right: 5px !important; border-top-color: #FFFFFF !important; border-top-width: 0 !important; }\n",
       " #mdueoglpqx .gt_heading { background-color: #FFFFFF !important; text-align: left !important; border-bottom-color: #FFFFFF !important; border-left-style: none !important; border-left-width: 1px !important; border-left-color: #D3D3D3 !important; border-right-style: none !important; border-right-width: 1px !important; border-right-color: #D3D3D3 !important; }\n",
       " #mdueoglpqx .gt_bottom_border { border-bottom-style: solid !important; border-bottom-width: 2px !important; border-bottom-color: #D3D3D3 !important; }\n",
       " #mdueoglpqx .gt_col_headings { border-top-style: solid !important; border-top-width: 2px !important; border-top-color: #D3D3D3 !important; border-bottom-style: solid !important; border-bottom-width: 2px !important; border-bottom-color: #D3D3D3 !important; border-left-style: none !important; border-left-width: 1px !important; border-left-color: #D3D3D3 !important; border-right-style: none !important; border-right-width: 1px !important; border-right-color: #D3D3D3 !important; }\n",
       " #mdueoglpqx .gt_col_heading { color: #333333 !important; background-color: #FFFFFF !important; font-size: 100% !important; font-weight: normal !important; text-transform: inherit !important; border-left-style: none !important; border-left-width: 1px !important; border-left-color: #D3D3D3 !important; border-right-style: none !important; border-right-width: 1px !important; border-right-color: #D3D3D3 !important; vertical-align: bottom !important; padding-top: 5px !important; padding-bottom: 5px !important; padding-left: 5px !important; padding-right: 5px !important; overflow-x: hidden !important; }\n",
       " #mdueoglpqx .gt_column_spanner_outer { color: #333333 !important; background-color: #FFFFFF !important; font-size: 100% !important; font-weight: normal !important; text-transform: inherit !important; padding-top: 0 !important; padding-bottom: 0 !important; padding-left: 4px !important; padding-right: 4px !important; }\n",
       " #mdueoglpqx .gt_column_spanner_outer:first-child { padding-left: 0 !important; }\n",
       " #mdueoglpqx .gt_column_spanner_outer:last-child { padding-right: 0 !important; }\n",
       " #mdueoglpqx .gt_column_spanner { border-bottom-style: solid !important; border-bottom-width: 2px !important; border-bottom-color: #D3D3D3 !important; vertical-align: bottom !important; padding-top: 5px !important; padding-bottom: 5px !important; overflow-x: hidden !important; display: inline-block !important; width: 100% !important; }\n",
       " #mdueoglpqx .gt_spanner_row { border-bottom-style: hidden !important; }\n",
       " #mdueoglpqx .gt_group_heading { padding-top: 8px !important; padding-bottom: 8px !important; padding-left: 5px !important; padding-right: 5px !important; color: #333333 !important; background-color: #FFFFFF !important; font-size: 100% !important; font-weight: initial !important; text-transform: inherit !important; border-top-style: solid !important; border-top-width: 2px !important; border-top-color: #D3D3D3 !important; border-bottom-style: solid !important; border-bottom-width: 2px !important; border-bottom-color: #D3D3D3 !important; border-left-style: none !important; border-left-width: 1px !important; border-left-color: #D3D3D3 !important; border-right-style: none !important; border-right-width: 1px !important; border-right-color: #D3D3D3 !important; vertical-align: middle !important; text-align: left !important; }\n",
       " #mdueoglpqx .gt_empty_group_heading { padding: 0.5px !important; color: #333333 !important; background-color: #FFFFFF !important; font-size: 100% !important; font-weight: initial !important; border-top-style: solid !important; border-top-width: 2px !important; border-top-color: #D3D3D3 !important; border-bottom-style: solid !important; border-bottom-width: 2px !important; border-bottom-color: #D3D3D3 !important; vertical-align: middle !important; }\n",
       " #mdueoglpqx .gt_from_md> :first-child { margin-top: 0 !important; }\n",
       " #mdueoglpqx .gt_from_md> :last-child { margin-bottom: 0 !important; }\n",
       " #mdueoglpqx .gt_row { padding-top: 8px !important; padding-bottom: 8px !important; padding-left: 5px !important; padding-right: 5px !important; margin: 10px !important; border-top-style: solid !important; border-top-width: 1px !important; border-top-color: #D3D3D3 !important; border-left-style: none !important; border-left-width: 1px !important; border-left-color: #D3D3D3 !important; border-right-style: none !important; border-right-width: 1px !important; border-right-color: #D3D3D3 !important; vertical-align: middle !important; overflow-x: hidden !important; }\n",
       " #mdueoglpqx .gt_stub { color: #333333 !important; background-color: #FFFFFF !important; font-size: 100% !important; font-weight: initial !important; text-transform: inherit !important; border-right-style: solid !important; border-right-width: 2px !important; border-right-color: #D3D3D3 !important; padding-left: 5px !important; padding-right: 5px !important; }\n",
       " #mdueoglpqx .gt_stub_row_group { color: #333333 !important; background-color: #FFFFFF !important; font-size: 100% !important; font-weight: initial !important; text-transform: inherit !important; border-right-style: solid !important; border-right-width: 2px !important; border-right-color: #D3D3D3 !important; padding-left: 5px !important; padding-right: 5px !important; vertical-align: top !important; }\n",
       " #mdueoglpqx .gt_row_group_first td { border-top-width: 2px !important; }\n",
       " #mdueoglpqx .gt_row_group_first th { border-top-width: 2px !important; }\n",
       " #mdueoglpqx .gt_striped { background-color: rgba(128,128,128,0.05) !important; }\n",
       " #mdueoglpqx .gt_table_body { border-top-style: solid !important; border-top-width: 2px !important; border-top-color: #D3D3D3 !important; border-bottom-style: solid !important; border-bottom-width: 2px !important; border-bottom-color: #D3D3D3 !important; }\n",
       " #mdueoglpqx .gt_sourcenotes { color: #333333 !important; background-color: #FFFFFF !important; border-bottom-style: none !important; border-bottom-width: 2px !important; border-bottom-color: #D3D3D3 !important; border-left-style: none !important; border-left-width: 2px !important; border-left-color: #D3D3D3 !important; border-right-style: none !important; border-right-width: 2px !important; border-right-color: #D3D3D3 !important; }\n",
       " #mdueoglpqx .gt_sourcenote { font-size: small !important; padding-top: 4px !important; padding-bottom: 4px !important; padding-left: 5px !important; padding-right: 5px !important; text-align: left !important; }\n",
       " #mdueoglpqx .gt_left { text-align: left !important; }\n",
       " #mdueoglpqx .gt_center { text-align: center !important; }\n",
       " #mdueoglpqx .gt_right { text-align: right !important; font-variant-numeric: tabular-nums !important; }\n",
       " #mdueoglpqx .gt_font_normal { font-weight: normal !important; }\n",
       " #mdueoglpqx .gt_font_bold { font-weight: bold !important; }\n",
       " #mdueoglpqx .gt_font_italic { font-style: italic !important; }\n",
       " #mdueoglpqx .gt_super { font-size: 65% !important; }\n",
       " #mdueoglpqx .gt_footnote_marks { font-size: 75% !important; vertical-align: 0.4em !important; position: initial !important; }\n",
       " #mdueoglpqx .gt_asterisk { font-size: 100% !important; vertical-align: 0 !important; }\n",
       " \n",
       "</style>\n",
       "<table class=\"gt_table\" data-quarto-disable-processing=\"false\" data-quarto-bootstrap=\"false\">\n",
       "<thead>\n",
       "\n",
       "  <tr class=\"gt_heading\">\n",
       "    <td colspan=\"11\" class=\"gt_heading gt_title gt_font_normal\">Analysis of Deviance Table</td>\n",
       "  </tr>\n",
       "  <tr class=\"gt_heading\">\n",
       "    <td colspan=\"11\" class=\"gt_heading gt_subtitle gt_font_normal gt_bottom_border\">Model 1: lm(mpg~wt+cyl)<br />\n",
       "Model 2: lm(mpg~wt*cyl)</td>\n",
       "  </tr>\n",
       "<tr class=\"gt_col_headings\">\n",
       "  <th class=\"gt_col_heading gt_columns_bottom_border gt_left\" rowspan=\"1\" colspan=\"1\" scope=\"col\" id=\"\"></th>\n",
       "  <th class=\"gt_col_heading gt_columns_bottom_border gt_right\" rowspan=\"1\" colspan=\"1\" scope=\"col\" id=\"AIC\">AIC</th>\n",
       "  <th class=\"gt_col_heading gt_columns_bottom_border gt_right\" rowspan=\"1\" colspan=\"1\" scope=\"col\" id=\"BIC\">BIC</th>\n",
       "  <th class=\"gt_col_heading gt_columns_bottom_border gt_right\" rowspan=\"1\" colspan=\"1\" scope=\"col\" id=\"logLik\">logLik</th>\n",
       "  <th class=\"gt_col_heading gt_columns_bottom_border gt_right\" rowspan=\"1\" colspan=\"1\" scope=\"col\" id=\"Res_Df\">Res_Df</th>\n",
       "  <th class=\"gt_col_heading gt_columns_bottom_border gt_right\" rowspan=\"1\" colspan=\"1\" scope=\"col\" id=\"RSS\">RSS</th>\n",
       "  <th class=\"gt_col_heading gt_columns_bottom_border gt_right\" rowspan=\"1\" colspan=\"1\" scope=\"col\" id=\"Df\">Df</th>\n",
       "  <th class=\"gt_col_heading gt_columns_bottom_border gt_right\" rowspan=\"1\" colspan=\"1\" scope=\"col\" id=\"Sum of Sq\">Sum of Sq</th>\n",
       "  <th class=\"gt_col_heading gt_columns_bottom_border gt_right\" rowspan=\"1\" colspan=\"1\" scope=\"col\" id=\"F\">F</th>\n",
       "  <th class=\"gt_col_heading gt_columns_bottom_border gt_left\" rowspan=\"1\" colspan=\"1\" scope=\"col\" id=\"Pr(&amp;gt;F)\">Pr(&gt;F)</th>\n",
       "  <th class=\"gt_col_heading gt_columns_bottom_border gt_left\" rowspan=\"1\" colspan=\"1\" scope=\"col\" id=\"\"></th>\n",
       "</tr>\n",
       "</thead>\n",
       "<tbody class=\"gt_table_body\">\n",
       "  <tr>\n",
       "    <th class=\"gt_row gt_left gt_stub\">1.00</th>\n",
       "    <td class=\"gt_row gt_right\">156.6</td>\n",
       "    <td class=\"gt_row gt_right\">164</td>\n",
       "    <td class=\"gt_row gt_right\">−73.3</td>\n",
       "    <td class=\"gt_row gt_right\">28.00</td>\n",
       "    <td class=\"gt_row gt_right\">183.06</td>\n",
       "    <td class=\"gt_row gt_right\"></td>\n",
       "    <td class=\"gt_row gt_right\"></td>\n",
       "    <td class=\"gt_row gt_right\"></td>\n",
       "    <td class=\"gt_row gt_left\"></td>\n",
       "    <td class=\"gt_row gt_left\"></td>\n",
       "  </tr>\n",
       "  <tr>\n",
       "    <th class=\"gt_row gt_left gt_stub\">2.00</th>\n",
       "    <td class=\"gt_row gt_right\">155.5</td>\n",
       "    <td class=\"gt_row gt_right\">165.7</td>\n",
       "    <td class=\"gt_row gt_right\">−70.7</td>\n",
       "    <td class=\"gt_row gt_right\">26.00</td>\n",
       "    <td class=\"gt_row gt_right\">155.89</td>\n",
       "    <td class=\"gt_row gt_right\">2.00</td>\n",
       "    <td class=\"gt_row gt_right\">27.17</td>\n",
       "    <td class=\"gt_row gt_right\">2.27</td>\n",
       "    <td class=\"gt_row gt_left\">0.124</td>\n",
       "    <td class=\"gt_row gt_left\"></td>\n",
       "  </tr>\n",
       "</tbody>\n",
       "  <tfoot class=\"gt_sourcenotes\">\n",
       "  \n",
       "  <tr>\n",
       "    <td class=\"gt_sourcenote\" colspan=\"11\">Signif. codes: <em>0 *** 0.001 ** 0.01 * 0.05 . 0.1</em></td>\n",
       "  </tr>\n",
       "\n",
       "</tfoot>\n",
       "\n",
       "</table>\n",
       "\n",
       "</div>\n",
       "        "
      ],
      "text/plain": [
       "GT(_tbl_data=shape: (2, 11)\n",
       "┌────────────┬────────────┬────────────┬────────┬───┬──────────┬────────┬───────┬─────┐\n",
       "│ AIC        ┆ BIC        ┆ logLik     ┆ Res_Df ┆ … ┆ F        ┆ Pr(>F) ┆ stars ┆ ids │\n",
       "│ ---        ┆ ---        ┆ ---        ┆ ---    ┆   ┆ ---      ┆ ---    ┆ ---   ┆ --- │\n",
       "│ f64        ┆ f64        ┆ f64        ┆ f64    ┆   ┆ f64      ┆ str    ┆ str   ┆ i64 │\n",
       "╞════════════╪════════════╪════════════╪════════╪═══╪══════════╪════════╪═══════╪═════╡\n",
       "│ 156.622328 ┆ 163.951007 ┆ -73.311164 ┆ 28.0   ┆ … ┆ 0.0      ┆        ┆       ┆ 1   │\n",
       "│ 155.481091 ┆ 165.741242 ┆ -70.740546 ┆ 26.0   ┆ … ┆ 2.265769 ┆ 0.124  ┆       ┆ 2   │\n",
       "└────────────┴────────────┴────────────┴────────┴───┴──────────┴────────┴───────┴─────┘, _body=<great_tables._gt_data.Body object at 0x33575b920>, _boxhead=Boxhead([ColInfo(var='ids', type=<ColInfoTypeEnum.stub: 2>, column_label='', column_align='right', column_width=None), ColInfo(var='AIC', type=<ColInfoTypeEnum.default: 1>, column_label='AIC', column_align='right', column_width=None), ColInfo(var='BIC', type=<ColInfoTypeEnum.default: 1>, column_label='BIC', column_align='right', column_width=None), ColInfo(var='logLik', type=<ColInfoTypeEnum.default: 1>, column_label='logLik', column_align='right', column_width=None), ColInfo(var='Res_Df', type=<ColInfoTypeEnum.default: 1>, column_label='Res_Df', column_align='right', column_width=None), ColInfo(var='RSS', type=<ColInfoTypeEnum.default: 1>, column_label='RSS', column_align='right', column_width=None), ColInfo(var='Df', type=<ColInfoTypeEnum.default: 1>, column_label='Df', column_align='right', column_width=None), ColInfo(var='Sum of Sq', type=<ColInfoTypeEnum.default: 1>, column_label='Sum of Sq', column_align='right', column_width=None), ColInfo(var='F', type=<ColInfoTypeEnum.default: 1>, column_label='F', column_align='right', column_width=None), ColInfo(var='Pr(>F)', type=<ColInfoTypeEnum.default: 1>, column_label='Pr(>F)', column_align='left', column_width=None), ColInfo(var='stars', type=<ColInfoTypeEnum.default: 1>, column_label='', column_align='left', column_width=None)]), _stub=<great_tables._gt_data.Stub object at 0x33575b740>, _spanners=Spanners([]), _heading=Heading(title='Analysis of Deviance Table', subtitle=Md(text='Model 1: lm(mpg~wt+cyl)   \\nModel 2: lm(mpg~wt*cyl)   \\n'), preheader=None), _stubhead=None, _source_notes=[Md(text='Signif. codes: *0 *** 0.001 ** 0.01 * 0.05 . 0.1*')], _footnotes=[], _styles=[], _locale=<great_tables._gt_data.Locale object at 0x33575bd10>, _formats=[<great_tables._gt_data.FormatInfo object at 0x33575b8c0>, <great_tables._gt_data.FormatInfo object at 0x33575b080>], _substitutions=[<great_tables._gt_data.FormatInfo object at 0x335758260>], _options=Options(table_id=OptionsInfo(scss=False, category='table', type='value', value=None), table_caption=OptionsInfo(scss=False, category='table', type='value', value=None), table_width=OptionsInfo(scss=True, category='table', type='px', value='auto'), table_layout=OptionsInfo(scss=True, category='table', type='value', value='fixed'), table_margin_left=OptionsInfo(scss=True, category='table', type='px', value='auto'), table_margin_right=OptionsInfo(scss=True, category='table', type='px', value='auto'), table_background_color=OptionsInfo(scss=True, category='table', type='value', value='#FFFFFF'), table_additional_css=OptionsInfo(scss=False, category='table', type='values', value=[]), table_font_names=OptionsInfo(scss=False, category='table', type='values', value=['-apple-system', 'BlinkMacSystemFont', 'Segoe UI', 'Roboto', 'Oxygen', 'Ubuntu', 'Cantarell', 'Helvetica Neue', 'Fira Sans', 'Droid Sans', 'Arial', 'sans-serif']), table_font_size=OptionsInfo(scss=True, category='table', type='px', value='16px'), table_font_weight=OptionsInfo(scss=True, category='table', type='value', value='normal'), table_font_style=OptionsInfo(scss=True, category='table', type='value', value='normal'), table_font_color=OptionsInfo(scss=True, category='table', type='value', value='#333333'), table_font_color_light=OptionsInfo(scss=True, category='table', type='value', value='#FFFFFF'), table_border_top_include=OptionsInfo(scss=False, category='table', type='boolean', value=True), table_border_top_style=OptionsInfo(scss=True, category='table', type='value', value='solid'), table_border_top_width=OptionsInfo(scss=True, category='table', type='px', value='2px'), table_border_top_color=OptionsInfo(scss=True, category='table', type='value', value='#A8A8A8'), table_border_right_style=OptionsInfo(scss=True, category='table', type='value', value='none'), table_border_right_width=OptionsInfo(scss=True, category='table', type='px', value='2px'), table_border_right_color=OptionsInfo(scss=True, category='table', type='value', value='#D3D3D3'), table_border_bottom_include=OptionsInfo(scss=False, category='table', type='boolean', value=True), table_border_bottom_style=OptionsInfo(scss=True, category='table', type='value', value='solid'), table_border_bottom_width=OptionsInfo(scss=True, category='table', type='px', value='2px'), table_border_bottom_color=OptionsInfo(scss=True, category='table', type='value', value='#A8A8A8'), table_border_left_style=OptionsInfo(scss=True, category='table', type='value', value='none'), table_border_left_width=OptionsInfo(scss=True, category='table', type='px', value='2px'), table_border_left_color=OptionsInfo(scss=True, category='table', type='value', value='#D3D3D3'), heading_background_color=OptionsInfo(scss=True, category='heading', type='value', value=None), heading_align=OptionsInfo(scss=True, category='heading', type='value', value='left'), heading_title_font_size=OptionsInfo(scss=True, category='heading', type='px', value='125%'), heading_title_font_weight=OptionsInfo(scss=True, category='heading', type='value', value='initial'), heading_subtitle_font_size=OptionsInfo(scss=True, category='heading', type='px', value='85%'), heading_subtitle_font_weight=OptionsInfo(scss=True, category='heading', type='value', value='initial'), heading_padding=OptionsInfo(scss=True, category='heading', type='px', value='4px'), heading_padding_horizontal=OptionsInfo(scss=True, category='heading', type='px', value='5px'), heading_border_bottom_style=OptionsInfo(scss=True, category='heading', type='value', value='solid'), heading_border_bottom_width=OptionsInfo(scss=True, category='heading', type='px', value='2px'), heading_border_bottom_color=OptionsInfo(scss=True, category='heading', type='value', value='#D3D3D3'), heading_border_lr_style=OptionsInfo(scss=True, category='heading', type='value', value='none'), heading_border_lr_width=OptionsInfo(scss=True, category='heading', type='px', value='1px'), heading_border_lr_color=OptionsInfo(scss=True, category='heading', type='value', value='#D3D3D3'), column_labels_background_color=OptionsInfo(scss=True, category='column_labels', type='value', value=None), column_labels_font_size=OptionsInfo(scss=True, category='column_labels', type='px', value='100%'), column_labels_font_weight=OptionsInfo(scss=True, category='column_labels', type='value', value='normal'), column_labels_text_transform=OptionsInfo(scss=True, category='column_labels', type='value', value='inherit'), column_labels_padding=OptionsInfo(scss=True, category='column_labels', type='px', value='5px'), column_labels_padding_horizontal=OptionsInfo(scss=True, category='column_labels', type='px', value='5px'), column_labels_vlines_style=OptionsInfo(scss=True, category='table_body', type='value', value='none'), column_labels_vlines_width=OptionsInfo(scss=True, category='table_body', type='px', value='1px'), column_labels_vlines_color=OptionsInfo(scss=True, category='table_body', type='value', value='#D3D3D3'), column_labels_border_top_style=OptionsInfo(scss=True, category='column_labels', type='value', value='solid'), column_labels_border_top_width=OptionsInfo(scss=True, category='column_labels', type='px', value='2px'), column_labels_border_top_color=OptionsInfo(scss=True, category='column_labels', type='value', value='#D3D3D3'), column_labels_border_bottom_style=OptionsInfo(scss=True, category='column_labels', type='value', value='solid'), column_labels_border_bottom_width=OptionsInfo(scss=True, category='column_labels', type='px', value='2px'), column_labels_border_bottom_color=OptionsInfo(scss=True, category='column_labels', type='value', value='#D3D3D3'), column_labels_border_lr_style=OptionsInfo(scss=True, category='column_labels', type='value', value='none'), column_labels_border_lr_width=OptionsInfo(scss=True, category='column_labels', type='px', value='1px'), column_labels_border_lr_color=OptionsInfo(scss=True, category='column_labels', type='value', value='#D3D3D3'), column_labels_hidden=OptionsInfo(scss=False, category='column_labels', type='boolean', value=False), row_group_background_color=OptionsInfo(scss=True, category='row_group', type='value', value=None), row_group_font_size=OptionsInfo(scss=True, category='row_group', type='px', value='100%'), row_group_font_weight=OptionsInfo(scss=True, category='row_group', type='value', value='initial'), row_group_text_transform=OptionsInfo(scss=True, category='row_group', type='value', value='inherit'), row_group_padding=OptionsInfo(scss=True, category='row_group', type='px', value='8px'), row_group_padding_horizontal=OptionsInfo(scss=True, category='row_group', type='px', value='5px'), row_group_border_top_style=OptionsInfo(scss=True, category='row_group', type='value', value='solid'), row_group_border_top_width=OptionsInfo(scss=True, category='row_group', type='px', value='2px'), row_group_border_top_color=OptionsInfo(scss=True, category='row_group', type='value', value='#D3D3D3'), row_group_border_right_style=OptionsInfo(scss=True, category='row_group', type='value', value='none'), row_group_border_right_width=OptionsInfo(scss=True, category='row_group', type='px', value='1px'), row_group_border_right_color=OptionsInfo(scss=True, category='row_group', type='value', value='#D3D3D3'), row_group_border_bottom_style=OptionsInfo(scss=True, category='row_group', type='value', value='solid'), row_group_border_bottom_width=OptionsInfo(scss=True, category='row_group', type='px', value='2px'), row_group_border_bottom_color=OptionsInfo(scss=True, category='row_group', type='value', value='#D3D3D3'), row_group_border_left_style=OptionsInfo(scss=True, category='row_group', type='value', value='none'), row_group_border_left_width=OptionsInfo(scss=True, category='row_group', type='px', value='1px'), row_group_border_left_color=OptionsInfo(scss=True, category='row_group', type='value', value='#D3D3D3'), row_group_as_column=OptionsInfo(scss=False, category='row_group', type='boolean', value=False), table_body_hlines_style=OptionsInfo(scss=True, category='table_body', type='value', value='solid'), table_body_hlines_width=OptionsInfo(scss=True, category='table_body', type='px', value='1px'), table_body_hlines_color=OptionsInfo(scss=True, category='table_body', type='value', value='#D3D3D3'), table_body_vlines_style=OptionsInfo(scss=True, category='table_body', type='value', value='none'), table_body_vlines_width=OptionsInfo(scss=True, category='table_body', type='px', value='1px'), table_body_vlines_color=OptionsInfo(scss=True, category='table_body', type='value', value='#D3D3D3'), table_body_border_top_style=OptionsInfo(scss=True, category='table_body', type='value', value='solid'), table_body_border_top_width=OptionsInfo(scss=True, category='table_body', type='px', value='2px'), table_body_border_top_color=OptionsInfo(scss=True, category='table_body', type='value', value='#D3D3D3'), table_body_border_bottom_style=OptionsInfo(scss=True, category='table_body', type='value', value='solid'), table_body_border_bottom_width=OptionsInfo(scss=True, category='table_body', type='px', value='2px'), table_body_border_bottom_color=OptionsInfo(scss=True, category='table_body', type='value', value='#D3D3D3'), data_row_padding=OptionsInfo(scss=True, category='data_row', type='px', value='8px'), data_row_padding_horizontal=OptionsInfo(scss=True, category='data_row', type='px', value='5px'), stub_background_color=OptionsInfo(scss=True, category='stub', type='value', value=None), stub_font_size=OptionsInfo(scss=True, category='stub', type='px', value='100%'), stub_font_weight=OptionsInfo(scss=True, category='stub', type='value', value='initial'), stub_text_transform=OptionsInfo(scss=True, category='stub', type='value', value='inherit'), stub_border_style=OptionsInfo(scss=True, category='stub', type='value', value='solid'), stub_border_width=OptionsInfo(scss=True, category='stub', type='px', value='2px'), stub_border_color=OptionsInfo(scss=True, category='stub', type='value', value='#D3D3D3'), stub_row_group_background_color=OptionsInfo(scss=True, category='stub', type='value', value=None), stub_row_group_font_size=OptionsInfo(scss=True, category='stub', type='px', value='100%'), stub_row_group_font_weight=OptionsInfo(scss=True, category='stub', type='value', value='initial'), stub_row_group_text_transform=OptionsInfo(scss=True, category='stub', type='value', value='inherit'), stub_row_group_border_style=OptionsInfo(scss=True, category='stub', type='value', value='solid'), stub_row_group_border_width=OptionsInfo(scss=True, category='stub', type='px', value='2px'), stub_row_group_border_color=OptionsInfo(scss=True, category='stub', type='value', value='#D3D3D3'), source_notes_padding=OptionsInfo(scss=True, category='source_notes', type='px', value='4px'), source_notes_padding_horizontal=OptionsInfo(scss=True, category='source_notes', type='px', value='5px'), source_notes_background_color=OptionsInfo(scss=True, category='source_notes', type='value', value=None), source_notes_font_size=OptionsInfo(scss=True, category='source_notes', type='px', value='small'), source_notes_border_bottom_style=OptionsInfo(scss=True, category='source_notes', type='value', value='none'), source_notes_border_bottom_width=OptionsInfo(scss=True, category='source_notes', type='px', value='2px'), source_notes_border_bottom_color=OptionsInfo(scss=True, category='source_notes', type='value', value='#D3D3D3'), source_notes_border_lr_style=OptionsInfo(scss=True, category='source_notes', type='value', value='none'), source_notes_border_lr_width=OptionsInfo(scss=True, category='source_notes', type='px', value='2px'), source_notes_border_lr_color=OptionsInfo(scss=True, category='source_notes', type='value', value='#D3D3D3'), source_notes_multiline=OptionsInfo(scss=False, category='source_notes', type='boolean', value=True), source_notes_sep=OptionsInfo(scss=False, category='source_notes', type='value', value=' '), row_striping_background_color=OptionsInfo(scss=True, category='row', type='value', value='rgba(128,128,128,0.05)'), row_striping_include_stub=OptionsInfo(scss=False, category='row', type='boolean', value=False), row_striping_include_table_body=OptionsInfo(scss=False, category='row', type='boolean', value=False), container_width=OptionsInfo(scss=False, category='container', type='px', value='auto'), container_height=OptionsInfo(scss=False, category='container', type='px', value='auto'), container_padding_x=OptionsInfo(scss=False, category='container', type='px', value='0px'), container_padding_y=OptionsInfo(scss=False, category='container', type='px', value='10px'), container_overflow_x=OptionsInfo(scss=False, category='container', type='overflow', value='auto'), container_overflow_y=OptionsInfo(scss=False, category='container', type='overflow', value='auto'), quarto_disable_processing=OptionsInfo(scss=False, category='quarto', type='logical', value=False), quarto_use_bootstrap=OptionsInfo(scss=False, category='quarto', type='logical', value=False)), _has_built=False)"
      ]
     },
     "execution_count": 59,
     "metadata": {},
     "output_type": "execute_result"
    }
   ],
   "source": [
    "from pymer4.models import compare\n",
    "\n",
    "# Model without interaction\n",
    "add_only = lm('mpg ~ wt + cyl', data=df)\n",
    "add_only.set_factors({'cyl': ['4', '6', '8']})\n",
    "\n",
    "# Compare the models\n",
    "compare(add_only, model)"
   ]
  },
  {
   "cell_type": "markdown",
   "metadata": {},
   "source": [
    "## Marginal estimates & contrasts (\"post-hoc\" tests)\n",
    "\n",
    "In models with multiple terms and factor levels you're often interested in comparisons between specific factor levels or *marginal effects*. This is often referred to as \"post-hoc\" or \"cell means\" tests in ANOVA-speak, but marginal effects estimation is an extremely powerful *general-purpose*& approach for understanding and interrogating a statistical model.\n",
    "\n",
    "Every model supports the `.emmeans()` method that takes one or more predictors of the same type and generates marginal estimates while other predictors are held at their means."
   ]
  },
  {
   "cell_type": "markdown",
   "metadata": {},
   "source": [
    "For example, using $cyl$ will return the average $mpg$ for each level of $cyl$ while holding $wt$ at its mean (0 in this case due to centering)"
   ]
  },
  {
   "cell_type": "code",
   "execution_count": 60,
   "metadata": {},
   "outputs": [
    {
     "data": {
      "text/html": [
       "<div><style>\n",
       ".dataframe > thead > tr,\n",
       ".dataframe > tbody > tr {\n",
       "  text-align: right;\n",
       "  white-space: pre-wrap;\n",
       "}\n",
       "</style>\n",
       "<small>shape: (3, 6)</small><table border=\"1\" class=\"dataframe\"><thead><tr><th>cyl</th><th>emmean</th><th>SE</th><th>df</th><th>lower_CL</th><th>upper_CL</th></tr><tr><td>cat</td><td>f64</td><td>f64</td><td>f64</td><td>f64</td><td>f64</td></tr></thead><tbody><tr><td>&quot;4&quot;</td><td>21.403304</td><td>1.465893</td><td>26.0</td><td>17.66308</td><td>25.143528</td></tr><tr><td>&quot;6&quot;</td><td>19.464549</td><td>0.967159</td><td>26.0</td><td>16.996845</td><td>21.932253</td></tr><tr><td>&quot;8&quot;</td><td>16.814408</td><td>0.95775</td><td>26.0</td><td>14.370711</td><td>19.258106</td></tr></tbody></table></div>"
      ],
      "text/plain": [
       "shape: (3, 6)\n",
       "┌─────┬───────────┬──────────┬──────┬───────────┬───────────┐\n",
       "│ cyl ┆ emmean    ┆ SE       ┆ df   ┆ lower_CL  ┆ upper_CL  │\n",
       "│ --- ┆ ---       ┆ ---      ┆ ---  ┆ ---       ┆ ---       │\n",
       "│ cat ┆ f64       ┆ f64      ┆ f64  ┆ f64       ┆ f64       │\n",
       "╞═════╪═══════════╪══════════╪══════╪═══════════╪═══════════╡\n",
       "│ 4   ┆ 21.403304 ┆ 1.465893 ┆ 26.0 ┆ 17.66308  ┆ 25.143528 │\n",
       "│ 6   ┆ 19.464549 ┆ 0.967159 ┆ 26.0 ┆ 16.996845 ┆ 21.932253 │\n",
       "│ 8   ┆ 16.814408 ┆ 0.95775  ┆ 26.0 ┆ 14.370711 ┆ 19.258106 │\n",
       "└─────┴───────────┴──────────┴──────┴───────────┴───────────┘"
      ]
     },
     "execution_count": 60,
     "metadata": {},
     "output_type": "execute_result"
    }
   ],
   "source": [
    "model.emmeans('cyl')"
   ]
  },
  {
   "cell_type": "markdown",
   "metadata": {},
   "source": [
    "Passing a continuous predictor $wt$ to `.emmeans()` will calculate the average *slope* of that variable while other variables are held at their means. In this case the slope of $wt$, while $cyl$ is held at the grand-mean across factor levels. \n",
    "\n",
    "This matches the regression parameter estimate for $wt$ in the output of `.summary()` above:"
   ]
  },
  {
   "cell_type": "code",
   "execution_count": 61,
   "metadata": {},
   "outputs": [
    {
     "data": {
      "text/html": [
       "<div><style>\n",
       ".dataframe > thead > tr,\n",
       ".dataframe > tbody > tr {\n",
       "  text-align: right;\n",
       "  white-space: pre-wrap;\n",
       "}\n",
       "</style>\n",
       "<small>shape: (1, 5)</small><table border=\"1\" class=\"dataframe\"><thead><tr><th>wt_trend</th><th>SE</th><th>df</th><th>lower_CL</th><th>upper_CL</th></tr><tr><td>f64</td><td>f64</td><td>f64</td><td>f64</td><td>f64</td></tr></thead><tbody><tr><td>-3.539856</td><td>1.081023</td><td>26.0</td><td>-5.76193</td><td>-1.317783</td></tr></tbody></table></div>"
      ],
      "text/plain": [
       "shape: (1, 5)\n",
       "┌───────────┬──────────┬──────┬──────────┬───────────┐\n",
       "│ wt_trend  ┆ SE       ┆ df   ┆ lower_CL ┆ upper_CL  │\n",
       "│ ---       ┆ ---      ┆ ---  ┆ ---      ┆ ---       │\n",
       "│ f64       ┆ f64      ┆ f64  ┆ f64      ┆ f64       │\n",
       "╞═══════════╪══════════╪══════╪══════════╪═══════════╡\n",
       "│ -3.539856 ┆ 1.081023 ┆ 26.0 ┆ -5.76193 ┆ -1.317783 │\n",
       "└───────────┴──────────┴──────┴──────────┴───────────┘"
      ]
     },
     "execution_count": 61,
     "metadata": {},
     "output_type": "execute_result"
    }
   ],
   "source": [
    "model.emmeans('wt')"
   ]
  },
  {
   "cell_type": "markdown",
   "metadata": {},
   "source": [
    "Using the `by` argument allow us to subset the estimates of one predictor by another predictor.  \n",
    "For example, we can unpack the interaction by calculating separate slopes of $wt$ for each level of $cyl$"
   ]
  },
  {
   "cell_type": "code",
   "execution_count": 62,
   "metadata": {},
   "outputs": [
    {
     "data": {
      "text/html": [
       "<div><style>\n",
       ".dataframe > thead > tr,\n",
       ".dataframe > tbody > tr {\n",
       "  text-align: right;\n",
       "  white-space: pre-wrap;\n",
       "}\n",
       "</style>\n",
       "<small>shape: (3, 6)</small><table border=\"1\" class=\"dataframe\"><thead><tr><th>cyl</th><th>wt_trend</th><th>SE</th><th>df</th><th>lower_CL</th><th>upper_CL</th></tr><tr><td>cat</td><td>f64</td><td>f64</td><td>f64</td><td>f64</td><td>f64</td></tr></thead><tbody><tr><td>&quot;4&quot;</td><td>-5.647025</td><td>1.359498</td><td>26.0</td><td>-9.115782</td><td>-2.178268</td></tr><tr><td>&quot;6&quot;</td><td>-2.780106</td><td>2.805265</td><td>26.0</td><td>-9.937736</td><td>4.377524</td></tr><tr><td>&quot;8&quot;</td><td>-2.192438</td><td>0.894285</td><td>26.0</td><td>-4.474204</td><td>0.089329</td></tr></tbody></table></div>"
      ],
      "text/plain": [
       "shape: (3, 6)\n",
       "┌─────┬───────────┬──────────┬──────┬───────────┬───────────┐\n",
       "│ cyl ┆ wt_trend  ┆ SE       ┆ df   ┆ lower_CL  ┆ upper_CL  │\n",
       "│ --- ┆ ---       ┆ ---      ┆ ---  ┆ ---       ┆ ---       │\n",
       "│ cat ┆ f64       ┆ f64      ┆ f64  ┆ f64       ┆ f64       │\n",
       "╞═════╪═══════════╪══════════╪══════╪═══════════╪═══════════╡\n",
       "│ 4   ┆ -5.647025 ┆ 1.359498 ┆ 26.0 ┆ -9.115782 ┆ -2.178268 │\n",
       "│ 6   ┆ -2.780106 ┆ 2.805265 ┆ 26.0 ┆ -9.937736 ┆ 4.377524  │\n",
       "│ 8   ┆ -2.192438 ┆ 0.894285 ┆ 26.0 ┆ -4.474204 ┆ 0.089329  │\n",
       "└─────┴───────────┴──────────┴──────┴───────────┴───────────┘"
      ]
     },
     "execution_count": 62,
     "metadata": {},
     "output_type": "execute_result"
    }
   ],
   "source": [
    "model.emmeans('wt', by='cyl')"
   ]
  },
  {
   "cell_type": "markdown",
   "metadata": {},
   "source": [
    "We can use the `at` argument to the reverse: explore the means for each level of $cyl$ at a  *specific* valued of $wt$"
   ]
  },
  {
   "cell_type": "code",
   "execution_count": 76,
   "metadata": {},
   "outputs": [
    {
     "data": {
      "text/html": [
       "<div><style>\n",
       ".dataframe > thead > tr,\n",
       ".dataframe > tbody > tr {\n",
       "  text-align: right;\n",
       "  white-space: pre-wrap;\n",
       "}\n",
       "</style>\n",
       "<small>shape: (3, 6)</small><table border=\"1\" class=\"dataframe\"><thead><tr><th>cyl</th><th>emmean</th><th>SE</th><th>df</th><th>lower_CL</th><th>upper_CL</th></tr><tr><td>cat</td><td>f64</td><td>f64</td><td>f64</td><td>f64</td><td>f64</td></tr></thead><tbody><tr><td>&quot;4&quot;</td><td>22.63012</td><td>1.219839</td><td>26.0</td><td>19.517702</td><td>25.742539</td></tr><tr><td>&quot;6&quot;</td><td>20.068527</td><td>0.9821</td><td>26.0</td><td>17.562699</td><td>22.574354</td></tr><tr><td>&quot;8&quot;</td><td>17.290715</td><td>1.10759</td><td>26.0</td><td>14.464702</td><td>20.116729</td></tr></tbody></table></div>"
      ],
      "text/plain": [
       "shape: (3, 6)\n",
       "┌─────┬───────────┬──────────┬──────┬───────────┬───────────┐\n",
       "│ cyl ┆ emmean    ┆ SE       ┆ df   ┆ lower_CL  ┆ upper_CL  │\n",
       "│ --- ┆ ---       ┆ ---      ┆ ---  ┆ ---       ┆ ---       │\n",
       "│ cat ┆ f64       ┆ f64      ┆ f64  ┆ f64       ┆ f64       │\n",
       "╞═════╪═══════════╪══════════╪══════╪═══════════╪═══════════╡\n",
       "│ 4   ┆ 22.63012  ┆ 1.219839 ┆ 26.0 ┆ 19.517702 ┆ 25.742539 │\n",
       "│ 6   ┆ 20.068527 ┆ 0.9821   ┆ 26.0 ┆ 17.562699 ┆ 22.574354 │\n",
       "│ 8   ┆ 17.290715 ┆ 1.10759  ┆ 26.0 ┆ 14.464702 ┆ 20.116729 │\n",
       "└─────┴───────────┴──────────┴──────┴───────────┴───────────┘"
      ]
     },
     "execution_count": 76,
     "metadata": {},
     "output_type": "execute_result"
    }
   ],
   "source": [
    "model.emmeans('cyl', at={'wt': 3})"
   ]
  },
  {
   "cell_type": "markdown",
   "metadata": {},
   "source": [
    "Using the `contrasts` argument, we can test specific comparisons between levels of a predictor.   \n",
    "For example, we can test the same hypothesis represented by $cyl.L$ above, the *linear* trend from our `contr.poly` contrast, by running a contrast across the marginal means of $cyl$ while $wt$ is held constant\n",
    "\n",
    "Note that using `contrasts` argument in `.emmeans()` is *separate* from any contrasts specified by `.set_contrasts()`.  \n",
    "Using `.set_contrasts()` changes *parameter estimates*, where using `.emmeans()` compares *marginal predictions* from the model, making it a more general-purpose approach for asking specific questions."
   ]
  },
  {
   "cell_type": "code",
   "execution_count": 30,
   "metadata": {},
   "outputs": [
    {
     "data": {
      "text/html": [
       "<div><style>\n",
       ".dataframe > thead > tr,\n",
       ".dataframe > tbody > tr {\n",
       "  text-align: right;\n",
       "  white-space: pre-wrap;\n",
       "}\n",
       "</style>\n",
       "<small>shape: (1, 8)</small><table border=\"1\" class=\"dataframe\"><thead><tr><th>contrast</th><th>estimate</th><th>SE</th><th>df</th><th>lower_CL</th><th>upper_CL</th><th>t_ratio</th><th>p_value</th></tr><tr><td>str</td><td>f64</td><td>f64</td><td>f64</td><td>f64</td><td>f64</td><td>f64</td><td>f64</td></tr></thead><tbody><tr><td>&quot;linear&quot;</td><td>-4.588896</td><td>1.751036</td><td>26.0</td><td>-8.188202</td><td>-0.98959</td><td>-2.620675</td><td>0.014464</td></tr></tbody></table></div>"
      ],
      "text/plain": [
       "shape: (1, 8)\n",
       "┌──────────┬───────────┬──────────┬──────┬───────────┬──────────┬───────────┬──────────┐\n",
       "│ contrast ┆ estimate  ┆ SE       ┆ df   ┆ lower_CL  ┆ upper_CL ┆ t_ratio   ┆ p_value  │\n",
       "│ ---      ┆ ---       ┆ ---      ┆ ---  ┆ ---       ┆ ---      ┆ ---       ┆ ---      │\n",
       "│ str      ┆ f64       ┆ f64      ┆ f64  ┆ f64       ┆ f64      ┆ f64       ┆ f64      │\n",
       "╞══════════╪═══════════╪══════════╪══════╪═══════════╪══════════╪═══════════╪══════════╡\n",
       "│ linear   ┆ -4.588896 ┆ 1.751036 ┆ 26.0 ┆ -8.188202 ┆ -0.98959 ┆ -2.620675 ┆ 0.014464 │\n",
       "└──────────┴───────────┴──────────┴──────┴───────────┴──────────┴───────────┴──────────┘"
      ]
     },
     "execution_count": 30,
     "metadata": {},
     "output_type": "execute_result"
    }
   ],
   "source": [
    "# linear contrast across factor levels\n",
    "# (-1 * 4) + (0 * 6) + (1 * 8)\n",
    "model.emmeans('cyl', contrasts={'linear':[-1, 0, 1]})"
   ]
  },
  {
   "cell_type": "markdown",
   "metadata": {},
   "source": [
    "`.emmeans()` also supports `normalize`, which allows us to scale the estimate to more more closesly with $cyl.L$. This is often recommended when you're primarily interested in polynomial slopes across factor levels and *does not* affect the inference test (t-statistic).\n"
   ]
  },
  {
   "cell_type": "code",
   "execution_count": 39,
   "metadata": {},
   "outputs": [
    {
     "data": {
      "text/html": [
       "<div><style>\n",
       ".dataframe > thead > tr,\n",
       ".dataframe > tbody > tr {\n",
       "  text-align: right;\n",
       "  white-space: pre-wrap;\n",
       "}\n",
       "</style>\n",
       "<small>shape: (1, 8)</small><table border=\"1\" class=\"dataframe\"><thead><tr><th>contrast</th><th>estimate</th><th>SE</th><th>df</th><th>lower_CL</th><th>upper_CL</th><th>t_ratio</th><th>p_value</th></tr><tr><td>str</td><td>f64</td><td>f64</td><td>f64</td><td>f64</td><td>f64</td><td>f64</td><td>f64</td></tr></thead><tbody><tr><td>&quot;linear&quot;</td><td>-3.244839</td><td>1.238169</td><td>26.0</td><td>-5.789933</td><td>-0.699746</td><td>-2.620675</td><td>0.014464</td></tr></tbody></table></div>"
      ],
      "text/plain": [
       "shape: (1, 8)\n",
       "┌──────────┬───────────┬──────────┬──────┬───────────┬───────────┬───────────┬──────────┐\n",
       "│ contrast ┆ estimate  ┆ SE       ┆ df   ┆ lower_CL  ┆ upper_CL  ┆ t_ratio   ┆ p_value  │\n",
       "│ ---      ┆ ---       ┆ ---      ┆ ---  ┆ ---       ┆ ---       ┆ ---       ┆ ---      │\n",
       "│ str      ┆ f64       ┆ f64      ┆ f64  ┆ f64       ┆ f64       ┆ f64       ┆ f64      │\n",
       "╞══════════╪═══════════╪══════════╪══════╪═══════════╪═══════════╪═══════════╪══════════╡\n",
       "│ linear   ┆ -3.244839 ┆ 1.238169 ┆ 26.0 ┆ -5.789933 ┆ -0.699746 ┆ -2.620675 ┆ 0.014464 │\n",
       "└──────────┴───────────┴──────────┴──────┴───────────┴───────────┴───────────┴──────────┘"
      ]
     },
     "execution_count": 39,
     "metadata": {},
     "output_type": "execute_result"
    }
   ],
   "source": [
    "model.emmeans('cyl', contrasts={'linear':[-1, 0, 1]}, normalize=True)"
   ]
  },
  {
   "cell_type": "markdown",
   "metadata": {},
   "source": [
    "While you should primarily perform *hypothesis-driven* analyses, you can also you can also perform exhaustive pairwise comparisons between factor levels with multiple-comparisons correction.\n",
    "\n",
    "This allows us to unpack the interaction term by looking at slope differences for $wt$ between each pair of levels of $cyl$"
   ]
  },
  {
   "cell_type": "code",
   "execution_count": 32,
   "metadata": {},
   "outputs": [
    {
     "data": {
      "text/html": [
       "<div><style>\n",
       ".dataframe > thead > tr,\n",
       ".dataframe > tbody > tr {\n",
       "  text-align: right;\n",
       "  white-space: pre-wrap;\n",
       "}\n",
       "</style>\n",
       "<small>shape: (3, 8)</small><table border=\"1\" class=\"dataframe\"><thead><tr><th>contrast</th><th>estimate</th><th>SE</th><th>df</th><th>lower_CL</th><th>upper_CL</th><th>t_ratio</th><th>p_value</th></tr><tr><td>str</td><td>f64</td><td>f64</td><td>f64</td><td>f64</td><td>f64</td><td>f64</td><td>f64</td></tr></thead><tbody><tr><td>&quot;cyl4 - cyl6&quot;</td><td>-2.866919</td><td>3.11733</td><td>26.0</td><td>-10.820782</td><td>5.086944</td><td>-0.919672</td><td>0.745399</td></tr><tr><td>&quot;cyl4 - cyl8&quot;</td><td>-3.454587</td><td>1.627261</td><td>26.0</td><td>-7.606543</td><td>0.697368</td><td>-2.122946</td><td>0.124742</td></tr><tr><td>&quot;cyl6 - cyl8&quot;</td><td>-0.587668</td><td>2.94436</td><td>26.0</td><td>-8.100199</td><td>6.924863</td><td>-0.199591</td><td>0.996156</td></tr></tbody></table></div>"
      ],
      "text/plain": [
       "shape: (3, 8)\n",
       "┌─────────────┬───────────┬──────────┬──────┬────────────┬──────────┬───────────┬──────────┐\n",
       "│ contrast    ┆ estimate  ┆ SE       ┆ df   ┆ lower_CL   ┆ upper_CL ┆ t_ratio   ┆ p_value  │\n",
       "│ ---         ┆ ---       ┆ ---      ┆ ---  ┆ ---        ┆ ---      ┆ ---       ┆ ---      │\n",
       "│ str         ┆ f64       ┆ f64      ┆ f64  ┆ f64        ┆ f64      ┆ f64       ┆ f64      │\n",
       "╞═════════════╪═══════════╪══════════╪══════╪════════════╪══════════╪═══════════╪══════════╡\n",
       "│ cyl4 - cyl6 ┆ -2.866919 ┆ 3.11733  ┆ 26.0 ┆ -10.820782 ┆ 5.086944 ┆ -0.919672 ┆ 0.745399 │\n",
       "│ cyl4 - cyl8 ┆ -3.454587 ┆ 1.627261 ┆ 26.0 ┆ -7.606543  ┆ 0.697368 ┆ -2.122946 ┆ 0.124742 │\n",
       "│ cyl6 - cyl8 ┆ -0.587668 ┆ 2.94436  ┆ 26.0 ┆ -8.100199  ┆ 6.924863 ┆ -0.199591 ┆ 0.996156 │\n",
       "└─────────────┴───────────┴──────────┴──────┴────────────┴──────────┴───────────┴──────────┘"
      ]
     },
     "execution_count": 32,
     "metadata": {},
     "output_type": "execute_result"
    }
   ],
   "source": [
    "model.emmeans('wt', by='cyl', contrasts='pairwise', p_adjust='sidak')"
   ]
  },
  {
   "cell_type": "markdown",
   "metadata": {},
   "source": [
    "## Multi-level models\n",
    "\n",
    "Working with multi-level/mixed-effects models is just as easy using `lmer` or `glmer` classes. We can also use the `compare()` function to explore whether more complicate random-effects structures are worth it.\n",
    "\n",
    "Below we compare a model with random intercepts only to a model with random intercepts, slopes, and their correlation. These additional parameters suggest a meaningful improvement in model fit."
   ]
  },
  {
   "cell_type": "code",
   "execution_count": 33,
   "metadata": {},
   "outputs": [
    {
     "data": {
      "text/html": [
       "<div id=\"xzoiddbpql\" style=\"padding-left:0px;padding-right:0px;padding-top:10px;padding-bottom:10px;overflow-x:auto;overflow-y:auto;width:auto;height:auto;\">\n",
       "<style>\n",
       "#xzoiddbpql table {\n",
       "          font-family: -apple-system, BlinkMacSystemFont, 'Segoe UI', Roboto, Oxygen, Ubuntu, Cantarell, 'Helvetica Neue', 'Fira Sans', 'Droid Sans', Arial, sans-serif;\n",
       "          -webkit-font-smoothing: antialiased;\n",
       "          -moz-osx-font-smoothing: grayscale;\n",
       "        }\n",
       "\n",
       "#xzoiddbpql thead, tbody, tfoot, tr, td, th { border-style: none !important; }\n",
       " tr { background-color: transparent !important; }\n",
       "#xzoiddbpql p { margin: 0 !important; padding: 0 !important; }\n",
       " #xzoiddbpql .gt_table { display: table !important; border-collapse: collapse !important; line-height: normal !important; margin-left: auto !important; margin-right: auto !important; color: #333333 !important; font-size: 16px !important; font-weight: normal !important; font-style: normal !important; background-color: #FFFFFF !important; width: auto !important; border-top-style: solid !important; border-top-width: 2px !important; border-top-color: #A8A8A8 !important; border-right-style: none !important; border-right-width: 2px !important; border-right-color: #D3D3D3 !important; border-bottom-style: solid !important; border-bottom-width: 2px !important; border-bottom-color: #A8A8A8 !important; border-left-style: none !important; border-left-width: 2px !important; border-left-color: #D3D3D3 !important; }\n",
       " #xzoiddbpql .gt_caption { padding-top: 4px !important; padding-bottom: 4px !important; }\n",
       " #xzoiddbpql .gt_title { color: #333333 !important; font-size: 125% !important; font-weight: initial !important; padding-top: 4px !important; padding-bottom: 4px !important; padding-left: 5px !important; padding-right: 5px !important; border-bottom-color: #FFFFFF !important; border-bottom-width: 0 !important; }\n",
       " #xzoiddbpql .gt_subtitle { color: #333333 !important; font-size: 85% !important; font-weight: initial !important; padding-top: 3px !important; padding-bottom: 5px !important; padding-left: 5px !important; padding-right: 5px !important; border-top-color: #FFFFFF !important; border-top-width: 0 !important; }\n",
       " #xzoiddbpql .gt_heading { background-color: #FFFFFF !important; text-align: left !important; border-bottom-color: #FFFFFF !important; border-left-style: none !important; border-left-width: 1px !important; border-left-color: #D3D3D3 !important; border-right-style: none !important; border-right-width: 1px !important; border-right-color: #D3D3D3 !important; }\n",
       " #xzoiddbpql .gt_bottom_border { border-bottom-style: solid !important; border-bottom-width: 2px !important; border-bottom-color: #D3D3D3 !important; }\n",
       " #xzoiddbpql .gt_col_headings { border-top-style: solid !important; border-top-width: 2px !important; border-top-color: #D3D3D3 !important; border-bottom-style: solid !important; border-bottom-width: 2px !important; border-bottom-color: #D3D3D3 !important; border-left-style: none !important; border-left-width: 1px !important; border-left-color: #D3D3D3 !important; border-right-style: none !important; border-right-width: 1px !important; border-right-color: #D3D3D3 !important; }\n",
       " #xzoiddbpql .gt_col_heading { color: #333333 !important; background-color: #FFFFFF !important; font-size: 100% !important; font-weight: normal !important; text-transform: inherit !important; border-left-style: none !important; border-left-width: 1px !important; border-left-color: #D3D3D3 !important; border-right-style: none !important; border-right-width: 1px !important; border-right-color: #D3D3D3 !important; vertical-align: bottom !important; padding-top: 5px !important; padding-bottom: 5px !important; padding-left: 5px !important; padding-right: 5px !important; overflow-x: hidden !important; }\n",
       " #xzoiddbpql .gt_column_spanner_outer { color: #333333 !important; background-color: #FFFFFF !important; font-size: 100% !important; font-weight: normal !important; text-transform: inherit !important; padding-top: 0 !important; padding-bottom: 0 !important; padding-left: 4px !important; padding-right: 4px !important; }\n",
       " #xzoiddbpql .gt_column_spanner_outer:first-child { padding-left: 0 !important; }\n",
       " #xzoiddbpql .gt_column_spanner_outer:last-child { padding-right: 0 !important; }\n",
       " #xzoiddbpql .gt_column_spanner { border-bottom-style: solid !important; border-bottom-width: 2px !important; border-bottom-color: #D3D3D3 !important; vertical-align: bottom !important; padding-top: 5px !important; padding-bottom: 5px !important; overflow-x: hidden !important; display: inline-block !important; width: 100% !important; }\n",
       " #xzoiddbpql .gt_spanner_row { border-bottom-style: hidden !important; }\n",
       " #xzoiddbpql .gt_group_heading { padding-top: 8px !important; padding-bottom: 8px !important; padding-left: 5px !important; padding-right: 5px !important; color: #333333 !important; background-color: #FFFFFF !important; font-size: 100% !important; font-weight: initial !important; text-transform: inherit !important; border-top-style: solid !important; border-top-width: 2px !important; border-top-color: #D3D3D3 !important; border-bottom-style: solid !important; border-bottom-width: 2px !important; border-bottom-color: #D3D3D3 !important; border-left-style: none !important; border-left-width: 1px !important; border-left-color: #D3D3D3 !important; border-right-style: none !important; border-right-width: 1px !important; border-right-color: #D3D3D3 !important; vertical-align: middle !important; text-align: left !important; }\n",
       " #xzoiddbpql .gt_empty_group_heading { padding: 0.5px !important; color: #333333 !important; background-color: #FFFFFF !important; font-size: 100% !important; font-weight: initial !important; border-top-style: solid !important; border-top-width: 2px !important; border-top-color: #D3D3D3 !important; border-bottom-style: solid !important; border-bottom-width: 2px !important; border-bottom-color: #D3D3D3 !important; vertical-align: middle !important; }\n",
       " #xzoiddbpql .gt_from_md> :first-child { margin-top: 0 !important; }\n",
       " #xzoiddbpql .gt_from_md> :last-child { margin-bottom: 0 !important; }\n",
       " #xzoiddbpql .gt_row { padding-top: 8px !important; padding-bottom: 8px !important; padding-left: 5px !important; padding-right: 5px !important; margin: 10px !important; border-top-style: solid !important; border-top-width: 1px !important; border-top-color: #D3D3D3 !important; border-left-style: none !important; border-left-width: 1px !important; border-left-color: #D3D3D3 !important; border-right-style: none !important; border-right-width: 1px !important; border-right-color: #D3D3D3 !important; vertical-align: middle !important; overflow-x: hidden !important; }\n",
       " #xzoiddbpql .gt_stub { color: #333333 !important; background-color: #FFFFFF !important; font-size: 100% !important; font-weight: initial !important; text-transform: inherit !important; border-right-style: solid !important; border-right-width: 2px !important; border-right-color: #D3D3D3 !important; padding-left: 5px !important; padding-right: 5px !important; }\n",
       " #xzoiddbpql .gt_stub_row_group { color: #333333 !important; background-color: #FFFFFF !important; font-size: 100% !important; font-weight: initial !important; text-transform: inherit !important; border-right-style: solid !important; border-right-width: 2px !important; border-right-color: #D3D3D3 !important; padding-left: 5px !important; padding-right: 5px !important; vertical-align: top !important; }\n",
       " #xzoiddbpql .gt_row_group_first td { border-top-width: 2px !important; }\n",
       " #xzoiddbpql .gt_row_group_first th { border-top-width: 2px !important; }\n",
       " #xzoiddbpql .gt_striped { background-color: rgba(128,128,128,0.05) !important; }\n",
       " #xzoiddbpql .gt_table_body { border-top-style: solid !important; border-top-width: 2px !important; border-top-color: #D3D3D3 !important; border-bottom-style: solid !important; border-bottom-width: 2px !important; border-bottom-color: #D3D3D3 !important; }\n",
       " #xzoiddbpql .gt_sourcenotes { color: #333333 !important; background-color: #FFFFFF !important; border-bottom-style: none !important; border-bottom-width: 2px !important; border-bottom-color: #D3D3D3 !important; border-left-style: none !important; border-left-width: 2px !important; border-left-color: #D3D3D3 !important; border-right-style: none !important; border-right-width: 2px !important; border-right-color: #D3D3D3 !important; }\n",
       " #xzoiddbpql .gt_sourcenote { font-size: small !important; padding-top: 4px !important; padding-bottom: 4px !important; padding-left: 5px !important; padding-right: 5px !important; text-align: left !important; }\n",
       " #xzoiddbpql .gt_left { text-align: left !important; }\n",
       " #xzoiddbpql .gt_center { text-align: center !important; }\n",
       " #xzoiddbpql .gt_right { text-align: right !important; font-variant-numeric: tabular-nums !important; }\n",
       " #xzoiddbpql .gt_font_normal { font-weight: normal !important; }\n",
       " #xzoiddbpql .gt_font_bold { font-weight: bold !important; }\n",
       " #xzoiddbpql .gt_font_italic { font-style: italic !important; }\n",
       " #xzoiddbpql .gt_super { font-size: 65% !important; }\n",
       " #xzoiddbpql .gt_footnote_marks { font-size: 75% !important; vertical-align: 0.4em !important; position: initial !important; }\n",
       " #xzoiddbpql .gt_asterisk { font-size: 100% !important; vertical-align: 0 !important; }\n",
       " \n",
       "</style>\n",
       "<table class=\"gt_table\" data-quarto-disable-processing=\"false\" data-quarto-bootstrap=\"false\">\n",
       "<thead>\n",
       "\n",
       "  <tr class=\"gt_heading\">\n",
       "    <td colspan=\"10\" class=\"gt_heading gt_title gt_font_normal\">Analysis of Deviance Table</td>\n",
       "  </tr>\n",
       "  <tr class=\"gt_heading\">\n",
       "    <td colspan=\"10\" class=\"gt_heading gt_subtitle gt_font_normal gt_bottom_border\">Model 1: lmer(Reaction~Days+(1|Subject))<br />\n",
       "Model 2: lmer(Reaction~Days+(Days|Subject))</td>\n",
       "  </tr>\n",
       "<tr class=\"gt_col_headings\">\n",
       "  <th class=\"gt_col_heading gt_columns_bottom_border gt_left\" rowspan=\"1\" colspan=\"1\" scope=\"col\" id=\"\"></th>\n",
       "  <th class=\"gt_col_heading gt_columns_bottom_border gt_right\" rowspan=\"1\" colspan=\"1\" scope=\"col\" id=\"AIC\">AIC</th>\n",
       "  <th class=\"gt_col_heading gt_columns_bottom_border gt_right\" rowspan=\"1\" colspan=\"1\" scope=\"col\" id=\"BIC\">BIC</th>\n",
       "  <th class=\"gt_col_heading gt_columns_bottom_border gt_right\" rowspan=\"1\" colspan=\"1\" scope=\"col\" id=\"logLik\">logLik</th>\n",
       "  <th class=\"gt_col_heading gt_columns_bottom_border gt_right\" rowspan=\"1\" colspan=\"1\" scope=\"col\" id=\"npar\">npar</th>\n",
       "  <th class=\"gt_col_heading gt_columns_bottom_border gt_right\" rowspan=\"1\" colspan=\"1\" scope=\"col\" id=\"-2*log(L)\">-2*log(L)</th>\n",
       "  <th class=\"gt_col_heading gt_columns_bottom_border gt_right\" rowspan=\"1\" colspan=\"1\" scope=\"col\" id=\"Chisq\">Chisq</th>\n",
       "  <th class=\"gt_col_heading gt_columns_bottom_border gt_right\" rowspan=\"1\" colspan=\"1\" scope=\"col\" id=\"Df\">Df</th>\n",
       "  <th class=\"gt_col_heading gt_columns_bottom_border gt_left\" rowspan=\"1\" colspan=\"1\" scope=\"col\" id=\"Pr(&amp;gt;Chisq)\">Pr(&gt;Chisq)</th>\n",
       "  <th class=\"gt_col_heading gt_columns_bottom_border gt_left\" rowspan=\"1\" colspan=\"1\" scope=\"col\" id=\"\"></th>\n",
       "</tr>\n",
       "</thead>\n",
       "<tbody class=\"gt_table_body\">\n",
       "  <tr>\n",
       "    <th class=\"gt_row gt_left gt_stub\">1.00</th>\n",
       "    <td class=\"gt_row gt_right\">1794.5</td>\n",
       "    <td class=\"gt_row gt_right\">1807.2</td>\n",
       "    <td class=\"gt_row gt_right\">−893.2</td>\n",
       "    <td class=\"gt_row gt_right\">4.00</td>\n",
       "    <td class=\"gt_row gt_right\">1.79K</td>\n",
       "    <td class=\"gt_row gt_right\"></td>\n",
       "    <td class=\"gt_row gt_right\"></td>\n",
       "    <td class=\"gt_row gt_left\"></td>\n",
       "    <td class=\"gt_row gt_left\"></td>\n",
       "  </tr>\n",
       "  <tr>\n",
       "    <th class=\"gt_row gt_left gt_stub\">2.00</th>\n",
       "    <td class=\"gt_row gt_right\">1755.6</td>\n",
       "    <td class=\"gt_row gt_right\">1774.8</td>\n",
       "    <td class=\"gt_row gt_right\">−871.8</td>\n",
       "    <td class=\"gt_row gt_right\">6.00</td>\n",
       "    <td class=\"gt_row gt_right\">1.75K</td>\n",
       "    <td class=\"gt_row gt_right\">42.14</td>\n",
       "    <td class=\"gt_row gt_right\">2.00</td>\n",
       "    <td class=\"gt_row gt_left\"><.001</td>\n",
       "    <td class=\"gt_row gt_left\">***</td>\n",
       "  </tr>\n",
       "</tbody>\n",
       "  <tfoot class=\"gt_sourcenotes\">\n",
       "  \n",
       "  <tr>\n",
       "    <td class=\"gt_sourcenote\" colspan=\"10\">Signif. codes: <em>0 *** 0.001 ** 0.01 * 0.05 . 0.1</em></td>\n",
       "  </tr>\n",
       "\n",
       "</tfoot>\n",
       "\n",
       "</table>\n",
       "\n",
       "</div>\n",
       "        "
      ],
      "text/plain": [
       "GT(_tbl_data=shape: (2, 10)\n",
       "┌─────────────┬─────────────┬─────────────┬──────┬───┬─────┬────────────┬───────┬─────┐\n",
       "│ AIC         ┆ BIC         ┆ logLik      ┆ npar ┆ … ┆ Df  ┆ Pr(>Chisq) ┆ stars ┆ ids │\n",
       "│ ---         ┆ ---         ┆ ---         ┆ ---  ┆   ┆ --- ┆ ---        ┆ ---   ┆ --- │\n",
       "│ f64         ┆ f64         ┆ f64         ┆ i64  ┆   ┆ f64 ┆ str        ┆ str   ┆ i64 │\n",
       "╞═════════════╪═════════════╪═════════════╪══════╪═══╪═════╪════════════╪═══════╪═════╡\n",
       "│ 1794.465085 ┆ 1807.236913 ┆ -893.232543 ┆ 4    ┆ … ┆ 0.0 ┆            ┆       ┆ 1   │\n",
       "│ 1755.628272 ┆ 1774.786013 ┆ -871.814136 ┆ 6    ┆ … ┆ 2.0 ┆ <.001      ┆ ***   ┆ 2   │\n",
       "└─────────────┴─────────────┴─────────────┴──────┴───┴─────┴────────────┴───────┴─────┘, _body=<great_tables._gt_data.Body object at 0x31fe50620>, _boxhead=Boxhead([ColInfo(var='ids', type=<ColInfoTypeEnum.stub: 2>, column_label='', column_align='right', column_width=None), ColInfo(var='AIC', type=<ColInfoTypeEnum.default: 1>, column_label='AIC', column_align='right', column_width=None), ColInfo(var='BIC', type=<ColInfoTypeEnum.default: 1>, column_label='BIC', column_align='right', column_width=None), ColInfo(var='logLik', type=<ColInfoTypeEnum.default: 1>, column_label='logLik', column_align='right', column_width=None), ColInfo(var='npar', type=<ColInfoTypeEnum.default: 1>, column_label='npar', column_align='right', column_width=None), ColInfo(var='-2*log(L)', type=<ColInfoTypeEnum.default: 1>, column_label='-2*log(L)', column_align='right', column_width=None), ColInfo(var='Chisq', type=<ColInfoTypeEnum.default: 1>, column_label='Chisq', column_align='right', column_width=None), ColInfo(var='Df', type=<ColInfoTypeEnum.default: 1>, column_label='Df', column_align='right', column_width=None), ColInfo(var='Pr(>Chisq)', type=<ColInfoTypeEnum.default: 1>, column_label='Pr(>Chisq)', column_align='left', column_width=None), ColInfo(var='stars', type=<ColInfoTypeEnum.default: 1>, column_label='', column_align='left', column_width=None)]), _stub=<great_tables._gt_data.Stub object at 0x31fdfc3e0>, _spanners=Spanners([]), _heading=Heading(title='Analysis of Deviance Table', subtitle=Md(text='Model 1: lmer(Reaction~Days+(1|Subject))   \\nModel 2: lmer(Reaction~Days+(Days|Subject))   \\n'), preheader=None), _stubhead=None, _source_notes=[Md(text='Signif. codes: *0 *** 0.001 ** 0.01 * 0.05 . 0.1*')], _footnotes=[], _styles=[], _locale=<great_tables._gt_data.Locale object at 0x31fe53ce0>, _formats=[<great_tables._gt_data.FormatInfo object at 0x31fd09f70>, <great_tables._gt_data.FormatInfo object at 0x31fe51a00>], _substitutions=[<great_tables._gt_data.FormatInfo object at 0x31fdfde20>], _options=Options(table_id=OptionsInfo(scss=False, category='table', type='value', value=None), table_caption=OptionsInfo(scss=False, category='table', type='value', value=None), table_width=OptionsInfo(scss=True, category='table', type='px', value='auto'), table_layout=OptionsInfo(scss=True, category='table', type='value', value='fixed'), table_margin_left=OptionsInfo(scss=True, category='table', type='px', value='auto'), table_margin_right=OptionsInfo(scss=True, category='table', type='px', value='auto'), table_background_color=OptionsInfo(scss=True, category='table', type='value', value='#FFFFFF'), table_additional_css=OptionsInfo(scss=False, category='table', type='values', value=[]), table_font_names=OptionsInfo(scss=False, category='table', type='values', value=['-apple-system', 'BlinkMacSystemFont', 'Segoe UI', 'Roboto', 'Oxygen', 'Ubuntu', 'Cantarell', 'Helvetica Neue', 'Fira Sans', 'Droid Sans', 'Arial', 'sans-serif']), table_font_size=OptionsInfo(scss=True, category='table', type='px', value='16px'), table_font_weight=OptionsInfo(scss=True, category='table', type='value', value='normal'), table_font_style=OptionsInfo(scss=True, category='table', type='value', value='normal'), table_font_color=OptionsInfo(scss=True, category='table', type='value', value='#333333'), table_font_color_light=OptionsInfo(scss=True, category='table', type='value', value='#FFFFFF'), table_border_top_include=OptionsInfo(scss=False, category='table', type='boolean', value=True), table_border_top_style=OptionsInfo(scss=True, category='table', type='value', value='solid'), table_border_top_width=OptionsInfo(scss=True, category='table', type='px', value='2px'), table_border_top_color=OptionsInfo(scss=True, category='table', type='value', value='#A8A8A8'), table_border_right_style=OptionsInfo(scss=True, category='table', type='value', value='none'), table_border_right_width=OptionsInfo(scss=True, category='table', type='px', value='2px'), table_border_right_color=OptionsInfo(scss=True, category='table', type='value', value='#D3D3D3'), table_border_bottom_include=OptionsInfo(scss=False, category='table', type='boolean', value=True), table_border_bottom_style=OptionsInfo(scss=True, category='table', type='value', value='solid'), table_border_bottom_width=OptionsInfo(scss=True, category='table', type='px', value='2px'), table_border_bottom_color=OptionsInfo(scss=True, category='table', type='value', value='#A8A8A8'), table_border_left_style=OptionsInfo(scss=True, category='table', type='value', value='none'), table_border_left_width=OptionsInfo(scss=True, category='table', type='px', value='2px'), table_border_left_color=OptionsInfo(scss=True, category='table', type='value', value='#D3D3D3'), heading_background_color=OptionsInfo(scss=True, category='heading', type='value', value=None), heading_align=OptionsInfo(scss=True, category='heading', type='value', value='left'), heading_title_font_size=OptionsInfo(scss=True, category='heading', type='px', value='125%'), heading_title_font_weight=OptionsInfo(scss=True, category='heading', type='value', value='initial'), heading_subtitle_font_size=OptionsInfo(scss=True, category='heading', type='px', value='85%'), heading_subtitle_font_weight=OptionsInfo(scss=True, category='heading', type='value', value='initial'), heading_padding=OptionsInfo(scss=True, category='heading', type='px', value='4px'), heading_padding_horizontal=OptionsInfo(scss=True, category='heading', type='px', value='5px'), heading_border_bottom_style=OptionsInfo(scss=True, category='heading', type='value', value='solid'), heading_border_bottom_width=OptionsInfo(scss=True, category='heading', type='px', value='2px'), heading_border_bottom_color=OptionsInfo(scss=True, category='heading', type='value', value='#D3D3D3'), heading_border_lr_style=OptionsInfo(scss=True, category='heading', type='value', value='none'), heading_border_lr_width=OptionsInfo(scss=True, category='heading', type='px', value='1px'), heading_border_lr_color=OptionsInfo(scss=True, category='heading', type='value', value='#D3D3D3'), column_labels_background_color=OptionsInfo(scss=True, category='column_labels', type='value', value=None), column_labels_font_size=OptionsInfo(scss=True, category='column_labels', type='px', value='100%'), column_labels_font_weight=OptionsInfo(scss=True, category='column_labels', type='value', value='normal'), column_labels_text_transform=OptionsInfo(scss=True, category='column_labels', type='value', value='inherit'), column_labels_padding=OptionsInfo(scss=True, category='column_labels', type='px', value='5px'), column_labels_padding_horizontal=OptionsInfo(scss=True, category='column_labels', type='px', value='5px'), column_labels_vlines_style=OptionsInfo(scss=True, category='table_body', type='value', value='none'), column_labels_vlines_width=OptionsInfo(scss=True, category='table_body', type='px', value='1px'), column_labels_vlines_color=OptionsInfo(scss=True, category='table_body', type='value', value='#D3D3D3'), column_labels_border_top_style=OptionsInfo(scss=True, category='column_labels', type='value', value='solid'), column_labels_border_top_width=OptionsInfo(scss=True, category='column_labels', type='px', value='2px'), column_labels_border_top_color=OptionsInfo(scss=True, category='column_labels', type='value', value='#D3D3D3'), column_labels_border_bottom_style=OptionsInfo(scss=True, category='column_labels', type='value', value='solid'), column_labels_border_bottom_width=OptionsInfo(scss=True, category='column_labels', type='px', value='2px'), column_labels_border_bottom_color=OptionsInfo(scss=True, category='column_labels', type='value', value='#D3D3D3'), column_labels_border_lr_style=OptionsInfo(scss=True, category='column_labels', type='value', value='none'), column_labels_border_lr_width=OptionsInfo(scss=True, category='column_labels', type='px', value='1px'), column_labels_border_lr_color=OptionsInfo(scss=True, category='column_labels', type='value', value='#D3D3D3'), column_labels_hidden=OptionsInfo(scss=False, category='column_labels', type='boolean', value=False), row_group_background_color=OptionsInfo(scss=True, category='row_group', type='value', value=None), row_group_font_size=OptionsInfo(scss=True, category='row_group', type='px', value='100%'), row_group_font_weight=OptionsInfo(scss=True, category='row_group', type='value', value='initial'), row_group_text_transform=OptionsInfo(scss=True, category='row_group', type='value', value='inherit'), row_group_padding=OptionsInfo(scss=True, category='row_group', type='px', value='8px'), row_group_padding_horizontal=OptionsInfo(scss=True, category='row_group', type='px', value='5px'), row_group_border_top_style=OptionsInfo(scss=True, category='row_group', type='value', value='solid'), row_group_border_top_width=OptionsInfo(scss=True, category='row_group', type='px', value='2px'), row_group_border_top_color=OptionsInfo(scss=True, category='row_group', type='value', value='#D3D3D3'), row_group_border_right_style=OptionsInfo(scss=True, category='row_group', type='value', value='none'), row_group_border_right_width=OptionsInfo(scss=True, category='row_group', type='px', value='1px'), row_group_border_right_color=OptionsInfo(scss=True, category='row_group', type='value', value='#D3D3D3'), row_group_border_bottom_style=OptionsInfo(scss=True, category='row_group', type='value', value='solid'), row_group_border_bottom_width=OptionsInfo(scss=True, category='row_group', type='px', value='2px'), row_group_border_bottom_color=OptionsInfo(scss=True, category='row_group', type='value', value='#D3D3D3'), row_group_border_left_style=OptionsInfo(scss=True, category='row_group', type='value', value='none'), row_group_border_left_width=OptionsInfo(scss=True, category='row_group', type='px', value='1px'), row_group_border_left_color=OptionsInfo(scss=True, category='row_group', type='value', value='#D3D3D3'), row_group_as_column=OptionsInfo(scss=False, category='row_group', type='boolean', value=False), table_body_hlines_style=OptionsInfo(scss=True, category='table_body', type='value', value='solid'), table_body_hlines_width=OptionsInfo(scss=True, category='table_body', type='px', value='1px'), table_body_hlines_color=OptionsInfo(scss=True, category='table_body', type='value', value='#D3D3D3'), table_body_vlines_style=OptionsInfo(scss=True, category='table_body', type='value', value='none'), table_body_vlines_width=OptionsInfo(scss=True, category='table_body', type='px', value='1px'), table_body_vlines_color=OptionsInfo(scss=True, category='table_body', type='value', value='#D3D3D3'), table_body_border_top_style=OptionsInfo(scss=True, category='table_body', type='value', value='solid'), table_body_border_top_width=OptionsInfo(scss=True, category='table_body', type='px', value='2px'), table_body_border_top_color=OptionsInfo(scss=True, category='table_body', type='value', value='#D3D3D3'), table_body_border_bottom_style=OptionsInfo(scss=True, category='table_body', type='value', value='solid'), table_body_border_bottom_width=OptionsInfo(scss=True, category='table_body', type='px', value='2px'), table_body_border_bottom_color=OptionsInfo(scss=True, category='table_body', type='value', value='#D3D3D3'), data_row_padding=OptionsInfo(scss=True, category='data_row', type='px', value='8px'), data_row_padding_horizontal=OptionsInfo(scss=True, category='data_row', type='px', value='5px'), stub_background_color=OptionsInfo(scss=True, category='stub', type='value', value=None), stub_font_size=OptionsInfo(scss=True, category='stub', type='px', value='100%'), stub_font_weight=OptionsInfo(scss=True, category='stub', type='value', value='initial'), stub_text_transform=OptionsInfo(scss=True, category='stub', type='value', value='inherit'), stub_border_style=OptionsInfo(scss=True, category='stub', type='value', value='solid'), stub_border_width=OptionsInfo(scss=True, category='stub', type='px', value='2px'), stub_border_color=OptionsInfo(scss=True, category='stub', type='value', value='#D3D3D3'), stub_row_group_background_color=OptionsInfo(scss=True, category='stub', type='value', value=None), stub_row_group_font_size=OptionsInfo(scss=True, category='stub', type='px', value='100%'), stub_row_group_font_weight=OptionsInfo(scss=True, category='stub', type='value', value='initial'), stub_row_group_text_transform=OptionsInfo(scss=True, category='stub', type='value', value='inherit'), stub_row_group_border_style=OptionsInfo(scss=True, category='stub', type='value', value='solid'), stub_row_group_border_width=OptionsInfo(scss=True, category='stub', type='px', value='2px'), stub_row_group_border_color=OptionsInfo(scss=True, category='stub', type='value', value='#D3D3D3'), source_notes_padding=OptionsInfo(scss=True, category='source_notes', type='px', value='4px'), source_notes_padding_horizontal=OptionsInfo(scss=True, category='source_notes', type='px', value='5px'), source_notes_background_color=OptionsInfo(scss=True, category='source_notes', type='value', value=None), source_notes_font_size=OptionsInfo(scss=True, category='source_notes', type='px', value='small'), source_notes_border_bottom_style=OptionsInfo(scss=True, category='source_notes', type='value', value='none'), source_notes_border_bottom_width=OptionsInfo(scss=True, category='source_notes', type='px', value='2px'), source_notes_border_bottom_color=OptionsInfo(scss=True, category='source_notes', type='value', value='#D3D3D3'), source_notes_border_lr_style=OptionsInfo(scss=True, category='source_notes', type='value', value='none'), source_notes_border_lr_width=OptionsInfo(scss=True, category='source_notes', type='px', value='2px'), source_notes_border_lr_color=OptionsInfo(scss=True, category='source_notes', type='value', value='#D3D3D3'), source_notes_multiline=OptionsInfo(scss=False, category='source_notes', type='boolean', value=True), source_notes_sep=OptionsInfo(scss=False, category='source_notes', type='value', value=' '), row_striping_background_color=OptionsInfo(scss=True, category='row', type='value', value='rgba(128,128,128,0.05)'), row_striping_include_stub=OptionsInfo(scss=False, category='row', type='boolean', value=False), row_striping_include_table_body=OptionsInfo(scss=False, category='row', type='boolean', value=False), container_width=OptionsInfo(scss=False, category='container', type='px', value='auto'), container_height=OptionsInfo(scss=False, category='container', type='px', value='auto'), container_padding_x=OptionsInfo(scss=False, category='container', type='px', value='0px'), container_padding_y=OptionsInfo(scss=False, category='container', type='px', value='10px'), container_overflow_x=OptionsInfo(scss=False, category='container', type='overflow', value='auto'), container_overflow_y=OptionsInfo(scss=False, category='container', type='overflow', value='auto'), quarto_disable_processing=OptionsInfo(scss=False, category='quarto', type='logical', value=False), quarto_use_bootstrap=OptionsInfo(scss=False, category='quarto', type='logical', value=False)), _has_built=False)"
      ]
     },
     "execution_count": 33,
     "metadata": {},
     "output_type": "execute_result"
    }
   ],
   "source": [
    "from pymer4 import load_dataset\n",
    "from pymer4.models import lmer\n",
    "\n",
    "sleep = load_dataset('sleep')\n",
    "lmm_i = lmer('Reaction ~ Days + (1 | Subject)', data=sleep)\n",
    "lmm_is = lmer('Reaction ~ Days + (Days | Subject)', data=sleep)\n",
    "\n",
    "compare(lmm_i, lmm_is)"
   ]
  },
  {
   "cell_type": "markdown",
   "metadata": {},
   "source": [
    "Multi-level models have the following additional atttributes to make working with random-effects easier:\n",
    "\n",
    "- `.ranef` - cluster level deviances\n",
    "- `.ranef_var` - cluster level variance-covariances\n",
    "- `.fixef` - BLUPs; cluster level coefficients (`.params + .ranef`)"
   ]
  },
  {
   "cell_type": "code",
   "execution_count": 34,
   "metadata": {},
   "outputs": [
    {
     "data": {
      "text/html": [
       "<div><style>\n",
       ".dataframe > thead > tr,\n",
       ".dataframe > tbody > tr {\n",
       "  text-align: right;\n",
       "  white-space: pre-wrap;\n",
       "}\n",
       "</style>\n",
       "<small>shape: (5, 3)</small><table border=\"1\" class=\"dataframe\"><thead><tr><th>level</th><th>(Intercept)</th><th>Days</th></tr><tr><td>str</td><td>f64</td><td>f64</td></tr></thead><tbody><tr><td>&quot;308&quot;</td><td>253.663656</td><td>19.666262</td></tr><tr><td>&quot;309&quot;</td><td>211.006367</td><td>1.847605</td></tr><tr><td>&quot;310&quot;</td><td>212.444696</td><td>5.018429</td></tr><tr><td>&quot;330&quot;</td><td>275.095724</td><td>5.652936</td></tr><tr><td>&quot;331&quot;</td><td>273.665417</td><td>7.397374</td></tr></tbody></table></div>"
      ],
      "text/plain": [
       "shape: (5, 3)\n",
       "┌───────┬─────────────┬───────────┐\n",
       "│ level ┆ (Intercept) ┆ Days      │\n",
       "│ ---   ┆ ---         ┆ ---       │\n",
       "│ str   ┆ f64         ┆ f64       │\n",
       "╞═══════╪═════════════╪═══════════╡\n",
       "│ 308   ┆ 253.663656  ┆ 19.666262 │\n",
       "│ 309   ┆ 211.006367  ┆ 1.847605  │\n",
       "│ 310   ┆ 212.444696  ┆ 5.018429  │\n",
       "│ 330   ┆ 275.095724  ┆ 5.652936  │\n",
       "│ 331   ┆ 273.665417  ┆ 7.397374  │\n",
       "└───────┴─────────────┴───────────┘"
      ]
     },
     "execution_count": 34,
     "metadata": {},
     "output_type": "execute_result"
    }
   ],
   "source": [
    "# Slope and intercept for each Subject\n",
    "lmm_is.fixef.head()"
   ]
  },
  {
   "cell_type": "code",
   "execution_count": 35,
   "metadata": {},
   "outputs": [
    {
     "data": {
      "text/html": [
       "<div><style>\n",
       ".dataframe > thead > tr,\n",
       ".dataframe > tbody > tr {\n",
       "  text-align: right;\n",
       "  white-space: pre-wrap;\n",
       "}\n",
       "</style>\n",
       "<small>shape: (4, 5)</small><table border=\"1\" class=\"dataframe\"><thead><tr><th>group</th><th>term</th><th>estimate</th><th>conf_low</th><th>conf_high</th></tr><tr><td>str</td><td>str</td><td>f64</td><td>f64</td><td>f64</td></tr></thead><tbody><tr><td>&quot;Subject&quot;</td><td>&quot;sd__(Intercept)&quot;</td><td>24.740658</td><td>null</td><td>null</td></tr><tr><td>&quot;Subject&quot;</td><td>&quot;cor__(Intercept).Days&quot;</td><td>0.065551</td><td>null</td><td>null</td></tr><tr><td>&quot;Subject&quot;</td><td>&quot;sd__Days&quot;</td><td>5.922138</td><td>null</td><td>null</td></tr><tr><td>&quot;Residual&quot;</td><td>&quot;sd__Observation&quot;</td><td>25.591796</td><td>null</td><td>null</td></tr></tbody></table></div>"
      ],
      "text/plain": [
       "shape: (4, 5)\n",
       "┌──────────┬───────────────────────┬───────────┬──────────┬───────────┐\n",
       "│ group    ┆ term                  ┆ estimate  ┆ conf_low ┆ conf_high │\n",
       "│ ---      ┆ ---                   ┆ ---       ┆ ---      ┆ ---       │\n",
       "│ str      ┆ str                   ┆ f64       ┆ f64      ┆ f64       │\n",
       "╞══════════╪═══════════════════════╪═══════════╪══════════╪═══════════╡\n",
       "│ Subject  ┆ sd__(Intercept)       ┆ 24.740658 ┆ null     ┆ null      │\n",
       "│ Subject  ┆ cor__(Intercept).Days ┆ 0.065551  ┆ null     ┆ null      │\n",
       "│ Subject  ┆ sd__Days              ┆ 5.922138  ┆ null     ┆ null      │\n",
       "│ Residual ┆ sd__Observation       ┆ 25.591796 ┆ null     ┆ null      │\n",
       "└──────────┴───────────────────────┴───────────┴──────────┴───────────┘"
      ]
     },
     "execution_count": 35,
     "metadata": {},
     "output_type": "execute_result"
    }
   ],
   "source": [
    "# Variance across Subject level slopes and intercepts\n",
    "lmm_is.ranef_var"
   ]
  },
  {
   "cell_type": "markdown",
   "metadata": {},
   "source": [
    "We can refit the model using bootstrapping to get confidence intervals around *both* fixed and radom effects"
   ]
  },
  {
   "cell_type": "code",
   "execution_count": 36,
   "metadata": {},
   "outputs": [
    {
     "data": {
      "text/html": [
       "<div id=\"bgyfmftaxp\" style=\"padding-left:0px;padding-right:0px;padding-top:10px;padding-bottom:10px;overflow-x:auto;overflow-y:auto;width:auto;height:auto;\">\n",
       "<style>\n",
       "#bgyfmftaxp table {\n",
       "          font-family: -apple-system, BlinkMacSystemFont, 'Segoe UI', Roboto, Oxygen, Ubuntu, Cantarell, 'Helvetica Neue', 'Fira Sans', 'Droid Sans', Arial, sans-serif;\n",
       "          -webkit-font-smoothing: antialiased;\n",
       "          -moz-osx-font-smoothing: grayscale;\n",
       "        }\n",
       "\n",
       "#bgyfmftaxp thead, tbody, tfoot, tr, td, th { border-style: none !important; }\n",
       " tr { background-color: transparent !important; }\n",
       "#bgyfmftaxp p { margin: 0 !important; padding: 0 !important; }\n",
       " #bgyfmftaxp .gt_table { display: table !important; border-collapse: collapse !important; line-height: normal !important; margin-left: auto !important; margin-right: auto !important; color: #333333 !important; font-size: 16px !important; font-weight: normal !important; font-style: normal !important; background-color: #FFFFFF !important; width: auto !important; border-top-style: solid !important; border-top-width: 2px !important; border-top-color: #A8A8A8 !important; border-right-style: none !important; border-right-width: 2px !important; border-right-color: #D3D3D3 !important; border-bottom-style: solid !important; border-bottom-width: 2px !important; border-bottom-color: #A8A8A8 !important; border-left-style: none !important; border-left-width: 2px !important; border-left-color: #D3D3D3 !important; }\n",
       " #bgyfmftaxp .gt_caption { padding-top: 4px !important; padding-bottom: 4px !important; }\n",
       " #bgyfmftaxp .gt_title { color: #333333 !important; font-size: 125% !important; font-weight: initial !important; padding-top: 3px !important; padding-bottom: 3px !important; padding-left: 5px !important; padding-right: 5px !important; border-bottom-color: #FFFFFF !important; border-bottom-width: 0 !important; }\n",
       " #bgyfmftaxp .gt_subtitle { color: #333333 !important; font-size: 85% !important; font-weight: initial !important; padding-top: 2px !important; padding-bottom: 4px !important; padding-left: 5px !important; padding-right: 5px !important; border-top-color: #FFFFFF !important; border-top-width: 0 !important; }\n",
       " #bgyfmftaxp .gt_heading { background-color: #FFFFFF !important; text-align: left !important; border-bottom-color: #FFFFFF !important; border-left-style: none !important; border-left-width: 1px !important; border-left-color: #D3D3D3 !important; border-right-style: none !important; border-right-width: 1px !important; border-right-color: #D3D3D3 !important; }\n",
       " #bgyfmftaxp .gt_bottom_border { border-bottom-style: solid !important; border-bottom-width: 2px !important; border-bottom-color: #D3D3D3 !important; }\n",
       " #bgyfmftaxp .gt_col_headings { border-top-style: solid !important; border-top-width: 2px !important; border-top-color: #D3D3D3 !important; border-bottom-style: solid !important; border-bottom-width: 2px !important; border-bottom-color: #D3D3D3 !important; border-left-style: none !important; border-left-width: 1px !important; border-left-color: #D3D3D3 !important; border-right-style: none !important; border-right-width: 1px !important; border-right-color: #D3D3D3 !important; }\n",
       " #bgyfmftaxp .gt_col_heading { color: #333333 !important; background-color: #FFFFFF !important; font-size: 100% !important; font-weight: normal !important; text-transform: inherit !important; border-left-style: none !important; border-left-width: 1px !important; border-left-color: #D3D3D3 !important; border-right-style: none !important; border-right-width: 1px !important; border-right-color: #D3D3D3 !important; vertical-align: bottom !important; padding-top: 3px !important; padding-bottom: 4px !important; padding-left: 5px !important; padding-right: 5px !important; overflow-x: hidden !important; }\n",
       " #bgyfmftaxp .gt_column_spanner_outer { color: #333333 !important; background-color: #FFFFFF !important; font-size: 100% !important; font-weight: normal !important; text-transform: inherit !important; padding-top: 0 !important; padding-bottom: 0 !important; padding-left: 4px !important; padding-right: 4px !important; }\n",
       " #bgyfmftaxp .gt_column_spanner_outer:first-child { padding-left: 0 !important; }\n",
       " #bgyfmftaxp .gt_column_spanner_outer:last-child { padding-right: 0 !important; }\n",
       " #bgyfmftaxp .gt_column_spanner { border-bottom-style: solid !important; border-bottom-width: 2px !important; border-bottom-color: #D3D3D3 !important; vertical-align: bottom !important; padding-top: 3px !important; padding-bottom: 3px !important; overflow-x: hidden !important; display: inline-block !important; width: 100% !important; }\n",
       " #bgyfmftaxp .gt_spanner_row { border-bottom-style: hidden !important; }\n",
       " #bgyfmftaxp .gt_group_heading { padding-top: 6px !important; padding-bottom: 6px !important; padding-left: 5px !important; padding-right: 5px !important; color: #333333 !important; background-color: #FFFFFF !important; font-size: 100% !important; font-weight: initial !important; text-transform: inherit !important; border-top-style: solid !important; border-top-width: 2px !important; border-top-color: #D3D3D3 !important; border-bottom-style: solid !important; border-bottom-width: 2px !important; border-bottom-color: #D3D3D3 !important; border-left-style: none !important; border-left-width: 1px !important; border-left-color: #D3D3D3 !important; border-right-style: none !important; border-right-width: 1px !important; border-right-color: #D3D3D3 !important; vertical-align: middle !important; text-align: left !important; }\n",
       " #bgyfmftaxp .gt_empty_group_heading { padding: 0.5px !important; color: #333333 !important; background-color: #FFFFFF !important; font-size: 100% !important; font-weight: initial !important; border-top-style: solid !important; border-top-width: 2px !important; border-top-color: #D3D3D3 !important; border-bottom-style: solid !important; border-bottom-width: 2px !important; border-bottom-color: #D3D3D3 !important; vertical-align: middle !important; }\n",
       " #bgyfmftaxp .gt_from_md> :first-child { margin-top: 0 !important; }\n",
       " #bgyfmftaxp .gt_from_md> :last-child { margin-bottom: 0 !important; }\n",
       " #bgyfmftaxp .gt_row { padding-top: 6px !important; padding-bottom: 6px !important; padding-left: 5px !important; padding-right: 5px !important; margin: 10px !important; border-top-style: solid !important; border-top-width: 1px !important; border-top-color: #D3D3D3 !important; border-left-style: none !important; border-left-width: 1px !important; border-left-color: #D3D3D3 !important; border-right-style: none !important; border-right-width: 1px !important; border-right-color: #D3D3D3 !important; vertical-align: middle !important; overflow-x: hidden !important; }\n",
       " #bgyfmftaxp .gt_stub { color: #333333 !important; background-color: #FFFFFF !important; font-size: 100% !important; font-weight: initial !important; text-transform: inherit !important; border-right-style: solid !important; border-right-width: 2px !important; border-right-color: #D3D3D3 !important; padding-left: 5px !important; padding-right: 5px !important; }\n",
       " #bgyfmftaxp .gt_stub_row_group { color: #333333 !important; background-color: #FFFFFF !important; font-size: 100% !important; font-weight: initial !important; text-transform: inherit !important; border-right-style: solid !important; border-right-width: 2px !important; border-right-color: #D3D3D3 !important; padding-left: 5px !important; padding-right: 5px !important; vertical-align: top !important; }\n",
       " #bgyfmftaxp .gt_row_group_first td { border-top-width: 2px !important; }\n",
       " #bgyfmftaxp .gt_row_group_first th { border-top-width: 2px !important; }\n",
       " #bgyfmftaxp .gt_striped { background-color: rgba(128,128,128,0.05) !important; }\n",
       " #bgyfmftaxp .gt_table_body { border-top-style: solid !important; border-top-width: 2px !important; border-top-color: #D3D3D3 !important; border-bottom-style: solid !important; border-bottom-width: 2px !important; border-bottom-color: #D3D3D3 !important; }\n",
       " #bgyfmftaxp .gt_sourcenotes { color: #333333 !important; background-color: #FFFFFF !important; border-bottom-style: none !important; border-bottom-width: 2px !important; border-bottom-color: #D3D3D3 !important; border-left-style: none !important; border-left-width: 2px !important; border-left-color: #D3D3D3 !important; border-right-style: none !important; border-right-width: 2px !important; border-right-color: #D3D3D3 !important; }\n",
       " #bgyfmftaxp .gt_sourcenote { font-size: small !important; padding-top: 3px !important; padding-bottom: 3px !important; padding-left: 5px !important; padding-right: 5px !important; text-align: left !important; }\n",
       " #bgyfmftaxp .gt_left { text-align: left !important; }\n",
       " #bgyfmftaxp .gt_center { text-align: center !important; }\n",
       " #bgyfmftaxp .gt_right { text-align: right !important; font-variant-numeric: tabular-nums !important; }\n",
       " #bgyfmftaxp .gt_font_normal { font-weight: normal !important; }\n",
       " #bgyfmftaxp .gt_font_bold { font-weight: bold !important; }\n",
       " #bgyfmftaxp .gt_font_italic { font-style: italic !important; }\n",
       " #bgyfmftaxp .gt_super { font-size: 65% !important; }\n",
       " #bgyfmftaxp .gt_footnote_marks { font-size: 75% !important; vertical-align: 0.4em !important; position: initial !important; }\n",
       " #bgyfmftaxp .gt_asterisk { font-size: 100% !important; vertical-align: 0 !important; }\n",
       " \n",
       "</style>\n",
       "<table class=\"gt_table\" data-quarto-disable-processing=\"false\" data-quarto-bootstrap=\"false\">\n",
       "<thead>\n",
       "\n",
       "  <tr class=\"gt_heading\">\n",
       "    <td colspan=\"10\" class=\"gt_heading gt_title gt_font_normal\">Formula: lmer(Reaction~Days+(Days|Subject))</td>\n",
       "  </tr>\n",
       "  <tr class=\"gt_heading\">\n",
       "    <td colspan=\"10\" class=\"gt_heading gt_subtitle gt_font_normal gt_bottom_border\">Number of observations: <em>180</em><br />\n",
       "Confidence intervals: <em>boot</em><br />\n",
       "Bootstrap Iterations: <em>1000</em><br />\n",
       "---------------------<br />\n",
       "Log-likelihood: <em>-871</em><br />\n",
       "AIC: <em>1755</em> | BIC: <em>1774</em><br />\n",
       "Residual error: <em>25.592</em></td>\n",
       "  </tr>\n",
       "<tr class=\"gt_col_headings\">\n",
       "  <th class=\"gt_col_heading gt_columns_bottom_border gt_left\" rowspan=\"1\" colspan=\"1\" scope=\"col\" id=\"Random Effects:\">Random Effects:</th>\n",
       "  <th class=\"gt_col_heading gt_columns_bottom_border gt_left\" rowspan=\"1\" colspan=\"1\" scope=\"col\" id=\"\"></th>\n",
       "  <th class=\"gt_col_heading gt_columns_bottom_border gt_right\" rowspan=\"1\" colspan=\"1\" scope=\"col\" id=\"Estimate\">Estimate</th>\n",
       "  <th class=\"gt_col_heading gt_columns_bottom_border gt_right\" rowspan=\"1\" colspan=\"1\" scope=\"col\" id=\"CI-low\">CI-low</th>\n",
       "  <th class=\"gt_col_heading gt_columns_bottom_border gt_right\" rowspan=\"1\" colspan=\"1\" scope=\"col\" id=\"CI-high\">CI-high</th>\n",
       "  <th class=\"gt_col_heading gt_columns_bottom_border gt_right\" rowspan=\"1\" colspan=\"1\" scope=\"col\" id=\"SE\">SE</th>\n",
       "  <th class=\"gt_col_heading gt_columns_bottom_border gt_right\" rowspan=\"1\" colspan=\"1\" scope=\"col\" id=\"T-stat\">T-stat</th>\n",
       "  <th class=\"gt_col_heading gt_columns_bottom_border gt_right\" rowspan=\"1\" colspan=\"1\" scope=\"col\" id=\"DF\">DF</th>\n",
       "  <th class=\"gt_col_heading gt_columns_bottom_border gt_left\" rowspan=\"1\" colspan=\"1\" scope=\"col\" id=\"p\">p</th>\n",
       "  <th class=\"gt_col_heading gt_columns_bottom_border gt_left\" rowspan=\"1\" colspan=\"1\" scope=\"col\" id=\"\"></th>\n",
       "</tr>\n",
       "</thead>\n",
       "<tbody class=\"gt_table_body\">\n",
       "  <tr>\n",
       "    <td class=\"gt_row gt_left\">Subject-sd</td>\n",
       "    <td style=\"font-style: italic;\" class=\"gt_row gt_left\">(Intercept)</td>\n",
       "    <td class=\"gt_row gt_right\">24.741</td>\n",
       "    <td class=\"gt_row gt_right\">11.507</td>\n",
       "    <td class=\"gt_row gt_right\">35.542</td>\n",
       "    <td class=\"gt_row gt_right\"></td>\n",
       "    <td class=\"gt_row gt_right\"></td>\n",
       "    <td class=\"gt_row gt_right\"></td>\n",
       "    <td class=\"gt_row gt_left\"></td>\n",
       "    <td class=\"gt_row gt_left\"></td>\n",
       "  </tr>\n",
       "  <tr>\n",
       "    <td class=\"gt_row gt_left\">Subject-sd</td>\n",
       "    <td style=\"font-style: italic;\" class=\"gt_row gt_left\">Days</td>\n",
       "    <td class=\"gt_row gt_right\">5.922</td>\n",
       "    <td class=\"gt_row gt_right\">3.506</td>\n",
       "    <td class=\"gt_row gt_right\">8.208</td>\n",
       "    <td class=\"gt_row gt_right\"></td>\n",
       "    <td class=\"gt_row gt_right\"></td>\n",
       "    <td class=\"gt_row gt_right\"></td>\n",
       "    <td class=\"gt_row gt_left\"></td>\n",
       "    <td class=\"gt_row gt_left\"></td>\n",
       "  </tr>\n",
       "  <tr>\n",
       "    <td class=\"gt_row gt_left\">Subject-cor</td>\n",
       "    <td style=\"font-style: italic;\" class=\"gt_row gt_left\">(Intercept)</td>\n",
       "    <td class=\"gt_row gt_right\">0.066</td>\n",
       "    <td class=\"gt_row gt_right\">−0.494</td>\n",
       "    <td class=\"gt_row gt_right\">0.976</td>\n",
       "    <td class=\"gt_row gt_right\"></td>\n",
       "    <td class=\"gt_row gt_right\"></td>\n",
       "    <td class=\"gt_row gt_right\"></td>\n",
       "    <td class=\"gt_row gt_left\"></td>\n",
       "    <td class=\"gt_row gt_left\"></td>\n",
       "  </tr>\n",
       "  <tr>\n",
       "    <td class=\"gt_row gt_left\">Residual-sd</td>\n",
       "    <td style=\"font-style: italic;\" class=\"gt_row gt_left\">Observation</td>\n",
       "    <td class=\"gt_row gt_right\">25.592</td>\n",
       "    <td class=\"gt_row gt_right\">22.927</td>\n",
       "    <td class=\"gt_row gt_right\">28.483</td>\n",
       "    <td class=\"gt_row gt_right\"></td>\n",
       "    <td class=\"gt_row gt_right\"></td>\n",
       "    <td class=\"gt_row gt_right\"></td>\n",
       "    <td class=\"gt_row gt_left\"></td>\n",
       "    <td class=\"gt_row gt_left\"></td>\n",
       "  </tr>\n",
       "  <tr>\n",
       "    <td class=\"gt_row gt_left\"></td>\n",
       "    <td style=\"font-style: italic;\" class=\"gt_row gt_left\"></td>\n",
       "    <td class=\"gt_row gt_right\"></td>\n",
       "    <td class=\"gt_row gt_right\"></td>\n",
       "    <td class=\"gt_row gt_right\"></td>\n",
       "    <td class=\"gt_row gt_right\"></td>\n",
       "    <td class=\"gt_row gt_right\"></td>\n",
       "    <td class=\"gt_row gt_right\"></td>\n",
       "    <td class=\"gt_row gt_left\"></td>\n",
       "    <td class=\"gt_row gt_left\"></td>\n",
       "  </tr>\n",
       "  <tr>\n",
       "    <td class=\"gt_row gt_left\">Fixed Effects:</td>\n",
       "    <td style=\"font-style: italic;\" class=\"gt_row gt_left\"></td>\n",
       "    <td class=\"gt_row gt_right\"></td>\n",
       "    <td class=\"gt_row gt_right\"></td>\n",
       "    <td class=\"gt_row gt_right\"></td>\n",
       "    <td class=\"gt_row gt_right\"></td>\n",
       "    <td class=\"gt_row gt_right\"></td>\n",
       "    <td class=\"gt_row gt_right\"></td>\n",
       "    <td class=\"gt_row gt_left\"></td>\n",
       "    <td class=\"gt_row gt_left\"></td>\n",
       "  </tr>\n",
       "  <tr>\n",
       "    <td class=\"gt_row gt_left\"></td>\n",
       "    <td style=\"font-style: italic;\" class=\"gt_row gt_left\">(Intercept)</td>\n",
       "    <td class=\"gt_row gt_right\">251.405</td>\n",
       "    <td class=\"gt_row gt_right\">237.304</td>\n",
       "    <td class=\"gt_row gt_right\">265.429</td>\n",
       "    <td class=\"gt_row gt_right\">6.825</td>\n",
       "    <td class=\"gt_row gt_right\">36.838</td>\n",
       "    <td class=\"gt_row gt_right\">17.000</td>\n",
       "    <td class=\"gt_row gt_left\"><.001</td>\n",
       "    <td class=\"gt_row gt_left\">***</td>\n",
       "  </tr>\n",
       "  <tr>\n",
       "    <td class=\"gt_row gt_left\"></td>\n",
       "    <td style=\"font-style: italic;\" class=\"gt_row gt_left\">Days</td>\n",
       "    <td class=\"gt_row gt_right\">10.467</td>\n",
       "    <td class=\"gt_row gt_right\">7.545</td>\n",
       "    <td class=\"gt_row gt_right\">13.546</td>\n",
       "    <td class=\"gt_row gt_right\">1.546</td>\n",
       "    <td class=\"gt_row gt_right\">6.771</td>\n",
       "    <td class=\"gt_row gt_right\">17.000</td>\n",
       "    <td class=\"gt_row gt_left\"><.001</td>\n",
       "    <td class=\"gt_row gt_left\">***</td>\n",
       "  </tr>\n",
       "</tbody>\n",
       "  <tfoot class=\"gt_sourcenotes\">\n",
       "  \n",
       "  <tr>\n",
       "    <td class=\"gt_sourcenote\" colspan=\"10\">Signif. codes: <em>0 *** 0.001 ** 0.01 * 0.05 . 0.1</em></td>\n",
       "  </tr>\n",
       "\n",
       "</tfoot>\n",
       "\n",
       "</table>\n",
       "\n",
       "</div>\n",
       "        "
      ],
      "text/plain": [
       "GT(_tbl_data=shape: (8, 10)\n",
       "┌─────────────┬─────────────┬────────────┬────────────┬───┬──────────┬───────────┬─────────┬───────┐\n",
       "│ rfx         ┆ param       ┆ estimate   ┆ conf_low   ┆ … ┆ t_stat   ┆ df        ┆ p_value ┆ stars │\n",
       "│ ---         ┆ ---         ┆ ---        ┆ ---        ┆   ┆ ---      ┆ ---       ┆ ---     ┆ ---   │\n",
       "│ str         ┆ str         ┆ f64        ┆ f64        ┆   ┆ f64      ┆ f64       ┆ str     ┆ str   │\n",
       "╞═════════════╪═════════════╪════════════╪════════════╪═══╪══════════╪═══════════╪═════════╪═══════╡\n",
       "│ Subject-sd  ┆ (Intercept) ┆ 24.740658  ┆ 11.507195  ┆ … ┆ null     ┆ null      ┆ null    ┆ null  │\n",
       "│ Subject-sd  ┆ Days        ┆ 5.922138   ┆ 3.505876   ┆ … ┆ null     ┆ null      ┆ null    ┆ null  │\n",
       "│ Subject-cor ┆ (Intercept) ┆ 0.065551   ┆ -0.494001  ┆ … ┆ null     ┆ null      ┆ null    ┆ null  │\n",
       "│ Residual-sd ┆ Observation ┆ 25.591796  ┆ 22.927037  ┆ … ┆ null     ┆ null      ┆ null    ┆ null  │\n",
       "│ null        ┆ null        ┆ null       ┆ null       ┆ … ┆ null     ┆ null      ┆ null    ┆ null  │\n",
       "│ Fixed       ┆ null        ┆ null       ┆ null       ┆ … ┆ null     ┆ null      ┆ null    ┆ null  │\n",
       "│ Effects:    ┆             ┆            ┆            ┆   ┆          ┆           ┆         ┆       │\n",
       "│ null        ┆ (Intercept) ┆ 251.405105 ┆ 237.304254 ┆ … ┆ 36.83809 ┆ 16.999726 ┆ <.001   ┆ ***   │\n",
       "│ null        ┆ Days        ┆ 10.467286  ┆ 7.54518    ┆ … ┆ 6.771481 ┆ 16.999984 ┆ <.001   ┆ ***   │\n",
       "└─────────────┴─────────────┴────────────┴────────────┴───┴──────────┴───────────┴─────────┴───────┘, _body=<great_tables._gt_data.Body object at 0x31fdd9a60>, _boxhead=Boxhead([ColInfo(var='rfx', type=<ColInfoTypeEnum.default: 1>, column_label='Random Effects:', column_align='left', column_width=None), ColInfo(var='param', type=<ColInfoTypeEnum.default: 1>, column_label='', column_align='left', column_width=None), ColInfo(var='estimate', type=<ColInfoTypeEnum.default: 1>, column_label='Estimate', column_align='right', column_width=None), ColInfo(var='conf_low', type=<ColInfoTypeEnum.default: 1>, column_label='CI-low', column_align='right', column_width=None), ColInfo(var='conf_high', type=<ColInfoTypeEnum.default: 1>, column_label='CI-high', column_align='right', column_width=None), ColInfo(var='std_error', type=<ColInfoTypeEnum.default: 1>, column_label='SE', column_align='right', column_width=None), ColInfo(var='t_stat', type=<ColInfoTypeEnum.default: 1>, column_label='T-stat', column_align='right', column_width=None), ColInfo(var='df', type=<ColInfoTypeEnum.default: 1>, column_label='DF', column_align='right', column_width=None), ColInfo(var='p_value', type=<ColInfoTypeEnum.default: 1>, column_label='p', column_align='left', column_width=None), ColInfo(var='stars', type=<ColInfoTypeEnum.default: 1>, column_label='', column_align='left', column_width=None)]), _stub=<great_tables._gt_data.Stub object at 0x31fd630e0>, _spanners=Spanners([]), _heading=Heading(title='Formula: lmer(Reaction~Days+(Days|Subject))', subtitle=Md(text='Number of observations: *180*  \\n            Confidence intervals: *boot*  \\n            Bootstrap Iterations: *1000*  \\n            ---------------------  \\n            Log-likelihood: *-871*  \\n            AIC: *1755* | BIC: *1774*  \\n            Residual error: *25.592*  \\n        '), preheader=None), _stubhead=None, _source_notes=[Md(text='Signif. codes: *0 *** 0.001 ** 0.01 * 0.05 . 0.1*')], _footnotes=[], _styles=[StyleInfo(locname=LocBody(columns=['param'], rows=None), grpname=None, colname='param', rownum=0, colnum=None, styles=[CellStyleText(color=None, font=None, size=None, align=None, v_align=None, style='italic', weight=None, stretch=None, decorate=None, transform=None, whitespace=None)]), StyleInfo(locname=LocBody(columns=['param'], rows=None), grpname=None, colname='param', rownum=1, colnum=None, styles=[CellStyleText(color=None, font=None, size=None, align=None, v_align=None, style='italic', weight=None, stretch=None, decorate=None, transform=None, whitespace=None)]), StyleInfo(locname=LocBody(columns=['param'], rows=None), grpname=None, colname='param', rownum=2, colnum=None, styles=[CellStyleText(color=None, font=None, size=None, align=None, v_align=None, style='italic', weight=None, stretch=None, decorate=None, transform=None, whitespace=None)]), StyleInfo(locname=LocBody(columns=['param'], rows=None), grpname=None, colname='param', rownum=3, colnum=None, styles=[CellStyleText(color=None, font=None, size=None, align=None, v_align=None, style='italic', weight=None, stretch=None, decorate=None, transform=None, whitespace=None)]), StyleInfo(locname=LocBody(columns=['param'], rows=None), grpname=None, colname='param', rownum=4, colnum=None, styles=[CellStyleText(color=None, font=None, size=None, align=None, v_align=None, style='italic', weight=None, stretch=None, decorate=None, transform=None, whitespace=None)]), StyleInfo(locname=LocBody(columns=['param'], rows=None), grpname=None, colname='param', rownum=5, colnum=None, styles=[CellStyleText(color=None, font=None, size=None, align=None, v_align=None, style='italic', weight=None, stretch=None, decorate=None, transform=None, whitespace=None)]), StyleInfo(locname=LocBody(columns=['param'], rows=None), grpname=None, colname='param', rownum=6, colnum=None, styles=[CellStyleText(color=None, font=None, size=None, align=None, v_align=None, style='italic', weight=None, stretch=None, decorate=None, transform=None, whitespace=None)]), StyleInfo(locname=LocBody(columns=['param'], rows=None), grpname=None, colname='param', rownum=7, colnum=None, styles=[CellStyleText(color=None, font=None, size=None, align=None, v_align=None, style='italic', weight=None, stretch=None, decorate=None, transform=None, whitespace=None)])], _locale=<great_tables._gt_data.Locale object at 0x31fdd9bb0>, _formats=[<great_tables._gt_data.FormatInfo object at 0x31fe523f0>], _substitutions=[<great_tables._gt_data.FormatInfo object at 0x31fe10890>], _options=Options(table_id=OptionsInfo(scss=False, category='table', type='value', value=None), table_caption=OptionsInfo(scss=False, category='table', type='value', value=None), table_width=OptionsInfo(scss=True, category='table', type='px', value='auto'), table_layout=OptionsInfo(scss=True, category='table', type='value', value='fixed'), table_margin_left=OptionsInfo(scss=True, category='table', type='px', value='auto'), table_margin_right=OptionsInfo(scss=True, category='table', type='px', value='auto'), table_background_color=OptionsInfo(scss=True, category='table', type='value', value='#FFFFFF'), table_additional_css=OptionsInfo(scss=False, category='table', type='values', value=[]), table_font_names=OptionsInfo(scss=False, category='table', type='values', value=['-apple-system', 'BlinkMacSystemFont', 'Segoe UI', 'Roboto', 'Oxygen', 'Ubuntu', 'Cantarell', 'Helvetica Neue', 'Fira Sans', 'Droid Sans', 'Arial', 'sans-serif']), table_font_size=OptionsInfo(scss=True, category='table', type='px', value='16px'), table_font_weight=OptionsInfo(scss=True, category='table', type='value', value='normal'), table_font_style=OptionsInfo(scss=True, category='table', type='value', value='normal'), table_font_color=OptionsInfo(scss=True, category='table', type='value', value='#333333'), table_font_color_light=OptionsInfo(scss=True, category='table', type='value', value='#FFFFFF'), table_border_top_include=OptionsInfo(scss=False, category='table', type='boolean', value=True), table_border_top_style=OptionsInfo(scss=True, category='table', type='value', value='solid'), table_border_top_width=OptionsInfo(scss=True, category='table', type='px', value='2px'), table_border_top_color=OptionsInfo(scss=True, category='table', type='value', value='#A8A8A8'), table_border_right_style=OptionsInfo(scss=True, category='table', type='value', value='none'), table_border_right_width=OptionsInfo(scss=True, category='table', type='px', value='2px'), table_border_right_color=OptionsInfo(scss=True, category='table', type='value', value='#D3D3D3'), table_border_bottom_include=OptionsInfo(scss=False, category='table', type='boolean', value=True), table_border_bottom_style=OptionsInfo(scss=True, category='table', type='value', value='solid'), table_border_bottom_width=OptionsInfo(scss=True, category='table', type='px', value='2px'), table_border_bottom_color=OptionsInfo(scss=True, category='table', type='value', value='#A8A8A8'), table_border_left_style=OptionsInfo(scss=True, category='table', type='value', value='none'), table_border_left_width=OptionsInfo(scss=True, category='table', type='px', value='2px'), table_border_left_color=OptionsInfo(scss=True, category='table', type='value', value='#D3D3D3'), heading_background_color=OptionsInfo(scss=True, category='heading', type='value', value=None), heading_align=OptionsInfo(scss=True, category='heading', type='value', value='left'), heading_title_font_size=OptionsInfo(scss=True, category='heading', type='px', value='125%'), heading_title_font_weight=OptionsInfo(scss=True, category='heading', type='value', value='initial'), heading_subtitle_font_size=OptionsInfo(scss=True, category='heading', type='px', value='85%'), heading_subtitle_font_weight=OptionsInfo(scss=True, category='heading', type='value', value='initial'), heading_padding=OptionsInfo(scss=True, category='heading', type='px', value='3px'), heading_padding_horizontal=OptionsInfo(scss=True, category='heading', type='px', value='5px'), heading_border_bottom_style=OptionsInfo(scss=True, category='heading', type='value', value='solid'), heading_border_bottom_width=OptionsInfo(scss=True, category='heading', type='px', value='2px'), heading_border_bottom_color=OptionsInfo(scss=True, category='heading', type='value', value='#D3D3D3'), heading_border_lr_style=OptionsInfo(scss=True, category='heading', type='value', value='none'), heading_border_lr_width=OptionsInfo(scss=True, category='heading', type='px', value='1px'), heading_border_lr_color=OptionsInfo(scss=True, category='heading', type='value', value='#D3D3D3'), column_labels_background_color=OptionsInfo(scss=True, category='column_labels', type='value', value=None), column_labels_font_size=OptionsInfo(scss=True, category='column_labels', type='px', value='100%'), column_labels_font_weight=OptionsInfo(scss=True, category='column_labels', type='value', value='normal'), column_labels_text_transform=OptionsInfo(scss=True, category='column_labels', type='value', value='inherit'), column_labels_padding=OptionsInfo(scss=True, category='column_labels', type='px', value='3px'), column_labels_padding_horizontal=OptionsInfo(scss=True, category='column_labels', type='px', value='5px'), column_labels_vlines_style=OptionsInfo(scss=True, category='table_body', type='value', value='none'), column_labels_vlines_width=OptionsInfo(scss=True, category='table_body', type='px', value='1px'), column_labels_vlines_color=OptionsInfo(scss=True, category='table_body', type='value', value='#D3D3D3'), column_labels_border_top_style=OptionsInfo(scss=True, category='column_labels', type='value', value='solid'), column_labels_border_top_width=OptionsInfo(scss=True, category='column_labels', type='px', value='2px'), column_labels_border_top_color=OptionsInfo(scss=True, category='column_labels', type='value', value='#D3D3D3'), column_labels_border_bottom_style=OptionsInfo(scss=True, category='column_labels', type='value', value='solid'), column_labels_border_bottom_width=OptionsInfo(scss=True, category='column_labels', type='px', value='2px'), column_labels_border_bottom_color=OptionsInfo(scss=True, category='column_labels', type='value', value='#D3D3D3'), column_labels_border_lr_style=OptionsInfo(scss=True, category='column_labels', type='value', value='none'), column_labels_border_lr_width=OptionsInfo(scss=True, category='column_labels', type='px', value='1px'), column_labels_border_lr_color=OptionsInfo(scss=True, category='column_labels', type='value', value='#D3D3D3'), column_labels_hidden=OptionsInfo(scss=False, category='column_labels', type='boolean', value=False), row_group_background_color=OptionsInfo(scss=True, category='row_group', type='value', value=None), row_group_font_size=OptionsInfo(scss=True, category='row_group', type='px', value='100%'), row_group_font_weight=OptionsInfo(scss=True, category='row_group', type='value', value='initial'), row_group_text_transform=OptionsInfo(scss=True, category='row_group', type='value', value='inherit'), row_group_padding=OptionsInfo(scss=True, category='row_group', type='px', value='6px'), row_group_padding_horizontal=OptionsInfo(scss=True, category='row_group', type='px', value='5px'), row_group_border_top_style=OptionsInfo(scss=True, category='row_group', type='value', value='solid'), row_group_border_top_width=OptionsInfo(scss=True, category='row_group', type='px', value='2px'), row_group_border_top_color=OptionsInfo(scss=True, category='row_group', type='value', value='#D3D3D3'), row_group_border_right_style=OptionsInfo(scss=True, category='row_group', type='value', value='none'), row_group_border_right_width=OptionsInfo(scss=True, category='row_group', type='px', value='1px'), row_group_border_right_color=OptionsInfo(scss=True, category='row_group', type='value', value='#D3D3D3'), row_group_border_bottom_style=OptionsInfo(scss=True, category='row_group', type='value', value='solid'), row_group_border_bottom_width=OptionsInfo(scss=True, category='row_group', type='px', value='2px'), row_group_border_bottom_color=OptionsInfo(scss=True, category='row_group', type='value', value='#D3D3D3'), row_group_border_left_style=OptionsInfo(scss=True, category='row_group', type='value', value='none'), row_group_border_left_width=OptionsInfo(scss=True, category='row_group', type='px', value='1px'), row_group_border_left_color=OptionsInfo(scss=True, category='row_group', type='value', value='#D3D3D3'), row_group_as_column=OptionsInfo(scss=False, category='row_group', type='boolean', value=False), table_body_hlines_style=OptionsInfo(scss=True, category='table_body', type='value', value='solid'), table_body_hlines_width=OptionsInfo(scss=True, category='table_body', type='px', value='1px'), table_body_hlines_color=OptionsInfo(scss=True, category='table_body', type='value', value='#D3D3D3'), table_body_vlines_style=OptionsInfo(scss=True, category='table_body', type='value', value='none'), table_body_vlines_width=OptionsInfo(scss=True, category='table_body', type='px', value='1px'), table_body_vlines_color=OptionsInfo(scss=True, category='table_body', type='value', value='#D3D3D3'), table_body_border_top_style=OptionsInfo(scss=True, category='table_body', type='value', value='solid'), table_body_border_top_width=OptionsInfo(scss=True, category='table_body', type='px', value='2px'), table_body_border_top_color=OptionsInfo(scss=True, category='table_body', type='value', value='#D3D3D3'), table_body_border_bottom_style=OptionsInfo(scss=True, category='table_body', type='value', value='solid'), table_body_border_bottom_width=OptionsInfo(scss=True, category='table_body', type='px', value='2px'), table_body_border_bottom_color=OptionsInfo(scss=True, category='table_body', type='value', value='#D3D3D3'), data_row_padding=OptionsInfo(scss=True, category='data_row', type='px', value='6px'), data_row_padding_horizontal=OptionsInfo(scss=True, category='data_row', type='px', value='5px'), stub_background_color=OptionsInfo(scss=True, category='stub', type='value', value=None), stub_font_size=OptionsInfo(scss=True, category='stub', type='px', value='100%'), stub_font_weight=OptionsInfo(scss=True, category='stub', type='value', value='initial'), stub_text_transform=OptionsInfo(scss=True, category='stub', type='value', value='inherit'), stub_border_style=OptionsInfo(scss=True, category='stub', type='value', value='solid'), stub_border_width=OptionsInfo(scss=True, category='stub', type='px', value='2px'), stub_border_color=OptionsInfo(scss=True, category='stub', type='value', value='#D3D3D3'), stub_row_group_background_color=OptionsInfo(scss=True, category='stub', type='value', value=None), stub_row_group_font_size=OptionsInfo(scss=True, category='stub', type='px', value='100%'), stub_row_group_font_weight=OptionsInfo(scss=True, category='stub', type='value', value='initial'), stub_row_group_text_transform=OptionsInfo(scss=True, category='stub', type='value', value='inherit'), stub_row_group_border_style=OptionsInfo(scss=True, category='stub', type='value', value='solid'), stub_row_group_border_width=OptionsInfo(scss=True, category='stub', type='px', value='2px'), stub_row_group_border_color=OptionsInfo(scss=True, category='stub', type='value', value='#D3D3D3'), source_notes_padding=OptionsInfo(scss=True, category='source_notes', type='px', value='3px'), source_notes_padding_horizontal=OptionsInfo(scss=True, category='source_notes', type='px', value='5px'), source_notes_background_color=OptionsInfo(scss=True, category='source_notes', type='value', value=None), source_notes_font_size=OptionsInfo(scss=True, category='source_notes', type='px', value='small'), source_notes_border_bottom_style=OptionsInfo(scss=True, category='source_notes', type='value', value='none'), source_notes_border_bottom_width=OptionsInfo(scss=True, category='source_notes', type='px', value='2px'), source_notes_border_bottom_color=OptionsInfo(scss=True, category='source_notes', type='value', value='#D3D3D3'), source_notes_border_lr_style=OptionsInfo(scss=True, category='source_notes', type='value', value='none'), source_notes_border_lr_width=OptionsInfo(scss=True, category='source_notes', type='px', value='2px'), source_notes_border_lr_color=OptionsInfo(scss=True, category='source_notes', type='value', value='#D3D3D3'), source_notes_multiline=OptionsInfo(scss=False, category='source_notes', type='boolean', value=True), source_notes_sep=OptionsInfo(scss=False, category='source_notes', type='value', value=' '), row_striping_background_color=OptionsInfo(scss=True, category='row', type='value', value='rgba(128,128,128,0.05)'), row_striping_include_stub=OptionsInfo(scss=False, category='row', type='boolean', value=False), row_striping_include_table_body=OptionsInfo(scss=False, category='row', type='boolean', value=False), container_width=OptionsInfo(scss=False, category='container', type='px', value='auto'), container_height=OptionsInfo(scss=False, category='container', type='px', value='auto'), container_padding_x=OptionsInfo(scss=False, category='container', type='px', value='0px'), container_padding_y=OptionsInfo(scss=False, category='container', type='px', value='10px'), container_overflow_x=OptionsInfo(scss=False, category='container', type='overflow', value='auto'), container_overflow_y=OptionsInfo(scss=False, category='container', type='overflow', value='auto'), quarto_disable_processing=OptionsInfo(scss=False, category='quarto', type='logical', value=False), quarto_use_bootstrap=OptionsInfo(scss=False, category='quarto', type='logical', value=False)), _has_built=False)"
      ]
     },
     "execution_count": 36,
     "metadata": {},
     "output_type": "execute_result"
    }
   ],
   "source": [
    "lmm_is.fit(conf_method='boot', summary=True)"
   ]
  },
  {
   "cell_type": "markdown",
   "metadata": {},
   "source": [
    "Multi-level models also support all the same methods as `lm` models for working with categorical predictors, ANOVA, marginal estimates, etc."
   ]
  },
  {
   "cell_type": "markdown",
   "metadata": {},
   "source": [
    "## Summary and next steps\n",
    "\n",
    "This quickstart provided an overview of the core functionality when working with models in `pymer4`. For more in-depth tutorials check out:\n",
    "\n",
    "- [linear regression tutorial](../tutorials/01_lm) which also demonstrates features common to *all* `pymer4` models  \n",
    "- [categorical variables tutorial](../tutorials/02_categorical) if you're working with factorial designs or non-numeric predictors   \n",
    "- [generalize linear models tutorial](../tutorials/03_glm.ipynb) for non-gaussian outcome variables (e.g. logistic regression)  \n",
    "- [linear mixed models](../tutorials/04_lmer.ipynb) and [generalized linear mixed models](../tutorials/05_glmer.ipynb) for repeated-measures or multi-level data\n",
    "\n",
    "You can read about the specific arguments and outputs of different model methods on their respective API pages, e.g. [`lm.fit()`](../api/models/lm.md#pymer4.models.lm.lm.fit) \n",
    "\n",
    "If you're interested in more advanced functionality, you explore the [`tidystats` module](../api/functions.md) that export many popular R functions from a variety of libraries (and powers `pymer4.models` !)"
   ]
  }
 ],
 "metadata": {
  "kernelspec": {
   "display_name": "default",
   "language": "python",
   "name": "python3"
  },
  "language_info": {
   "codemirror_mode": {
    "name": "ipython",
    "version": 3
   },
   "file_extension": ".py",
   "mimetype": "text/x-python",
   "name": "python",
   "nbconvert_exporter": "python",
   "pygments_lexer": "ipython3",
   "version": "3.12.10"
  }
 },
 "nbformat": 4,
 "nbformat_minor": 2
}
