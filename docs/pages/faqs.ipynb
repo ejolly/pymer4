{
 "cells": [
  {
   "cell_type": "markdown",
   "metadata": {},
   "source": [
    "# Help & FAQs"
   ]
  },
  {
   "cell_type": "markdown",
   "metadata": {},
   "source": [
    "If you run into technical issues feel free to raise an issue on github using the button at the top of this page.  \n",
    "However, please keep in mind that we are *unable* to provide general statistical guidance via github issues. We recommend consulting the various resources available regarding multi-level models and the underlying [R packages](../api/rfuncs.md) that power `pymer4`. \n",
    "\n",
    "We try to keep the FAQ below updated for common questions and workflows"
   ]
  },
  {
   "cell_type": "markdown",
   "metadata": {},
   "source": [
    "## Help my Kernel Crashes in Jupyter Notebooks/Lab!\n",
    "\n",
    "Sometimes using `pymer4` interactively can cause the Python kernel to\n",
    "crash. This is more likely to happen if you have multiple interactive\n",
    "sessions running simulatenously. One way around this is to put this at\n",
    "the top of your notebook/code:\n",
    "\n",
    "``` python\n",
    "import os\n",
    "os.environ['KMP_DUPLICATE_LIB_OK']='True'\n",
    "```\n",
    "\n",
    "Or set the following environment variable prior to launching your\n",
    "interactive sessions:\n",
    "\n",
    "``` bash\n",
    "export KMP_DUPLICATE_LIB_OK=TRUE\n",
    "```"
   ]
  },
  {
   "cell_type": "markdown",
   "metadata": {},
   "source": [
    "## I'm confused about how to specify random-effects in LMMs/GLMMs\n",
    "\n",
    "```python\n",
    "# Random intercepts only\n",
    "(1 | Group)\n",
    "\n",
    "# Random slopes only\n",
    "(0 + Variable | Group)\n",
    "\n",
    "# Random intercepts and slopes (and their correlation)\n",
    "(Variable | Group)\n",
    "\n",
    "# Random intercepts and slopes (without their correlation)\n",
    "(1 | Group) + (0 + Variable | Group)\n",
    "\n",
    "# Same as above but will not separate factors (see: https://rdrr.io/cran/lme4/man/expandDoubleVerts.html)\n",
    "(Variable || Group)\n",
    "\n",
    "# Random intercept and slope for more than one variable (and their correlations)\n",
    "(Variable_1 + Variable_2 | Group)\n",
    "\n",
    "# Random intercepts, slopes, correlations for multiple random-effects\n",
    "(Variable | Subject) + (Variable | Item)\n",
    "```"
   ]
  },
  {
   "cell_type": "markdown",
   "metadata": {},
   "source": [
    "## I want traditional ANOVA results and post-hoc tests\n",
    "\n",
    "- Before using `.fit()` use `.set_factors('categorical_var')` to tell the model what your categorical predictors are\n",
    "- Call `.anova()` which will automatically return correctly coded Type-III Sum-of-Squares omninbus $F$ tests\n",
    "- You can explore \"post-hoc\" comparisons (marginal estiamtes and contrasts) using `.emmeans()` with `contrasts='pairwise'`"
   ]
  },
  {
   "cell_type": "code",
   "execution_count": 1,
   "metadata": {
    "tags": [
     "hide-input"
    ]
   },
   "outputs": [],
   "source": [
    "from pymer4.models import lm\n",
    "from pymer4 import load_dataset\n",
    "\n",
    "poker = load_dataset(\"poker\")"
   ]
  },
  {
   "cell_type": "code",
   "execution_count": 2,
   "metadata": {},
   "outputs": [
    {
     "data": {
      "text/html": [
       "<div id=\"lljedgobox\" style=\"padding-left:0px;padding-right:0px;padding-top:10px;padding-bottom:10px;overflow-x:auto;overflow-y:auto;width:auto;height:auto;\">\n",
       "<style>\n",
       "#lljedgobox table {\n",
       "          font-family: -apple-system, BlinkMacSystemFont, 'Segoe UI', Roboto, Oxygen, Ubuntu, Cantarell, 'Helvetica Neue', 'Fira Sans', 'Droid Sans', Arial, sans-serif;\n",
       "          -webkit-font-smoothing: antialiased;\n",
       "          -moz-osx-font-smoothing: grayscale;\n",
       "        }\n",
       "\n",
       "#lljedgobox thead, tbody, tfoot, tr, td, th { border-style: none !important; }\n",
       " tr { background-color: transparent !important; }\n",
       "#lljedgobox p { margin: 0 !important; padding: 0 !important; }\n",
       " #lljedgobox .gt_table { display: table !important; border-collapse: collapse !important; line-height: normal !important; margin-left: auto !important; margin-right: auto !important; color: #333333 !important; font-size: 16px !important; font-weight: normal !important; font-style: normal !important; background-color: #FFFFFF !important; width: auto !important; border-top-style: solid !important; border-top-width: 2px !important; border-top-color: #A8A8A8 !important; border-right-style: none !important; border-right-width: 2px !important; border-right-color: #D3D3D3 !important; border-bottom-style: solid !important; border-bottom-width: 2px !important; border-bottom-color: #A8A8A8 !important; border-left-style: none !important; border-left-width: 2px !important; border-left-color: #D3D3D3 !important; }\n",
       " #lljedgobox .gt_caption { padding-top: 4px !important; padding-bottom: 4px !important; }\n",
       " #lljedgobox .gt_title { color: #333333 !important; font-size: 125% !important; font-weight: initial !important; padding-top: 4px !important; padding-bottom: 4px !important; padding-left: 5px !important; padding-right: 5px !important; border-bottom-color: #FFFFFF !important; border-bottom-width: 0 !important; }\n",
       " #lljedgobox .gt_subtitle { color: #333333 !important; font-size: 85% !important; font-weight: initial !important; padding-top: 3px !important; padding-bottom: 5px !important; padding-left: 5px !important; padding-right: 5px !important; border-top-color: #FFFFFF !important; border-top-width: 0 !important; }\n",
       " #lljedgobox .gt_heading { background-color: #FFFFFF !important; text-align: left !important; border-bottom-color: #FFFFFF !important; border-left-style: none !important; border-left-width: 1px !important; border-left-color: #D3D3D3 !important; border-right-style: none !important; border-right-width: 1px !important; border-right-color: #D3D3D3 !important; }\n",
       " #lljedgobox .gt_bottom_border { border-bottom-style: solid !important; border-bottom-width: 2px !important; border-bottom-color: #D3D3D3 !important; }\n",
       " #lljedgobox .gt_col_headings { border-top-style: solid !important; border-top-width: 2px !important; border-top-color: #D3D3D3 !important; border-bottom-style: solid !important; border-bottom-width: 2px !important; border-bottom-color: #D3D3D3 !important; border-left-style: none !important; border-left-width: 1px !important; border-left-color: #D3D3D3 !important; border-right-style: none !important; border-right-width: 1px !important; border-right-color: #D3D3D3 !important; }\n",
       " #lljedgobox .gt_col_heading { color: #333333 !important; background-color: #FFFFFF !important; font-size: 100% !important; font-weight: normal !important; text-transform: inherit !important; border-left-style: none !important; border-left-width: 1px !important; border-left-color: #D3D3D3 !important; border-right-style: none !important; border-right-width: 1px !important; border-right-color: #D3D3D3 !important; vertical-align: bottom !important; padding-top: 5px !important; padding-bottom: 5px !important; padding-left: 5px !important; padding-right: 5px !important; overflow-x: hidden !important; }\n",
       " #lljedgobox .gt_column_spanner_outer { color: #333333 !important; background-color: #FFFFFF !important; font-size: 100% !important; font-weight: normal !important; text-transform: inherit !important; padding-top: 0 !important; padding-bottom: 0 !important; padding-left: 4px !important; padding-right: 4px !important; }\n",
       " #lljedgobox .gt_column_spanner_outer:first-child { padding-left: 0 !important; }\n",
       " #lljedgobox .gt_column_spanner_outer:last-child { padding-right: 0 !important; }\n",
       " #lljedgobox .gt_column_spanner { border-bottom-style: solid !important; border-bottom-width: 2px !important; border-bottom-color: #D3D3D3 !important; vertical-align: bottom !important; padding-top: 5px !important; padding-bottom: 5px !important; overflow-x: hidden !important; display: inline-block !important; width: 100% !important; }\n",
       " #lljedgobox .gt_spanner_row { border-bottom-style: hidden !important; }\n",
       " #lljedgobox .gt_group_heading { padding-top: 8px !important; padding-bottom: 8px !important; padding-left: 5px !important; padding-right: 5px !important; color: #333333 !important; background-color: #FFFFFF !important; font-size: 100% !important; font-weight: initial !important; text-transform: inherit !important; border-top-style: solid !important; border-top-width: 2px !important; border-top-color: #D3D3D3 !important; border-bottom-style: solid !important; border-bottom-width: 2px !important; border-bottom-color: #D3D3D3 !important; border-left-style: none !important; border-left-width: 1px !important; border-left-color: #D3D3D3 !important; border-right-style: none !important; border-right-width: 1px !important; border-right-color: #D3D3D3 !important; vertical-align: middle !important; text-align: left !important; }\n",
       " #lljedgobox .gt_empty_group_heading { padding: 0.5px !important; color: #333333 !important; background-color: #FFFFFF !important; font-size: 100% !important; font-weight: initial !important; border-top-style: solid !important; border-top-width: 2px !important; border-top-color: #D3D3D3 !important; border-bottom-style: solid !important; border-bottom-width: 2px !important; border-bottom-color: #D3D3D3 !important; vertical-align: middle !important; }\n",
       " #lljedgobox .gt_from_md> :first-child { margin-top: 0 !important; }\n",
       " #lljedgobox .gt_from_md> :last-child { margin-bottom: 0 !important; }\n",
       " #lljedgobox .gt_row { padding-top: 8px !important; padding-bottom: 8px !important; padding-left: 5px !important; padding-right: 5px !important; margin: 10px !important; border-top-style: solid !important; border-top-width: 1px !important; border-top-color: #D3D3D3 !important; border-left-style: none !important; border-left-width: 1px !important; border-left-color: #D3D3D3 !important; border-right-style: none !important; border-right-width: 1px !important; border-right-color: #D3D3D3 !important; vertical-align: middle !important; overflow-x: hidden !important; }\n",
       " #lljedgobox .gt_stub { color: #333333 !important; background-color: #FFFFFF !important; font-size: 100% !important; font-weight: initial !important; text-transform: inherit !important; border-right-style: solid !important; border-right-width: 2px !important; border-right-color: #D3D3D3 !important; padding-left: 5px !important; padding-right: 5px !important; }\n",
       " #lljedgobox .gt_stub_row_group { color: #333333 !important; background-color: #FFFFFF !important; font-size: 100% !important; font-weight: initial !important; text-transform: inherit !important; border-right-style: solid !important; border-right-width: 2px !important; border-right-color: #D3D3D3 !important; padding-left: 5px !important; padding-right: 5px !important; vertical-align: top !important; }\n",
       " #lljedgobox .gt_row_group_first td { border-top-width: 2px !important; }\n",
       " #lljedgobox .gt_row_group_first th { border-top-width: 2px !important; }\n",
       " #lljedgobox .gt_striped { background-color: rgba(128,128,128,0.05) !important; }\n",
       " #lljedgobox .gt_table_body { border-top-style: solid !important; border-top-width: 2px !important; border-top-color: #D3D3D3 !important; border-bottom-style: solid !important; border-bottom-width: 2px !important; border-bottom-color: #D3D3D3 !important; }\n",
       " #lljedgobox .gt_sourcenotes { color: #333333 !important; background-color: #FFFFFF !important; border-bottom-style: none !important; border-bottom-width: 2px !important; border-bottom-color: #D3D3D3 !important; border-left-style: none !important; border-left-width: 2px !important; border-left-color: #D3D3D3 !important; border-right-style: none !important; border-right-width: 2px !important; border-right-color: #D3D3D3 !important; }\n",
       " #lljedgobox .gt_sourcenote { font-size: small !important; padding-top: 4px !important; padding-bottom: 4px !important; padding-left: 5px !important; padding-right: 5px !important; text-align: left !important; }\n",
       " #lljedgobox .gt_left { text-align: left !important; }\n",
       " #lljedgobox .gt_center { text-align: center !important; }\n",
       " #lljedgobox .gt_right { text-align: right !important; font-variant-numeric: tabular-nums !important; }\n",
       " #lljedgobox .gt_font_normal { font-weight: normal !important; }\n",
       " #lljedgobox .gt_font_bold { font-weight: bold !important; }\n",
       " #lljedgobox .gt_font_italic { font-style: italic !important; }\n",
       " #lljedgobox .gt_super { font-size: 65% !important; }\n",
       " #lljedgobox .gt_footnote_marks { font-size: 75% !important; vertical-align: 0.4em !important; position: initial !important; }\n",
       " #lljedgobox .gt_asterisk { font-size: 100% !important; vertical-align: 0 !important; }\n",
       " \n",
       "</style>\n",
       "<table class=\"gt_table\" data-quarto-disable-processing=\"false\" data-quarto-bootstrap=\"false\">\n",
       "<thead>\n",
       "\n",
       "  <tr class=\"gt_heading\">\n",
       "    <td colspan=\"6\" class=\"gt_heading gt_title gt_font_normal\">ANOVA (Type III tests)</td>\n",
       "  </tr>\n",
       "<tr class=\"gt_col_headings\">\n",
       "  <th class=\"gt_col_heading gt_columns_bottom_border gt_left\" rowspan=\"1\" colspan=\"1\" scope=\"col\" id=\"model term\">model term</th>\n",
       "  <th class=\"gt_col_heading gt_columns_bottom_border gt_right\" rowspan=\"1\" colspan=\"1\" scope=\"col\" id=\"df1\">df1</th>\n",
       "  <th class=\"gt_col_heading gt_columns_bottom_border gt_right\" rowspan=\"1\" colspan=\"1\" scope=\"col\" id=\"df2\">df2</th>\n",
       "  <th class=\"gt_col_heading gt_columns_bottom_border gt_right\" rowspan=\"1\" colspan=\"1\" scope=\"col\" id=\"F_ratio\">F_ratio</th>\n",
       "  <th class=\"gt_col_heading gt_columns_bottom_border gt_left\" rowspan=\"1\" colspan=\"1\" scope=\"col\" id=\"p_value\">p_value</th>\n",
       "  <th class=\"gt_col_heading gt_columns_bottom_border gt_left\" rowspan=\"1\" colspan=\"1\" scope=\"col\" id=\"\"></th>\n",
       "</tr>\n",
       "</thead>\n",
       "<tbody class=\"gt_table_body\">\n",
       "  <tr>\n",
       "    <td class=\"gt_row gt_left\">hand</td>\n",
       "    <td class=\"gt_row gt_right\">2</td>\n",
       "    <td class=\"gt_row gt_right\">294</td>\n",
       "    <td class=\"gt_row gt_right\">79.169</td>\n",
       "    <td class=\"gt_row gt_left\"><.001</td>\n",
       "    <td class=\"gt_row gt_left\">***</td>\n",
       "  </tr>\n",
       "  <tr>\n",
       "    <td class=\"gt_row gt_left\">skill</td>\n",
       "    <td class=\"gt_row gt_right\">1</td>\n",
       "    <td class=\"gt_row gt_right\">294</td>\n",
       "    <td class=\"gt_row gt_right\">2.434</td>\n",
       "    <td class=\"gt_row gt_left\">0.1198</td>\n",
       "    <td class=\"gt_row gt_left\"></td>\n",
       "  </tr>\n",
       "  <tr>\n",
       "    <td class=\"gt_row gt_left\">hand:skill</td>\n",
       "    <td class=\"gt_row gt_right\">2</td>\n",
       "    <td class=\"gt_row gt_right\">294</td>\n",
       "    <td class=\"gt_row gt_right\">7.083</td>\n",
       "    <td class=\"gt_row gt_left\"><.001</td>\n",
       "    <td class=\"gt_row gt_left\">***</td>\n",
       "  </tr>\n",
       "</tbody>\n",
       "  <tfoot class=\"gt_sourcenotes\">\n",
       "  \n",
       "  <tr>\n",
       "    <td class=\"gt_sourcenote\" colspan=\"6\">Signif. codes: <em>0 *** 0.001 ** 0.01 * 0.05 . 0.1</em></td>\n",
       "  </tr>\n",
       "\n",
       "</tfoot>\n",
       "\n",
       "</table>\n",
       "\n",
       "</div>\n",
       "        "
      ],
      "text/plain": [
       "GT(_tbl_data=shape: (3, 6)\n",
       "┌────────────┬─────┬───────┬─────────┬─────────┬───────┐\n",
       "│ model term ┆ df1 ┆ df2   ┆ F_ratio ┆ p_value ┆ stars │\n",
       "│ ---        ┆ --- ┆ ---   ┆ ---     ┆ ---     ┆ ---   │\n",
       "│ str        ┆ f64 ┆ f64   ┆ f64     ┆ str     ┆ str   │\n",
       "╞════════════╪═════╪═══════╪═════════╪═════════╪═══════╡\n",
       "│ hand       ┆ 2.0 ┆ 294.0 ┆ 79.169  ┆ <.001   ┆ ***   │\n",
       "│ skill      ┆ 1.0 ┆ 294.0 ┆ 2.434   ┆ 0.1198  ┆       │\n",
       "│ hand:skill ┆ 2.0 ┆ 294.0 ┆ 7.083   ┆ <.001   ┆ ***   │\n",
       "└────────────┴─────┴───────┴─────────┴─────────┴───────┘, _body=<great_tables._gt_data.Body object at 0x173129cd0>, _boxhead=Boxhead([ColInfo(var='model term', type=<ColInfoTypeEnum.default: 1>, column_label='model term', column_align='left', column_width=None), ColInfo(var='df1', type=<ColInfoTypeEnum.default: 1>, column_label='df1', column_align='right', column_width=None), ColInfo(var='df2', type=<ColInfoTypeEnum.default: 1>, column_label='df2', column_align='right', column_width=None), ColInfo(var='F_ratio', type=<ColInfoTypeEnum.default: 1>, column_label='F_ratio', column_align='right', column_width=None), ColInfo(var='p_value', type=<ColInfoTypeEnum.default: 1>, column_label='p_value', column_align='left', column_width=None), ColInfo(var='stars', type=<ColInfoTypeEnum.default: 1>, column_label='', column_align='left', column_width=None)]), _stub=<great_tables._gt_data.Stub object at 0x173c4b020>, _spanners=Spanners([]), _heading=Heading(title='ANOVA (Type III tests)', subtitle=None, preheader=None), _stubhead=None, _source_notes=[Md(text='Signif. codes: *0 *** 0.001 ** 0.01 * 0.05 . 0.1*')], _footnotes=[], _styles=[], _locale=<great_tables._gt_data.Locale object at 0x16a75ae40>, _formats=[<great_tables._gt_data.FormatInfo object at 0x3046201a0>, <great_tables._gt_data.FormatInfo object at 0x1731edac0>], _substitutions=[], _options=Options(table_id=OptionsInfo(scss=False, category='table', type='value', value=None), table_caption=OptionsInfo(scss=False, category='table', type='value', value=None), table_width=OptionsInfo(scss=True, category='table', type='px', value='auto'), table_layout=OptionsInfo(scss=True, category='table', type='value', value='fixed'), table_margin_left=OptionsInfo(scss=True, category='table', type='px', value='auto'), table_margin_right=OptionsInfo(scss=True, category='table', type='px', value='auto'), table_background_color=OptionsInfo(scss=True, category='table', type='value', value='#FFFFFF'), table_additional_css=OptionsInfo(scss=False, category='table', type='values', value=[]), table_font_names=OptionsInfo(scss=False, category='table', type='values', value=['-apple-system', 'BlinkMacSystemFont', 'Segoe UI', 'Roboto', 'Oxygen', 'Ubuntu', 'Cantarell', 'Helvetica Neue', 'Fira Sans', 'Droid Sans', 'Arial', 'sans-serif']), table_font_size=OptionsInfo(scss=True, category='table', type='px', value='16px'), table_font_weight=OptionsInfo(scss=True, category='table', type='value', value='normal'), table_font_style=OptionsInfo(scss=True, category='table', type='value', value='normal'), table_font_color=OptionsInfo(scss=True, category='table', type='value', value='#333333'), table_font_color_light=OptionsInfo(scss=True, category='table', type='value', value='#FFFFFF'), table_border_top_include=OptionsInfo(scss=False, category='table', type='boolean', value=True), table_border_top_style=OptionsInfo(scss=True, category='table', type='value', value='solid'), table_border_top_width=OptionsInfo(scss=True, category='table', type='px', value='2px'), table_border_top_color=OptionsInfo(scss=True, category='table', type='value', value='#A8A8A8'), table_border_right_style=OptionsInfo(scss=True, category='table', type='value', value='none'), table_border_right_width=OptionsInfo(scss=True, category='table', type='px', value='2px'), table_border_right_color=OptionsInfo(scss=True, category='table', type='value', value='#D3D3D3'), table_border_bottom_include=OptionsInfo(scss=False, category='table', type='boolean', value=True), table_border_bottom_style=OptionsInfo(scss=True, category='table', type='value', value='solid'), table_border_bottom_width=OptionsInfo(scss=True, category='table', type='px', value='2px'), table_border_bottom_color=OptionsInfo(scss=True, category='table', type='value', value='#A8A8A8'), table_border_left_style=OptionsInfo(scss=True, category='table', type='value', value='none'), table_border_left_width=OptionsInfo(scss=True, category='table', type='px', value='2px'), table_border_left_color=OptionsInfo(scss=True, category='table', type='value', value='#D3D3D3'), heading_background_color=OptionsInfo(scss=True, category='heading', type='value', value=None), heading_align=OptionsInfo(scss=True, category='heading', type='value', value='left'), heading_title_font_size=OptionsInfo(scss=True, category='heading', type='px', value='125%'), heading_title_font_weight=OptionsInfo(scss=True, category='heading', type='value', value='initial'), heading_subtitle_font_size=OptionsInfo(scss=True, category='heading', type='px', value='85%'), heading_subtitle_font_weight=OptionsInfo(scss=True, category='heading', type='value', value='initial'), heading_padding=OptionsInfo(scss=True, category='heading', type='px', value='4px'), heading_padding_horizontal=OptionsInfo(scss=True, category='heading', type='px', value='5px'), heading_border_bottom_style=OptionsInfo(scss=True, category='heading', type='value', value='solid'), heading_border_bottom_width=OptionsInfo(scss=True, category='heading', type='px', value='2px'), heading_border_bottom_color=OptionsInfo(scss=True, category='heading', type='value', value='#D3D3D3'), heading_border_lr_style=OptionsInfo(scss=True, category='heading', type='value', value='none'), heading_border_lr_width=OptionsInfo(scss=True, category='heading', type='px', value='1px'), heading_border_lr_color=OptionsInfo(scss=True, category='heading', type='value', value='#D3D3D3'), column_labels_background_color=OptionsInfo(scss=True, category='column_labels', type='value', value=None), column_labels_font_size=OptionsInfo(scss=True, category='column_labels', type='px', value='100%'), column_labels_font_weight=OptionsInfo(scss=True, category='column_labels', type='value', value='normal'), column_labels_text_transform=OptionsInfo(scss=True, category='column_labels', type='value', value='inherit'), column_labels_padding=OptionsInfo(scss=True, category='column_labels', type='px', value='5px'), column_labels_padding_horizontal=OptionsInfo(scss=True, category='column_labels', type='px', value='5px'), column_labels_vlines_style=OptionsInfo(scss=True, category='table_body', type='value', value='none'), column_labels_vlines_width=OptionsInfo(scss=True, category='table_body', type='px', value='1px'), column_labels_vlines_color=OptionsInfo(scss=True, category='table_body', type='value', value='#D3D3D3'), column_labels_border_top_style=OptionsInfo(scss=True, category='column_labels', type='value', value='solid'), column_labels_border_top_width=OptionsInfo(scss=True, category='column_labels', type='px', value='2px'), column_labels_border_top_color=OptionsInfo(scss=True, category='column_labels', type='value', value='#D3D3D3'), column_labels_border_bottom_style=OptionsInfo(scss=True, category='column_labels', type='value', value='solid'), column_labels_border_bottom_width=OptionsInfo(scss=True, category='column_labels', type='px', value='2px'), column_labels_border_bottom_color=OptionsInfo(scss=True, category='column_labels', type='value', value='#D3D3D3'), column_labels_border_lr_style=OptionsInfo(scss=True, category='column_labels', type='value', value='none'), column_labels_border_lr_width=OptionsInfo(scss=True, category='column_labels', type='px', value='1px'), column_labels_border_lr_color=OptionsInfo(scss=True, category='column_labels', type='value', value='#D3D3D3'), column_labels_hidden=OptionsInfo(scss=False, category='column_labels', type='boolean', value=False), row_group_background_color=OptionsInfo(scss=True, category='row_group', type='value', value=None), row_group_font_size=OptionsInfo(scss=True, category='row_group', type='px', value='100%'), row_group_font_weight=OptionsInfo(scss=True, category='row_group', type='value', value='initial'), row_group_text_transform=OptionsInfo(scss=True, category='row_group', type='value', value='inherit'), row_group_padding=OptionsInfo(scss=True, category='row_group', type='px', value='8px'), row_group_padding_horizontal=OptionsInfo(scss=True, category='row_group', type='px', value='5px'), row_group_border_top_style=OptionsInfo(scss=True, category='row_group', type='value', value='solid'), row_group_border_top_width=OptionsInfo(scss=True, category='row_group', type='px', value='2px'), row_group_border_top_color=OptionsInfo(scss=True, category='row_group', type='value', value='#D3D3D3'), row_group_border_right_style=OptionsInfo(scss=True, category='row_group', type='value', value='none'), row_group_border_right_width=OptionsInfo(scss=True, category='row_group', type='px', value='1px'), row_group_border_right_color=OptionsInfo(scss=True, category='row_group', type='value', value='#D3D3D3'), row_group_border_bottom_style=OptionsInfo(scss=True, category='row_group', type='value', value='solid'), row_group_border_bottom_width=OptionsInfo(scss=True, category='row_group', type='px', value='2px'), row_group_border_bottom_color=OptionsInfo(scss=True, category='row_group', type='value', value='#D3D3D3'), row_group_border_left_style=OptionsInfo(scss=True, category='row_group', type='value', value='none'), row_group_border_left_width=OptionsInfo(scss=True, category='row_group', type='px', value='1px'), row_group_border_left_color=OptionsInfo(scss=True, category='row_group', type='value', value='#D3D3D3'), row_group_as_column=OptionsInfo(scss=False, category='row_group', type='boolean', value=False), table_body_hlines_style=OptionsInfo(scss=True, category='table_body', type='value', value='solid'), table_body_hlines_width=OptionsInfo(scss=True, category='table_body', type='px', value='1px'), table_body_hlines_color=OptionsInfo(scss=True, category='table_body', type='value', value='#D3D3D3'), table_body_vlines_style=OptionsInfo(scss=True, category='table_body', type='value', value='none'), table_body_vlines_width=OptionsInfo(scss=True, category='table_body', type='px', value='1px'), table_body_vlines_color=OptionsInfo(scss=True, category='table_body', type='value', value='#D3D3D3'), table_body_border_top_style=OptionsInfo(scss=True, category='table_body', type='value', value='solid'), table_body_border_top_width=OptionsInfo(scss=True, category='table_body', type='px', value='2px'), table_body_border_top_color=OptionsInfo(scss=True, category='table_body', type='value', value='#D3D3D3'), table_body_border_bottom_style=OptionsInfo(scss=True, category='table_body', type='value', value='solid'), table_body_border_bottom_width=OptionsInfo(scss=True, category='table_body', type='px', value='2px'), table_body_border_bottom_color=OptionsInfo(scss=True, category='table_body', type='value', value='#D3D3D3'), data_row_padding=OptionsInfo(scss=True, category='data_row', type='px', value='8px'), data_row_padding_horizontal=OptionsInfo(scss=True, category='data_row', type='px', value='5px'), stub_background_color=OptionsInfo(scss=True, category='stub', type='value', value=None), stub_font_size=OptionsInfo(scss=True, category='stub', type='px', value='100%'), stub_font_weight=OptionsInfo(scss=True, category='stub', type='value', value='initial'), stub_text_transform=OptionsInfo(scss=True, category='stub', type='value', value='inherit'), stub_border_style=OptionsInfo(scss=True, category='stub', type='value', value='solid'), stub_border_width=OptionsInfo(scss=True, category='stub', type='px', value='2px'), stub_border_color=OptionsInfo(scss=True, category='stub', type='value', value='#D3D3D3'), stub_row_group_background_color=OptionsInfo(scss=True, category='stub', type='value', value=None), stub_row_group_font_size=OptionsInfo(scss=True, category='stub', type='px', value='100%'), stub_row_group_font_weight=OptionsInfo(scss=True, category='stub', type='value', value='initial'), stub_row_group_text_transform=OptionsInfo(scss=True, category='stub', type='value', value='inherit'), stub_row_group_border_style=OptionsInfo(scss=True, category='stub', type='value', value='solid'), stub_row_group_border_width=OptionsInfo(scss=True, category='stub', type='px', value='2px'), stub_row_group_border_color=OptionsInfo(scss=True, category='stub', type='value', value='#D3D3D3'), source_notes_padding=OptionsInfo(scss=True, category='source_notes', type='px', value='4px'), source_notes_padding_horizontal=OptionsInfo(scss=True, category='source_notes', type='px', value='5px'), source_notes_background_color=OptionsInfo(scss=True, category='source_notes', type='value', value=None), source_notes_font_size=OptionsInfo(scss=True, category='source_notes', type='px', value='small'), source_notes_border_bottom_style=OptionsInfo(scss=True, category='source_notes', type='value', value='none'), source_notes_border_bottom_width=OptionsInfo(scss=True, category='source_notes', type='px', value='2px'), source_notes_border_bottom_color=OptionsInfo(scss=True, category='source_notes', type='value', value='#D3D3D3'), source_notes_border_lr_style=OptionsInfo(scss=True, category='source_notes', type='value', value='none'), source_notes_border_lr_width=OptionsInfo(scss=True, category='source_notes', type='px', value='2px'), source_notes_border_lr_color=OptionsInfo(scss=True, category='source_notes', type='value', value='#D3D3D3'), source_notes_multiline=OptionsInfo(scss=False, category='source_notes', type='boolean', value=True), source_notes_sep=OptionsInfo(scss=False, category='source_notes', type='value', value=' '), row_striping_background_color=OptionsInfo(scss=True, category='row', type='value', value='rgba(128,128,128,0.05)'), row_striping_include_stub=OptionsInfo(scss=False, category='row', type='boolean', value=False), row_striping_include_table_body=OptionsInfo(scss=False, category='row', type='boolean', value=False), container_width=OptionsInfo(scss=False, category='container', type='px', value='auto'), container_height=OptionsInfo(scss=False, category='container', type='px', value='auto'), container_padding_x=OptionsInfo(scss=False, category='container', type='px', value='0px'), container_padding_y=OptionsInfo(scss=False, category='container', type='px', value='10px'), container_overflow_x=OptionsInfo(scss=False, category='container', type='overflow', value='auto'), container_overflow_y=OptionsInfo(scss=False, category='container', type='overflow', value='auto'), quarto_disable_processing=OptionsInfo(scss=False, category='quarto', type='logical', value=False), quarto_use_bootstrap=OptionsInfo(scss=False, category='quarto', type='logical', value=False)), _has_built=False)"
      ]
     },
     "execution_count": 2,
     "metadata": {},
     "output_type": "execute_result"
    }
   ],
   "source": [
    "model = lm('balance ~ hand * skill', data=poker)\n",
    "model.set_factors(['hand', 'skill'])\n",
    "model.anova(summary=True)"
   ]
  },
  {
   "cell_type": "markdown",
   "metadata": {},
   "source": [
    "Compare levels of `hand` at each level of `skill`"
   ]
  },
  {
   "cell_type": "code",
   "execution_count": 5,
   "metadata": {},
   "outputs": [
    {
     "data": {
      "text/html": [
       "<div><style>\n",
       ".dataframe > thead > tr,\n",
       ".dataframe > tbody > tr {\n",
       "  text-align: right;\n",
       "  white-space: pre-wrap;\n",
       "}\n",
       "</style>\n",
       "<small>shape: (6, 9)</small><table border=\"1\" class=\"dataframe\"><thead><tr><th>contrast</th><th>skill</th><th>estimate</th><th>SE</th><th>df</th><th>lower_CL</th><th>upper_CL</th><th>t_ratio</th><th>p_value</th></tr><tr><td>cat</td><td>cat</td><td>f64</td><td>f64</td><td>f64</td><td>f64</td><td>f64</td><td>f64</td><td>f64</td></tr></thead><tbody><tr><td>&quot;bad - good&quot;</td><td>&quot;average&quot;</td><td>-9.211</td><td>0.804093</td><td>294.0</td><td>-11.141963</td><td>-7.280037</td><td>-11.455148</td><td>0.0</td></tr><tr><td>&quot;bad - neutral&quot;</td><td>&quot;average&quot;</td><td>-5.2572</td><td>0.804093</td><td>294.0</td><td>-7.188163</td><td>-3.326237</td><td>-6.538053</td><td>8.2552e-10</td></tr><tr><td>&quot;good - neutral&quot;</td><td>&quot;average&quot;</td><td>3.9538</td><td>0.804093</td><td>294.0</td><td>2.022837</td><td>5.884763</td><td>4.917095</td><td>0.000004</td></tr><tr><td>&quot;bad - good&quot;</td><td>&quot;expert&quot;</td><td>-4.9588</td><td>0.804093</td><td>294.0</td><td>-6.889763</td><td>-3.027837</td><td>-6.166951</td><td>6.8880e-9</td></tr><tr><td>&quot;bad - neutral&quot;</td><td>&quot;expert&quot;</td><td>-3.553</td><td>0.804093</td><td>294.0</td><td>-5.483963</td><td>-1.622037</td><td>-4.418645</td><td>0.000042</td></tr><tr><td>&quot;good - neutral&quot;</td><td>&quot;expert&quot;</td><td>1.4058</td><td>0.804093</td><td>294.0</td><td>-0.525163</td><td>3.336763</td><td>1.748306</td><td>0.225</td></tr></tbody></table></div>"
      ],
      "text/plain": [
       "shape: (6, 9)\n",
       "┌────────────┬─────────┬──────────┬──────────┬───┬────────────┬───────────┬────────────┬───────────┐\n",
       "│ contrast   ┆ skill   ┆ estimate ┆ SE       ┆ … ┆ lower_CL   ┆ upper_CL  ┆ t_ratio    ┆ p_value   │\n",
       "│ ---        ┆ ---     ┆ ---      ┆ ---      ┆   ┆ ---        ┆ ---       ┆ ---        ┆ ---       │\n",
       "│ cat        ┆ cat     ┆ f64      ┆ f64      ┆   ┆ f64        ┆ f64       ┆ f64        ┆ f64       │\n",
       "╞════════════╪═════════╪══════════╪══════════╪═══╪════════════╪═══════════╪════════════╪═══════════╡\n",
       "│ bad - good ┆ average ┆ -9.211   ┆ 0.804093 ┆ … ┆ -11.141963 ┆ -7.280037 ┆ -11.455148 ┆ 0.0       │\n",
       "│ bad -      ┆ average ┆ -5.2572  ┆ 0.804093 ┆ … ┆ -7.188163  ┆ -3.326237 ┆ -6.538053  ┆ 8.2552e-1 │\n",
       "│ neutral    ┆         ┆          ┆          ┆   ┆            ┆           ┆            ┆ 0         │\n",
       "│ good -     ┆ average ┆ 3.9538   ┆ 0.804093 ┆ … ┆ 2.022837   ┆ 5.884763  ┆ 4.917095   ┆ 0.000004  │\n",
       "│ neutral    ┆         ┆          ┆          ┆   ┆            ┆           ┆            ┆           │\n",
       "│ bad - good ┆ expert  ┆ -4.9588  ┆ 0.804093 ┆ … ┆ -6.889763  ┆ -3.027837 ┆ -6.166951  ┆ 6.8880e-9 │\n",
       "│ bad -      ┆ expert  ┆ -3.553   ┆ 0.804093 ┆ … ┆ -5.483963  ┆ -1.622037 ┆ -4.418645  ┆ 0.000042  │\n",
       "│ neutral    ┆         ┆          ┆          ┆   ┆            ┆           ┆            ┆           │\n",
       "│ good -     ┆ expert  ┆ 1.4058   ┆ 0.804093 ┆ … ┆ -0.525163  ┆ 3.336763  ┆ 1.748306   ┆ 0.225     │\n",
       "│ neutral    ┆         ┆          ┆          ┆   ┆            ┆           ┆            ┆           │\n",
       "└────────────┴─────────┴──────────┴──────────┴───┴────────────┴───────────┴────────────┴───────────┘"
      ]
     },
     "execution_count": 5,
     "metadata": {},
     "output_type": "execute_result"
    }
   ],
   "source": [
    "model.emmeans('hand', by='skill', contrasts='pairwise')"
   ]
  },
  {
   "cell_type": "markdown",
   "metadata": {},
   "source": [
    "Compare levels of `skill` at each level of `hand`"
   ]
  },
  {
   "cell_type": "code",
   "execution_count": 6,
   "metadata": {},
   "outputs": [
    {
     "data": {
      "text/html": [
       "<div><style>\n",
       ".dataframe > thead > tr,\n",
       ".dataframe > tbody > tr {\n",
       "  text-align: right;\n",
       "  white-space: pre-wrap;\n",
       "}\n",
       "</style>\n",
       "<small>shape: (3, 9)</small><table border=\"1\" class=\"dataframe\"><thead><tr><th>contrast</th><th>hand</th><th>estimate</th><th>SE</th><th>df</th><th>lower_CL</th><th>upper_CL</th><th>t_ratio</th><th>p_value</th></tr><tr><td>cat</td><td>cat</td><td>f64</td><td>f64</td><td>f64</td><td>f64</td><td>f64</td><td>f64</td><td>f64</td></tr></thead><tbody><tr><td>&quot;average - expert&quot;</td><td>&quot;bad&quot;</td><td>-2.7098</td><td>0.804093</td><td>294.0</td><td>-4.292307</td><td>-1.127293</td><td>-3.37001</td><td>0.000852</td></tr><tr><td>&quot;average - expert&quot;</td><td>&quot;good&quot;</td><td>1.5424</td><td>0.804093</td><td>294.0</td><td>-0.040107</td><td>3.124907</td><td>1.918187</td><td>0.056056</td></tr><tr><td>&quot;average - expert&quot;</td><td>&quot;neutral&quot;</td><td>-1.0056</td><td>0.804093</td><td>294.0</td><td>-2.588107</td><td>0.576907</td><td>-1.250602</td><td>0.212074</td></tr></tbody></table></div>"
      ],
      "text/plain": [
       "shape: (3, 9)\n",
       "┌───────────┬─────────┬──────────┬──────────┬───┬───────────┬───────────┬───────────┬──────────┐\n",
       "│ contrast  ┆ hand    ┆ estimate ┆ SE       ┆ … ┆ lower_CL  ┆ upper_CL  ┆ t_ratio   ┆ p_value  │\n",
       "│ ---       ┆ ---     ┆ ---      ┆ ---      ┆   ┆ ---       ┆ ---       ┆ ---       ┆ ---      │\n",
       "│ cat       ┆ cat     ┆ f64      ┆ f64      ┆   ┆ f64       ┆ f64       ┆ f64       ┆ f64      │\n",
       "╞═══════════╪═════════╪══════════╪══════════╪═══╪═══════════╪═══════════╪═══════════╪══════════╡\n",
       "│ average - ┆ bad     ┆ -2.7098  ┆ 0.804093 ┆ … ┆ -4.292307 ┆ -1.127293 ┆ -3.37001  ┆ 0.000852 │\n",
       "│ expert    ┆         ┆          ┆          ┆   ┆           ┆           ┆           ┆          │\n",
       "│ average - ┆ good    ┆ 1.5424   ┆ 0.804093 ┆ … ┆ -0.040107 ┆ 3.124907  ┆ 1.918187  ┆ 0.056056 │\n",
       "│ expert    ┆         ┆          ┆          ┆   ┆           ┆           ┆           ┆          │\n",
       "│ average - ┆ neutral ┆ -1.0056  ┆ 0.804093 ┆ … ┆ -2.588107 ┆ 0.576907  ┆ -1.250602 ┆ 0.212074 │\n",
       "│ expert    ┆         ┆          ┆          ┆   ┆           ┆           ┆           ┆          │\n",
       "└───────────┴─────────┴──────────┴──────────┴───┴───────────┴───────────┴───────────┴──────────┘"
      ]
     },
     "execution_count": 6,
     "metadata": {},
     "output_type": "execute_result"
    }
   ],
   "source": [
    "model.emmeans('skill', by='hand', contrasts='pairwise')"
   ]
  },
  {
   "cell_type": "markdown",
   "metadata": {},
   "source": [
    "Perform pairwise comparisons between all combinations of `hand` and `skill`"
   ]
  },
  {
   "cell_type": "code",
   "execution_count": 10,
   "metadata": {},
   "outputs": [
    {
     "data": {
      "text/html": [
       "<div><style>\n",
       ".dataframe > thead > tr,\n",
       ".dataframe > tbody > tr {\n",
       "  text-align: right;\n",
       "  white-space: pre-wrap;\n",
       "}\n",
       "</style>\n",
       "<small>shape: (5, 8)</small><table border=\"1\" class=\"dataframe\"><thead><tr><th>contrast</th><th>estimate</th><th>SE</th><th>df</th><th>lower_CL</th><th>upper_CL</th><th>t_ratio</th><th>p_value</th></tr><tr><td>str</td><td>f64</td><td>f64</td><td>f64</td><td>f64</td><td>f64</td><td>f64</td><td>f64</td></tr></thead><tbody><tr><td>&quot;bad average - good average&quot;</td><td>-9.211</td><td>0.804093</td><td>294.0</td><td>-11.584528</td><td>-6.837472</td><td>-11.455148</td><td>0.0</td></tr><tr><td>&quot;bad average - neutral average&quot;</td><td>-5.2572</td><td>0.804093</td><td>294.0</td><td>-7.630728</td><td>-2.883672</td><td>-6.538053</td><td>4.1276e-9</td></tr><tr><td>&quot;bad average - bad expert&quot;</td><td>-2.7098</td><td>0.804093</td><td>294.0</td><td>-5.083328</td><td>-0.336272</td><td>-3.37001</td><td>0.012705</td></tr><tr><td>&quot;bad average - good expert&quot;</td><td>-7.6686</td><td>0.804093</td><td>294.0</td><td>-10.042128</td><td>-5.295072</td><td>-9.536961</td><td>0.0</td></tr><tr><td>&quot;bad average - neutral expert&quot;</td><td>-6.2628</td><td>0.804093</td><td>294.0</td><td>-8.636328</td><td>-3.889272</td><td>-7.788655</td><td>1.7553e-12</td></tr></tbody></table></div>"
      ],
      "text/plain": [
       "shape: (5, 8)\n",
       "┌─────────────────┬──────────┬──────────┬───────┬────────────┬───────────┬────────────┬────────────┐\n",
       "│ contrast        ┆ estimate ┆ SE       ┆ df    ┆ lower_CL   ┆ upper_CL  ┆ t_ratio    ┆ p_value    │\n",
       "│ ---             ┆ ---      ┆ ---      ┆ ---   ┆ ---        ┆ ---       ┆ ---        ┆ ---        │\n",
       "│ str             ┆ f64      ┆ f64      ┆ f64   ┆ f64        ┆ f64       ┆ f64        ┆ f64        │\n",
       "╞═════════════════╪══════════╪══════════╪═══════╪════════════╪═══════════╪════════════╪════════════╡\n",
       "│ bad average -   ┆ -9.211   ┆ 0.804093 ┆ 294.0 ┆ -11.584528 ┆ -6.837472 ┆ -11.455148 ┆ 0.0        │\n",
       "│ good average    ┆          ┆          ┆       ┆            ┆           ┆            ┆            │\n",
       "│ bad average -   ┆ -5.2572  ┆ 0.804093 ┆ 294.0 ┆ -7.630728  ┆ -2.883672 ┆ -6.538053  ┆ 4.1276e-9  │\n",
       "│ neutral average ┆          ┆          ┆       ┆            ┆           ┆            ┆            │\n",
       "│ bad average -   ┆ -2.7098  ┆ 0.804093 ┆ 294.0 ┆ -5.083328  ┆ -0.336272 ┆ -3.37001   ┆ 0.012705   │\n",
       "│ bad expert      ┆          ┆          ┆       ┆            ┆           ┆            ┆            │\n",
       "│ bad average -   ┆ -7.6686  ┆ 0.804093 ┆ 294.0 ┆ -10.042128 ┆ -5.295072 ┆ -9.536961  ┆ 0.0        │\n",
       "│ good expert     ┆          ┆          ┆       ┆            ┆           ┆            ┆            │\n",
       "│ bad average -   ┆ -6.2628  ┆ 0.804093 ┆ 294.0 ┆ -8.636328  ┆ -3.889272 ┆ -7.788655  ┆ 1.7553e-12 │\n",
       "│ neutral expert  ┆          ┆          ┆       ┆            ┆           ┆            ┆            │\n",
       "└─────────────────┴──────────┴──────────┴───────┴────────────┴───────────┴────────────┴────────────┘"
      ]
     },
     "execution_count": 10,
     "metadata": {},
     "output_type": "execute_result"
    }
   ],
   "source": [
    "# 15 comparisons just print the first 5\n",
    "model.emmeans(['hand', 'skill'], contrasts='pairwise').head()"
   ]
  },
  {
   "cell_type": "markdown",
   "metadata": {},
   "source": [
    "## I want to perform an unequal-variances t-test\n",
    "\n",
    "In situations when group sizes are different you may want to account for unequal variances. You can do this using the `weights` argument to a model.  "
   ]
  },
  {
   "cell_type": "code",
   "execution_count": 2,
   "metadata": {
    "tags": [
     "hide-input"
    ]
   },
   "outputs": [
    {
     "data": {
      "image/png": "[encoded data removed]",
      "text/plain": [
       "<Figure size 300x400 with 1 Axes>"
      ]
     },
     "metadata": {
      "image/png": {
       "height": 390,
       "width": 290
      }
     },
     "output_type": "display_data"
    }
   ],
   "source": [
    "from pymer4.models import lm\n",
    "from pymer4 import load_dataset\n",
    "import seaborn as sns\n",
    "import numpy as np\n",
    "import polars as pl\n",
    "from polars import col\n",
    "from scipy.stats import ttest_ind\n",
    "\n",
    "df = load_dataset(\"credit\")\n",
    "\n",
    "grid = sns.catplot(\n",
    "    x=\"Student\",\n",
    "    y=\"Balance\",\n",
    "    kind=\"bar\",\n",
    "    hue=\"Student\",\n",
    "    order=[\"Yes\", \"No\"],\n",
    "    aspect=0.75,\n",
    "    height=4,\n",
    "    estimator=np.count_nonzero,\n",
    "    data=df.to_pandas(),\n",
    ")\n",
    "grid.set_ylabels('Number of Observations');"
   ]
  },
  {
   "cell_type": "markdown",
   "metadata": {},
   "source": [
    "We can do this in `scipy` using an unequal variance (\"Welch's\") t-test:"
   ]
  },
  {
   "cell_type": "code",
   "execution_count": null,
   "metadata": {},
   "outputs": [
    {
     "name": "stdout",
     "output_type": "stream",
     "text": [
      "t-test = 5.350\n",
      "Welch's t-test = 4.903\n"
     ]
    }
   ],
   "source": [
    "student = df.filter(col('Student') == 'Yes').select('Balance')\n",
    "non_student = df.filter(col('Student') == 'No').select('Balance')\n",
    "\n",
    "# Regular independent samples t-test\n",
    "results = ttest_ind(student, non_student)\n",
    "\n",
    "# equal_var = False is the important part\n",
    "welch_results = ttest_ind(student, non_student, equal_var=False)\n",
    "\n",
    "print(f\"t-test = {results.statistic[0]:.3f}\")\n",
    "print(f\"Welch's t-test = {welch_results.statistic[0]:.3f}\")"
   ]
  },
  {
   "cell_type": "markdown",
   "metadata": {},
   "source": [
    "In regression terms this is a *weighted-least-squares* (WLS) model, where the weights are the inverse of each group's variance"
   ]
  },
  {
   "cell_type": "code",
   "execution_count": 6,
   "metadata": {},
   "outputs": [],
   "source": [
    "# Create column called weights which is equal to 1 / var for each group\n",
    "df = df.with_columns(\n",
    "    pl.when(col(\"Student\") == \"No\")\n",
    "    .then(1 / non_student.var(ddof=1).item())\n",
    "    .otherwise(1 / student.var(ddof=1).item())\n",
    "    .alias('student_weights')\n",
    ")\n",
    "\n",
    "# Normal regression/t-test\n",
    "ols = lm('Balance ~ Student', data=df)\n",
    "ols.set_factors('Student')\n",
    "ols.fit()\n",
    "\n",
    "# Weighted regression/unequal var t-test\n",
    "wls = lm('Balance ~ Student', weights='student_weights', data=df)\n",
    "wls.set_factors('Student')\n",
    "wls.fit()"
   ]
  },
  {
   "cell_type": "code",
   "execution_count": 9,
   "metadata": {},
   "outputs": [
    {
     "name": "stdout",
     "output_type": "stream",
     "text": [
      "OLS (t-test): 5.350\n",
      "WLS (t-test): 4.903\n"
     ]
    }
   ],
   "source": [
    "print(f\"OLS (t-test): {ols.result_fit[-1, 't_stat']:.3f}\")\n",
    "print(f\"WLS (t-test): {wls.result_fit[-1, 't_stat']:.3f}\")"
   ]
  },
  {
   "cell_type": "markdown",
   "metadata": {},
   "source": [
    "## I know the R code. How do I do it in `pymer4`?\n",
    "\n",
    "In general, you can use the `make_rfunc()` with a Python string as input to convert an R function to a Python function.  \n",
    "Here's an example from a previous [github issue](https://github.com/ejolly/pymer4/issues/111) requesting the output of `VarCorr(mixed_model)`.  \n",
    "While this information is available in the `.ranef_var` attribute of a model, here's how we can do it directly in R:"
   ]
  },
  {
   "cell_type": "code",
   "execution_count": null,
   "metadata": {},
   "outputs": [],
   "source": [
    "from pymer4 import make_rfunc, load_dataset\n",
    "from pymer4.models import lmer\n",
    "\n",
    "# Load dataset and fit the model\n",
    "sleep = load_dataset(\"sleep\")\n",
    "model = lmer(\"Reaction ~ Days + (Days | Subject)\", data=sleep)\n",
    "model.fit()\n",
    "\n",
    "# Make a function that returns the coefficients of a model\n",
    "varcorr = make_rfunc(\"\"\"\n",
    "function(model) {\n",
    "output <- VarCorr(model, condVar=TRUE)\n",
    "return(output)\n",
    "}\n",
    "\"\"\")\n",
    "\n",
    "# Use the function passing in a model's .r_model attribute\n",
    "out = varcorr(model.r_model)"
   ]
  },
  {
   "cell_type": "markdown",
   "metadata": {},
   "source": [
    "Using the function will return an R data-type"
   ]
  },
  {
   "cell_type": "code",
   "execution_count": null,
   "metadata": {},
   "outputs": [
    {
     "data": {
      "text/html": [
       "\n",
       "        <span>ListVector with 1 elements.</span>\n",
       "        <table>\n",
       "        <tbody>\n",
       "        \n",
       "          <tr>\n",
       "            <th>\n",
       "            Subject\n",
       "            </th>\n",
       "            <td>\n",
       "            <rpy2.rinterface.FloatSexpVector object at 0x17daae550> [14]\n",
       "            </td>\n",
       "          </tr>\n",
       "        \n",
       "        </tbody>\n",
       "        </table>\n",
       "        "
      ],
      "text/plain": [
       "<rpy2.robjects.vectors.ListVector object at 0x17dc58690> [19]\n",
       "R classes: ('VarCorr.merMod',)\n",
       "[FloatSexpVector]\n",
       "  Subject: <class 'rpy2.rinterface.FloatSexpVector'>\n",
       "  <rpy2.rinterface.FloatSexpVector object at 0x17daad490> [14]"
      ]
     },
     "metadata": {},
     "output_type": "display_data"
    }
   ],
   "source": [
    "out"
   ]
  },
  {
   "cell_type": "markdown",
   "metadata": {},
   "source": [
    "But you can use any of the functions in the [`pymer4.tidystats.bridge`](../api/tidystats.md#bridge) module to convert them to Python types.\n",
    "\n",
    "The most general purpose of these is `to_dict()`"
   ]
  },
  {
   "cell_type": "code",
   "execution_count": null,
   "metadata": {},
   "outputs": [
    {
     "data": {
      "text/plain": [
       "{'Subject': array([[612.10015806,   9.60440895],\n",
       "        [  9.60440895,  35.07171445]])}"
      ]
     },
     "metadata": {},
     "output_type": "display_data"
    }
   ],
   "source": [
    "import pymer4.tidystats as ts\n",
    "ts.to_dict(out)"
   ]
  },
  {
   "cell_type": "markdown",
   "metadata": {},
   "source": [
    "Since out is just a variance-covariance matrix we can use `R2numpy()` instead"
   ]
  },
  {
   "cell_type": "code",
   "execution_count": null,
   "metadata": {},
   "outputs": [
    {
     "data": {
      "text/plain": [
       "array([[[612.10015806,   9.60440895],\n",
       "        [  9.60440895,  35.07171445]]])"
      ]
     },
     "metadata": {},
     "output_type": "display_data"
    }
   ],
   "source": [
    "ts.R2numpy(out)"
   ]
  }
 ],
 "metadata": {
  "kernelspec": {
   "display_name": "default",
   "language": "python",
   "name": "python3"
  },
  "language_info": {
   "codemirror_mode": {
    "name": "ipython",
    "version": 3
   },
   "file_extension": ".py",
   "mimetype": "text/x-python",
   "name": "python",
   "nbconvert_exporter": "python",
   "pygments_lexer": "ipython3",
   "version": "3.12.10"
  }
 },
 "nbformat": 4,
 "nbformat_minor": 2
}
