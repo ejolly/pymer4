{
 "cells": [
  {
   "cell_type": "markdown",
   "metadata": {},
   "source": [
    "# Linear Mixed Models\n",
    "\n",
    "The `lmer()` class makes it easy to work with linear-mixed models (multi-level models) estimated via maximum-likelihood or restricted-maximum-likelihood estimation\n",
    "\n",
    "Random-effects can be specified using the same [formula syntax as lme4 in R](../pages/faqs.ipynb)\n"
   ]
  },
  {
   "cell_type": "markdown",
   "metadata": {},
   "source": [
    "**Core Methods and Attributes**  \n",
    "\n",
    "| Method | Description |\n",
    "|--------|-------------|\n",
    "| [`.fit()`](../api/models/lmer.md#pymer4.models.lmer.lmer.fit) | Fit a model using `lm()` in R |\n",
    "| [`.anova()`](../api/models/lmer.md#pymer4.models.lmer.lmer.anova) | Calculate a Type-III ANOVA table using `joint_tests()` in R |\n",
    "| [`.summary()`](../api/models/lmer.md#pymer4.models.base.model.summary) | Get a nicely formatted table containing `.result_fit` |\n",
    "| [`.empredict()`](../api/models/lmer.md#pymer4.models.base.model.empredict) | Compute marginal predictions are arbitrary values of predictors |\n",
    "| [`.emmeans()`](../api/models/lmer.md#pymer4.models.lmer.lmer.emmeans) | Compute marginal means/contrasts as specific factor levels |\n",
    "| [`.simulate()`](../api/models/lmer.md#pymer4.models.lmer.lmer.simulate) | Simulate new observations from the fitted model |\n",
    "| [`.predict()`](../api/models/lmer.md#pymer4.models.lmer.lmer.predict) | Make predictions given a new dataset |\n",
    "\n",
    "Models always store the results of their last estimation as `polars` Dataframes in the following attributes:\n",
    "\n",
    "| Attribute | Stores |\n",
    "|--------|-------------|\n",
    "| `.params`| parameter estimates |\n",
    "| `.ranef`| cluster-level deviances for random-effects terms |\n",
    "| `.ranef_var`| variances and co-variance for random-effects terms |\n",
    "| `.fixef`| cluster-level estimates for random-effects terms (`.params + .ranef`); also commonly called [BLUPs](https://en.wikipedia.org/wiki/Best_linear_unbiased_prediction) |\n",
    "| `.result_fit`| parameter estimates, errors, & inferential statistics |\n",
    "| `.result_fit_stats`| model fit statistics |\n",
    "| `.result_anova`| ANOVA table |\n"
   ]
  },
  {
   "cell_type": "code",
   "execution_count": 1,
   "metadata": {},
   "outputs": [],
   "source": [
    "from pymer4.models import lmer\n",
    "from pymer4 import load_dataset\n",
    "sleep = load_dataset('sleep')"
   ]
  },
  {
   "cell_type": "markdown",
   "metadata": {},
   "source": [
    "## Random Intercepts"
   ]
  },
  {
   "cell_type": "code",
   "execution_count": 2,
   "metadata": {},
   "outputs": [],
   "source": [
    "model_i = lmer('Reaction ~ Days + (1 | Subject)', data=sleep)\n",
    "model_i.fit()"
   ]
  },
  {
   "cell_type": "markdown",
   "metadata": {},
   "source": [
    "As with `lm()` models, we can inspect estimates with the `.params` attribute. In the current model these are the estimates for the overall model intercept and slope for $Days$"
   ]
  },
  {
   "cell_type": "code",
   "execution_count": 3,
   "metadata": {},
   "outputs": [
    {
     "data": {
      "text/html": [
       "<div><style>\n",
       ".dataframe > thead > tr,\n",
       ".dataframe > tbody > tr {\n",
       "  text-align: right;\n",
       "  white-space: pre-wrap;\n",
       "}\n",
       "</style>\n",
       "<small>shape: (2, 2)</small><table border=\"1\" class=\"dataframe\"><thead><tr><th>term</th><th>estimate</th></tr><tr><td>str</td><td>f64</td></tr></thead><tbody><tr><td>&quot;(Intercept)&quot;</td><td>251.405105</td></tr><tr><td>&quot;Days&quot;</td><td>10.467286</td></tr></tbody></table></div>"
      ],
      "text/plain": [
       "shape: (2, 2)\n",
       "┌─────────────┬────────────┐\n",
       "│ term        ┆ estimate   │\n",
       "│ ---         ┆ ---        │\n",
       "│ str         ┆ f64        │\n",
       "╞═════════════╪════════════╡\n",
       "│ (Intercept) ┆ 251.405105 │\n",
       "│ Days        ┆ 10.467286  │\n",
       "└─────────────┴────────────┘"
      ]
     },
     "execution_count": 3,
     "metadata": {},
     "output_type": "execute_result"
    }
   ],
   "source": [
    "model_i.params"
   ]
  },
  {
   "cell_type": "markdown",
   "metadata": {},
   "source": [
    "We can see estimates for each cluster (each $Subject$), commonly called BLUPs, in the `.fixef` attribute  \n",
    "\n",
    "Because we only estimated a random *intercept* per $Subject$ all estimates (slopes) for $Days$ are the same"
   ]
  },
  {
   "cell_type": "code",
   "execution_count": 4,
   "metadata": {},
   "outputs": [
    {
     "data": {
      "text/html": [
       "<div><style>\n",
       ".dataframe > thead > tr,\n",
       ".dataframe > tbody > tr {\n",
       "  text-align: right;\n",
       "  white-space: pre-wrap;\n",
       "}\n",
       "</style>\n",
       "<small>shape: (5, 3)</small><table border=\"1\" class=\"dataframe\"><thead><tr><th>level</th><th>(Intercept)</th><th>Days</th></tr><tr><td>str</td><td>f64</td><td>f64</td></tr></thead><tbody><tr><td>&quot;308&quot;</td><td>292.188815</td><td>10.467286</td></tr><tr><td>&quot;309&quot;</td><td>173.555551</td><td>10.467286</td></tr><tr><td>&quot;310&quot;</td><td>188.296537</td><td>10.467286</td></tr><tr><td>&quot;330&quot;</td><td>255.811547</td><td>10.467286</td></tr><tr><td>&quot;331&quot;</td><td>261.621294</td><td>10.467286</td></tr></tbody></table></div>"
      ],
      "text/plain": [
       "shape: (5, 3)\n",
       "┌───────┬─────────────┬───────────┐\n",
       "│ level ┆ (Intercept) ┆ Days      │\n",
       "│ ---   ┆ ---         ┆ ---       │\n",
       "│ str   ┆ f64         ┆ f64       │\n",
       "╞═══════╪═════════════╪═══════════╡\n",
       "│ 308   ┆ 292.188815  ┆ 10.467286 │\n",
       "│ 309   ┆ 173.555551  ┆ 10.467286 │\n",
       "│ 310   ┆ 188.296537  ┆ 10.467286 │\n",
       "│ 330   ┆ 255.811547  ┆ 10.467286 │\n",
       "│ 331   ┆ 261.621294  ┆ 10.467286 │\n",
       "└───────┴─────────────┴───────────┘"
      ]
     },
     "execution_count": 4,
     "metadata": {},
     "output_type": "execute_result"
    }
   ],
   "source": [
    "model_i.fixef.head()"
   ]
  },
  {
   "cell_type": "markdown",
   "metadata": {},
   "source": [
    "These estimates are derived from the random deviances of each $Subject$ around the fixed parameter estimates. We can see those with `.ranef` which only contains a column for random intercepts"
   ]
  },
  {
   "cell_type": "code",
   "execution_count": 5,
   "metadata": {},
   "outputs": [
    {
     "data": {
      "text/html": [
       "<div><style>\n",
       ".dataframe > thead > tr,\n",
       ".dataframe > tbody > tr {\n",
       "  text-align: right;\n",
       "  white-space: pre-wrap;\n",
       "}\n",
       "</style>\n",
       "<small>shape: (5, 2)</small><table border=\"1\" class=\"dataframe\"><thead><tr><th>level</th><th>(Intercept)</th></tr><tr><td>str</td><td>f64</td></tr></thead><tbody><tr><td>&quot;308&quot;</td><td>40.78371</td></tr><tr><td>&quot;309&quot;</td><td>-77.849554</td></tr><tr><td>&quot;310&quot;</td><td>-63.108567</td></tr><tr><td>&quot;330&quot;</td><td>4.406442</td></tr><tr><td>&quot;331&quot;</td><td>10.216189</td></tr></tbody></table></div>"
      ],
      "text/plain": [
       "shape: (5, 2)\n",
       "┌───────┬─────────────┐\n",
       "│ level ┆ (Intercept) │\n",
       "│ ---   ┆ ---         │\n",
       "│ str   ┆ f64         │\n",
       "╞═══════╪═════════════╡\n",
       "│ 308   ┆ 40.78371    │\n",
       "│ 309   ┆ -77.849554  │\n",
       "│ 310   ┆ -63.108567  │\n",
       "│ 330   ┆ 4.406442    │\n",
       "│ 331   ┆ 10.216189   │\n",
       "└───────┴─────────────┘"
      ]
     },
     "execution_count": 5,
     "metadata": {},
     "output_type": "execute_result"
    }
   ],
   "source": [
    "model_i.ranef.head()"
   ]
  },
  {
   "cell_type": "markdown",
   "metadata": {},
   "source": [
    "We can see the variability across $Subject$'s using `.ranef_var`"
   ]
  },
  {
   "cell_type": "code",
   "execution_count": 6,
   "metadata": {},
   "outputs": [
    {
     "data": {
      "text/html": [
       "<div><style>\n",
       ".dataframe > thead > tr,\n",
       ".dataframe > tbody > tr {\n",
       "  text-align: right;\n",
       "  white-space: pre-wrap;\n",
       "}\n",
       "</style>\n",
       "<small>shape: (2, 5)</small><table border=\"1\" class=\"dataframe\"><thead><tr><th>group</th><th>term</th><th>estimate</th><th>conf_low</th><th>conf_high</th></tr><tr><td>str</td><td>str</td><td>f64</td><td>f64</td><td>f64</td></tr></thead><tbody><tr><td>&quot;Subject&quot;</td><td>&quot;sd__(Intercept)&quot;</td><td>37.123827</td><td>null</td><td>null</td></tr><tr><td>&quot;Residual&quot;</td><td>&quot;sd__Observation&quot;</td><td>30.991234</td><td>null</td><td>null</td></tr></tbody></table></div>"
      ],
      "text/plain": [
       "shape: (2, 5)\n",
       "┌──────────┬─────────────────┬───────────┬──────────┬───────────┐\n",
       "│ group    ┆ term            ┆ estimate  ┆ conf_low ┆ conf_high │\n",
       "│ ---      ┆ ---             ┆ ---       ┆ ---      ┆ ---       │\n",
       "│ str      ┆ str             ┆ f64       ┆ f64      ┆ f64       │\n",
       "╞══════════╪═════════════════╪═══════════╪══════════╪═══════════╡\n",
       "│ Subject  ┆ sd__(Intercept) ┆ 37.123827 ┆ null     ┆ null      │\n",
       "│ Residual ┆ sd__Observation ┆ 30.991234 ┆ null     ┆ null      │\n",
       "└──────────┴─────────────────┴───────────┴──────────┴───────────┘"
      ]
     },
     "execution_count": 6,
     "metadata": {},
     "output_type": "execute_result"
    }
   ],
   "source": [
    "model_i.ranef_var"
   ]
  },
  {
   "cell_type": "markdown",
   "metadata": {},
   "source": [
    "Of course it's often easiest to see all this information at once using `.summary()`"
   ]
  },
  {
   "cell_type": "code",
   "execution_count": 7,
   "metadata": {},
   "outputs": [
    {
     "data": {
      "text/html": [
       "<div id=\"haszajphxw\" style=\"padding-left:0px;padding-right:0px;padding-top:10px;padding-bottom:10px;overflow-x:auto;overflow-y:auto;width:auto;height:auto;\">\n",
       "<style>\n",
       "#haszajphxw table {\n",
       "          font-family: -apple-system, BlinkMacSystemFont, 'Segoe UI', Roboto, Oxygen, Ubuntu, Cantarell, 'Helvetica Neue', 'Fira Sans', 'Droid Sans', Arial, sans-serif;\n",
       "          -webkit-font-smoothing: antialiased;\n",
       "          -moz-osx-font-smoothing: grayscale;\n",
       "        }\n",
       "\n",
       "#haszajphxw thead, tbody, tfoot, tr, td, th { border-style: none !important; }\n",
       " tr { background-color: transparent !important; }\n",
       "#haszajphxw p { margin: 0 !important; padding: 0 !important; }\n",
       " #haszajphxw .gt_table { display: table !important; border-collapse: collapse !important; line-height: normal !important; margin-left: auto !important; margin-right: auto !important; color: #333333 !important; font-size: 16px !important; font-weight: normal !important; font-style: normal !important; background-color: #FFFFFF !important; width: auto !important; border-top-style: solid !important; border-top-width: 2px !important; border-top-color: #A8A8A8 !important; border-right-style: none !important; border-right-width: 2px !important; border-right-color: #D3D3D3 !important; border-bottom-style: solid !important; border-bottom-width: 2px !important; border-bottom-color: #A8A8A8 !important; border-left-style: none !important; border-left-width: 2px !important; border-left-color: #D3D3D3 !important; }\n",
       " #haszajphxw .gt_caption { padding-top: 4px !important; padding-bottom: 4px !important; }\n",
       " #haszajphxw .gt_title { color: #333333 !important; font-size: 125% !important; font-weight: initial !important; padding-top: 3px !important; padding-bottom: 3px !important; padding-left: 5px !important; padding-right: 5px !important; border-bottom-color: #FFFFFF !important; border-bottom-width: 0 !important; }\n",
       " #haszajphxw .gt_subtitle { color: #333333 !important; font-size: 85% !important; font-weight: initial !important; padding-top: 2px !important; padding-bottom: 4px !important; padding-left: 5px !important; padding-right: 5px !important; border-top-color: #FFFFFF !important; border-top-width: 0 !important; }\n",
       " #haszajphxw .gt_heading { background-color: #FFFFFF !important; text-align: left !important; border-bottom-color: #FFFFFF !important; border-left-style: none !important; border-left-width: 1px !important; border-left-color: #D3D3D3 !important; border-right-style: none !important; border-right-width: 1px !important; border-right-color: #D3D3D3 !important; }\n",
       " #haszajphxw .gt_bottom_border { border-bottom-style: solid !important; border-bottom-width: 2px !important; border-bottom-color: #D3D3D3 !important; }\n",
       " #haszajphxw .gt_col_headings { border-top-style: solid !important; border-top-width: 2px !important; border-top-color: #D3D3D3 !important; border-bottom-style: solid !important; border-bottom-width: 2px !important; border-bottom-color: #D3D3D3 !important; border-left-style: none !important; border-left-width: 1px !important; border-left-color: #D3D3D3 !important; border-right-style: none !important; border-right-width: 1px !important; border-right-color: #D3D3D3 !important; }\n",
       " #haszajphxw .gt_col_heading { color: #333333 !important; background-color: #FFFFFF !important; font-size: 100% !important; font-weight: normal !important; text-transform: inherit !important; border-left-style: none !important; border-left-width: 1px !important; border-left-color: #D3D3D3 !important; border-right-style: none !important; border-right-width: 1px !important; border-right-color: #D3D3D3 !important; vertical-align: bottom !important; padding-top: 3px !important; padding-bottom: 4px !important; padding-left: 5px !important; padding-right: 5px !important; overflow-x: hidden !important; }\n",
       " #haszajphxw .gt_column_spanner_outer { color: #333333 !important; background-color: #FFFFFF !important; font-size: 100% !important; font-weight: normal !important; text-transform: inherit !important; padding-top: 0 !important; padding-bottom: 0 !important; padding-left: 4px !important; padding-right: 4px !important; }\n",
       " #haszajphxw .gt_column_spanner_outer:first-child { padding-left: 0 !important; }\n",
       " #haszajphxw .gt_column_spanner_outer:last-child { padding-right: 0 !important; }\n",
       " #haszajphxw .gt_column_spanner { border-bottom-style: solid !important; border-bottom-width: 2px !important; border-bottom-color: #D3D3D3 !important; vertical-align: bottom !important; padding-top: 3px !important; padding-bottom: 3px !important; overflow-x: hidden !important; display: inline-block !important; width: 100% !important; }\n",
       " #haszajphxw .gt_spanner_row { border-bottom-style: hidden !important; }\n",
       " #haszajphxw .gt_group_heading { padding-top: 6px !important; padding-bottom: 6px !important; padding-left: 5px !important; padding-right: 5px !important; color: #333333 !important; background-color: #FFFFFF !important; font-size: 100% !important; font-weight: initial !important; text-transform: inherit !important; border-top-style: solid !important; border-top-width: 2px !important; border-top-color: #D3D3D3 !important; border-bottom-style: solid !important; border-bottom-width: 2px !important; border-bottom-color: #D3D3D3 !important; border-left-style: none !important; border-left-width: 1px !important; border-left-color: #D3D3D3 !important; border-right-style: none !important; border-right-width: 1px !important; border-right-color: #D3D3D3 !important; vertical-align: middle !important; text-align: left !important; }\n",
       " #haszajphxw .gt_empty_group_heading { padding: 0.5px !important; color: #333333 !important; background-color: #FFFFFF !important; font-size: 100% !important; font-weight: initial !important; border-top-style: solid !important; border-top-width: 2px !important; border-top-color: #D3D3D3 !important; border-bottom-style: solid !important; border-bottom-width: 2px !important; border-bottom-color: #D3D3D3 !important; vertical-align: middle !important; }\n",
       " #haszajphxw .gt_from_md> :first-child { margin-top: 0 !important; }\n",
       " #haszajphxw .gt_from_md> :last-child { margin-bottom: 0 !important; }\n",
       " #haszajphxw .gt_row { padding-top: 6px !important; padding-bottom: 6px !important; padding-left: 5px !important; padding-right: 5px !important; margin: 10px !important; border-top-style: solid !important; border-top-width: 1px !important; border-top-color: #D3D3D3 !important; border-left-style: none !important; border-left-width: 1px !important; border-left-color: #D3D3D3 !important; border-right-style: none !important; border-right-width: 1px !important; border-right-color: #D3D3D3 !important; vertical-align: middle !important; overflow-x: hidden !important; }\n",
       " #haszajphxw .gt_stub { color: #333333 !important; background-color: #FFFFFF !important; font-size: 100% !important; font-weight: initial !important; text-transform: inherit !important; border-right-style: solid !important; border-right-width: 2px !important; border-right-color: #D3D3D3 !important; padding-left: 5px !important; padding-right: 5px !important; }\n",
       " #haszajphxw .gt_stub_row_group { color: #333333 !important; background-color: #FFFFFF !important; font-size: 100% !important; font-weight: initial !important; text-transform: inherit !important; border-right-style: solid !important; border-right-width: 2px !important; border-right-color: #D3D3D3 !important; padding-left: 5px !important; padding-right: 5px !important; vertical-align: top !important; }\n",
       " #haszajphxw .gt_row_group_first td { border-top-width: 2px !important; }\n",
       " #haszajphxw .gt_row_group_first th { border-top-width: 2px !important; }\n",
       " #haszajphxw .gt_striped { background-color: rgba(128,128,128,0.05) !important; }\n",
       " #haszajphxw .gt_table_body { border-top-style: solid !important; border-top-width: 2px !important; border-top-color: #D3D3D3 !important; border-bottom-style: solid !important; border-bottom-width: 2px !important; border-bottom-color: #D3D3D3 !important; }\n",
       " #haszajphxw .gt_sourcenotes { color: #333333 !important; background-color: #FFFFFF !important; border-bottom-style: none !important; border-bottom-width: 2px !important; border-bottom-color: #D3D3D3 !important; border-left-style: none !important; border-left-width: 2px !important; border-left-color: #D3D3D3 !important; border-right-style: none !important; border-right-width: 2px !important; border-right-color: #D3D3D3 !important; }\n",
       " #haszajphxw .gt_sourcenote { font-size: small !important; padding-top: 3px !important; padding-bottom: 3px !important; padding-left: 5px !important; padding-right: 5px !important; text-align: left !important; }\n",
       " #haszajphxw .gt_left { text-align: left !important; }\n",
       " #haszajphxw .gt_center { text-align: center !important; }\n",
       " #haszajphxw .gt_right { text-align: right !important; font-variant-numeric: tabular-nums !important; }\n",
       " #haszajphxw .gt_font_normal { font-weight: normal !important; }\n",
       " #haszajphxw .gt_font_bold { font-weight: bold !important; }\n",
       " #haszajphxw .gt_font_italic { font-style: italic !important; }\n",
       " #haszajphxw .gt_super { font-size: 65% !important; }\n",
       " #haszajphxw .gt_footnote_marks { font-size: 75% !important; vertical-align: 0.4em !important; position: initial !important; }\n",
       " #haszajphxw .gt_asterisk { font-size: 100% !important; vertical-align: 0 !important; }\n",
       " \n",
       "</style>\n",
       "<table class=\"gt_table\" data-quarto-disable-processing=\"false\" data-quarto-bootstrap=\"false\">\n",
       "<thead>\n",
       "\n",
       "  <tr class=\"gt_heading\">\n",
       "    <td colspan=\"10\" class=\"gt_heading gt_title gt_font_normal\">Formula: lmer(Reaction~Days+(1|Subject))</td>\n",
       "  </tr>\n",
       "  <tr class=\"gt_heading\">\n",
       "    <td colspan=\"10\" class=\"gt_heading gt_subtitle gt_font_normal gt_bottom_border\">Number of observations: <em>180</em><br />\n",
       "Confidence intervals: <em>parametric</em><br />\n",
       "---------------------<br />\n",
       "Log-likelihood: <em>-893</em><br />\n",
       "AIC: <em>1794</em> | BIC: <em>1807</em><br />\n",
       "Residual error: <em>30.991</em></td>\n",
       "  </tr>\n",
       "<tr class=\"gt_col_headings\">\n",
       "  <th class=\"gt_col_heading gt_columns_bottom_border gt_left\" rowspan=\"1\" colspan=\"1\" scope=\"col\" id=\"Random Effects:\">Random Effects:</th>\n",
       "  <th class=\"gt_col_heading gt_columns_bottom_border gt_left\" rowspan=\"1\" colspan=\"1\" scope=\"col\" id=\"\"></th>\n",
       "  <th class=\"gt_col_heading gt_columns_bottom_border gt_right\" rowspan=\"1\" colspan=\"1\" scope=\"col\" id=\"Estimate\">Estimate</th>\n",
       "  <th class=\"gt_col_heading gt_columns_bottom_border gt_right\" rowspan=\"1\" colspan=\"1\" scope=\"col\" id=\"SE\">SE</th>\n",
       "  <th class=\"gt_col_heading gt_columns_bottom_border gt_right\" rowspan=\"1\" colspan=\"1\" scope=\"col\" id=\"CI-low\">CI-low</th>\n",
       "  <th class=\"gt_col_heading gt_columns_bottom_border gt_right\" rowspan=\"1\" colspan=\"1\" scope=\"col\" id=\"CI-high\">CI-high</th>\n",
       "  <th class=\"gt_col_heading gt_columns_bottom_border gt_right\" rowspan=\"1\" colspan=\"1\" scope=\"col\" id=\"T-stat\">T-stat</th>\n",
       "  <th class=\"gt_col_heading gt_columns_bottom_border gt_right\" rowspan=\"1\" colspan=\"1\" scope=\"col\" id=\"DF\">DF</th>\n",
       "  <th class=\"gt_col_heading gt_columns_bottom_border gt_left\" rowspan=\"1\" colspan=\"1\" scope=\"col\" id=\"p\">p</th>\n",
       "  <th class=\"gt_col_heading gt_columns_bottom_border gt_left\" rowspan=\"1\" colspan=\"1\" scope=\"col\" id=\"\"></th>\n",
       "</tr>\n",
       "</thead>\n",
       "<tbody class=\"gt_table_body\">\n",
       "  <tr>\n",
       "    <td class=\"gt_row gt_left\">Subject-sd</td>\n",
       "    <td style=\"font-style: italic;\" class=\"gt_row gt_left\">(Intercept)</td>\n",
       "    <td class=\"gt_row gt_right\">37.124</td>\n",
       "    <td class=\"gt_row gt_right\"></td>\n",
       "    <td class=\"gt_row gt_right\"></td>\n",
       "    <td class=\"gt_row gt_right\"></td>\n",
       "    <td class=\"gt_row gt_right\"></td>\n",
       "    <td class=\"gt_row gt_right\"></td>\n",
       "    <td class=\"gt_row gt_left\"></td>\n",
       "    <td class=\"gt_row gt_left\"></td>\n",
       "  </tr>\n",
       "  <tr>\n",
       "    <td class=\"gt_row gt_left\">Residual-sd</td>\n",
       "    <td style=\"font-style: italic;\" class=\"gt_row gt_left\">Observation</td>\n",
       "    <td class=\"gt_row gt_right\">30.991</td>\n",
       "    <td class=\"gt_row gt_right\"></td>\n",
       "    <td class=\"gt_row gt_right\"></td>\n",
       "    <td class=\"gt_row gt_right\"></td>\n",
       "    <td class=\"gt_row gt_right\"></td>\n",
       "    <td class=\"gt_row gt_right\"></td>\n",
       "    <td class=\"gt_row gt_left\"></td>\n",
       "    <td class=\"gt_row gt_left\"></td>\n",
       "  </tr>\n",
       "  <tr>\n",
       "    <td class=\"gt_row gt_left\"></td>\n",
       "    <td style=\"font-style: italic;\" class=\"gt_row gt_left\"></td>\n",
       "    <td class=\"gt_row gt_right\"></td>\n",
       "    <td class=\"gt_row gt_right\"></td>\n",
       "    <td class=\"gt_row gt_right\"></td>\n",
       "    <td class=\"gt_row gt_right\"></td>\n",
       "    <td class=\"gt_row gt_right\"></td>\n",
       "    <td class=\"gt_row gt_right\"></td>\n",
       "    <td class=\"gt_row gt_left\"></td>\n",
       "    <td class=\"gt_row gt_left\"></td>\n",
       "  </tr>\n",
       "  <tr>\n",
       "    <td class=\"gt_row gt_left\">Fixed Effects:</td>\n",
       "    <td style=\"font-style: italic;\" class=\"gt_row gt_left\"></td>\n",
       "    <td class=\"gt_row gt_right\"></td>\n",
       "    <td class=\"gt_row gt_right\"></td>\n",
       "    <td class=\"gt_row gt_right\"></td>\n",
       "    <td class=\"gt_row gt_right\"></td>\n",
       "    <td class=\"gt_row gt_right\"></td>\n",
       "    <td class=\"gt_row gt_right\"></td>\n",
       "    <td class=\"gt_row gt_left\"></td>\n",
       "    <td class=\"gt_row gt_left\"></td>\n",
       "  </tr>\n",
       "  <tr>\n",
       "    <td class=\"gt_row gt_left\"></td>\n",
       "    <td style=\"font-style: italic;\" class=\"gt_row gt_left\">(Intercept)</td>\n",
       "    <td class=\"gt_row gt_right\">251.405</td>\n",
       "    <td class=\"gt_row gt_right\">9.747</td>\n",
       "    <td class=\"gt_row gt_right\">231.233</td>\n",
       "    <td class=\"gt_row gt_right\">271.577</td>\n",
       "    <td class=\"gt_row gt_right\">25.794</td>\n",
       "    <td class=\"gt_row gt_right\">22.810</td>\n",
       "    <td class=\"gt_row gt_left\"><.001</td>\n",
       "    <td class=\"gt_row gt_left\">***</td>\n",
       "  </tr>\n",
       "  <tr>\n",
       "    <td class=\"gt_row gt_left\"></td>\n",
       "    <td style=\"font-style: italic;\" class=\"gt_row gt_left\">Days</td>\n",
       "    <td class=\"gt_row gt_right\">10.467</td>\n",
       "    <td class=\"gt_row gt_right\">0.804</td>\n",
       "    <td class=\"gt_row gt_right\">8.879</td>\n",
       "    <td class=\"gt_row gt_right\">12.055</td>\n",
       "    <td class=\"gt_row gt_right\">13.015</td>\n",
       "    <td class=\"gt_row gt_right\">161.000</td>\n",
       "    <td class=\"gt_row gt_left\"><.001</td>\n",
       "    <td class=\"gt_row gt_left\">***</td>\n",
       "  </tr>\n",
       "</tbody>\n",
       "  <tfoot class=\"gt_sourcenotes\">\n",
       "  \n",
       "  <tr>\n",
       "    <td class=\"gt_sourcenote\" colspan=\"10\">Signif. codes: <em>0 *** 0.001 ** 0.01 * 0.05 . 0.1</em></td>\n",
       "  </tr>\n",
       "\n",
       "</tfoot>\n",
       "\n",
       "</table>\n",
       "\n",
       "</div>\n",
       "        "
      ],
      "text/plain": [
       "GT(_tbl_data=shape: (6, 10)\n",
       "┌─────────────┬─────────────┬────────────┬───────────┬───┬───────────┬───────────┬─────────┬───────┐\n",
       "│ rfx         ┆ param       ┆ estimate   ┆ std_error ┆ … ┆ t_stat    ┆ df        ┆ p_value ┆ stars │\n",
       "│ ---         ┆ ---         ┆ ---        ┆ ---       ┆   ┆ ---       ┆ ---       ┆ ---     ┆ ---   │\n",
       "│ str         ┆ str         ┆ f64        ┆ f64       ┆   ┆ f64       ┆ f64       ┆ str     ┆ str   │\n",
       "╞═════════════╪═════════════╪════════════╪═══════════╪═══╪═══════════╪═══════════╪═════════╪═══════╡\n",
       "│ Subject-sd  ┆ (Intercept) ┆ 37.123827  ┆ null      ┆ … ┆ null      ┆ null      ┆ null    ┆ null  │\n",
       "│ Residual-sd ┆ Observation ┆ 30.991234  ┆ null      ┆ … ┆ null      ┆ null      ┆ null    ┆ null  │\n",
       "│ null        ┆ null        ┆ null       ┆ null      ┆ … ┆ null      ┆ null      ┆ null    ┆ null  │\n",
       "│ Fixed       ┆ null        ┆ null       ┆ null      ┆ … ┆ null      ┆ null      ┆ null    ┆ null  │\n",
       "│ Effects:    ┆             ┆            ┆           ┆   ┆           ┆           ┆         ┆       │\n",
       "│ null        ┆ (Intercept) ┆ 251.405105 ┆ 9.746716  ┆ … ┆ 25.793826 ┆ 22.810199 ┆ <.001   ┆ ***   │\n",
       "│ null        ┆ Days        ┆ 10.467286  ┆ 0.804221  ┆ … ┆ 13.015428 ┆ 161.0     ┆ <.001   ┆ ***   │\n",
       "└─────────────┴─────────────┴────────────┴───────────┴───┴───────────┴───────────┴─────────┴───────┘, _body=<great_tables._gt_data.Body object at 0x157f0a7e0>, _boxhead=Boxhead([ColInfo(var='rfx', type=<ColInfoTypeEnum.default: 1>, column_label='Random Effects:', column_align='left', column_width=None), ColInfo(var='param', type=<ColInfoTypeEnum.default: 1>, column_label='', column_align='left', column_width=None), ColInfo(var='estimate', type=<ColInfoTypeEnum.default: 1>, column_label='Estimate', column_align='right', column_width=None), ColInfo(var='std_error', type=<ColInfoTypeEnum.default: 1>, column_label='SE', column_align='right', column_width=None), ColInfo(var='conf_low', type=<ColInfoTypeEnum.default: 1>, column_label='CI-low', column_align='right', column_width=None), ColInfo(var='conf_high', type=<ColInfoTypeEnum.default: 1>, column_label='CI-high', column_align='right', column_width=None), ColInfo(var='t_stat', type=<ColInfoTypeEnum.default: 1>, column_label='T-stat', column_align='right', column_width=None), ColInfo(var='df', type=<ColInfoTypeEnum.default: 1>, column_label='DF', column_align='right', column_width=None), ColInfo(var='p_value', type=<ColInfoTypeEnum.default: 1>, column_label='p', column_align='left', column_width=None), ColInfo(var='stars', type=<ColInfoTypeEnum.default: 1>, column_label='', column_align='left', column_width=None)]), _stub=<great_tables._gt_data.Stub object at 0x174b0bb90>, _spanners=Spanners([]), _heading=Heading(title='Formula: lmer(Reaction~Days+(1|Subject))', subtitle=Md(text='Number of observations: *180*  \\n            Confidence intervals: *parametric*  \\n            ---------------------  \\n            Log-likelihood: *-893*  \\n            AIC: *1794* | BIC: *1807*  \\n            Residual error: *30.991*  \\n        '), preheader=None), _stubhead=None, _source_notes=[Md(text='Signif. codes: *0 *** 0.001 ** 0.01 * 0.05 . 0.1*')], _footnotes=[], _styles=[StyleInfo(locname=LocBody(columns=['param'], rows=None), grpname=None, colname='param', rownum=0, colnum=None, styles=[CellStyleText(color=None, font=None, size=None, align=None, v_align=None, style='italic', weight=None, stretch=None, decorate=None, transform=None, whitespace=None)]), StyleInfo(locname=LocBody(columns=['param'], rows=None), grpname=None, colname='param', rownum=1, colnum=None, styles=[CellStyleText(color=None, font=None, size=None, align=None, v_align=None, style='italic', weight=None, stretch=None, decorate=None, transform=None, whitespace=None)]), StyleInfo(locname=LocBody(columns=['param'], rows=None), grpname=None, colname='param', rownum=2, colnum=None, styles=[CellStyleText(color=None, font=None, size=None, align=None, v_align=None, style='italic', weight=None, stretch=None, decorate=None, transform=None, whitespace=None)]), StyleInfo(locname=LocBody(columns=['param'], rows=None), grpname=None, colname='param', rownum=3, colnum=None, styles=[CellStyleText(color=None, font=None, size=None, align=None, v_align=None, style='italic', weight=None, stretch=None, decorate=None, transform=None, whitespace=None)]), StyleInfo(locname=LocBody(columns=['param'], rows=None), grpname=None, colname='param', rownum=4, colnum=None, styles=[CellStyleText(color=None, font=None, size=None, align=None, v_align=None, style='italic', weight=None, stretch=None, decorate=None, transform=None, whitespace=None)]), StyleInfo(locname=LocBody(columns=['param'], rows=None), grpname=None, colname='param', rownum=5, colnum=None, styles=[CellStyleText(color=None, font=None, size=None, align=None, v_align=None, style='italic', weight=None, stretch=None, decorate=None, transform=None, whitespace=None)])], _locale=<great_tables._gt_data.Locale object at 0x157f2c560>, _formats=[<great_tables._gt_data.FormatInfo object at 0x174ac4770>], _substitutions=[<great_tables._gt_data.FormatInfo object at 0x174b8df10>], _options=Options(table_id=OptionsInfo(scss=False, category='table', type='value', value=None), table_caption=OptionsInfo(scss=False, category='table', type='value', value=None), table_width=OptionsInfo(scss=True, category='table', type='px', value='auto'), table_layout=OptionsInfo(scss=True, category='table', type='value', value='fixed'), table_margin_left=OptionsInfo(scss=True, category='table', type='px', value='auto'), table_margin_right=OptionsInfo(scss=True, category='table', type='px', value='auto'), table_background_color=OptionsInfo(scss=True, category='table', type='value', value='#FFFFFF'), table_additional_css=OptionsInfo(scss=False, category='table', type='values', value=[]), table_font_names=OptionsInfo(scss=False, category='table', type='values', value=['-apple-system', 'BlinkMacSystemFont', 'Segoe UI', 'Roboto', 'Oxygen', 'Ubuntu', 'Cantarell', 'Helvetica Neue', 'Fira Sans', 'Droid Sans', 'Arial', 'sans-serif']), table_font_size=OptionsInfo(scss=True, category='table', type='px', value='16px'), table_font_weight=OptionsInfo(scss=True, category='table', type='value', value='normal'), table_font_style=OptionsInfo(scss=True, category='table', type='value', value='normal'), table_font_color=OptionsInfo(scss=True, category='table', type='value', value='#333333'), table_font_color_light=OptionsInfo(scss=True, category='table', type='value', value='#FFFFFF'), table_border_top_include=OptionsInfo(scss=False, category='table', type='boolean', value=True), table_border_top_style=OptionsInfo(scss=True, category='table', type='value', value='solid'), table_border_top_width=OptionsInfo(scss=True, category='table', type='px', value='2px'), table_border_top_color=OptionsInfo(scss=True, category='table', type='value', value='#A8A8A8'), table_border_right_style=OptionsInfo(scss=True, category='table', type='value', value='none'), table_border_right_width=OptionsInfo(scss=True, category='table', type='px', value='2px'), table_border_right_color=OptionsInfo(scss=True, category='table', type='value', value='#D3D3D3'), table_border_bottom_include=OptionsInfo(scss=False, category='table', type='boolean', value=True), table_border_bottom_style=OptionsInfo(scss=True, category='table', type='value', value='solid'), table_border_bottom_width=OptionsInfo(scss=True, category='table', type='px', value='2px'), table_border_bottom_color=OptionsInfo(scss=True, category='table', type='value', value='#A8A8A8'), table_border_left_style=OptionsInfo(scss=True, category='table', type='value', value='none'), table_border_left_width=OptionsInfo(scss=True, category='table', type='px', value='2px'), table_border_left_color=OptionsInfo(scss=True, category='table', type='value', value='#D3D3D3'), heading_background_color=OptionsInfo(scss=True, category='heading', type='value', value=None), heading_align=OptionsInfo(scss=True, category='heading', type='value', value='left'), heading_title_font_size=OptionsInfo(scss=True, category='heading', type='px', value='125%'), heading_title_font_weight=OptionsInfo(scss=True, category='heading', type='value', value='initial'), heading_subtitle_font_size=OptionsInfo(scss=True, category='heading', type='px', value='85%'), heading_subtitle_font_weight=OptionsInfo(scss=True, category='heading', type='value', value='initial'), heading_padding=OptionsInfo(scss=True, category='heading', type='px', value='3px'), heading_padding_horizontal=OptionsInfo(scss=True, category='heading', type='px', value='5px'), heading_border_bottom_style=OptionsInfo(scss=True, category='heading', type='value', value='solid'), heading_border_bottom_width=OptionsInfo(scss=True, category='heading', type='px', value='2px'), heading_border_bottom_color=OptionsInfo(scss=True, category='heading', type='value', value='#D3D3D3'), heading_border_lr_style=OptionsInfo(scss=True, category='heading', type='value', value='none'), heading_border_lr_width=OptionsInfo(scss=True, category='heading', type='px', value='1px'), heading_border_lr_color=OptionsInfo(scss=True, category='heading', type='value', value='#D3D3D3'), column_labels_background_color=OptionsInfo(scss=True, category='column_labels', type='value', value=None), column_labels_font_size=OptionsInfo(scss=True, category='column_labels', type='px', value='100%'), column_labels_font_weight=OptionsInfo(scss=True, category='column_labels', type='value', value='normal'), column_labels_text_transform=OptionsInfo(scss=True, category='column_labels', type='value', value='inherit'), column_labels_padding=OptionsInfo(scss=True, category='column_labels', type='px', value='3px'), column_labels_padding_horizontal=OptionsInfo(scss=True, category='column_labels', type='px', value='5px'), column_labels_vlines_style=OptionsInfo(scss=True, category='table_body', type='value', value='none'), column_labels_vlines_width=OptionsInfo(scss=True, category='table_body', type='px', value='1px'), column_labels_vlines_color=OptionsInfo(scss=True, category='table_body', type='value', value='#D3D3D3'), column_labels_border_top_style=OptionsInfo(scss=True, category='column_labels', type='value', value='solid'), column_labels_border_top_width=OptionsInfo(scss=True, category='column_labels', type='px', value='2px'), column_labels_border_top_color=OptionsInfo(scss=True, category='column_labels', type='value', value='#D3D3D3'), column_labels_border_bottom_style=OptionsInfo(scss=True, category='column_labels', type='value', value='solid'), column_labels_border_bottom_width=OptionsInfo(scss=True, category='column_labels', type='px', value='2px'), column_labels_border_bottom_color=OptionsInfo(scss=True, category='column_labels', type='value', value='#D3D3D3'), column_labels_border_lr_style=OptionsInfo(scss=True, category='column_labels', type='value', value='none'), column_labels_border_lr_width=OptionsInfo(scss=True, category='column_labels', type='px', value='1px'), column_labels_border_lr_color=OptionsInfo(scss=True, category='column_labels', type='value', value='#D3D3D3'), column_labels_hidden=OptionsInfo(scss=False, category='column_labels', type='boolean', value=False), row_group_background_color=OptionsInfo(scss=True, category='row_group', type='value', value=None), row_group_font_size=OptionsInfo(scss=True, category='row_group', type='px', value='100%'), row_group_font_weight=OptionsInfo(scss=True, category='row_group', type='value', value='initial'), row_group_text_transform=OptionsInfo(scss=True, category='row_group', type='value', value='inherit'), row_group_padding=OptionsInfo(scss=True, category='row_group', type='px', value='6px'), row_group_padding_horizontal=OptionsInfo(scss=True, category='row_group', type='px', value='5px'), row_group_border_top_style=OptionsInfo(scss=True, category='row_group', type='value', value='solid'), row_group_border_top_width=OptionsInfo(scss=True, category='row_group', type='px', value='2px'), row_group_border_top_color=OptionsInfo(scss=True, category='row_group', type='value', value='#D3D3D3'), row_group_border_right_style=OptionsInfo(scss=True, category='row_group', type='value', value='none'), row_group_border_right_width=OptionsInfo(scss=True, category='row_group', type='px', value='1px'), row_group_border_right_color=OptionsInfo(scss=True, category='row_group', type='value', value='#D3D3D3'), row_group_border_bottom_style=OptionsInfo(scss=True, category='row_group', type='value', value='solid'), row_group_border_bottom_width=OptionsInfo(scss=True, category='row_group', type='px', value='2px'), row_group_border_bottom_color=OptionsInfo(scss=True, category='row_group', type='value', value='#D3D3D3'), row_group_border_left_style=OptionsInfo(scss=True, category='row_group', type='value', value='none'), row_group_border_left_width=OptionsInfo(scss=True, category='row_group', type='px', value='1px'), row_group_border_left_color=OptionsInfo(scss=True, category='row_group', type='value', value='#D3D3D3'), row_group_as_column=OptionsInfo(scss=False, category='row_group', type='boolean', value=False), table_body_hlines_style=OptionsInfo(scss=True, category='table_body', type='value', value='solid'), table_body_hlines_width=OptionsInfo(scss=True, category='table_body', type='px', value='1px'), table_body_hlines_color=OptionsInfo(scss=True, category='table_body', type='value', value='#D3D3D3'), table_body_vlines_style=OptionsInfo(scss=True, category='table_body', type='value', value='none'), table_body_vlines_width=OptionsInfo(scss=True, category='table_body', type='px', value='1px'), table_body_vlines_color=OptionsInfo(scss=True, category='table_body', type='value', value='#D3D3D3'), table_body_border_top_style=OptionsInfo(scss=True, category='table_body', type='value', value='solid'), table_body_border_top_width=OptionsInfo(scss=True, category='table_body', type='px', value='2px'), table_body_border_top_color=OptionsInfo(scss=True, category='table_body', type='value', value='#D3D3D3'), table_body_border_bottom_style=OptionsInfo(scss=True, category='table_body', type='value', value='solid'), table_body_border_bottom_width=OptionsInfo(scss=True, category='table_body', type='px', value='2px'), table_body_border_bottom_color=OptionsInfo(scss=True, category='table_body', type='value', value='#D3D3D3'), data_row_padding=OptionsInfo(scss=True, category='data_row', type='px', value='6px'), data_row_padding_horizontal=OptionsInfo(scss=True, category='data_row', type='px', value='5px'), stub_background_color=OptionsInfo(scss=True, category='stub', type='value', value=None), stub_font_size=OptionsInfo(scss=True, category='stub', type='px', value='100%'), stub_font_weight=OptionsInfo(scss=True, category='stub', type='value', value='initial'), stub_text_transform=OptionsInfo(scss=True, category='stub', type='value', value='inherit'), stub_border_style=OptionsInfo(scss=True, category='stub', type='value', value='solid'), stub_border_width=OptionsInfo(scss=True, category='stub', type='px', value='2px'), stub_border_color=OptionsInfo(scss=True, category='stub', type='value', value='#D3D3D3'), stub_row_group_background_color=OptionsInfo(scss=True, category='stub', type='value', value=None), stub_row_group_font_size=OptionsInfo(scss=True, category='stub', type='px', value='100%'), stub_row_group_font_weight=OptionsInfo(scss=True, category='stub', type='value', value='initial'), stub_row_group_text_transform=OptionsInfo(scss=True, category='stub', type='value', value='inherit'), stub_row_group_border_style=OptionsInfo(scss=True, category='stub', type='value', value='solid'), stub_row_group_border_width=OptionsInfo(scss=True, category='stub', type='px', value='2px'), stub_row_group_border_color=OptionsInfo(scss=True, category='stub', type='value', value='#D3D3D3'), source_notes_padding=OptionsInfo(scss=True, category='source_notes', type='px', value='3px'), source_notes_padding_horizontal=OptionsInfo(scss=True, category='source_notes', type='px', value='5px'), source_notes_background_color=OptionsInfo(scss=True, category='source_notes', type='value', value=None), source_notes_font_size=OptionsInfo(scss=True, category='source_notes', type='px', value='small'), source_notes_border_bottom_style=OptionsInfo(scss=True, category='source_notes', type='value', value='none'), source_notes_border_bottom_width=OptionsInfo(scss=True, category='source_notes', type='px', value='2px'), source_notes_border_bottom_color=OptionsInfo(scss=True, category='source_notes', type='value', value='#D3D3D3'), source_notes_border_lr_style=OptionsInfo(scss=True, category='source_notes', type='value', value='none'), source_notes_border_lr_width=OptionsInfo(scss=True, category='source_notes', type='px', value='2px'), source_notes_border_lr_color=OptionsInfo(scss=True, category='source_notes', type='value', value='#D3D3D3'), source_notes_multiline=OptionsInfo(scss=False, category='source_notes', type='boolean', value=True), source_notes_sep=OptionsInfo(scss=False, category='source_notes', type='value', value=' '), row_striping_background_color=OptionsInfo(scss=True, category='row', type='value', value='rgba(128,128,128,0.05)'), row_striping_include_stub=OptionsInfo(scss=False, category='row', type='boolean', value=False), row_striping_include_table_body=OptionsInfo(scss=False, category='row', type='boolean', value=False), container_width=OptionsInfo(scss=False, category='container', type='px', value='auto'), container_height=OptionsInfo(scss=False, category='container', type='px', value='auto'), container_padding_x=OptionsInfo(scss=False, category='container', type='px', value='0px'), container_padding_y=OptionsInfo(scss=False, category='container', type='px', value='10px'), container_overflow_x=OptionsInfo(scss=False, category='container', type='overflow', value='auto'), container_overflow_y=OptionsInfo(scss=False, category='container', type='overflow', value='auto'), quarto_disable_processing=OptionsInfo(scss=False, category='quarto', type='logical', value=False), quarto_use_bootstrap=OptionsInfo(scss=False, category='quarto', type='logical', value=False)), _has_built=False)"
      ]
     },
     "execution_count": 7,
     "metadata": {},
     "output_type": "execute_result"
    }
   ],
   "source": [
    "model_i.summary()"
   ]
  },
  {
   "cell_type": "markdown",
   "metadata": {},
   "source": [
    "## Random Slopes\n",
    "\n",
    "We can easily extend our model with random slopes by adding them to the formula. Before inspecting the parameter estimates it can be helpful to test whether we really *need* the extra parameters by comparing this model to our first model using a likelihood ratio test."
   ]
  },
  {
   "cell_type": "code",
   "execution_count": 8,
   "metadata": {},
   "outputs": [
    {
     "data": {
      "text/html": [
       "<div id=\"ceweicpfla\" style=\"padding-left:0px;padding-right:0px;padding-top:10px;padding-bottom:10px;overflow-x:auto;overflow-y:auto;width:auto;height:auto;\">\n",
       "<style>\n",
       "#ceweicpfla table {\n",
       "          font-family: -apple-system, BlinkMacSystemFont, 'Segoe UI', Roboto, Oxygen, Ubuntu, Cantarell, 'Helvetica Neue', 'Fira Sans', 'Droid Sans', Arial, sans-serif;\n",
       "          -webkit-font-smoothing: antialiased;\n",
       "          -moz-osx-font-smoothing: grayscale;\n",
       "        }\n",
       "\n",
       "#ceweicpfla thead, tbody, tfoot, tr, td, th { border-style: none !important; }\n",
       " tr { background-color: transparent !important; }\n",
       "#ceweicpfla p { margin: 0 !important; padding: 0 !important; }\n",
       " #ceweicpfla .gt_table { display: table !important; border-collapse: collapse !important; line-height: normal !important; margin-left: auto !important; margin-right: auto !important; color: #333333 !important; font-size: 16px !important; font-weight: normal !important; font-style: normal !important; background-color: #FFFFFF !important; width: auto !important; border-top-style: solid !important; border-top-width: 2px !important; border-top-color: #A8A8A8 !important; border-right-style: none !important; border-right-width: 2px !important; border-right-color: #D3D3D3 !important; border-bottom-style: solid !important; border-bottom-width: 2px !important; border-bottom-color: #A8A8A8 !important; border-left-style: none !important; border-left-width: 2px !important; border-left-color: #D3D3D3 !important; }\n",
       " #ceweicpfla .gt_caption { padding-top: 4px !important; padding-bottom: 4px !important; }\n",
       " #ceweicpfla .gt_title { color: #333333 !important; font-size: 125% !important; font-weight: initial !important; padding-top: 4px !important; padding-bottom: 4px !important; padding-left: 5px !important; padding-right: 5px !important; border-bottom-color: #FFFFFF !important; border-bottom-width: 0 !important; }\n",
       " #ceweicpfla .gt_subtitle { color: #333333 !important; font-size: 85% !important; font-weight: initial !important; padding-top: 3px !important; padding-bottom: 5px !important; padding-left: 5px !important; padding-right: 5px !important; border-top-color: #FFFFFF !important; border-top-width: 0 !important; }\n",
       " #ceweicpfla .gt_heading { background-color: #FFFFFF !important; text-align: left !important; border-bottom-color: #FFFFFF !important; border-left-style: none !important; border-left-width: 1px !important; border-left-color: #D3D3D3 !important; border-right-style: none !important; border-right-width: 1px !important; border-right-color: #D3D3D3 !important; }\n",
       " #ceweicpfla .gt_bottom_border { border-bottom-style: solid !important; border-bottom-width: 2px !important; border-bottom-color: #D3D3D3 !important; }\n",
       " #ceweicpfla .gt_col_headings { border-top-style: solid !important; border-top-width: 2px !important; border-top-color: #D3D3D3 !important; border-bottom-style: solid !important; border-bottom-width: 2px !important; border-bottom-color: #D3D3D3 !important; border-left-style: none !important; border-left-width: 1px !important; border-left-color: #D3D3D3 !important; border-right-style: none !important; border-right-width: 1px !important; border-right-color: #D3D3D3 !important; }\n",
       " #ceweicpfla .gt_col_heading { color: #333333 !important; background-color: #FFFFFF !important; font-size: 100% !important; font-weight: normal !important; text-transform: inherit !important; border-left-style: none !important; border-left-width: 1px !important; border-left-color: #D3D3D3 !important; border-right-style: none !important; border-right-width: 1px !important; border-right-color: #D3D3D3 !important; vertical-align: bottom !important; padding-top: 5px !important; padding-bottom: 5px !important; padding-left: 5px !important; padding-right: 5px !important; overflow-x: hidden !important; }\n",
       " #ceweicpfla .gt_column_spanner_outer { color: #333333 !important; background-color: #FFFFFF !important; font-size: 100% !important; font-weight: normal !important; text-transform: inherit !important; padding-top: 0 !important; padding-bottom: 0 !important; padding-left: 4px !important; padding-right: 4px !important; }\n",
       " #ceweicpfla .gt_column_spanner_outer:first-child { padding-left: 0 !important; }\n",
       " #ceweicpfla .gt_column_spanner_outer:last-child { padding-right: 0 !important; }\n",
       " #ceweicpfla .gt_column_spanner { border-bottom-style: solid !important; border-bottom-width: 2px !important; border-bottom-color: #D3D3D3 !important; vertical-align: bottom !important; padding-top: 5px !important; padding-bottom: 5px !important; overflow-x: hidden !important; display: inline-block !important; width: 100% !important; }\n",
       " #ceweicpfla .gt_spanner_row { border-bottom-style: hidden !important; }\n",
       " #ceweicpfla .gt_group_heading { padding-top: 8px !important; padding-bottom: 8px !important; padding-left: 5px !important; padding-right: 5px !important; color: #333333 !important; background-color: #FFFFFF !important; font-size: 100% !important; font-weight: initial !important; text-transform: inherit !important; border-top-style: solid !important; border-top-width: 2px !important; border-top-color: #D3D3D3 !important; border-bottom-style: solid !important; border-bottom-width: 2px !important; border-bottom-color: #D3D3D3 !important; border-left-style: none !important; border-left-width: 1px !important; border-left-color: #D3D3D3 !important; border-right-style: none !important; border-right-width: 1px !important; border-right-color: #D3D3D3 !important; vertical-align: middle !important; text-align: left !important; }\n",
       " #ceweicpfla .gt_empty_group_heading { padding: 0.5px !important; color: #333333 !important; background-color: #FFFFFF !important; font-size: 100% !important; font-weight: initial !important; border-top-style: solid !important; border-top-width: 2px !important; border-top-color: #D3D3D3 !important; border-bottom-style: solid !important; border-bottom-width: 2px !important; border-bottom-color: #D3D3D3 !important; vertical-align: middle !important; }\n",
       " #ceweicpfla .gt_from_md> :first-child { margin-top: 0 !important; }\n",
       " #ceweicpfla .gt_from_md> :last-child { margin-bottom: 0 !important; }\n",
       " #ceweicpfla .gt_row { padding-top: 8px !important; padding-bottom: 8px !important; padding-left: 5px !important; padding-right: 5px !important; margin: 10px !important; border-top-style: solid !important; border-top-width: 1px !important; border-top-color: #D3D3D3 !important; border-left-style: none !important; border-left-width: 1px !important; border-left-color: #D3D3D3 !important; border-right-style: none !important; border-right-width: 1px !important; border-right-color: #D3D3D3 !important; vertical-align: middle !important; overflow-x: hidden !important; }\n",
       " #ceweicpfla .gt_stub { color: #333333 !important; background-color: #FFFFFF !important; font-size: 100% !important; font-weight: initial !important; text-transform: inherit !important; border-right-style: solid !important; border-right-width: 2px !important; border-right-color: #D3D3D3 !important; padding-left: 5px !important; padding-right: 5px !important; }\n",
       " #ceweicpfla .gt_stub_row_group { color: #333333 !important; background-color: #FFFFFF !important; font-size: 100% !important; font-weight: initial !important; text-transform: inherit !important; border-right-style: solid !important; border-right-width: 2px !important; border-right-color: #D3D3D3 !important; padding-left: 5px !important; padding-right: 5px !important; vertical-align: top !important; }\n",
       " #ceweicpfla .gt_row_group_first td { border-top-width: 2px !important; }\n",
       " #ceweicpfla .gt_row_group_first th { border-top-width: 2px !important; }\n",
       " #ceweicpfla .gt_striped { background-color: rgba(128,128,128,0.05) !important; }\n",
       " #ceweicpfla .gt_table_body { border-top-style: solid !important; border-top-width: 2px !important; border-top-color: #D3D3D3 !important; border-bottom-style: solid !important; border-bottom-width: 2px !important; border-bottom-color: #D3D3D3 !important; }\n",
       " #ceweicpfla .gt_sourcenotes { color: #333333 !important; background-color: #FFFFFF !important; border-bottom-style: none !important; border-bottom-width: 2px !important; border-bottom-color: #D3D3D3 !important; border-left-style: none !important; border-left-width: 2px !important; border-left-color: #D3D3D3 !important; border-right-style: none !important; border-right-width: 2px !important; border-right-color: #D3D3D3 !important; }\n",
       " #ceweicpfla .gt_sourcenote { font-size: small !important; padding-top: 4px !important; padding-bottom: 4px !important; padding-left: 5px !important; padding-right: 5px !important; text-align: left !important; }\n",
       " #ceweicpfla .gt_left { text-align: left !important; }\n",
       " #ceweicpfla .gt_center { text-align: center !important; }\n",
       " #ceweicpfla .gt_right { text-align: right !important; font-variant-numeric: tabular-nums !important; }\n",
       " #ceweicpfla .gt_font_normal { font-weight: normal !important; }\n",
       " #ceweicpfla .gt_font_bold { font-weight: bold !important; }\n",
       " #ceweicpfla .gt_font_italic { font-style: italic !important; }\n",
       " #ceweicpfla .gt_super { font-size: 65% !important; }\n",
       " #ceweicpfla .gt_footnote_marks { font-size: 75% !important; vertical-align: 0.4em !important; position: initial !important; }\n",
       " #ceweicpfla .gt_asterisk { font-size: 100% !important; vertical-align: 0 !important; }\n",
       " \n",
       "</style>\n",
       "<table class=\"gt_table\" data-quarto-disable-processing=\"false\" data-quarto-bootstrap=\"false\">\n",
       "<thead>\n",
       "\n",
       "  <tr class=\"gt_heading\">\n",
       "    <td colspan=\"10\" class=\"gt_heading gt_title gt_font_normal\">Analysis of Deviance Table</td>\n",
       "  </tr>\n",
       "  <tr class=\"gt_heading\">\n",
       "    <td colspan=\"10\" class=\"gt_heading gt_subtitle gt_font_normal gt_bottom_border\">Model 1: lmer(Reaction~Days+(1|Subject))<br />\n",
       "Model 2: lmer(Reaction~Days+(Days|Subject))</td>\n",
       "  </tr>\n",
       "<tr class=\"gt_col_headings\">\n",
       "  <th class=\"gt_col_heading gt_columns_bottom_border gt_left\" rowspan=\"1\" colspan=\"1\" scope=\"col\" id=\"\"></th>\n",
       "  <th class=\"gt_col_heading gt_columns_bottom_border gt_right\" rowspan=\"1\" colspan=\"1\" scope=\"col\" id=\"AIC\">AIC</th>\n",
       "  <th class=\"gt_col_heading gt_columns_bottom_border gt_right\" rowspan=\"1\" colspan=\"1\" scope=\"col\" id=\"BIC\">BIC</th>\n",
       "  <th class=\"gt_col_heading gt_columns_bottom_border gt_right\" rowspan=\"1\" colspan=\"1\" scope=\"col\" id=\"logLik\">logLik</th>\n",
       "  <th class=\"gt_col_heading gt_columns_bottom_border gt_right\" rowspan=\"1\" colspan=\"1\" scope=\"col\" id=\"npar\">npar</th>\n",
       "  <th class=\"gt_col_heading gt_columns_bottom_border gt_right\" rowspan=\"1\" colspan=\"1\" scope=\"col\" id=\"-2*log(L)\">-2*log(L)</th>\n",
       "  <th class=\"gt_col_heading gt_columns_bottom_border gt_right\" rowspan=\"1\" colspan=\"1\" scope=\"col\" id=\"Chisq\">Chisq</th>\n",
       "  <th class=\"gt_col_heading gt_columns_bottom_border gt_right\" rowspan=\"1\" colspan=\"1\" scope=\"col\" id=\"Df\">Df</th>\n",
       "  <th class=\"gt_col_heading gt_columns_bottom_border gt_left\" rowspan=\"1\" colspan=\"1\" scope=\"col\" id=\"Pr(&amp;gt;Chisq)\">Pr(&gt;Chisq)</th>\n",
       "  <th class=\"gt_col_heading gt_columns_bottom_border gt_left\" rowspan=\"1\" colspan=\"1\" scope=\"col\" id=\"\"></th>\n",
       "</tr>\n",
       "</thead>\n",
       "<tbody class=\"gt_table_body\">\n",
       "  <tr>\n",
       "    <th class=\"gt_row gt_left gt_stub\">1.00</th>\n",
       "    <td class=\"gt_row gt_right\">1794.5</td>\n",
       "    <td class=\"gt_row gt_right\">1807.2</td>\n",
       "    <td class=\"gt_row gt_right\">−893.2</td>\n",
       "    <td class=\"gt_row gt_right\">4.00</td>\n",
       "    <td class=\"gt_row gt_right\">1.79K</td>\n",
       "    <td class=\"gt_row gt_right\"></td>\n",
       "    <td class=\"gt_row gt_right\"></td>\n",
       "    <td class=\"gt_row gt_left\"></td>\n",
       "    <td class=\"gt_row gt_left\"></td>\n",
       "  </tr>\n",
       "  <tr>\n",
       "    <th class=\"gt_row gt_left gt_stub\">2.00</th>\n",
       "    <td class=\"gt_row gt_right\">1755.6</td>\n",
       "    <td class=\"gt_row gt_right\">1774.8</td>\n",
       "    <td class=\"gt_row gt_right\">−871.8</td>\n",
       "    <td class=\"gt_row gt_right\">6.00</td>\n",
       "    <td class=\"gt_row gt_right\">1.75K</td>\n",
       "    <td class=\"gt_row gt_right\">42.14</td>\n",
       "    <td class=\"gt_row gt_right\">2.00</td>\n",
       "    <td class=\"gt_row gt_left\"><.001</td>\n",
       "    <td class=\"gt_row gt_left\">***</td>\n",
       "  </tr>\n",
       "</tbody>\n",
       "  <tfoot class=\"gt_sourcenotes\">\n",
       "  \n",
       "  <tr>\n",
       "    <td class=\"gt_sourcenote\" colspan=\"10\">Signif. codes: <em>0 *** 0.001 ** 0.01 * 0.05 . 0.1</em></td>\n",
       "  </tr>\n",
       "\n",
       "</tfoot>\n",
       "\n",
       "</table>\n",
       "\n",
       "</div>\n",
       "        "
      ],
      "text/plain": [
       "GT(_tbl_data=shape: (2, 10)\n",
       "┌─────────────┬─────────────┬─────────────┬──────┬───┬─────┬────────────┬───────┬─────┐\n",
       "│ AIC         ┆ BIC         ┆ logLik      ┆ npar ┆ … ┆ Df  ┆ Pr(>Chisq) ┆ stars ┆ ids │\n",
       "│ ---         ┆ ---         ┆ ---         ┆ ---  ┆   ┆ --- ┆ ---        ┆ ---   ┆ --- │\n",
       "│ f64         ┆ f64         ┆ f64         ┆ i64  ┆   ┆ f64 ┆ str        ┆ str   ┆ i64 │\n",
       "╞═════════════╪═════════════╪═════════════╪══════╪═══╪═════╪════════════╪═══════╪═════╡\n",
       "│ 1794.465085 ┆ 1807.236913 ┆ -893.232543 ┆ 4    ┆ … ┆ 0.0 ┆            ┆       ┆ 1   │\n",
       "│ 1755.628272 ┆ 1774.786013 ┆ -871.814136 ┆ 6    ┆ … ┆ 2.0 ┆ <.001      ┆ ***   ┆ 2   │\n",
       "└─────────────┴─────────────┴─────────────┴──────┴───┴─────┴────────────┴───────┴─────┘, _body=<great_tables._gt_data.Body object at 0x174ae8e30>, _boxhead=Boxhead([ColInfo(var='ids', type=<ColInfoTypeEnum.stub: 2>, column_label='', column_align='right', column_width=None), ColInfo(var='AIC', type=<ColInfoTypeEnum.default: 1>, column_label='AIC', column_align='right', column_width=None), ColInfo(var='BIC', type=<ColInfoTypeEnum.default: 1>, column_label='BIC', column_align='right', column_width=None), ColInfo(var='logLik', type=<ColInfoTypeEnum.default: 1>, column_label='logLik', column_align='right', column_width=None), ColInfo(var='npar', type=<ColInfoTypeEnum.default: 1>, column_label='npar', column_align='right', column_width=None), ColInfo(var='-2*log(L)', type=<ColInfoTypeEnum.default: 1>, column_label='-2*log(L)', column_align='right', column_width=None), ColInfo(var='Chisq', type=<ColInfoTypeEnum.default: 1>, column_label='Chisq', column_align='right', column_width=None), ColInfo(var='Df', type=<ColInfoTypeEnum.default: 1>, column_label='Df', column_align='right', column_width=None), ColInfo(var='Pr(>Chisq)', type=<ColInfoTypeEnum.default: 1>, column_label='Pr(>Chisq)', column_align='left', column_width=None), ColInfo(var='stars', type=<ColInfoTypeEnum.default: 1>, column_label='', column_align='left', column_width=None)]), _stub=<great_tables._gt_data.Stub object at 0x159848590>, _spanners=Spanners([]), _heading=Heading(title='Analysis of Deviance Table', subtitle=Md(text='Model 1: lmer(Reaction~Days+(1|Subject))   \\nModel 2: lmer(Reaction~Days+(Days|Subject))   \\n'), preheader=None), _stubhead=None, _source_notes=[Md(text='Signif. codes: *0 *** 0.001 ** 0.01 * 0.05 . 0.1*')], _footnotes=[], _styles=[], _locale=<great_tables._gt_data.Locale object at 0x174b08650>, _formats=[<great_tables._gt_data.FormatInfo object at 0x174aea270>, <great_tables._gt_data.FormatInfo object at 0x174ae9130>], _substitutions=[<great_tables._gt_data.FormatInfo object at 0x174ae8e00>], _options=Options(table_id=OptionsInfo(scss=False, category='table', type='value', value=None), table_caption=OptionsInfo(scss=False, category='table', type='value', value=None), table_width=OptionsInfo(scss=True, category='table', type='px', value='auto'), table_layout=OptionsInfo(scss=True, category='table', type='value', value='fixed'), table_margin_left=OptionsInfo(scss=True, category='table', type='px', value='auto'), table_margin_right=OptionsInfo(scss=True, category='table', type='px', value='auto'), table_background_color=OptionsInfo(scss=True, category='table', type='value', value='#FFFFFF'), table_additional_css=OptionsInfo(scss=False, category='table', type='values', value=[]), table_font_names=OptionsInfo(scss=False, category='table', type='values', value=['-apple-system', 'BlinkMacSystemFont', 'Segoe UI', 'Roboto', 'Oxygen', 'Ubuntu', 'Cantarell', 'Helvetica Neue', 'Fira Sans', 'Droid Sans', 'Arial', 'sans-serif']), table_font_size=OptionsInfo(scss=True, category='table', type='px', value='16px'), table_font_weight=OptionsInfo(scss=True, category='table', type='value', value='normal'), table_font_style=OptionsInfo(scss=True, category='table', type='value', value='normal'), table_font_color=OptionsInfo(scss=True, category='table', type='value', value='#333333'), table_font_color_light=OptionsInfo(scss=True, category='table', type='value', value='#FFFFFF'), table_border_top_include=OptionsInfo(scss=False, category='table', type='boolean', value=True), table_border_top_style=OptionsInfo(scss=True, category='table', type='value', value='solid'), table_border_top_width=OptionsInfo(scss=True, category='table', type='px', value='2px'), table_border_top_color=OptionsInfo(scss=True, category='table', type='value', value='#A8A8A8'), table_border_right_style=OptionsInfo(scss=True, category='table', type='value', value='none'), table_border_right_width=OptionsInfo(scss=True, category='table', type='px', value='2px'), table_border_right_color=OptionsInfo(scss=True, category='table', type='value', value='#D3D3D3'), table_border_bottom_include=OptionsInfo(scss=False, category='table', type='boolean', value=True), table_border_bottom_style=OptionsInfo(scss=True, category='table', type='value', value='solid'), table_border_bottom_width=OptionsInfo(scss=True, category='table', type='px', value='2px'), table_border_bottom_color=OptionsInfo(scss=True, category='table', type='value', value='#A8A8A8'), table_border_left_style=OptionsInfo(scss=True, category='table', type='value', value='none'), table_border_left_width=OptionsInfo(scss=True, category='table', type='px', value='2px'), table_border_left_color=OptionsInfo(scss=True, category='table', type='value', value='#D3D3D3'), heading_background_color=OptionsInfo(scss=True, category='heading', type='value', value=None), heading_align=OptionsInfo(scss=True, category='heading', type='value', value='left'), heading_title_font_size=OptionsInfo(scss=True, category='heading', type='px', value='125%'), heading_title_font_weight=OptionsInfo(scss=True, category='heading', type='value', value='initial'), heading_subtitle_font_size=OptionsInfo(scss=True, category='heading', type='px', value='85%'), heading_subtitle_font_weight=OptionsInfo(scss=True, category='heading', type='value', value='initial'), heading_padding=OptionsInfo(scss=True, category='heading', type='px', value='4px'), heading_padding_horizontal=OptionsInfo(scss=True, category='heading', type='px', value='5px'), heading_border_bottom_style=OptionsInfo(scss=True, category='heading', type='value', value='solid'), heading_border_bottom_width=OptionsInfo(scss=True, category='heading', type='px', value='2px'), heading_border_bottom_color=OptionsInfo(scss=True, category='heading', type='value', value='#D3D3D3'), heading_border_lr_style=OptionsInfo(scss=True, category='heading', type='value', value='none'), heading_border_lr_width=OptionsInfo(scss=True, category='heading', type='px', value='1px'), heading_border_lr_color=OptionsInfo(scss=True, category='heading', type='value', value='#D3D3D3'), column_labels_background_color=OptionsInfo(scss=True, category='column_labels', type='value', value=None), column_labels_font_size=OptionsInfo(scss=True, category='column_labels', type='px', value='100%'), column_labels_font_weight=OptionsInfo(scss=True, category='column_labels', type='value', value='normal'), column_labels_text_transform=OptionsInfo(scss=True, category='column_labels', type='value', value='inherit'), column_labels_padding=OptionsInfo(scss=True, category='column_labels', type='px', value='5px'), column_labels_padding_horizontal=OptionsInfo(scss=True, category='column_labels', type='px', value='5px'), column_labels_vlines_style=OptionsInfo(scss=True, category='table_body', type='value', value='none'), column_labels_vlines_width=OptionsInfo(scss=True, category='table_body', type='px', value='1px'), column_labels_vlines_color=OptionsInfo(scss=True, category='table_body', type='value', value='#D3D3D3'), column_labels_border_top_style=OptionsInfo(scss=True, category='column_labels', type='value', value='solid'), column_labels_border_top_width=OptionsInfo(scss=True, category='column_labels', type='px', value='2px'), column_labels_border_top_color=OptionsInfo(scss=True, category='column_labels', type='value', value='#D3D3D3'), column_labels_border_bottom_style=OptionsInfo(scss=True, category='column_labels', type='value', value='solid'), column_labels_border_bottom_width=OptionsInfo(scss=True, category='column_labels', type='px', value='2px'), column_labels_border_bottom_color=OptionsInfo(scss=True, category='column_labels', type='value', value='#D3D3D3'), column_labels_border_lr_style=OptionsInfo(scss=True, category='column_labels', type='value', value='none'), column_labels_border_lr_width=OptionsInfo(scss=True, category='column_labels', type='px', value='1px'), column_labels_border_lr_color=OptionsInfo(scss=True, category='column_labels', type='value', value='#D3D3D3'), column_labels_hidden=OptionsInfo(scss=False, category='column_labels', type='boolean', value=False), row_group_background_color=OptionsInfo(scss=True, category='row_group', type='value', value=None), row_group_font_size=OptionsInfo(scss=True, category='row_group', type='px', value='100%'), row_group_font_weight=OptionsInfo(scss=True, category='row_group', type='value', value='initial'), row_group_text_transform=OptionsInfo(scss=True, category='row_group', type='value', value='inherit'), row_group_padding=OptionsInfo(scss=True, category='row_group', type='px', value='8px'), row_group_padding_horizontal=OptionsInfo(scss=True, category='row_group', type='px', value='5px'), row_group_border_top_style=OptionsInfo(scss=True, category='row_group', type='value', value='solid'), row_group_border_top_width=OptionsInfo(scss=True, category='row_group', type='px', value='2px'), row_group_border_top_color=OptionsInfo(scss=True, category='row_group', type='value', value='#D3D3D3'), row_group_border_right_style=OptionsInfo(scss=True, category='row_group', type='value', value='none'), row_group_border_right_width=OptionsInfo(scss=True, category='row_group', type='px', value='1px'), row_group_border_right_color=OptionsInfo(scss=True, category='row_group', type='value', value='#D3D3D3'), row_group_border_bottom_style=OptionsInfo(scss=True, category='row_group', type='value', value='solid'), row_group_border_bottom_width=OptionsInfo(scss=True, category='row_group', type='px', value='2px'), row_group_border_bottom_color=OptionsInfo(scss=True, category='row_group', type='value', value='#D3D3D3'), row_group_border_left_style=OptionsInfo(scss=True, category='row_group', type='value', value='none'), row_group_border_left_width=OptionsInfo(scss=True, category='row_group', type='px', value='1px'), row_group_border_left_color=OptionsInfo(scss=True, category='row_group', type='value', value='#D3D3D3'), row_group_as_column=OptionsInfo(scss=False, category='row_group', type='boolean', value=False), table_body_hlines_style=OptionsInfo(scss=True, category='table_body', type='value', value='solid'), table_body_hlines_width=OptionsInfo(scss=True, category='table_body', type='px', value='1px'), table_body_hlines_color=OptionsInfo(scss=True, category='table_body', type='value', value='#D3D3D3'), table_body_vlines_style=OptionsInfo(scss=True, category='table_body', type='value', value='none'), table_body_vlines_width=OptionsInfo(scss=True, category='table_body', type='px', value='1px'), table_body_vlines_color=OptionsInfo(scss=True, category='table_body', type='value', value='#D3D3D3'), table_body_border_top_style=OptionsInfo(scss=True, category='table_body', type='value', value='solid'), table_body_border_top_width=OptionsInfo(scss=True, category='table_body', type='px', value='2px'), table_body_border_top_color=OptionsInfo(scss=True, category='table_body', type='value', value='#D3D3D3'), table_body_border_bottom_style=OptionsInfo(scss=True, category='table_body', type='value', value='solid'), table_body_border_bottom_width=OptionsInfo(scss=True, category='table_body', type='px', value='2px'), table_body_border_bottom_color=OptionsInfo(scss=True, category='table_body', type='value', value='#D3D3D3'), data_row_padding=OptionsInfo(scss=True, category='data_row', type='px', value='8px'), data_row_padding_horizontal=OptionsInfo(scss=True, category='data_row', type='px', value='5px'), stub_background_color=OptionsInfo(scss=True, category='stub', type='value', value=None), stub_font_size=OptionsInfo(scss=True, category='stub', type='px', value='100%'), stub_font_weight=OptionsInfo(scss=True, category='stub', type='value', value='initial'), stub_text_transform=OptionsInfo(scss=True, category='stub', type='value', value='inherit'), stub_border_style=OptionsInfo(scss=True, category='stub', type='value', value='solid'), stub_border_width=OptionsInfo(scss=True, category='stub', type='px', value='2px'), stub_border_color=OptionsInfo(scss=True, category='stub', type='value', value='#D3D3D3'), stub_row_group_background_color=OptionsInfo(scss=True, category='stub', type='value', value=None), stub_row_group_font_size=OptionsInfo(scss=True, category='stub', type='px', value='100%'), stub_row_group_font_weight=OptionsInfo(scss=True, category='stub', type='value', value='initial'), stub_row_group_text_transform=OptionsInfo(scss=True, category='stub', type='value', value='inherit'), stub_row_group_border_style=OptionsInfo(scss=True, category='stub', type='value', value='solid'), stub_row_group_border_width=OptionsInfo(scss=True, category='stub', type='px', value='2px'), stub_row_group_border_color=OptionsInfo(scss=True, category='stub', type='value', value='#D3D3D3'), source_notes_padding=OptionsInfo(scss=True, category='source_notes', type='px', value='4px'), source_notes_padding_horizontal=OptionsInfo(scss=True, category='source_notes', type='px', value='5px'), source_notes_background_color=OptionsInfo(scss=True, category='source_notes', type='value', value=None), source_notes_font_size=OptionsInfo(scss=True, category='source_notes', type='px', value='small'), source_notes_border_bottom_style=OptionsInfo(scss=True, category='source_notes', type='value', value='none'), source_notes_border_bottom_width=OptionsInfo(scss=True, category='source_notes', type='px', value='2px'), source_notes_border_bottom_color=OptionsInfo(scss=True, category='source_notes', type='value', value='#D3D3D3'), source_notes_border_lr_style=OptionsInfo(scss=True, category='source_notes', type='value', value='none'), source_notes_border_lr_width=OptionsInfo(scss=True, category='source_notes', type='px', value='2px'), source_notes_border_lr_color=OptionsInfo(scss=True, category='source_notes', type='value', value='#D3D3D3'), source_notes_multiline=OptionsInfo(scss=False, category='source_notes', type='boolean', value=True), source_notes_sep=OptionsInfo(scss=False, category='source_notes', type='value', value=' '), row_striping_background_color=OptionsInfo(scss=True, category='row', type='value', value='rgba(128,128,128,0.05)'), row_striping_include_stub=OptionsInfo(scss=False, category='row', type='boolean', value=False), row_striping_include_table_body=OptionsInfo(scss=False, category='row', type='boolean', value=False), container_width=OptionsInfo(scss=False, category='container', type='px', value='auto'), container_height=OptionsInfo(scss=False, category='container', type='px', value='auto'), container_padding_x=OptionsInfo(scss=False, category='container', type='px', value='0px'), container_padding_y=OptionsInfo(scss=False, category='container', type='px', value='10px'), container_overflow_x=OptionsInfo(scss=False, category='container', type='overflow', value='auto'), container_overflow_y=OptionsInfo(scss=False, category='container', type='overflow', value='auto'), quarto_disable_processing=OptionsInfo(scss=False, category='quarto', type='logical', value=False), quarto_use_bootstrap=OptionsInfo(scss=False, category='quarto', type='logical', value=False)), _has_built=False)"
      ]
     },
     "execution_count": 8,
     "metadata": {},
     "output_type": "execute_result"
    }
   ],
   "source": [
    "from pymer4.models import compare\n",
    "\n",
    "model_s = lmer('Reaction ~ Days + (Days | Subject)', data=sleep)\n",
    "compare(model_i, model_s)"
   ]
  },
  {
   "cell_type": "markdown",
   "metadata": {},
   "source": [
    "It looks it's worth it! \n",
    "\n",
    "Let's calculate bootstrapped confidence intervals, which will give us some uncertainty estimates around *both* fixed and random effects terms. By default we don't get confidence-intervals around random effects terms, but we can with bootstrapping.\n",
    "\n",
    "We can see that our estimate of the standard-deviation across $Subject$'s intercepts is about ~25 with 95% CI of [11 36], while the standard-deviation of their slopes for $Days$ is about 6 with 95% CI of [3, 9]"
   ]
  },
  {
   "cell_type": "code",
   "execution_count": 10,
   "metadata": {},
   "outputs": [
    {
     "data": {
      "text/html": [
       "<div id=\"yaksqvqtyl\" style=\"padding-left:0px;padding-right:0px;padding-top:10px;padding-bottom:10px;overflow-x:auto;overflow-y:auto;width:auto;height:auto;\">\n",
       "<style>\n",
       "#yaksqvqtyl table {\n",
       "          font-family: -apple-system, BlinkMacSystemFont, 'Segoe UI', Roboto, Oxygen, Ubuntu, Cantarell, 'Helvetica Neue', 'Fira Sans', 'Droid Sans', Arial, sans-serif;\n",
       "          -webkit-font-smoothing: antialiased;\n",
       "          -moz-osx-font-smoothing: grayscale;\n",
       "        }\n",
       "\n",
       "#yaksqvqtyl thead, tbody, tfoot, tr, td, th { border-style: none !important; }\n",
       " tr { background-color: transparent !important; }\n",
       "#yaksqvqtyl p { margin: 0 !important; padding: 0 !important; }\n",
       " #yaksqvqtyl .gt_table { display: table !important; border-collapse: collapse !important; line-height: normal !important; margin-left: auto !important; margin-right: auto !important; color: #333333 !important; font-size: 16px !important; font-weight: normal !important; font-style: normal !important; background-color: #FFFFFF !important; width: auto !important; border-top-style: solid !important; border-top-width: 2px !important; border-top-color: #A8A8A8 !important; border-right-style: none !important; border-right-width: 2px !important; border-right-color: #D3D3D3 !important; border-bottom-style: solid !important; border-bottom-width: 2px !important; border-bottom-color: #A8A8A8 !important; border-left-style: none !important; border-left-width: 2px !important; border-left-color: #D3D3D3 !important; }\n",
       " #yaksqvqtyl .gt_caption { padding-top: 4px !important; padding-bottom: 4px !important; }\n",
       " #yaksqvqtyl .gt_title { color: #333333 !important; font-size: 125% !important; font-weight: initial !important; padding-top: 3px !important; padding-bottom: 3px !important; padding-left: 5px !important; padding-right: 5px !important; border-bottom-color: #FFFFFF !important; border-bottom-width: 0 !important; }\n",
       " #yaksqvqtyl .gt_subtitle { color: #333333 !important; font-size: 85% !important; font-weight: initial !important; padding-top: 2px !important; padding-bottom: 4px !important; padding-left: 5px !important; padding-right: 5px !important; border-top-color: #FFFFFF !important; border-top-width: 0 !important; }\n",
       " #yaksqvqtyl .gt_heading { background-color: #FFFFFF !important; text-align: left !important; border-bottom-color: #FFFFFF !important; border-left-style: none !important; border-left-width: 1px !important; border-left-color: #D3D3D3 !important; border-right-style: none !important; border-right-width: 1px !important; border-right-color: #D3D3D3 !important; }\n",
       " #yaksqvqtyl .gt_bottom_border { border-bottom-style: solid !important; border-bottom-width: 2px !important; border-bottom-color: #D3D3D3 !important; }\n",
       " #yaksqvqtyl .gt_col_headings { border-top-style: solid !important; border-top-width: 2px !important; border-top-color: #D3D3D3 !important; border-bottom-style: solid !important; border-bottom-width: 2px !important; border-bottom-color: #D3D3D3 !important; border-left-style: none !important; border-left-width: 1px !important; border-left-color: #D3D3D3 !important; border-right-style: none !important; border-right-width: 1px !important; border-right-color: #D3D3D3 !important; }\n",
       " #yaksqvqtyl .gt_col_heading { color: #333333 !important; background-color: #FFFFFF !important; font-size: 100% !important; font-weight: normal !important; text-transform: inherit !important; border-left-style: none !important; border-left-width: 1px !important; border-left-color: #D3D3D3 !important; border-right-style: none !important; border-right-width: 1px !important; border-right-color: #D3D3D3 !important; vertical-align: bottom !important; padding-top: 3px !important; padding-bottom: 4px !important; padding-left: 5px !important; padding-right: 5px !important; overflow-x: hidden !important; }\n",
       " #yaksqvqtyl .gt_column_spanner_outer { color: #333333 !important; background-color: #FFFFFF !important; font-size: 100% !important; font-weight: normal !important; text-transform: inherit !important; padding-top: 0 !important; padding-bottom: 0 !important; padding-left: 4px !important; padding-right: 4px !important; }\n",
       " #yaksqvqtyl .gt_column_spanner_outer:first-child { padding-left: 0 !important; }\n",
       " #yaksqvqtyl .gt_column_spanner_outer:last-child { padding-right: 0 !important; }\n",
       " #yaksqvqtyl .gt_column_spanner { border-bottom-style: solid !important; border-bottom-width: 2px !important; border-bottom-color: #D3D3D3 !important; vertical-align: bottom !important; padding-top: 3px !important; padding-bottom: 3px !important; overflow-x: hidden !important; display: inline-block !important; width: 100% !important; }\n",
       " #yaksqvqtyl .gt_spanner_row { border-bottom-style: hidden !important; }\n",
       " #yaksqvqtyl .gt_group_heading { padding-top: 6px !important; padding-bottom: 6px !important; padding-left: 5px !important; padding-right: 5px !important; color: #333333 !important; background-color: #FFFFFF !important; font-size: 100% !important; font-weight: initial !important; text-transform: inherit !important; border-top-style: solid !important; border-top-width: 2px !important; border-top-color: #D3D3D3 !important; border-bottom-style: solid !important; border-bottom-width: 2px !important; border-bottom-color: #D3D3D3 !important; border-left-style: none !important; border-left-width: 1px !important; border-left-color: #D3D3D3 !important; border-right-style: none !important; border-right-width: 1px !important; border-right-color: #D3D3D3 !important; vertical-align: middle !important; text-align: left !important; }\n",
       " #yaksqvqtyl .gt_empty_group_heading { padding: 0.5px !important; color: #333333 !important; background-color: #FFFFFF !important; font-size: 100% !important; font-weight: initial !important; border-top-style: solid !important; border-top-width: 2px !important; border-top-color: #D3D3D3 !important; border-bottom-style: solid !important; border-bottom-width: 2px !important; border-bottom-color: #D3D3D3 !important; vertical-align: middle !important; }\n",
       " #yaksqvqtyl .gt_from_md> :first-child { margin-top: 0 !important; }\n",
       " #yaksqvqtyl .gt_from_md> :last-child { margin-bottom: 0 !important; }\n",
       " #yaksqvqtyl .gt_row { padding-top: 6px !important; padding-bottom: 6px !important; padding-left: 5px !important; padding-right: 5px !important; margin: 10px !important; border-top-style: solid !important; border-top-width: 1px !important; border-top-color: #D3D3D3 !important; border-left-style: none !important; border-left-width: 1px !important; border-left-color: #D3D3D3 !important; border-right-style: none !important; border-right-width: 1px !important; border-right-color: #D3D3D3 !important; vertical-align: middle !important; overflow-x: hidden !important; }\n",
       " #yaksqvqtyl .gt_stub { color: #333333 !important; background-color: #FFFFFF !important; font-size: 100% !important; font-weight: initial !important; text-transform: inherit !important; border-right-style: solid !important; border-right-width: 2px !important; border-right-color: #D3D3D3 !important; padding-left: 5px !important; padding-right: 5px !important; }\n",
       " #yaksqvqtyl .gt_stub_row_group { color: #333333 !important; background-color: #FFFFFF !important; font-size: 100% !important; font-weight: initial !important; text-transform: inherit !important; border-right-style: solid !important; border-right-width: 2px !important; border-right-color: #D3D3D3 !important; padding-left: 5px !important; padding-right: 5px !important; vertical-align: top !important; }\n",
       " #yaksqvqtyl .gt_row_group_first td { border-top-width: 2px !important; }\n",
       " #yaksqvqtyl .gt_row_group_first th { border-top-width: 2px !important; }\n",
       " #yaksqvqtyl .gt_striped { background-color: rgba(128,128,128,0.05) !important; }\n",
       " #yaksqvqtyl .gt_table_body { border-top-style: solid !important; border-top-width: 2px !important; border-top-color: #D3D3D3 !important; border-bottom-style: solid !important; border-bottom-width: 2px !important; border-bottom-color: #D3D3D3 !important; }\n",
       " #yaksqvqtyl .gt_sourcenotes { color: #333333 !important; background-color: #FFFFFF !important; border-bottom-style: none !important; border-bottom-width: 2px !important; border-bottom-color: #D3D3D3 !important; border-left-style: none !important; border-left-width: 2px !important; border-left-color: #D3D3D3 !important; border-right-style: none !important; border-right-width: 2px !important; border-right-color: #D3D3D3 !important; }\n",
       " #yaksqvqtyl .gt_sourcenote { font-size: small !important; padding-top: 3px !important; padding-bottom: 3px !important; padding-left: 5px !important; padding-right: 5px !important; text-align: left !important; }\n",
       " #yaksqvqtyl .gt_left { text-align: left !important; }\n",
       " #yaksqvqtyl .gt_center { text-align: center !important; }\n",
       " #yaksqvqtyl .gt_right { text-align: right !important; font-variant-numeric: tabular-nums !important; }\n",
       " #yaksqvqtyl .gt_font_normal { font-weight: normal !important; }\n",
       " #yaksqvqtyl .gt_font_bold { font-weight: bold !important; }\n",
       " #yaksqvqtyl .gt_font_italic { font-style: italic !important; }\n",
       " #yaksqvqtyl .gt_super { font-size: 65% !important; }\n",
       " #yaksqvqtyl .gt_footnote_marks { font-size: 75% !important; vertical-align: 0.4em !important; position: initial !important; }\n",
       " #yaksqvqtyl .gt_asterisk { font-size: 100% !important; vertical-align: 0 !important; }\n",
       " \n",
       "</style>\n",
       "<table class=\"gt_table\" data-quarto-disable-processing=\"false\" data-quarto-bootstrap=\"false\">\n",
       "<thead>\n",
       "\n",
       "  <tr class=\"gt_heading\">\n",
       "    <td colspan=\"10\" class=\"gt_heading gt_title gt_font_normal\">Formula: lmer(Reaction~Days+(Days|Subject))</td>\n",
       "  </tr>\n",
       "  <tr class=\"gt_heading\">\n",
       "    <td colspan=\"10\" class=\"gt_heading gt_subtitle gt_font_normal gt_bottom_border\">Number of observations: <em>180</em><br />\n",
       "Confidence intervals: <em>boot</em><br />\n",
       "Bootstrap Iterations: <em>1000</em><br />\n",
       "---------------------<br />\n",
       "Log-likelihood: <em>-871</em><br />\n",
       "AIC: <em>1755</em> | BIC: <em>1774</em><br />\n",
       "Residual error: <em>25.592</em></td>\n",
       "  </tr>\n",
       "<tr class=\"gt_col_headings\">\n",
       "  <th class=\"gt_col_heading gt_columns_bottom_border gt_left\" rowspan=\"1\" colspan=\"1\" scope=\"col\" id=\"Random Effects:\">Random Effects:</th>\n",
       "  <th class=\"gt_col_heading gt_columns_bottom_border gt_left\" rowspan=\"1\" colspan=\"1\" scope=\"col\" id=\"\"></th>\n",
       "  <th class=\"gt_col_heading gt_columns_bottom_border gt_right\" rowspan=\"1\" colspan=\"1\" scope=\"col\" id=\"Estimate\">Estimate</th>\n",
       "  <th class=\"gt_col_heading gt_columns_bottom_border gt_right\" rowspan=\"1\" colspan=\"1\" scope=\"col\" id=\"CI-low\">CI-low</th>\n",
       "  <th class=\"gt_col_heading gt_columns_bottom_border gt_right\" rowspan=\"1\" colspan=\"1\" scope=\"col\" id=\"CI-high\">CI-high</th>\n",
       "  <th class=\"gt_col_heading gt_columns_bottom_border gt_right\" rowspan=\"1\" colspan=\"1\" scope=\"col\" id=\"SE\">SE</th>\n",
       "  <th class=\"gt_col_heading gt_columns_bottom_border gt_right\" rowspan=\"1\" colspan=\"1\" scope=\"col\" id=\"T-stat\">T-stat</th>\n",
       "  <th class=\"gt_col_heading gt_columns_bottom_border gt_right\" rowspan=\"1\" colspan=\"1\" scope=\"col\" id=\"DF\">DF</th>\n",
       "  <th class=\"gt_col_heading gt_columns_bottom_border gt_left\" rowspan=\"1\" colspan=\"1\" scope=\"col\" id=\"p\">p</th>\n",
       "  <th class=\"gt_col_heading gt_columns_bottom_border gt_left\" rowspan=\"1\" colspan=\"1\" scope=\"col\" id=\"\"></th>\n",
       "</tr>\n",
       "</thead>\n",
       "<tbody class=\"gt_table_body\">\n",
       "  <tr>\n",
       "    <td class=\"gt_row gt_left\">Subject-sd</td>\n",
       "    <td style=\"font-style: italic;\" class=\"gt_row gt_left\">(Intercept)</td>\n",
       "    <td class=\"gt_row gt_right\">24.741</td>\n",
       "    <td class=\"gt_row gt_right\">12.040</td>\n",
       "    <td class=\"gt_row gt_right\">35.104</td>\n",
       "    <td class=\"gt_row gt_right\"></td>\n",
       "    <td class=\"gt_row gt_right\"></td>\n",
       "    <td class=\"gt_row gt_right\"></td>\n",
       "    <td class=\"gt_row gt_left\"></td>\n",
       "    <td class=\"gt_row gt_left\"></td>\n",
       "  </tr>\n",
       "  <tr>\n",
       "    <td class=\"gt_row gt_left\">Subject-sd</td>\n",
       "    <td style=\"font-style: italic;\" class=\"gt_row gt_left\">Days</td>\n",
       "    <td class=\"gt_row gt_right\">5.922</td>\n",
       "    <td class=\"gt_row gt_right\">3.480</td>\n",
       "    <td class=\"gt_row gt_right\">8.412</td>\n",
       "    <td class=\"gt_row gt_right\"></td>\n",
       "    <td class=\"gt_row gt_right\"></td>\n",
       "    <td class=\"gt_row gt_right\"></td>\n",
       "    <td class=\"gt_row gt_left\"></td>\n",
       "    <td class=\"gt_row gt_left\"></td>\n",
       "  </tr>\n",
       "  <tr>\n",
       "    <td class=\"gt_row gt_left\">Subject-cor</td>\n",
       "    <td style=\"font-style: italic;\" class=\"gt_row gt_left\">(Intercept)</td>\n",
       "    <td class=\"gt_row gt_right\">0.066</td>\n",
       "    <td class=\"gt_row gt_right\">−0.489</td>\n",
       "    <td class=\"gt_row gt_right\">1.000</td>\n",
       "    <td class=\"gt_row gt_right\"></td>\n",
       "    <td class=\"gt_row gt_right\"></td>\n",
       "    <td class=\"gt_row gt_right\"></td>\n",
       "    <td class=\"gt_row gt_left\"></td>\n",
       "    <td class=\"gt_row gt_left\"></td>\n",
       "  </tr>\n",
       "  <tr>\n",
       "    <td class=\"gt_row gt_left\">Residual-sd</td>\n",
       "    <td style=\"font-style: italic;\" class=\"gt_row gt_left\">Observation</td>\n",
       "    <td class=\"gt_row gt_right\">25.592</td>\n",
       "    <td class=\"gt_row gt_right\">22.597</td>\n",
       "    <td class=\"gt_row gt_right\">28.531</td>\n",
       "    <td class=\"gt_row gt_right\"></td>\n",
       "    <td class=\"gt_row gt_right\"></td>\n",
       "    <td class=\"gt_row gt_right\"></td>\n",
       "    <td class=\"gt_row gt_left\"></td>\n",
       "    <td class=\"gt_row gt_left\"></td>\n",
       "  </tr>\n",
       "  <tr>\n",
       "    <td class=\"gt_row gt_left\"></td>\n",
       "    <td style=\"font-style: italic;\" class=\"gt_row gt_left\"></td>\n",
       "    <td class=\"gt_row gt_right\"></td>\n",
       "    <td class=\"gt_row gt_right\"></td>\n",
       "    <td class=\"gt_row gt_right\"></td>\n",
       "    <td class=\"gt_row gt_right\"></td>\n",
       "    <td class=\"gt_row gt_right\"></td>\n",
       "    <td class=\"gt_row gt_right\"></td>\n",
       "    <td class=\"gt_row gt_left\"></td>\n",
       "    <td class=\"gt_row gt_left\"></td>\n",
       "  </tr>\n",
       "  <tr>\n",
       "    <td class=\"gt_row gt_left\">Fixed Effects:</td>\n",
       "    <td style=\"font-style: italic;\" class=\"gt_row gt_left\"></td>\n",
       "    <td class=\"gt_row gt_right\"></td>\n",
       "    <td class=\"gt_row gt_right\"></td>\n",
       "    <td class=\"gt_row gt_right\"></td>\n",
       "    <td class=\"gt_row gt_right\"></td>\n",
       "    <td class=\"gt_row gt_right\"></td>\n",
       "    <td class=\"gt_row gt_right\"></td>\n",
       "    <td class=\"gt_row gt_left\"></td>\n",
       "    <td class=\"gt_row gt_left\"></td>\n",
       "  </tr>\n",
       "  <tr>\n",
       "    <td class=\"gt_row gt_left\"></td>\n",
       "    <td style=\"font-style: italic;\" class=\"gt_row gt_left\">(Intercept)</td>\n",
       "    <td class=\"gt_row gt_right\">251.405</td>\n",
       "    <td class=\"gt_row gt_right\">237.455</td>\n",
       "    <td class=\"gt_row gt_right\">264.625</td>\n",
       "    <td class=\"gt_row gt_right\">6.825</td>\n",
       "    <td class=\"gt_row gt_right\">36.838</td>\n",
       "    <td class=\"gt_row gt_right\">17.000</td>\n",
       "    <td class=\"gt_row gt_left\"><.001</td>\n",
       "    <td class=\"gt_row gt_left\">***</td>\n",
       "  </tr>\n",
       "  <tr>\n",
       "    <td class=\"gt_row gt_left\"></td>\n",
       "    <td style=\"font-style: italic;\" class=\"gt_row gt_left\">Days</td>\n",
       "    <td class=\"gt_row gt_right\">10.467</td>\n",
       "    <td class=\"gt_row gt_right\">7.335</td>\n",
       "    <td class=\"gt_row gt_right\">13.580</td>\n",
       "    <td class=\"gt_row gt_right\">1.546</td>\n",
       "    <td class=\"gt_row gt_right\">6.771</td>\n",
       "    <td class=\"gt_row gt_right\">17.000</td>\n",
       "    <td class=\"gt_row gt_left\"><.001</td>\n",
       "    <td class=\"gt_row gt_left\">***</td>\n",
       "  </tr>\n",
       "</tbody>\n",
       "  <tfoot class=\"gt_sourcenotes\">\n",
       "  \n",
       "  <tr>\n",
       "    <td class=\"gt_sourcenote\" colspan=\"10\">Signif. codes: <em>0 *** 0.001 ** 0.01 * 0.05 . 0.1</em></td>\n",
       "  </tr>\n",
       "\n",
       "</tfoot>\n",
       "\n",
       "</table>\n",
       "\n",
       "</div>\n",
       "        "
      ],
      "text/plain": [
       "GT(_tbl_data=shape: (8, 10)\n",
       "┌─────────────┬─────────────┬────────────┬────────────┬───┬──────────┬───────────┬─────────┬───────┐\n",
       "│ rfx         ┆ param       ┆ estimate   ┆ conf_low   ┆ … ┆ t_stat   ┆ df        ┆ p_value ┆ stars │\n",
       "│ ---         ┆ ---         ┆ ---        ┆ ---        ┆   ┆ ---      ┆ ---       ┆ ---     ┆ ---   │\n",
       "│ str         ┆ str         ┆ f64        ┆ f64        ┆   ┆ f64      ┆ f64       ┆ str     ┆ str   │\n",
       "╞═════════════╪═════════════╪════════════╪════════════╪═══╪══════════╪═══════════╪═════════╪═══════╡\n",
       "│ Subject-sd  ┆ (Intercept) ┆ 24.740658  ┆ 12.039791  ┆ … ┆ null     ┆ null      ┆ null    ┆ null  │\n",
       "│ Subject-sd  ┆ Days        ┆ 5.922138   ┆ 3.48035    ┆ … ┆ null     ┆ null      ┆ null    ┆ null  │\n",
       "│ Subject-cor ┆ (Intercept) ┆ 0.065551   ┆ -0.489232  ┆ … ┆ null     ┆ null      ┆ null    ┆ null  │\n",
       "│ Residual-sd ┆ Observation ┆ 25.591796  ┆ 22.596828  ┆ … ┆ null     ┆ null      ┆ null    ┆ null  │\n",
       "│ null        ┆ null        ┆ null       ┆ null       ┆ … ┆ null     ┆ null      ┆ null    ┆ null  │\n",
       "│ Fixed       ┆ null        ┆ null       ┆ null       ┆ … ┆ null     ┆ null      ┆ null    ┆ null  │\n",
       "│ Effects:    ┆             ┆            ┆            ┆   ┆          ┆           ┆         ┆       │\n",
       "│ null        ┆ (Intercept) ┆ 251.405105 ┆ 237.454598 ┆ … ┆ 36.83809 ┆ 16.999726 ┆ <.001   ┆ ***   │\n",
       "│ null        ┆ Days        ┆ 10.467286  ┆ 7.334756   ┆ … ┆ 6.771481 ┆ 16.999984 ┆ <.001   ┆ ***   │\n",
       "└─────────────┴─────────────┴────────────┴────────────┴───┴──────────┴───────────┴─────────┴───────┘, _body=<great_tables._gt_data.Body object at 0x304225370>, _boxhead=Boxhead([ColInfo(var='rfx', type=<ColInfoTypeEnum.default: 1>, column_label='Random Effects:', column_align='left', column_width=None), ColInfo(var='param', type=<ColInfoTypeEnum.default: 1>, column_label='', column_align='left', column_width=None), ColInfo(var='estimate', type=<ColInfoTypeEnum.default: 1>, column_label='Estimate', column_align='right', column_width=None), ColInfo(var='conf_low', type=<ColInfoTypeEnum.default: 1>, column_label='CI-low', column_align='right', column_width=None), ColInfo(var='conf_high', type=<ColInfoTypeEnum.default: 1>, column_label='CI-high', column_align='right', column_width=None), ColInfo(var='std_error', type=<ColInfoTypeEnum.default: 1>, column_label='SE', column_align='right', column_width=None), ColInfo(var='t_stat', type=<ColInfoTypeEnum.default: 1>, column_label='T-stat', column_align='right', column_width=None), ColInfo(var='df', type=<ColInfoTypeEnum.default: 1>, column_label='DF', column_align='right', column_width=None), ColInfo(var='p_value', type=<ColInfoTypeEnum.default: 1>, column_label='p', column_align='left', column_width=None), ColInfo(var='stars', type=<ColInfoTypeEnum.default: 1>, column_label='', column_align='left', column_width=None)]), _stub=<great_tables._gt_data.Stub object at 0x30421c140>, _spanners=Spanners([]), _heading=Heading(title='Formula: lmer(Reaction~Days+(Days|Subject))', subtitle=Md(text='Number of observations: *180*  \\n            Confidence intervals: *boot*  \\n            Bootstrap Iterations: *1000*  \\n            ---------------------  \\n            Log-likelihood: *-871*  \\n            AIC: *1755* | BIC: *1774*  \\n            Residual error: *25.592*  \\n        '), preheader=None), _stubhead=None, _source_notes=[Md(text='Signif. codes: *0 *** 0.001 ** 0.01 * 0.05 . 0.1*')], _footnotes=[], _styles=[StyleInfo(locname=LocBody(columns=['param'], rows=None), grpname=None, colname='param', rownum=0, colnum=None, styles=[CellStyleText(color=None, font=None, size=None, align=None, v_align=None, style='italic', weight=None, stretch=None, decorate=None, transform=None, whitespace=None)]), StyleInfo(locname=LocBody(columns=['param'], rows=None), grpname=None, colname='param', rownum=1, colnum=None, styles=[CellStyleText(color=None, font=None, size=None, align=None, v_align=None, style='italic', weight=None, stretch=None, decorate=None, transform=None, whitespace=None)]), StyleInfo(locname=LocBody(columns=['param'], rows=None), grpname=None, colname='param', rownum=2, colnum=None, styles=[CellStyleText(color=None, font=None, size=None, align=None, v_align=None, style='italic', weight=None, stretch=None, decorate=None, transform=None, whitespace=None)]), StyleInfo(locname=LocBody(columns=['param'], rows=None), grpname=None, colname='param', rownum=3, colnum=None, styles=[CellStyleText(color=None, font=None, size=None, align=None, v_align=None, style='italic', weight=None, stretch=None, decorate=None, transform=None, whitespace=None)]), StyleInfo(locname=LocBody(columns=['param'], rows=None), grpname=None, colname='param', rownum=4, colnum=None, styles=[CellStyleText(color=None, font=None, size=None, align=None, v_align=None, style='italic', weight=None, stretch=None, decorate=None, transform=None, whitespace=None)]), StyleInfo(locname=LocBody(columns=['param'], rows=None), grpname=None, colname='param', rownum=5, colnum=None, styles=[CellStyleText(color=None, font=None, size=None, align=None, v_align=None, style='italic', weight=None, stretch=None, decorate=None, transform=None, whitespace=None)]), StyleInfo(locname=LocBody(columns=['param'], rows=None), grpname=None, colname='param', rownum=6, colnum=None, styles=[CellStyleText(color=None, font=None, size=None, align=None, v_align=None, style='italic', weight=None, stretch=None, decorate=None, transform=None, whitespace=None)]), StyleInfo(locname=LocBody(columns=['param'], rows=None), grpname=None, colname='param', rownum=7, colnum=None, styles=[CellStyleText(color=None, font=None, size=None, align=None, v_align=None, style='italic', weight=None, stretch=None, decorate=None, transform=None, whitespace=None)])], _locale=<great_tables._gt_data.Locale object at 0x3042250a0>, _formats=[<great_tables._gt_data.FormatInfo object at 0x138c76c60>], _substitutions=[<great_tables._gt_data.FormatInfo object at 0x304227200>], _options=Options(table_id=OptionsInfo(scss=False, category='table', type='value', value=None), table_caption=OptionsInfo(scss=False, category='table', type='value', value=None), table_width=OptionsInfo(scss=True, category='table', type='px', value='auto'), table_layout=OptionsInfo(scss=True, category='table', type='value', value='fixed'), table_margin_left=OptionsInfo(scss=True, category='table', type='px', value='auto'), table_margin_right=OptionsInfo(scss=True, category='table', type='px', value='auto'), table_background_color=OptionsInfo(scss=True, category='table', type='value', value='#FFFFFF'), table_additional_css=OptionsInfo(scss=False, category='table', type='values', value=[]), table_font_names=OptionsInfo(scss=False, category='table', type='values', value=['-apple-system', 'BlinkMacSystemFont', 'Segoe UI', 'Roboto', 'Oxygen', 'Ubuntu', 'Cantarell', 'Helvetica Neue', 'Fira Sans', 'Droid Sans', 'Arial', 'sans-serif']), table_font_size=OptionsInfo(scss=True, category='table', type='px', value='16px'), table_font_weight=OptionsInfo(scss=True, category='table', type='value', value='normal'), table_font_style=OptionsInfo(scss=True, category='table', type='value', value='normal'), table_font_color=OptionsInfo(scss=True, category='table', type='value', value='#333333'), table_font_color_light=OptionsInfo(scss=True, category='table', type='value', value='#FFFFFF'), table_border_top_include=OptionsInfo(scss=False, category='table', type='boolean', value=True), table_border_top_style=OptionsInfo(scss=True, category='table', type='value', value='solid'), table_border_top_width=OptionsInfo(scss=True, category='table', type='px', value='2px'), table_border_top_color=OptionsInfo(scss=True, category='table', type='value', value='#A8A8A8'), table_border_right_style=OptionsInfo(scss=True, category='table', type='value', value='none'), table_border_right_width=OptionsInfo(scss=True, category='table', type='px', value='2px'), table_border_right_color=OptionsInfo(scss=True, category='table', type='value', value='#D3D3D3'), table_border_bottom_include=OptionsInfo(scss=False, category='table', type='boolean', value=True), table_border_bottom_style=OptionsInfo(scss=True, category='table', type='value', value='solid'), table_border_bottom_width=OptionsInfo(scss=True, category='table', type='px', value='2px'), table_border_bottom_color=OptionsInfo(scss=True, category='table', type='value', value='#A8A8A8'), table_border_left_style=OptionsInfo(scss=True, category='table', type='value', value='none'), table_border_left_width=OptionsInfo(scss=True, category='table', type='px', value='2px'), table_border_left_color=OptionsInfo(scss=True, category='table', type='value', value='#D3D3D3'), heading_background_color=OptionsInfo(scss=True, category='heading', type='value', value=None), heading_align=OptionsInfo(scss=True, category='heading', type='value', value='left'), heading_title_font_size=OptionsInfo(scss=True, category='heading', type='px', value='125%'), heading_title_font_weight=OptionsInfo(scss=True, category='heading', type='value', value='initial'), heading_subtitle_font_size=OptionsInfo(scss=True, category='heading', type='px', value='85%'), heading_subtitle_font_weight=OptionsInfo(scss=True, category='heading', type='value', value='initial'), heading_padding=OptionsInfo(scss=True, category='heading', type='px', value='3px'), heading_padding_horizontal=OptionsInfo(scss=True, category='heading', type='px', value='5px'), heading_border_bottom_style=OptionsInfo(scss=True, category='heading', type='value', value='solid'), heading_border_bottom_width=OptionsInfo(scss=True, category='heading', type='px', value='2px'), heading_border_bottom_color=OptionsInfo(scss=True, category='heading', type='value', value='#D3D3D3'), heading_border_lr_style=OptionsInfo(scss=True, category='heading', type='value', value='none'), heading_border_lr_width=OptionsInfo(scss=True, category='heading', type='px', value='1px'), heading_border_lr_color=OptionsInfo(scss=True, category='heading', type='value', value='#D3D3D3'), column_labels_background_color=OptionsInfo(scss=True, category='column_labels', type='value', value=None), column_labels_font_size=OptionsInfo(scss=True, category='column_labels', type='px', value='100%'), column_labels_font_weight=OptionsInfo(scss=True, category='column_labels', type='value', value='normal'), column_labels_text_transform=OptionsInfo(scss=True, category='column_labels', type='value', value='inherit'), column_labels_padding=OptionsInfo(scss=True, category='column_labels', type='px', value='3px'), column_labels_padding_horizontal=OptionsInfo(scss=True, category='column_labels', type='px', value='5px'), column_labels_vlines_style=OptionsInfo(scss=True, category='table_body', type='value', value='none'), column_labels_vlines_width=OptionsInfo(scss=True, category='table_body', type='px', value='1px'), column_labels_vlines_color=OptionsInfo(scss=True, category='table_body', type='value', value='#D3D3D3'), column_labels_border_top_style=OptionsInfo(scss=True, category='column_labels', type='value', value='solid'), column_labels_border_top_width=OptionsInfo(scss=True, category='column_labels', type='px', value='2px'), column_labels_border_top_color=OptionsInfo(scss=True, category='column_labels', type='value', value='#D3D3D3'), column_labels_border_bottom_style=OptionsInfo(scss=True, category='column_labels', type='value', value='solid'), column_labels_border_bottom_width=OptionsInfo(scss=True, category='column_labels', type='px', value='2px'), column_labels_border_bottom_color=OptionsInfo(scss=True, category='column_labels', type='value', value='#D3D3D3'), column_labels_border_lr_style=OptionsInfo(scss=True, category='column_labels', type='value', value='none'), column_labels_border_lr_width=OptionsInfo(scss=True, category='column_labels', type='px', value='1px'), column_labels_border_lr_color=OptionsInfo(scss=True, category='column_labels', type='value', value='#D3D3D3'), column_labels_hidden=OptionsInfo(scss=False, category='column_labels', type='boolean', value=False), row_group_background_color=OptionsInfo(scss=True, category='row_group', type='value', value=None), row_group_font_size=OptionsInfo(scss=True, category='row_group', type='px', value='100%'), row_group_font_weight=OptionsInfo(scss=True, category='row_group', type='value', value='initial'), row_group_text_transform=OptionsInfo(scss=True, category='row_group', type='value', value='inherit'), row_group_padding=OptionsInfo(scss=True, category='row_group', type='px', value='6px'), row_group_padding_horizontal=OptionsInfo(scss=True, category='row_group', type='px', value='5px'), row_group_border_top_style=OptionsInfo(scss=True, category='row_group', type='value', value='solid'), row_group_border_top_width=OptionsInfo(scss=True, category='row_group', type='px', value='2px'), row_group_border_top_color=OptionsInfo(scss=True, category='row_group', type='value', value='#D3D3D3'), row_group_border_right_style=OptionsInfo(scss=True, category='row_group', type='value', value='none'), row_group_border_right_width=OptionsInfo(scss=True, category='row_group', type='px', value='1px'), row_group_border_right_color=OptionsInfo(scss=True, category='row_group', type='value', value='#D3D3D3'), row_group_border_bottom_style=OptionsInfo(scss=True, category='row_group', type='value', value='solid'), row_group_border_bottom_width=OptionsInfo(scss=True, category='row_group', type='px', value='2px'), row_group_border_bottom_color=OptionsInfo(scss=True, category='row_group', type='value', value='#D3D3D3'), row_group_border_left_style=OptionsInfo(scss=True, category='row_group', type='value', value='none'), row_group_border_left_width=OptionsInfo(scss=True, category='row_group', type='px', value='1px'), row_group_border_left_color=OptionsInfo(scss=True, category='row_group', type='value', value='#D3D3D3'), row_group_as_column=OptionsInfo(scss=False, category='row_group', type='boolean', value=False), table_body_hlines_style=OptionsInfo(scss=True, category='table_body', type='value', value='solid'), table_body_hlines_width=OptionsInfo(scss=True, category='table_body', type='px', value='1px'), table_body_hlines_color=OptionsInfo(scss=True, category='table_body', type='value', value='#D3D3D3'), table_body_vlines_style=OptionsInfo(scss=True, category='table_body', type='value', value='none'), table_body_vlines_width=OptionsInfo(scss=True, category='table_body', type='px', value='1px'), table_body_vlines_color=OptionsInfo(scss=True, category='table_body', type='value', value='#D3D3D3'), table_body_border_top_style=OptionsInfo(scss=True, category='table_body', type='value', value='solid'), table_body_border_top_width=OptionsInfo(scss=True, category='table_body', type='px', value='2px'), table_body_border_top_color=OptionsInfo(scss=True, category='table_body', type='value', value='#D3D3D3'), table_body_border_bottom_style=OptionsInfo(scss=True, category='table_body', type='value', value='solid'), table_body_border_bottom_width=OptionsInfo(scss=True, category='table_body', type='px', value='2px'), table_body_border_bottom_color=OptionsInfo(scss=True, category='table_body', type='value', value='#D3D3D3'), data_row_padding=OptionsInfo(scss=True, category='data_row', type='px', value='6px'), data_row_padding_horizontal=OptionsInfo(scss=True, category='data_row', type='px', value='5px'), stub_background_color=OptionsInfo(scss=True, category='stub', type='value', value=None), stub_font_size=OptionsInfo(scss=True, category='stub', type='px', value='100%'), stub_font_weight=OptionsInfo(scss=True, category='stub', type='value', value='initial'), stub_text_transform=OptionsInfo(scss=True, category='stub', type='value', value='inherit'), stub_border_style=OptionsInfo(scss=True, category='stub', type='value', value='solid'), stub_border_width=OptionsInfo(scss=True, category='stub', type='px', value='2px'), stub_border_color=OptionsInfo(scss=True, category='stub', type='value', value='#D3D3D3'), stub_row_group_background_color=OptionsInfo(scss=True, category='stub', type='value', value=None), stub_row_group_font_size=OptionsInfo(scss=True, category='stub', type='px', value='100%'), stub_row_group_font_weight=OptionsInfo(scss=True, category='stub', type='value', value='initial'), stub_row_group_text_transform=OptionsInfo(scss=True, category='stub', type='value', value='inherit'), stub_row_group_border_style=OptionsInfo(scss=True, category='stub', type='value', value='solid'), stub_row_group_border_width=OptionsInfo(scss=True, category='stub', type='px', value='2px'), stub_row_group_border_color=OptionsInfo(scss=True, category='stub', type='value', value='#D3D3D3'), source_notes_padding=OptionsInfo(scss=True, category='source_notes', type='px', value='3px'), source_notes_padding_horizontal=OptionsInfo(scss=True, category='source_notes', type='px', value='5px'), source_notes_background_color=OptionsInfo(scss=True, category='source_notes', type='value', value=None), source_notes_font_size=OptionsInfo(scss=True, category='source_notes', type='px', value='small'), source_notes_border_bottom_style=OptionsInfo(scss=True, category='source_notes', type='value', value='none'), source_notes_border_bottom_width=OptionsInfo(scss=True, category='source_notes', type='px', value='2px'), source_notes_border_bottom_color=OptionsInfo(scss=True, category='source_notes', type='value', value='#D3D3D3'), source_notes_border_lr_style=OptionsInfo(scss=True, category='source_notes', type='value', value='none'), source_notes_border_lr_width=OptionsInfo(scss=True, category='source_notes', type='px', value='2px'), source_notes_border_lr_color=OptionsInfo(scss=True, category='source_notes', type='value', value='#D3D3D3'), source_notes_multiline=OptionsInfo(scss=False, category='source_notes', type='boolean', value=True), source_notes_sep=OptionsInfo(scss=False, category='source_notes', type='value', value=' '), row_striping_background_color=OptionsInfo(scss=True, category='row', type='value', value='rgba(128,128,128,0.05)'), row_striping_include_stub=OptionsInfo(scss=False, category='row', type='boolean', value=False), row_striping_include_table_body=OptionsInfo(scss=False, category='row', type='boolean', value=False), container_width=OptionsInfo(scss=False, category='container', type='px', value='auto'), container_height=OptionsInfo(scss=False, category='container', type='px', value='auto'), container_padding_x=OptionsInfo(scss=False, category='container', type='px', value='0px'), container_padding_y=OptionsInfo(scss=False, category='container', type='px', value='10px'), container_overflow_x=OptionsInfo(scss=False, category='container', type='overflow', value='auto'), container_overflow_y=OptionsInfo(scss=False, category='container', type='overflow', value='auto'), quarto_disable_processing=OptionsInfo(scss=False, category='quarto', type='logical', value=False), quarto_use_bootstrap=OptionsInfo(scss=False, category='quarto', type='logical', value=False)), _has_built=False)"
      ]
     },
     "execution_count": 10,
     "metadata": {},
     "output_type": "execute_result"
    }
   ],
   "source": [
    "model_s.fit(conf_method='boot', summary=True)"
   ]
  },
  {
   "cell_type": "markdown",
   "metadata": {},
   "source": [
    "## Model issues\n",
    "\n",
    "When fitting more complex models or models with redundant parameters you'll often run into model *convergence* issues and/or model *singularity* issues.\n",
    "\n",
    "Models will print out warning messages from R when this happens to let you know. But you can also suppress these by passing `verbose = False` to `.fit()`"
   ]
  },
  {
   "cell_type": "code",
   "execution_count": 2,
   "metadata": {},
   "outputs": [
    {
     "name": "stdout",
     "output_type": "stream",
     "text": [
      "R messages: \n",
      "boundary (singular) fit: see help('isSingular')\n",
      "\n",
      "R messages: \n",
      "boundary (singular) fit: see help('isSingular')\n",
      "\n"
     ]
    }
   ],
   "source": [
    "bad_model = lmer('Reaction ~ Days + (Days | Subject) + (1 | Days)', data=sleep)\n",
    "bad_model.fit()"
   ]
  },
  {
   "cell_type": "code",
   "execution_count": 3,
   "metadata": {},
   "outputs": [],
   "source": [
    "# No warning!\n",
    "bad_model.fit(verbose=False)"
   ]
  },
  {
   "cell_type": "markdown",
   "metadata": {},
   "source": [
    "You can always see if there were any suppressed warnings using `.show_logs()`"
   ]
  },
  {
   "cell_type": "code",
   "execution_count": 4,
   "metadata": {},
   "outputs": [
    {
     "name": "stdout",
     "output_type": "stream",
     "text": [
      "R messages: \n",
      "boundary (singular) fit: see help('isSingular')\n",
      "\n"
     ]
    }
   ],
   "source": [
    "bad_model.show_logs()"
   ]
  },
  {
   "cell_type": "markdown",
   "metadata": {},
   "source": [
    "Convergence issues can often be due to a lack of variance for some of the random-effects terms. The \"gradient\" value should be a very very tiny number that reflects the change is the optimizer's error during fitting. Values close to or > 0 suggest the optimizer struggled to find the \"best\" parameter estimates."
   ]
  },
  {
   "cell_type": "code",
   "execution_count": 6,
   "metadata": {},
   "outputs": [
    {
     "name": "stdout",
     "output_type": "stream",
     "text": [
      "R messages: \n",
      "Convergence status\n",
      ": [1] FALSE\n",
      "attr(,\"gradient\")\n",
      "[1] 1.145261\n",
      "\n"
     ]
    }
   ],
   "source": [
    "mtcars = load_dataset('mtcars')\n",
    "\n",
    "bad_model = lmer('mpg ~ 1 + (hp | cyl)', data=mtcars)\n",
    "bad_model.set_factors('cyl')\n",
    "bad_model.fit()"
   ]
  },
  {
   "cell_type": "markdown",
   "metadata": {},
   "source": [
    "We can see that the variability around the random slope across $hp$ for $cyl$ is very small (~0.034) which makes this challenging for the optimizer"
   ]
  },
  {
   "cell_type": "code",
   "execution_count": 7,
   "metadata": {},
   "outputs": [
    {
     "data": {
      "text/html": [
       "<div><style>\n",
       ".dataframe > thead > tr,\n",
       ".dataframe > tbody > tr {\n",
       "  text-align: right;\n",
       "  white-space: pre-wrap;\n",
       "}\n",
       "</style>\n",
       "<small>shape: (4, 5)</small><table border=\"1\" class=\"dataframe\"><thead><tr><th>group</th><th>term</th><th>estimate</th><th>conf_low</th><th>conf_high</th></tr><tr><td>str</td><td>str</td><td>f64</td><td>f64</td><td>f64</td></tr></thead><tbody><tr><td>&quot;cyl&quot;</td><td>&quot;sd__(Intercept)&quot;</td><td>6.192348</td><td>null</td><td>null</td></tr><tr><td>&quot;cyl&quot;</td><td>&quot;cor__(Intercept).hp&quot;</td><td>-0.869679</td><td>null</td><td>null</td></tr><tr><td>&quot;cyl&quot;</td><td>&quot;sd__hp&quot;</td><td>0.034038</td><td>null</td><td>null</td></tr><tr><td>&quot;Residual&quot;</td><td>&quot;sd__Observation&quot;</td><td>3.120614</td><td>null</td><td>null</td></tr></tbody></table></div>"
      ],
      "text/plain": [
       "shape: (4, 5)\n",
       "┌──────────┬─────────────────────┬───────────┬──────────┬───────────┐\n",
       "│ group    ┆ term                ┆ estimate  ┆ conf_low ┆ conf_high │\n",
       "│ ---      ┆ ---                 ┆ ---       ┆ ---      ┆ ---       │\n",
       "│ str      ┆ str                 ┆ f64       ┆ f64      ┆ f64       │\n",
       "╞══════════╪═════════════════════╪═══════════╪══════════╪═══════════╡\n",
       "│ cyl      ┆ sd__(Intercept)     ┆ 6.192348  ┆ null     ┆ null      │\n",
       "│ cyl      ┆ cor__(Intercept).hp ┆ -0.869679 ┆ null     ┆ null      │\n",
       "│ cyl      ┆ sd__hp              ┆ 0.034038  ┆ null     ┆ null      │\n",
       "│ Residual ┆ sd__Observation     ┆ 3.120614  ┆ null     ┆ null      │\n",
       "└──────────┴─────────────────────┴───────────┴──────────┴───────────┘"
      ]
     },
     "execution_count": 7,
     "metadata": {},
     "output_type": "execute_result"
    }
   ],
   "source": [
    "bad_model.ranef_var"
   ]
  },
  {
   "cell_type": "markdown",
   "metadata": {},
   "source": [
    "We can attempt to bootstrap the model to see how much the variability changes. We again see covergence warnings and that the range of estimates includes very small values for the random slope.\n",
    "\n",
    "We're also having hard time estimating the correlation between intercept and slope leading to a huge confidence interval"
   ]
  },
  {
   "cell_type": "code",
   "execution_count": 8,
   "metadata": {},
   "outputs": [
    {
     "name": "stdout",
     "output_type": "stream",
     "text": [
      "R messages: \n",
      "Convergence status\n",
      ": [1] FALSE\n",
      "attr(,\"gradient\")\n",
      "[1] 1.145261\n",
      "\n"
     ]
    },
    {
     "data": {
      "text/html": [
       "<div><style>\n",
       ".dataframe > thead > tr,\n",
       ".dataframe > tbody > tr {\n",
       "  text-align: right;\n",
       "  white-space: pre-wrap;\n",
       "}\n",
       "</style>\n",
       "<small>shape: (4, 5)</small><table border=\"1\" class=\"dataframe\"><thead><tr><th>group</th><th>term</th><th>estimate</th><th>conf_low</th><th>conf_high</th></tr><tr><td>str</td><td>str</td><td>f64</td><td>f64</td><td>f64</td></tr></thead><tbody><tr><td>&quot;cyl&quot;</td><td>&quot;sd__(Intercept)&quot;</td><td>6.192348</td><td>0.0</td><td>13.387067</td></tr><tr><td>&quot;cyl&quot;</td><td>&quot;cor__(Intercept).hp&quot;</td><td>-0.869679</td><td>-1.0</td><td>1.0</td></tr><tr><td>&quot;cyl&quot;</td><td>&quot;sd__hp&quot;</td><td>0.034038</td><td>3.3944e-7</td><td>0.087685</td></tr><tr><td>&quot;Residual&quot;</td><td>&quot;sd__Observation&quot;</td><td>3.120614</td><td>2.287559</td><td>3.949821</td></tr></tbody></table></div>"
      ],
      "text/plain": [
       "shape: (4, 5)\n",
       "┌──────────┬─────────────────────┬───────────┬───────────┬───────────┐\n",
       "│ group    ┆ term                ┆ estimate  ┆ conf_low  ┆ conf_high │\n",
       "│ ---      ┆ ---                 ┆ ---       ┆ ---       ┆ ---       │\n",
       "│ str      ┆ str                 ┆ f64       ┆ f64       ┆ f64       │\n",
       "╞══════════╪═════════════════════╪═══════════╪═══════════╪═══════════╡\n",
       "│ cyl      ┆ sd__(Intercept)     ┆ 6.192348  ┆ 0.0       ┆ 13.387067 │\n",
       "│ cyl      ┆ cor__(Intercept).hp ┆ -0.869679 ┆ -1.0      ┆ 1.0       │\n",
       "│ cyl      ┆ sd__hp              ┆ 0.034038  ┆ 3.3944e-7 ┆ 0.087685  │\n",
       "│ Residual ┆ sd__Observation     ┆ 3.120614  ┆ 2.287559  ┆ 3.949821  │\n",
       "└──────────┴─────────────────────┴───────────┴───────────┴───────────┘"
      ]
     },
     "execution_count": 8,
     "metadata": {},
     "output_type": "execute_result"
    }
   ],
   "source": [
    "bad_model.fit(conf_method='boot')\n",
    "bad_model.ranef_var"
   ]
  },
  {
   "cell_type": "markdown",
   "metadata": {},
   "source": [
    "We can try to simplify the model by remove the correlation between random-effects terms. The model still fails to convergence, but the gradient is much smaller now.\n",
    "\n",
    "It looks like the lack of variability in the random slope is still giving the optimizer issues:"
   ]
  },
  {
   "cell_type": "code",
   "execution_count": 9,
   "metadata": {},
   "outputs": [
    {
     "name": "stdout",
     "output_type": "stream",
     "text": [
      "R messages: \n",
      "Convergence status\n",
      ": [1] FALSE\n",
      "attr(,\"gradient\")\n",
      "[1] 0.1034371\n",
      "\n"
     ]
    },
    {
     "data": {
      "text/html": [
       "<div><style>\n",
       ".dataframe > thead > tr,\n",
       ".dataframe > tbody > tr {\n",
       "  text-align: right;\n",
       "  white-space: pre-wrap;\n",
       "}\n",
       "</style>\n",
       "<small>shape: (3, 5)</small><table border=\"1\" class=\"dataframe\"><thead><tr><th>group</th><th>term</th><th>estimate</th><th>conf_low</th><th>conf_high</th></tr><tr><td>str</td><td>str</td><td>f64</td><td>f64</td><td>f64</td></tr></thead><tbody><tr><td>&quot;cyl&quot;</td><td>&quot;sd__(Intercept)&quot;</td><td>5.706231</td><td>0.0</td><td>11.294004</td></tr><tr><td>&quot;cyl.1&quot;</td><td>&quot;sd__hp&quot;</td><td>0.012059</td><td>0.0</td><td>0.04829</td></tr><tr><td>&quot;Residual&quot;</td><td>&quot;sd__Observation&quot;</td><td>3.182668</td><td>2.266804</td><td>4.016254</td></tr></tbody></table></div>"
      ],
      "text/plain": [
       "shape: (3, 5)\n",
       "┌──────────┬─────────────────┬──────────┬──────────┬───────────┐\n",
       "│ group    ┆ term            ┆ estimate ┆ conf_low ┆ conf_high │\n",
       "│ ---      ┆ ---             ┆ ---      ┆ ---      ┆ ---       │\n",
       "│ str      ┆ str             ┆ f64      ┆ f64      ┆ f64       │\n",
       "╞══════════╪═════════════════╪══════════╪══════════╪═══════════╡\n",
       "│ cyl      ┆ sd__(Intercept) ┆ 5.706231 ┆ 0.0      ┆ 11.294004 │\n",
       "│ cyl.1    ┆ sd__hp          ┆ 0.012059 ┆ 0.0      ┆ 0.04829   │\n",
       "│ Residual ┆ sd__Observation ┆ 3.182668 ┆ 2.266804 ┆ 4.016254  │\n",
       "└──────────┴─────────────────┴──────────┴──────────┴───────────┘"
      ]
     },
     "execution_count": 9,
     "metadata": {},
     "output_type": "execute_result"
    }
   ],
   "source": [
    "simple_model = lmer('mpg ~ 1 + (1 | cyl) + (0 + hp | cyl)', data=mtcars)\n",
    "simple_model.set_factors('cyl')\n",
    "simple_model.fit(conf_method='boot')\n",
    "simple_model.ranef_var"
   ]
  },
  {
   "cell_type": "markdown",
   "metadata": {},
   "source": [
    "Let's simplify further by retaining only random-intercepts:"
   ]
  },
  {
   "cell_type": "code",
   "execution_count": 10,
   "metadata": {},
   "outputs": [
    {
     "data": {
      "text/html": [
       "<div><style>\n",
       ".dataframe > thead > tr,\n",
       ".dataframe > tbody > tr {\n",
       "  text-align: right;\n",
       "  white-space: pre-wrap;\n",
       "}\n",
       "</style>\n",
       "<small>shape: (2, 5)</small><table border=\"1\" class=\"dataframe\"><thead><tr><th>group</th><th>term</th><th>estimate</th><th>conf_low</th><th>conf_high</th></tr><tr><td>str</td><td>str</td><td>f64</td><td>f64</td><td>f64</td></tr></thead><tbody><tr><td>&quot;cyl&quot;</td><td>&quot;sd__(Intercept)&quot;</td><td>5.761425</td><td>0.392901</td><td>11.721516</td></tr><tr><td>&quot;Residual&quot;</td><td>&quot;sd__Observation&quot;</td><td>3.222468</td><td>2.349387</td><td>4.015793</td></tr></tbody></table></div>"
      ],
      "text/plain": [
       "shape: (2, 5)\n",
       "┌──────────┬─────────────────┬──────────┬──────────┬───────────┐\n",
       "│ group    ┆ term            ┆ estimate ┆ conf_low ┆ conf_high │\n",
       "│ ---      ┆ ---             ┆ ---      ┆ ---      ┆ ---       │\n",
       "│ str      ┆ str             ┆ f64      ┆ f64      ┆ f64       │\n",
       "╞══════════╪═════════════════╪══════════╪══════════╪═══════════╡\n",
       "│ cyl      ┆ sd__(Intercept) ┆ 5.761425 ┆ 0.392901 ┆ 11.721516 │\n",
       "│ Residual ┆ sd__Observation ┆ 3.222468 ┆ 2.349387 ┆ 4.015793  │\n",
       "└──────────┴─────────────────┴──────────┴──────────┴───────────┘"
      ]
     },
     "execution_count": 10,
     "metadata": {},
     "output_type": "execute_result"
    }
   ],
   "source": [
    "simpler_model = lmer('mpg ~ 1 + (1 | cyl)', data=mtcars)\n",
    "simpler_model.set_factors('cyl')\n",
    "simpler_model.fit(conf_method='boot')\n",
    "simpler_model.ranef_var"
   ]
  },
  {
   "cell_type": "markdown",
   "metadata": {},
   "source": [
    "No more warnings! We can verify by checking out the logs:"
   ]
  },
  {
   "cell_type": "code",
   "execution_count": null,
   "metadata": {},
   "outputs": [],
   "source": [
    "# Empty\n",
    "simpler_model.show_logs()"
   ]
  },
  {
   "cell_type": "markdown",
   "metadata": {},
   "source": [
    "And convergence status, which shows successful convergence and a tiny gradient:"
   ]
  },
  {
   "cell_type": "code",
   "execution_count": 15,
   "metadata": {},
   "outputs": [
    {
     "name": "stdout",
     "output_type": "stream",
     "text": [
      "Convergence status\n",
      ": [1] TRUE\n",
      "attr(,\"gradient\")\n",
      "[1] 7.001001e-06\n",
      "\n"
     ]
    }
   ],
   "source": [
    "print(simpler_model.convergence_status)"
   ]
  },
  {
   "cell_type": "markdown",
   "metadata": {},
   "source": [
    "## Summary"
   ]
  },
  {
   "cell_type": "markdown",
   "metadata": {},
   "source": [
    "`lmer()` models support all the same features as `lm()` models for working with categorical predictors and generating marginal estimates and comparisons. \n",
    "\n",
    "So be sure to check out the [linear regression](../tutorials/01_lm.ipynb) and [ANOVA](../tutorials/02_categorical.ipynb) tutorials for more details."
   ]
  }
 ],
 "metadata": {
  "kernelspec": {
   "display_name": "default",
   "language": "python",
   "name": "python3"
  },
  "language_info": {
   "codemirror_mode": {
    "name": "ipython",
    "version": 3
   },
   "file_extension": ".py",
   "mimetype": "text/x-python",
   "name": "python",
   "nbconvert_exporter": "python",
   "pygments_lexer": "ipython3",
   "version": "3.12.10"
  }
 },
 "nbformat": 4,
 "nbformat_minor": 2
}
