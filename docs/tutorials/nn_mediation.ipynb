{
 "cells": [
  {
   "cell_type": "markdown",
   "metadata": {},
   "source": [
    "# Mediation"
   ]
  },
  {
   "cell_type": "code",
   "execution_count": 24,
   "metadata": {},
   "outputs": [
    {
     "data": {
      "text/html": [
       "<div><style>\n",
       ".dataframe > thead > tr,\n",
       ".dataframe > tbody > tr {\n",
       "  text-align: right;\n",
       "  white-space: pre-wrap;\n",
       "}\n",
       "</style>\n",
       "<small>shape: (5, 12)</small><table border=\"1\" class=\"dataframe\"><thead><tr><th>model</th><th>mpg</th><th>cyl</th><th>disp</th><th>hp</th><th>drat</th><th>wt</th><th>qsec</th><th>vs</th><th>am</th><th>gear</th><th>carb</th></tr><tr><td>str</td><td>f64</td><td>i64</td><td>f64</td><td>i64</td><td>f64</td><td>f64</td><td>f64</td><td>i64</td><td>i64</td><td>i64</td><td>i64</td></tr></thead><tbody><tr><td>&quot;Mazda RX4&quot;</td><td>21.0</td><td>6</td><td>160.0</td><td>110</td><td>3.9</td><td>2.62</td><td>16.46</td><td>0</td><td>1</td><td>4</td><td>4</td></tr><tr><td>&quot;Mazda RX4 Wag&quot;</td><td>21.0</td><td>6</td><td>160.0</td><td>110</td><td>3.9</td><td>2.875</td><td>17.02</td><td>0</td><td>1</td><td>4</td><td>4</td></tr><tr><td>&quot;Datsun 710&quot;</td><td>22.8</td><td>4</td><td>108.0</td><td>93</td><td>3.85</td><td>2.32</td><td>18.61</td><td>1</td><td>1</td><td>4</td><td>1</td></tr><tr><td>&quot;Hornet 4 Drive&quot;</td><td>21.4</td><td>6</td><td>258.0</td><td>110</td><td>3.08</td><td>3.215</td><td>19.44</td><td>1</td><td>0</td><td>3</td><td>1</td></tr><tr><td>&quot;Hornet Sportabout&quot;</td><td>18.7</td><td>8</td><td>360.0</td><td>175</td><td>3.15</td><td>3.44</td><td>17.02</td><td>0</td><td>0</td><td>3</td><td>2</td></tr></tbody></table></div>"
      ],
      "text/plain": [
       "shape: (5, 12)\n",
       "┌───────────────────┬──────┬─────┬───────┬───┬─────┬─────┬──────┬──────┐\n",
       "│ model             ┆ mpg  ┆ cyl ┆ disp  ┆ … ┆ vs  ┆ am  ┆ gear ┆ carb │\n",
       "│ ---               ┆ ---  ┆ --- ┆ ---   ┆   ┆ --- ┆ --- ┆ ---  ┆ ---  │\n",
       "│ str               ┆ f64  ┆ i64 ┆ f64   ┆   ┆ i64 ┆ i64 ┆ i64  ┆ i64  │\n",
       "╞═══════════════════╪══════╪═════╪═══════╪═══╪═════╪═════╪══════╪══════╡\n",
       "│ Mazda RX4         ┆ 21.0 ┆ 6   ┆ 160.0 ┆ … ┆ 0   ┆ 1   ┆ 4    ┆ 4    │\n",
       "│ Mazda RX4 Wag     ┆ 21.0 ┆ 6   ┆ 160.0 ┆ … ┆ 0   ┆ 1   ┆ 4    ┆ 4    │\n",
       "│ Datsun 710        ┆ 22.8 ┆ 4   ┆ 108.0 ┆ … ┆ 1   ┆ 1   ┆ 4    ┆ 1    │\n",
       "│ Hornet 4 Drive    ┆ 21.4 ┆ 6   ┆ 258.0 ┆ … ┆ 1   ┆ 0   ┆ 3    ┆ 1    │\n",
       "│ Hornet Sportabout ┆ 18.7 ┆ 8   ┆ 360.0 ┆ … ┆ 0   ┆ 0   ┆ 3    ┆ 2    │\n",
       "└───────────────────┴──────┴─────┴───────┴───┴─────┴─────┴──────┴──────┘"
      ]
     },
     "execution_count": 24,
     "metadata": {},
     "output_type": "execute_result"
    }
   ],
   "source": [
    "from pymer4 import load_dataset\n",
    "from pymer4.models import lm, lmer\n",
    "\n",
    "cars = load_dataset(\"mtcars\")\n",
    "cars.head()"
   ]
  },
  {
   "cell_type": "code",
   "execution_count": 12,
   "metadata": {},
   "outputs": [],
   "source": [
    "m1 = lm(\"hp ~ wt\", data=cars)\n",
    "m1.fit()\n",
    "\n",
    "m2 = lm(\"mpg ~ wt + hp\", data=cars)\n",
    "m2.fit()"
   ]
  },
  {
   "cell_type": "code",
   "execution_count": 22,
   "metadata": {},
   "outputs": [],
   "source": [
    "from rpy2.robjects.packages import importr\n",
    "import pymer4.tidystats as ts\n",
    "mediation = importr(\"mediation\")\n",
    "broom = importr(\"broom\")\n",
    "\n",
    "tidy_mediate = broom.tidy_mediate\n",
    "summary = lambda x: print(ts.summary(x))\n",
    "\n",
    "out = mediation.mediate(m1.r_model, m2.r_model, treat=\"wt\", mediator=\"hp\")\n",
    "tibble = tidy_mediate(out)"
   ]
  },
  {
   "cell_type": "code",
   "execution_count": 21,
   "metadata": {},
   "outputs": [
    {
     "data": {
      "text/html": [
       "<div><style>\n",
       ".dataframe > thead > tr,\n",
       ".dataframe > tbody > tr {\n",
       "  text-align: right;\n",
       "  white-space: pre-wrap;\n",
       "}\n",
       "</style>\n",
       "<small>shape: (4, 4)</small><table border=\"1\" class=\"dataframe\"><thead><tr><th>term</th><th>estimate</th><th>std_error</th><th>p_value</th></tr><tr><td>str</td><td>f64</td><td>f64</td><td>f64</td></tr></thead><tbody><tr><td>&quot;acme_0&quot;</td><td>-1.446535</td><td>0.50501</td><td>0.002</td></tr><tr><td>&quot;acme_1&quot;</td><td>-1.446535</td><td>0.50501</td><td>0.002</td></tr><tr><td>&quot;ade_0&quot;</td><td>-3.909733</td><td>0.649161</td><td>0.0</td></tr><tr><td>&quot;ade_1&quot;</td><td>-3.909733</td><td>0.649161</td><td>0.0</td></tr></tbody></table></div>"
      ],
      "text/plain": [
       "shape: (4, 4)\n",
       "┌────────┬───────────┬───────────┬─────────┐\n",
       "│ term   ┆ estimate  ┆ std_error ┆ p_value │\n",
       "│ ---    ┆ ---       ┆ ---       ┆ ---     │\n",
       "│ str    ┆ f64       ┆ f64       ┆ f64     │\n",
       "╞════════╪═══════════╪═══════════╪═════════╡\n",
       "│ acme_0 ┆ -1.446535 ┆ 0.50501   ┆ 0.002   │\n",
       "│ acme_1 ┆ -1.446535 ┆ 0.50501   ┆ 0.002   │\n",
       "│ ade_0  ┆ -3.909733 ┆ 0.649161  ┆ 0.0     │\n",
       "│ ade_1  ┆ -3.909733 ┆ 0.649161  ┆ 0.0     │\n",
       "└────────┴───────────┴───────────┴─────────┘"
      ]
     },
     "execution_count": 21,
     "metadata": {},
     "output_type": "execute_result"
    }
   ],
   "source": [
    "ts.R2polars(tibble)"
   ]
  },
  {
   "cell_type": "code",
   "execution_count": 23,
   "metadata": {},
   "outputs": [
    {
     "name": "stdout",
     "output_type": "stream",
     "text": [
      "\n",
      "Causal Mediation Analysis \n",
      "\n",
      "Quasi-Bayesian Confidence Intervals\n",
      "\n",
      "               Estimate 95% CI Lower 95% CI Upper p-value    \n",
      "ACME             -1.443       -2.583        -0.56  <2e-16 ***\n",
      "ADE              -3.890       -5.099        -2.72  <2e-16 ***\n",
      "Total Effect     -5.333       -6.380        -4.27  <2e-16 ***\n",
      "Prop. Mediated    0.268        0.107         0.46  <2e-16 ***\n",
      "---\n",
      "Signif. codes:  0 ‘***’ 0.001 ‘**’ 0.01 ‘*’ 0.05 ‘.’ 0.1 ‘ ’ 1\n",
      "\n",
      "Sample Size Used: 32 \n",
      "\n",
      "\n",
      "Simulations: 1000 \n",
      "\n",
      "\n"
     ]
    }
   ],
   "source": [
    "summary(out)\n"
   ]
  },
  {
   "cell_type": "code",
   "execution_count": 30,
   "metadata": {},
   "outputs": [
    {
     "ename": "RRuntimeError",
     "evalue": "Error in (function (model.m, model.y, sims = 1000, boot = FALSE, boot.ci.type = \"perc\",  : \n  mediator model is not yet implemented\n",
     "output_type": "error",
     "traceback": [
      "\u001b[31m---------------------------------------------------------------------------\u001b[39m",
      "\u001b[31mRRuntimeError\u001b[39m                             Traceback (most recent call last)",
      "\u001b[36mCell\u001b[39m\u001b[36m \u001b[39m\u001b[32mIn[30]\u001b[39m\u001b[32m, line 7\u001b[39m\n\u001b[32m      4\u001b[39m m4 = lmer(\u001b[33m\"\u001b[39m\u001b[33mhp ~ wt + (1 | cyl)\u001b[39m\u001b[33m\"\u001b[39m, data=cars)\n\u001b[32m      5\u001b[39m m4.fit()\n\u001b[32m----> \u001b[39m\u001b[32m7\u001b[39m summary(\u001b[43mmediation\u001b[49m\u001b[43m.\u001b[49m\u001b[43mmediate\u001b[49m\u001b[43m(\u001b[49m\u001b[43mm3\u001b[49m\u001b[43m.\u001b[49m\u001b[43mr_model\u001b[49m\u001b[43m,\u001b[49m\u001b[43m \u001b[49m\u001b[43mm4\u001b[49m\u001b[43m.\u001b[49m\u001b[43mr_model\u001b[49m\u001b[43m,\u001b[49m\u001b[43m \u001b[49m\u001b[43mtreat\u001b[49m\u001b[43m=\u001b[49m\u001b[33;43m\"\u001b[39;49m\u001b[33;43mwt\u001b[39;49m\u001b[33;43m\"\u001b[39;49m\u001b[43m,\u001b[49m\u001b[43m \u001b[49m\u001b[43mmediator\u001b[49m\u001b[43m=\u001b[49m\u001b[33;43m\"\u001b[39;49m\u001b[33;43mhp\u001b[39;49m\u001b[33;43m\"\u001b[39;49m\u001b[43m,\u001b[49m\u001b[43m \u001b[49m\u001b[43mgroup_out\u001b[49m\u001b[43m=\u001b[49m\u001b[33;43m\"\u001b[39;49m\u001b[33;43mcyl\u001b[39;49m\u001b[33;43m\"\u001b[39;49m\u001b[43m)\u001b[49m)\n",
      "\u001b[36mFile \u001b[39m\u001b[32m~/Documents/pypackages/pymer4/.pixi/envs/default/lib/python3.12/site-packages/rpy2/robjects/functions.py:208\u001b[39m, in \u001b[36mSignatureTranslatedFunction.__call__\u001b[39m\u001b[34m(self, *args, **kwargs)\u001b[39m\n\u001b[32m    206\u001b[39m         v = kwargs.pop(k)\n\u001b[32m    207\u001b[39m         kwargs[r_k] = v\n\u001b[32m--> \u001b[39m\u001b[32m208\u001b[39m \u001b[38;5;28;01mreturn\u001b[39;00m (\u001b[38;5;28;43msuper\u001b[39;49m\u001b[43m(\u001b[49m\u001b[43mSignatureTranslatedFunction\u001b[49m\u001b[43m,\u001b[49m\u001b[43m \u001b[49m\u001b[38;5;28;43mself\u001b[39;49m\u001b[43m)\u001b[49m\n\u001b[32m    209\u001b[39m \u001b[43m        \u001b[49m\u001b[43m.\u001b[49m\u001b[34;43m__call__\u001b[39;49m\u001b[43m(\u001b[49m\u001b[43m*\u001b[49m\u001b[43margs\u001b[49m\u001b[43m,\u001b[49m\u001b[43m \u001b[49m\u001b[43m*\u001b[49m\u001b[43m*\u001b[49m\u001b[43mkwargs\u001b[49m\u001b[43m)\u001b[49m)\n",
      "\u001b[36mFile \u001b[39m\u001b[32m~/Documents/pypackages/pymer4/.pixi/envs/default/lib/python3.12/site-packages/rpy2/robjects/functions.py:131\u001b[39m, in \u001b[36mFunction.__call__\u001b[39m\u001b[34m(self, *args, **kwargs)\u001b[39m\n\u001b[32m    129\u001b[39m     \u001b[38;5;28;01melse\u001b[39;00m:\n\u001b[32m    130\u001b[39m         new_kwargs[k] = cv.py2rpy(v)\n\u001b[32m--> \u001b[39m\u001b[32m131\u001b[39m res = \u001b[38;5;28;43msuper\u001b[39;49m\u001b[43m(\u001b[49m\u001b[43mFunction\u001b[49m\u001b[43m,\u001b[49m\u001b[43m \u001b[49m\u001b[38;5;28;43mself\u001b[39;49m\u001b[43m)\u001b[49m\u001b[43m.\u001b[49m\u001b[34;43m__call__\u001b[39;49m\u001b[43m(\u001b[49m\u001b[43m*\u001b[49m\u001b[43mnew_args\u001b[49m\u001b[43m,\u001b[49m\u001b[43m \u001b[49m\u001b[43m*\u001b[49m\u001b[43m*\u001b[49m\u001b[43mnew_kwargs\u001b[49m\u001b[43m)\u001b[49m\n\u001b[32m    132\u001b[39m res = cv.rpy2py(res)\n\u001b[32m    133\u001b[39m \u001b[38;5;28;01mreturn\u001b[39;00m res\n",
      "\u001b[36mFile \u001b[39m\u001b[32m~/Documents/pypackages/pymer4/.pixi/envs/default/lib/python3.12/site-packages/rpy2/rinterface_lib/conversion.py:45\u001b[39m, in \u001b[36m_cdata_res_to_rinterface.<locals>._\u001b[39m\u001b[34m(*args, **kwargs)\u001b[39m\n\u001b[32m     44\u001b[39m \u001b[38;5;28;01mdef\u001b[39;00m\u001b[38;5;250m \u001b[39m\u001b[34m_\u001b[39m(*args, **kwargs):\n\u001b[32m---> \u001b[39m\u001b[32m45\u001b[39m     cdata = \u001b[43mfunction\u001b[49m\u001b[43m(\u001b[49m\u001b[43m*\u001b[49m\u001b[43margs\u001b[49m\u001b[43m,\u001b[49m\u001b[43m \u001b[49m\u001b[43m*\u001b[49m\u001b[43m*\u001b[49m\u001b[43mkwargs\u001b[49m\u001b[43m)\u001b[49m\n\u001b[32m     46\u001b[39m     \u001b[38;5;66;03m# TODO: test cdata is of the expected CType\u001b[39;00m\n\u001b[32m     47\u001b[39m     \u001b[38;5;28;01mreturn\u001b[39;00m _cdata_to_rinterface(cdata)\n",
      "\u001b[36mFile \u001b[39m\u001b[32m~/Documents/pypackages/pymer4/.pixi/envs/default/lib/python3.12/site-packages/rpy2/rinterface.py:817\u001b[39m, in \u001b[36mSexpClosure.__call__\u001b[39m\u001b[34m(self, *args, **kwargs)\u001b[39m\n\u001b[32m    810\u001b[39m     res = rmemory.protect(\n\u001b[32m    811\u001b[39m         openrlib.rlib.R_tryEval(\n\u001b[32m    812\u001b[39m             call_r,\n\u001b[32m    813\u001b[39m             call_context.__sexp__._cdata,\n\u001b[32m    814\u001b[39m             error_occured)\n\u001b[32m    815\u001b[39m     )\n\u001b[32m    816\u001b[39m     \u001b[38;5;28;01mif\u001b[39;00m error_occured[\u001b[32m0\u001b[39m]:\n\u001b[32m--> \u001b[39m\u001b[32m817\u001b[39m         \u001b[38;5;28;01mraise\u001b[39;00m embedded.RRuntimeError(_rinterface._geterrmessage())\n\u001b[32m    818\u001b[39m \u001b[38;5;28;01mreturn\u001b[39;00m res\n",
      "\u001b[31mRRuntimeError\u001b[39m: Error in (function (model.m, model.y, sims = 1000, boot = FALSE, boot.ci.type = \"perc\",  : \n  mediator model is not yet implemented\n"
     ]
    }
   ],
   "source": [
    "m3 = lmer(\"mpg ~ wt + hp + (1 | cyl)\", data=cars)\n",
    "m3.fit()\n",
    "\n",
    "m4 = lmer(\"hp ~ wt + (1 | cyl)\", data=cars)\n",
    "m4.fit()\n",
    "\n",
    "summary(mediation.mediate(m3.r_model, m4.r_model, treat=\"wt\", mediator=\"hp\", group_out=\"cyl\"))"
   ]
  }
 ],
 "metadata": {
  "kernelspec": {
   "display_name": "default",
   "language": "python",
   "name": "python3"
  },
  "language_info": {
   "codemirror_mode": {
    "name": "ipython",
    "version": 3
   },
   "file_extension": ".py",
   "mimetype": "text/x-python",
   "name": "python",
   "nbconvert_exporter": "python",
   "pygments_lexer": "ipython3",
   "version": "3.12.10"
  }
 },
 "nbformat": 4,
 "nbformat_minor": 2
}
