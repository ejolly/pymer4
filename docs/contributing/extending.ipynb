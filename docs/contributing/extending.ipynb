{
 "cells": [
  {
   "cell_type": "markdown",
   "metadata": {},
   "source": [
    "# Adding more R libraries\n",
    "\n",
    "This guide shows you how to add *new* functionality to `pymer4` from additional R libaries"
   ]
  },
  {
   "cell_type": "markdown",
   "metadata": {},
   "source": [
    "## Step 1\n",
    "\n",
    "Use the [R Documentation Search](https://www.rdocumentation.org/) to find the functionality you want, taking care to note what **library** it comes from.\n",
    "\n",
    "For example let's add the [`tidy()`](https://www.rdocumentation.org/packages/broom/versions/1.0.4/topics/tidy.lm) function from the [`broom` library](https://www.rdocumentation.org/packages/broom/versions/1.0.4)\n",
    "\n",
    "Then verify this package is available in the [`conda-forge` repository](https://conda-forge.org/packages/). Package names are prefixed with `r-` and we verify that `r-broom` exists!\n",
    "\n",
    "Let's add it as a new dependency to `pymer4`:\n",
    "\n",
    "```bash\n",
    "pixi add r-broom\n",
    "```\n"
   ]
  },
  {
   "cell_type": "markdown",
   "metadata": {},
   "source": [
    "## Step 2\n",
    "\n",
    "Then we can use `importr` from `rpy2` to load the package in Python and inspect what the **Python converted name** of the that function is. The easiest way to do this is to just use your code editor try to auto-complete after typing a `.` to see what functions are available (e.g. pressing `<tab>`)\n",
    "\n",
    "Doing so we can see that `broom` has a `.tidy_lm()` function. Let's check it out"
   ]
  },
  {
   "cell_type": "code",
   "execution_count": null,
   "metadata": {},
   "outputs": [],
   "source": [
    "from rpy2.robjects.packages import importr\n",
    "\n",
    "broom = importr(\"broom\")\n",
    "\n",
    "help(broom.tidy_lm)"
   ]
  },
  {
   "cell_type": "markdown",
   "metadata": {},
   "source": [
    "## Step 3\n",
    "\n",
    "Let's try out the function to determine its input and output types. We recommend doing this by trying to build against *existing* functions in the `pymer4.tidystats` module. This is because they already intelligently handle converting between R and Python data-types\n",
    "\n",
    "For example, we'll if use the `lm()` function already implemented in `tidystats` to create a model, it will automatically convert a Python DataFrame to an R DataFrame saving us the trouble.\n",
    "\n",
    "Since the `broom.tidy_lm()` function expects a model as input, let's try it with `lm()`"
   ]
  },
  {
   "cell_type": "code",
   "execution_count": 15,
   "metadata": {},
   "outputs": [
    {
     "data": {
      "text/html": [
       "\n",
       "        <span>R/rpy2 DataFrame (2 x 5)</span>\n",
       "        <table>\n",
       "          <thead>\n",
       "            <tr>\n",
       "              \n",
       "              <th>term</th>\n",
       "              \n",
       "              <th>estimate</th>\n",
       "              \n",
       "              <th>std.error</th>\n",
       "              \n",
       "              <th>statistic</th>\n",
       "              \n",
       "              <th>p.value</th>\n",
       "              \n",
       "            </tr>\n",
       "          </thead>\n",
       "          <tbody>\n",
       "          \n",
       "          <tr>\n",
       "            \n",
       "            <td>\n",
       "              ...\n",
       "            </td>\n",
       "            \n",
       "            <td>\n",
       "              ...\n",
       "            </td>\n",
       "            \n",
       "            <td>\n",
       "              ...\n",
       "            </td>\n",
       "            \n",
       "            <td>\n",
       "              ...\n",
       "            </td>\n",
       "            \n",
       "            <td>\n",
       "              ...\n",
       "            </td>\n",
       "            \n",
       "          </tr>\n",
       "          \n",
       "          </tbody>\n",
       "        </table>\n",
       "    "
      ],
      "text/plain": [
       "<rpy2.robjects.vectors.DataFrame object at 0x12f4373d0> [19]\n",
       "R classes: ('tbl_df', 'tbl', 'data.frame')\n",
       "[StrSexp..., FloatSe..., FloatSe..., FloatSe..., FloatSe...]\n",
       "  term: <class 'rpy2.rinterface_lib.sexp.StrSexpVector'>\n",
       "  <rpy2.rinterface_lib.sexp.StrSexpVector object at 0x1772d7b90> [16]\n",
       "  estimate: <class 'rpy2.rinterface.FloatSexpVector'>\n",
       "  <rpy2.rinterface.FloatSexpVector object at 0x1772b3ed0> [14]\n",
       "  std.error: <class 'rpy2.rinterface.FloatSexpVector'>\n",
       "  <rpy2.rinterface.FloatSexpVector object at 0x177280f50> [14]\n",
       "  statistic: <class 'rpy2.rinterface.FloatSexpVector'>\n",
       "  <rpy2.rinterface.FloatSexpVector object at 0x178568250> [14]\n",
       "  p.value: <class 'rpy2.rinterface.FloatSexpVector'>\n",
       "  <rpy2.rinterface.FloatSexpVector object at 0x17856ab10> [14]"
      ]
     },
     "execution_count": 15,
     "metadata": {},
     "output_type": "execute_result"
    }
   ],
   "source": [
    "import pymer4.tidystats as ts\n",
    "import polars as pl\n",
    "\n",
    "df = pl.DataFrame({\"x\": [1, 2, 3, 4, 5], \"y\": [10, 30, 20, 50, 40]})\n",
    "\n",
    "model = ts.lm(\"y ~ x\", data=df)\n",
    "\n",
    "tidy_summary = broom.tidy_lm(model)\n",
    "tidy_summary"
   ]
  },
  {
   "cell_type": "markdown",
   "metadata": {},
   "source": [
    "Ah it looks like an *R DataFrame* but we want a *Python `polars` DataFrame*.  \n",
    "`pymer4` offers several functions for automatically figuring out how to do this conversion for you.  \n",
    "You can check them out in the [`tidystats.bridge`](../api/functions.md#bridge) module.\n",
    "\n",
    "A very handy one is `R2polars()`"
   ]
  },
  {
   "cell_type": "code",
   "execution_count": 16,
   "metadata": {},
   "outputs": [
    {
     "data": {
      "text/html": [
       "<div><style>\n",
       ".dataframe > thead > tr,\n",
       ".dataframe > tbody > tr {\n",
       "  text-align: right;\n",
       "  white-space: pre-wrap;\n",
       "}\n",
       "</style>\n",
       "<small>shape: (2, 5)</small><table border=\"1\" class=\"dataframe\"><thead><tr><th>term</th><th>estimate</th><th>std_error</th><th>statistic</th><th>p_value</th></tr><tr><td>str</td><td>f64</td><td>f64</td><td>f64</td><td>f64</td></tr></thead><tbody><tr><td>&quot;(Intercept)&quot;</td><td>6.0</td><td>11.489125</td><td>0.522233</td><td>0.637618</td></tr><tr><td>&quot;x&quot;</td><td>8.0</td><td>3.464102</td><td>2.309401</td><td>0.104088</td></tr></tbody></table></div>"
      ],
      "text/plain": [
       "shape: (2, 5)\n",
       "┌─────────────┬──────────┬───────────┬───────────┬──────────┐\n",
       "│ term        ┆ estimate ┆ std_error ┆ statistic ┆ p_value  │\n",
       "│ ---         ┆ ---      ┆ ---       ┆ ---       ┆ ---      │\n",
       "│ str         ┆ f64      ┆ f64       ┆ f64       ┆ f64      │\n",
       "╞═════════════╪══════════╪═══════════╪═══════════╪══════════╡\n",
       "│ (Intercept) ┆ 6.0      ┆ 11.489125 ┆ 0.522233  ┆ 0.637618 │\n",
       "│ x           ┆ 8.0      ┆ 3.464102  ┆ 2.309401  ┆ 0.104088 │\n",
       "└─────────────┴──────────┴───────────┴───────────┴──────────┘"
      ]
     },
     "execution_count": 16,
     "metadata": {},
     "output_type": "execute_result"
    }
   ],
   "source": [
    "ts.R2polars(tidy_summary)"
   ]
  },
  {
   "cell_type": "markdown",
   "metadata": {},
   "source": [
    "## Step 4\n",
    "\n",
    "That looks great! To finish up we can wrap this in a new function. In-fact the `bridge` module offers a special function *decorator* `ensure_py_output` that will *automatically* ensure the output of any new function you write is automatically converted to Python types, without you having to write things like `R2polars()`.\n"
   ]
  },
  {
   "cell_type": "code",
   "execution_count": 13,
   "metadata": {},
   "outputs": [],
   "source": [
    "# In broom.py\n",
    "from rpy2.robjects.packages import importr\n",
    "import rpy2.robjects as ro\n",
    "from pymer4.tidystats.bridge import ensure_py_output\n",
    "\n",
    "# Import library\n",
    "broom = importr(\"broom\")\n",
    "\n",
    "# Will make sure the output is a polars DataFrame\n",
    "@ensure_py_output  \n",
    "def tidy(model):\n",
    "    return broom.tidy_lm(model)\n"
   ]
  },
  {
   "cell_type": "markdown",
   "metadata": {},
   "source": [
    "If we try our function out with the same model as before we get back a nicely useable polars DataFrame, with all the calculations happening in R!  \n"
   ]
  },
  {
   "cell_type": "code",
   "execution_count": 11,
   "metadata": {},
   "outputs": [
    {
     "data": {
      "text/html": [
       "<div><style>\n",
       ".dataframe > thead > tr,\n",
       ".dataframe > tbody > tr {\n",
       "  text-align: right;\n",
       "  white-space: pre-wrap;\n",
       "}\n",
       "</style>\n",
       "<small>shape: (2, 5)</small><table border=\"1\" class=\"dataframe\"><thead><tr><th>term</th><th>estimate</th><th>std_error</th><th>statistic</th><th>p_value</th></tr><tr><td>str</td><td>f64</td><td>f64</td><td>f64</td><td>f64</td></tr></thead><tbody><tr><td>&quot;(Intercept)&quot;</td><td>6.0</td><td>11.489125</td><td>0.522233</td><td>0.637618</td></tr><tr><td>&quot;x&quot;</td><td>8.0</td><td>3.464102</td><td>2.309401</td><td>0.104088</td></tr></tbody></table></div>"
      ],
      "text/plain": [
       "shape: (2, 5)\n",
       "┌─────────────┬──────────┬───────────┬───────────┬──────────┐\n",
       "│ term        ┆ estimate ┆ std_error ┆ statistic ┆ p_value  │\n",
       "│ ---         ┆ ---      ┆ ---       ┆ ---       ┆ ---      │\n",
       "│ str         ┆ f64      ┆ f64       ┆ f64       ┆ f64      │\n",
       "╞═════════════╪══════════╪═══════════╪═══════════╪══════════╡\n",
       "│ (Intercept) ┆ 6.0      ┆ 11.489125 ┆ 0.522233  ┆ 0.637618 │\n",
       "│ x           ┆ 8.0      ┆ 3.464102  ┆ 2.309401  ┆ 0.104088 │\n",
       "└─────────────┴──────────┴───────────┴───────────┴──────────┘"
      ]
     },
     "execution_count": 11,
     "metadata": {},
     "output_type": "execute_result"
    }
   ],
   "source": [
    "tidy(model)"
   ]
  },
  {
   "cell_type": "markdown",
   "metadata": {},
   "source": [
    "## Step 5\n",
    "\n",
    "After adding a test by following the [Contribution Guide](../contributing/contributing.md), you can open a pull-request on Github for review!\n",
    "\n",
    "For more complicated functions or for automatically handling different types of models (e.g. `lm` and `lmer`) check-out how the various functions in the [`tidystats.multimodel`](../api/functions.md#multimodel) module are written."
   ]
  }
 ],
 "metadata": {
  "kernelspec": {
   "display_name": "default",
   "language": "python",
   "name": "python3"
  },
  "language_info": {
   "codemirror_mode": {
    "name": "ipython",
    "version": 3
   },
   "file_extension": ".py",
   "mimetype": "text/x-python",
   "name": "python",
   "nbconvert_exporter": "python",
   "pygments_lexer": "ipython3",
   "version": "3.12.9"
  }
 },
 "nbformat": 4,
 "nbformat_minor": 2
}
