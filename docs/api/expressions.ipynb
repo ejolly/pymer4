{
 "cells": [
  {
   "cell_type": "markdown",
   "metadata": {},
   "source": [
    "# `pymer4.expressions`\n",
    "\n",
    "Custom `polars` expressions useable inside of any polars context and compatible with other `polars` selectors.\n",
    "\n",
    "**Examples**"
   ]
  },
  {
   "cell_type": "code",
   "execution_count": 22,
   "metadata": {
    "tags": [
     "remove-input"
    ]
   },
   "outputs": [],
   "source": [
    "from pymer4 import load_dataset\n",
    "import polars as pl\n",
    "\n",
    "mtcars = load_dataset('mtcars').select('mpg', 'disp', 'cyl')"
   ]
  },
  {
   "cell_type": "markdown",
   "metadata": {},
   "source": [
    "Center `mpg` and zscore `disp` by passing in their names as you would to `pl.col()`"
   ]
  },
  {
   "cell_type": "code",
   "execution_count": 23,
   "metadata": {},
   "outputs": [
    {
     "data": {
      "text/html": [
       "<div><style>\n",
       ".dataframe > thead > tr,\n",
       ".dataframe > tbody > tr {\n",
       "  text-align: right;\n",
       "  white-space: pre-wrap;\n",
       "}\n",
       "</style>\n",
       "<small>shape: (5, 5)</small><table border=\"1\" class=\"dataframe\"><thead><tr><th>mpg</th><th>disp</th><th>cyl</th><th>mpg_centered</th><th>disp_zscore</th></tr><tr><td>f64</td><td>f64</td><td>i64</td><td>f64</td><td>f64</td></tr></thead><tbody><tr><td>21.0</td><td>160.0</td><td>6</td><td>0.909375</td><td>-0.57062</td></tr><tr><td>21.0</td><td>160.0</td><td>6</td><td>0.909375</td><td>-0.57062</td></tr><tr><td>22.8</td><td>108.0</td><td>4</td><td>2.709375</td><td>-0.990182</td></tr><tr><td>21.4</td><td>258.0</td><td>6</td><td>1.309375</td><td>0.220094</td></tr><tr><td>18.7</td><td>360.0</td><td>8</td><td>-1.390625</td><td>1.043081</td></tr></tbody></table></div>"
      ],
      "text/plain": [
       "shape: (5, 5)\n",
       "┌──────┬───────┬─────┬──────────────┬─────────────┐\n",
       "│ mpg  ┆ disp  ┆ cyl ┆ mpg_centered ┆ disp_zscore │\n",
       "│ ---  ┆ ---   ┆ --- ┆ ---          ┆ ---         │\n",
       "│ f64  ┆ f64   ┆ i64 ┆ f64          ┆ f64         │\n",
       "╞══════╪═══════╪═════╪══════════════╪═════════════╡\n",
       "│ 21.0 ┆ 160.0 ┆ 6   ┆ 0.909375     ┆ -0.57062    │\n",
       "│ 21.0 ┆ 160.0 ┆ 6   ┆ 0.909375     ┆ -0.57062    │\n",
       "│ 22.8 ┆ 108.0 ┆ 4   ┆ 2.709375     ┆ -0.990182   │\n",
       "│ 21.4 ┆ 258.0 ┆ 6   ┆ 1.309375     ┆ 0.220094    │\n",
       "│ 18.7 ┆ 360.0 ┆ 8   ┆ -1.390625    ┆ 1.043081    │\n",
       "└──────┴───────┴─────┴──────────────┴─────────────┘"
      ]
     },
     "execution_count": 23,
     "metadata": {},
     "output_type": "execute_result"
    }
   ],
   "source": [
    "from pymer4.expressions import center, zscore, scale\n",
    "\n",
    "mtcars.with_columns(\n",
    "    center('mpg').alias('mpg_centered'), \n",
    "    zscore('disp').alias('disp_zscore')\n",
    "    ).head()"
   ]
  },
  {
   "cell_type": "markdown",
   "metadata": {},
   "source": [
    "Normalize all columns by dividing by their standard deviations using a polars selector like `pl.all()`"
   ]
  },
  {
   "cell_type": "code",
   "execution_count": 19,
   "metadata": {},
   "outputs": [
    {
     "data": {
      "text/html": [
       "<div><style>\n",
       ".dataframe > thead > tr,\n",
       ".dataframe > tbody > tr {\n",
       "  text-align: right;\n",
       "  white-space: pre-wrap;\n",
       "}\n",
       "</style>\n",
       "<small>shape: (5, 6)</small><table border=\"1\" class=\"dataframe\"><thead><tr><th>mpg</th><th>disp</th><th>cyl</th><th>mpg_scaled</th><th>disp_scaled</th><th>cyl_scaled</th></tr><tr><td>f64</td><td>f64</td><td>i64</td><td>f64</td><td>f64</td><td>f64</td></tr></thead><tbody><tr><td>21.0</td><td>160.0</td><td>6</td><td>3.484351</td><td>1.290961</td><td>3.35961</td></tr><tr><td>21.0</td><td>160.0</td><td>6</td><td>3.484351</td><td>1.290961</td><td>3.35961</td></tr><tr><td>22.8</td><td>108.0</td><td>4</td><td>3.783009</td><td>0.871399</td><td>2.23974</td></tr><tr><td>21.4</td><td>258.0</td><td>6</td><td>3.550719</td><td>2.081674</td><td>3.35961</td></tr><tr><td>18.7</td><td>360.0</td><td>8</td><td>3.102731</td><td>2.904662</td><td>4.47948</td></tr></tbody></table></div>"
      ],
      "text/plain": [
       "shape: (5, 6)\n",
       "┌──────┬───────┬─────┬────────────┬─────────────┬────────────┐\n",
       "│ mpg  ┆ disp  ┆ cyl ┆ mpg_scaled ┆ disp_scaled ┆ cyl_scaled │\n",
       "│ ---  ┆ ---   ┆ --- ┆ ---        ┆ ---         ┆ ---        │\n",
       "│ f64  ┆ f64   ┆ i64 ┆ f64        ┆ f64         ┆ f64        │\n",
       "╞══════╪═══════╪═════╪════════════╪═════════════╪════════════╡\n",
       "│ 21.0 ┆ 160.0 ┆ 6   ┆ 3.484351   ┆ 1.290961    ┆ 3.35961    │\n",
       "│ 21.0 ┆ 160.0 ┆ 6   ┆ 3.484351   ┆ 1.290961    ┆ 3.35961    │\n",
       "│ 22.8 ┆ 108.0 ┆ 4   ┆ 3.783009   ┆ 0.871399    ┆ 2.23974    │\n",
       "│ 21.4 ┆ 258.0 ┆ 6   ┆ 3.550719   ┆ 2.081674    ┆ 3.35961    │\n",
       "│ 18.7 ┆ 360.0 ┆ 8   ┆ 3.102731   ┆ 2.904662    ┆ 4.47948    │\n",
       "└──────┴───────┴─────┴────────────┴─────────────┴────────────┘"
      ]
     },
     "execution_count": 19,
     "metadata": {},
     "output_type": "execute_result"
    }
   ],
   "source": [
    "mtcars.with_columns(\n",
    "    # Normalize all columns\n",
    "    scale(pl.all()).name.suffix('_scaled')\n",
    "    ).head()"
   ]
  },
  {
   "cell_type": "markdown",
   "metadata": {},
   "source": [
    "Expression are extensible `.over('column_name')`expressions.  \n",
    "\n",
    "For example, we can z-score `mpg` over all rows or by sub-groups of `cyl`"
   ]
  },
  {
   "cell_type": "code",
   "execution_count": 21,
   "metadata": {},
   "outputs": [
    {
     "data": {
      "text/html": [
       "<div><style>\n",
       ".dataframe > thead > tr,\n",
       ".dataframe > tbody > tr {\n",
       "  text-align: right;\n",
       "  white-space: pre-wrap;\n",
       "}\n",
       "</style>\n",
       "<small>shape: (5, 5)</small><table border=\"1\" class=\"dataframe\"><thead><tr><th>mpg</th><th>disp</th><th>cyl</th><th>mpg_zscore</th><th>mpg_zscore_by_cyl</th></tr><tr><td>f64</td><td>f64</td><td>i64</td><td>f64</td><td>f64</td></tr></thead><tbody><tr><td>21.0</td><td>160.0</td><td>6</td><td>0.150885</td><td>0.864867</td></tr><tr><td>21.0</td><td>160.0</td><td>6</td><td>0.150885</td><td>0.864867</td></tr><tr><td>22.8</td><td>108.0</td><td>4</td><td>0.449543</td><td>-0.856715</td></tr><tr><td>21.4</td><td>258.0</td><td>6</td><td>0.217253</td><td>1.140053</td></tr><tr><td>18.7</td><td>360.0</td><td>8</td><td>-0.230735</td><td>1.406224</td></tr></tbody></table></div>"
      ],
      "text/plain": [
       "shape: (5, 5)\n",
       "┌──────┬───────┬─────┬────────────┬───────────────────┐\n",
       "│ mpg  ┆ disp  ┆ cyl ┆ mpg_zscore ┆ mpg_zscore_by_cyl │\n",
       "│ ---  ┆ ---   ┆ --- ┆ ---        ┆ ---               │\n",
       "│ f64  ┆ f64   ┆ i64 ┆ f64        ┆ f64               │\n",
       "╞══════╪═══════╪═════╪════════════╪═══════════════════╡\n",
       "│ 21.0 ┆ 160.0 ┆ 6   ┆ 0.150885   ┆ 0.864867          │\n",
       "│ 21.0 ┆ 160.0 ┆ 6   ┆ 0.150885   ┆ 0.864867          │\n",
       "│ 22.8 ┆ 108.0 ┆ 4   ┆ 0.449543   ┆ -0.856715         │\n",
       "│ 21.4 ┆ 258.0 ┆ 6   ┆ 0.217253   ┆ 1.140053          │\n",
       "│ 18.7 ┆ 360.0 ┆ 8   ┆ -0.230735  ┆ 1.406224          │\n",
       "└──────┴───────┴─────┴────────────┴───────────────────┘"
      ]
     },
     "execution_count": 21,
     "metadata": {},
     "output_type": "execute_result"
    }
   ],
   "source": [
    "mtcars.with_columns(\n",
    "    zscore('mpg').alias('mpg_zscore'),\n",
    "    zscore('mpg').over('cyl').alias('mpg_zscore_by_cyl')\n",
    "    ).head()\n"
   ]
  },
  {
   "cell_type": "markdown",
   "metadata": {},
   "source": [
    "---"
   ]
  },
  {
   "cell_type": "markdown",
   "metadata": {},
   "source": [
    "\n",
    "```{eval-rst}\n",
    ".. automodule:: pymer4.expressions\n",
    "  :members:\n",
    "  :member-order: alphabetical\n"
   ]
  }
 ],
 "metadata": {
  "kernelspec": {
   "display_name": "default",
   "language": "python",
   "name": "python3"
  },
  "language_info": {
   "codemirror_mode": {
    "name": "ipython",
    "version": 3
   },
   "file_extension": ".py",
   "mimetype": "text/x-python",
   "name": "python",
   "nbconvert_exporter": "python",
   "pygments_lexer": "ipython3",
   "version": "3.12.9"
  }
 },
 "nbformat": 4,
 "nbformat_minor": 2
}
